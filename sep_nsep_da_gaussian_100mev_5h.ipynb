{
  "nbformat": 4,
  "nbformat_minor": 0,
  "metadata": {
    "colab": {
      "provenance": [],
      "authorship_tag": "ABX9TyNpZlosoKw9ZldBCCCdDwJo",
      "include_colab_link": true
    },
    "kernelspec": {
      "name": "python3",
      "display_name": "Python 3"
    },
    "language_info": {
      "name": "python"
    }
  },
  "cells": [
    {
      "cell_type": "markdown",
      "metadata": {
        "id": "view-in-github",
        "colab_type": "text"
      },
      "source": [
        "<a href=\"https://colab.research.google.com/gist/pouyahosseinzadeh/0ca78931c8aaff6569b1f37f4f591289/sep_nsep_da_gaussian_100mev_5h.ipynb\" target=\"_parent\"><img src=\"https://colab.research.google.com/assets/colab-badge.svg\" alt=\"Open In Colab\"/></a>"
      ]
    },
    {
      "cell_type": "markdown",
      "source": [
        "#### Solar Energetic Particle (SEP) Event Prediction"
      ],
      "metadata": {
        "id": "R3fAlowJFDYI"
      }
    },
    {
      "cell_type": "markdown",
      "metadata": {
        "id": "m5Ip1hrzOmth"
      },
      "source": [
        "# Data Augmentation Using Gaussian for 100 MeV (5h)"
      ]
    },
    {
      "cell_type": "code",
      "execution_count": null,
      "metadata": {
        "id": "DGbZeQv8tugy"
      },
      "outputs": [],
      "source": [
        "# Correct Version"
      ]
    },
    {
      "cell_type": "code",
      "execution_count": null,
      "metadata": {
        "id": "-N5dnviHvWjA"
      },
      "outputs": [],
      "source": [
        "import pandas as pd\n",
        "import numpy as np\n",
        "from pandas import read_csv\n",
        "import seaborn as sns\n",
        "from sklearn.metrics import f1_score\n",
        "from sklearn.metrics import balanced_accuracy_score\n",
        "from sklearn.metrics import confusion_matrix\n"
      ]
    },
    {
      "cell_type": "code",
      "execution_count": null,
      "metadata": {
        "colab": {
          "base_uri": "https://localhost:8080/"
        },
        "id": "jVCKWsKbJVSY",
        "outputId": "4cae9ffa-cc60-4813-b71d-72cde5f59a60"
      },
      "outputs": [
        {
          "output_type": "stream",
          "name": "stdout",
          "text": [
            "Looking in indexes: https://pypi.org/simple, https://us-python.pkg.dev/colab-wheels/public/simple/\n",
            "Collecting tsfresh\n",
            "  Downloading tsfresh-0.20.0-py2.py3-none-any.whl (98 kB)\n",
            "\u001b[2K     \u001b[90m━━━━━━━━━━━━━━━━━━━━━━━━━━━━━━━━━━━━━━━━\u001b[0m \u001b[32m98.2/98.2 kB\u001b[0m \u001b[31m5.3 MB/s\u001b[0m eta \u001b[36m0:00:00\u001b[0m\n",
            "\u001b[?25hRequirement already satisfied: cloudpickle in /usr/local/lib/python3.9/dist-packages (from tsfresh) (2.2.1)\n",
            "Requirement already satisfied: pandas>=0.25.0 in /usr/local/lib/python3.9/dist-packages (from tsfresh) (1.5.3)\n",
            "Requirement already satisfied: distributed>=2.11.0 in /usr/local/lib/python3.9/dist-packages (from tsfresh) (2022.12.1)\n",
            "Requirement already satisfied: requests>=2.9.1 in /usr/local/lib/python3.9/dist-packages (from tsfresh) (2.27.1)\n",
            "Requirement already satisfied: dask[dataframe]>=2.9.0 in /usr/local/lib/python3.9/dist-packages (from tsfresh) (2022.12.1)\n",
            "Requirement already satisfied: scikit-learn>=0.22.0 in /usr/local/lib/python3.9/dist-packages (from tsfresh) (1.2.2)\n",
            "Requirement already satisfied: scipy>=1.2.0 in /usr/local/lib/python3.9/dist-packages (from tsfresh) (1.10.1)\n",
            "Requirement already satisfied: patsy>=0.4.1 in /usr/local/lib/python3.9/dist-packages (from tsfresh) (0.5.3)\n",
            "Requirement already satisfied: tqdm>=4.10.0 in /usr/local/lib/python3.9/dist-packages (from tsfresh) (4.65.0)\n",
            "Requirement already satisfied: statsmodels>=0.13 in /usr/local/lib/python3.9/dist-packages (from tsfresh) (0.13.5)\n",
            "Requirement already satisfied: numpy>=1.15.1 in /usr/local/lib/python3.9/dist-packages (from tsfresh) (1.22.4)\n",
            "Collecting stumpy>=1.7.2\n",
            "  Downloading stumpy-1.11.1-py3-none-any.whl (136 kB)\n",
            "\u001b[2K     \u001b[90m━━━━━━━━━━━━━━━━━━━━━━━━━━━━━━━━━━━━━━\u001b[0m \u001b[32m136.2/136.2 kB\u001b[0m \u001b[31m13.2 MB/s\u001b[0m eta \u001b[36m0:00:00\u001b[0m\n",
            "\u001b[?25hRequirement already satisfied: pyyaml>=5.3.1 in /usr/local/lib/python3.9/dist-packages (from dask[dataframe]>=2.9.0->tsfresh) (6.0)\n",
            "Requirement already satisfied: click>=7.0 in /usr/local/lib/python3.9/dist-packages (from dask[dataframe]>=2.9.0->tsfresh) (8.1.3)\n",
            "Requirement already satisfied: fsspec>=0.6.0 in /usr/local/lib/python3.9/dist-packages (from dask[dataframe]>=2.9.0->tsfresh) (2023.4.0)\n",
            "Requirement already satisfied: partd>=0.3.10 in /usr/local/lib/python3.9/dist-packages (from dask[dataframe]>=2.9.0->tsfresh) (1.4.0)\n",
            "Requirement already satisfied: packaging>=20.0 in /usr/local/lib/python3.9/dist-packages (from dask[dataframe]>=2.9.0->tsfresh) (23.1)\n",
            "Requirement already satisfied: toolz>=0.8.2 in /usr/local/lib/python3.9/dist-packages (from dask[dataframe]>=2.9.0->tsfresh) (0.12.0)\n",
            "Requirement already satisfied: zict>=0.1.3 in /usr/local/lib/python3.9/dist-packages (from distributed>=2.11.0->tsfresh) (3.0.0)\n",
            "Requirement already satisfied: sortedcontainers!=2.0.0,!=2.0.1 in /usr/local/lib/python3.9/dist-packages (from distributed>=2.11.0->tsfresh) (2.4.0)\n",
            "Requirement already satisfied: locket>=1.0.0 in /usr/local/lib/python3.9/dist-packages (from distributed>=2.11.0->tsfresh) (1.0.0)\n",
            "Requirement already satisfied: jinja2 in /usr/local/lib/python3.9/dist-packages (from distributed>=2.11.0->tsfresh) (3.1.2)\n",
            "Requirement already satisfied: urllib3 in /usr/local/lib/python3.9/dist-packages (from distributed>=2.11.0->tsfresh) (1.26.15)\n",
            "Requirement already satisfied: tblib>=1.6.0 in /usr/local/lib/python3.9/dist-packages (from distributed>=2.11.0->tsfresh) (1.7.0)\n",
            "Requirement already satisfied: tornado>=6.0.3 in /usr/local/lib/python3.9/dist-packages (from distributed>=2.11.0->tsfresh) (6.2)\n",
            "Requirement already satisfied: msgpack>=0.6.0 in /usr/local/lib/python3.9/dist-packages (from distributed>=2.11.0->tsfresh) (1.0.5)\n",
            "Requirement already satisfied: psutil>=5.0 in /usr/local/lib/python3.9/dist-packages (from distributed>=2.11.0->tsfresh) (5.9.5)\n",
            "Requirement already satisfied: pytz>=2020.1 in /usr/local/lib/python3.9/dist-packages (from pandas>=0.25.0->tsfresh) (2022.7.1)\n",
            "Requirement already satisfied: python-dateutil>=2.8.1 in /usr/local/lib/python3.9/dist-packages (from pandas>=0.25.0->tsfresh) (2.8.2)\n",
            "Requirement already satisfied: six in /usr/local/lib/python3.9/dist-packages (from patsy>=0.4.1->tsfresh) (1.16.0)\n",
            "Requirement already satisfied: idna<4,>=2.5 in /usr/local/lib/python3.9/dist-packages (from requests>=2.9.1->tsfresh) (3.4)\n",
            "Requirement already satisfied: certifi>=2017.4.17 in /usr/local/lib/python3.9/dist-packages (from requests>=2.9.1->tsfresh) (2022.12.7)\n",
            "Requirement already satisfied: charset-normalizer~=2.0.0 in /usr/local/lib/python3.9/dist-packages (from requests>=2.9.1->tsfresh) (2.0.12)\n",
            "Requirement already satisfied: joblib>=1.1.1 in /usr/local/lib/python3.9/dist-packages (from scikit-learn>=0.22.0->tsfresh) (1.2.0)\n",
            "Requirement already satisfied: threadpoolctl>=2.0.0 in /usr/local/lib/python3.9/dist-packages (from scikit-learn>=0.22.0->tsfresh) (3.1.0)\n",
            "Requirement already satisfied: numba>=0.54 in /usr/local/lib/python3.9/dist-packages (from stumpy>=1.7.2->tsfresh) (0.56.4)\n",
            "Requirement already satisfied: setuptools in /usr/local/lib/python3.9/dist-packages (from numba>=0.54->stumpy>=1.7.2->tsfresh) (67.7.2)\n",
            "Requirement already satisfied: llvmlite<0.40,>=0.39.0dev0 in /usr/local/lib/python3.9/dist-packages (from numba>=0.54->stumpy>=1.7.2->tsfresh) (0.39.1)\n",
            "Requirement already satisfied: MarkupSafe>=2.0 in /usr/local/lib/python3.9/dist-packages (from jinja2->distributed>=2.11.0->tsfresh) (2.1.2)\n",
            "Installing collected packages: stumpy, tsfresh\n",
            "Successfully installed stumpy-1.11.1 tsfresh-0.20.0\n",
            "Looking in indexes: https://pypi.org/simple, https://us-python.pkg.dev/colab-wheels/public/simple/\n",
            "Collecting sktime\n",
            "  Downloading sktime-0.17.2-py3-none-any.whl (16.9 MB)\n",
            "\u001b[2K     \u001b[90m━━━━━━━━━━━━━━━━━━━━━━━━━━━━━━━━━━━━━━━━\u001b[0m \u001b[32m16.9/16.9 MB\u001b[0m \u001b[31m62.5 MB/s\u001b[0m eta \u001b[36m0:00:00\u001b[0m\n",
            "\u001b[?25hRequirement already satisfied: pandas<2.0.0,>=1.1.0 in /usr/local/lib/python3.9/dist-packages (from sktime) (1.5.3)\n",
            "Requirement already satisfied: scikit-learn<1.3.0,>=0.24.0 in /usr/local/lib/python3.9/dist-packages (from sktime) (1.2.2)\n",
            "Requirement already satisfied: numba>=0.53 in /usr/local/lib/python3.9/dist-packages (from sktime) (0.56.4)\n",
            "Requirement already satisfied: scipy<2.0.0,>=1.2.0 in /usr/local/lib/python3.9/dist-packages (from sktime) (1.10.1)\n",
            "Requirement already satisfied: numpy<1.25,>=1.21.0 in /usr/local/lib/python3.9/dist-packages (from sktime) (1.22.4)\n",
            "Collecting deprecated>=1.2.13\n",
            "  Downloading Deprecated-1.2.13-py2.py3-none-any.whl (9.6 kB)\n",
            "Requirement already satisfied: wrapt<2,>=1.10 in /usr/local/lib/python3.9/dist-packages (from deprecated>=1.2.13->sktime) (1.14.1)\n",
            "Requirement already satisfied: setuptools in /usr/local/lib/python3.9/dist-packages (from numba>=0.53->sktime) (67.7.2)\n",
            "Requirement already satisfied: llvmlite<0.40,>=0.39.0dev0 in /usr/local/lib/python3.9/dist-packages (from numba>=0.53->sktime) (0.39.1)\n",
            "Requirement already satisfied: pytz>=2020.1 in /usr/local/lib/python3.9/dist-packages (from pandas<2.0.0,>=1.1.0->sktime) (2022.7.1)\n",
            "Requirement already satisfied: python-dateutil>=2.8.1 in /usr/local/lib/python3.9/dist-packages (from pandas<2.0.0,>=1.1.0->sktime) (2.8.2)\n",
            "Requirement already satisfied: threadpoolctl>=2.0.0 in /usr/local/lib/python3.9/dist-packages (from scikit-learn<1.3.0,>=0.24.0->sktime) (3.1.0)\n",
            "Requirement already satisfied: joblib>=1.1.1 in /usr/local/lib/python3.9/dist-packages (from scikit-learn<1.3.0,>=0.24.0->sktime) (1.2.0)\n",
            "Requirement already satisfied: six>=1.5 in /usr/local/lib/python3.9/dist-packages (from python-dateutil>=2.8.1->pandas<2.0.0,>=1.1.0->sktime) (1.16.0)\n",
            "Installing collected packages: deprecated, sktime\n",
            "Successfully installed deprecated-1.2.13 sktime-0.17.2\n",
            "Looking in indexes: https://pypi.org/simple, https://us-python.pkg.dev/colab-wheels/public/simple/\n",
            "Collecting pyts\n",
            "  Downloading pyts-0.12.0-py3-none-any.whl (2.5 MB)\n",
            "\u001b[2K     \u001b[90m━━━━━━━━━━━━━━━━━━━━━━━━━━━━━━━━━━━━━━━━\u001b[0m \u001b[32m2.5/2.5 MB\u001b[0m \u001b[31m17.8 MB/s\u001b[0m eta \u001b[36m0:00:00\u001b[0m\n",
            "\u001b[?25hRequirement already satisfied: scipy>=1.3.0 in /usr/local/lib/python3.9/dist-packages (from pyts) (1.10.1)\n",
            "Requirement already satisfied: numba>=0.48.0 in /usr/local/lib/python3.9/dist-packages (from pyts) (0.56.4)\n",
            "Requirement already satisfied: scikit-learn>=0.22.1 in /usr/local/lib/python3.9/dist-packages (from pyts) (1.2.2)\n",
            "Requirement already satisfied: joblib>=0.12 in /usr/local/lib/python3.9/dist-packages (from pyts) (1.2.0)\n",
            "Requirement already satisfied: numpy>=1.17.5 in /usr/local/lib/python3.9/dist-packages (from pyts) (1.22.4)\n",
            "Requirement already satisfied: setuptools in /usr/local/lib/python3.9/dist-packages (from numba>=0.48.0->pyts) (67.7.2)\n",
            "Requirement already satisfied: llvmlite<0.40,>=0.39.0dev0 in /usr/local/lib/python3.9/dist-packages (from numba>=0.48.0->pyts) (0.39.1)\n",
            "Requirement already satisfied: threadpoolctl>=2.0.0 in /usr/local/lib/python3.9/dist-packages (from scikit-learn>=0.22.1->pyts) (3.1.0)\n",
            "Installing collected packages: pyts\n",
            "Successfully installed pyts-0.12.0\n"
          ]
        }
      ],
      "source": [
        "!pip install tsfresh\n",
        "!pip install sktime\n",
        "!pip install pyts"
      ]
    },
    {
      "cell_type": "code",
      "execution_count": null,
      "metadata": {
        "colab": {
          "base_uri": "https://localhost:8080/"
        },
        "id": "EZa4x6KmFNL4",
        "outputId": "099765be-6e29-454c-ae24-12a5c3cf9eaa"
      },
      "outputs": [
        {
          "output_type": "stream",
          "name": "stdout",
          "text": [
            "Looking in indexes: https://pypi.org/simple, https://us-python.pkg.dev/colab-wheels/public/simple/\n",
            "Requirement already satisfied: imbalanced-learn in /usr/local/lib/python3.9/dist-packages (0.10.1)\n",
            "Requirement already satisfied: joblib>=1.1.1 in /usr/local/lib/python3.9/dist-packages (from imbalanced-learn) (1.2.0)\n",
            "Requirement already satisfied: numpy>=1.17.3 in /usr/local/lib/python3.9/dist-packages (from imbalanced-learn) (1.22.4)\n",
            "Requirement already satisfied: scipy>=1.3.2 in /usr/local/lib/python3.9/dist-packages (from imbalanced-learn) (1.10.1)\n",
            "Requirement already satisfied: scikit-learn>=1.0.2 in /usr/local/lib/python3.9/dist-packages (from imbalanced-learn) (1.2.2)\n",
            "Requirement already satisfied: threadpoolctl>=2.0.0 in /usr/local/lib/python3.9/dist-packages (from imbalanced-learn) (3.1.0)\n"
          ]
        }
      ],
      "source": [
        "!pip install imbalanced-learn"
      ]
    },
    {
      "cell_type": "code",
      "execution_count": null,
      "metadata": {
        "id": "y4htH1A2ivHs"
      },
      "outputs": [],
      "source": []
    },
    {
      "cell_type": "code",
      "execution_count": null,
      "metadata": {
        "id": "bbxrSLXbAnoy"
      },
      "outputs": [],
      "source": [
        "from sktime.classification.interval_based import TimeSeriesForestClassifier"
      ]
    },
    {
      "cell_type": "code",
      "execution_count": null,
      "metadata": {
        "id": "fdv1LfDGP78z"
      },
      "outputs": [],
      "source": [
        "from sktime.classification.kernel_based import RocketClassifier"
      ]
    },
    {
      "cell_type": "code",
      "execution_count": null,
      "metadata": {
        "id": "uTqVOA2pV3pZ"
      },
      "outputs": [],
      "source": [
        "from sktime.classification.shapelet_based import ShapeletTransformClassifier\n"
      ]
    },
    {
      "cell_type": "code",
      "source": [],
      "metadata": {
        "id": "f6WtsLSlVbKL"
      },
      "execution_count": null,
      "outputs": []
    },
    {
      "cell_type": "markdown",
      "metadata": {
        "id": "sSZDY8uAV44Q"
      },
      "source": [
        "# [1/0] (No DA)"
      ]
    },
    {
      "cell_type": "code",
      "execution_count": null,
      "metadata": {
        "id": "ZcPxYXhtAnoz"
      },
      "outputs": [],
      "source": [
        "SEP_df = pd.read_csv(\"/content/sample_data/SEP_data.csv\", header = 0)\n",
        "# SEP_df = SEP_df.drop([78, 79, 80, 81])"
      ]
    },
    {
      "cell_type": "code",
      "execution_count": null,
      "metadata": {
        "id": "OWl4hN_3Anoz"
      },
      "outputs": [],
      "source": [
        "NSEP_df_78 = pd.read_csv(\"/content/sample_data/NSEP_data_78.csv\", header = 0)\n",
        "# NSEP_df_78 = NSEP_df_78.drop([78, 79, 80, 80])"
      ]
    },
    {
      "cell_type": "code",
      "execution_count": null,
      "metadata": {
        "id": "QIAearOLAno0",
        "colab": {
          "base_uri": "https://localhost:8080/"
        },
        "outputId": "a2fb52e2-2db2-4e54-c091-a7218c8ecdd4"
      },
      "outputs": [
        {
          "output_type": "stream",
          "name": "stderr",
          "text": [
            "<ipython-input-10-d521cdc2284f>:1: FutureWarning: The frame.append method is deprecated and will be removed from pandas in a future version. Use pandas.concat instead.\n",
            "  data = SEP_df.append(NSEP_df_78) # append the two SEP and NSEP dataframes\n"
          ]
        }
      ],
      "source": [
        "data = SEP_df.append(NSEP_df_78) # append the two SEP and NSEP dataframes"
      ]
    },
    {
      "cell_type": "code",
      "execution_count": null,
      "metadata": {
        "id": "isLXe3bKAno0"
      },
      "outputs": [],
      "source": [
        "data = data.reset_index(drop = True)"
      ]
    },
    {
      "cell_type": "code",
      "execution_count": null,
      "metadata": {
        "id": "o_a02tjXAno0"
      },
      "outputs": [],
      "source": [
        "NSEP_start_index = len(SEP_df) + 1"
      ]
    },
    {
      "cell_type": "code",
      "execution_count": null,
      "metadata": {
        "id": "FbXSnwPZAno0",
        "colab": {
          "base_uri": "https://localhost:8080/",
          "height": 488
        },
        "outputId": "687ba730-e3a3-4974-cb88-f0e04974abc7"
      },
      "outputs": [
        {
          "output_type": "execute_result",
          "data": {
            "text/plain": [
              "           0        1        2        3        4        5        6        7  \\\n",
              "0    0.00355  0.00312  0.00295  0.00356  0.00406  0.00288  0.00305  0.00336   \n",
              "1    0.00902  0.00851  0.00771  0.00828  0.00736  0.00716  0.00785  0.00793   \n",
              "2    0.00285  0.00284  0.00300  0.00288  0.00310  0.00264  0.00290  0.00255   \n",
              "3    0.00265  0.00303  0.00295  0.00336  0.00285  0.00303  0.00310  0.00269   \n",
              "4    0.00345  0.00308  0.00411  0.00346  0.00350  0.00375  0.00355  0.00360   \n",
              "..       ...      ...      ...      ...      ...      ...      ...      ...   \n",
              "181  0.00226  0.00200  0.00202  0.00215  0.00226  0.00250  0.00202  0.00180   \n",
              "182  0.00185  0.00149  0.00170  0.00183  0.00205  0.00202  0.00168  0.00235   \n",
              "183  0.00187  0.00220  0.00144  0.00190  0.00255  0.00195  0.00245  0.00221   \n",
              "184  0.00245  0.00173  0.00130  0.00154  0.00140  0.00183  0.00245  0.00139   \n",
              "185  0.00265  0.00202  0.00260  0.00207  0.00150  0.00168  0.00139  0.00170   \n",
              "\n",
              "           8        9  ...       51       52       53       54       55  \\\n",
              "0    0.00340  0.00303  ...  0.00325  0.00336  0.00305  0.00312  0.00300   \n",
              "1    0.00726  0.00984  ...  0.00690  0.00701  0.00697  0.00668  0.00697   \n",
              "2    0.00215  0.00231  ...  0.00275  0.00255  0.00300  0.00226  0.00280   \n",
              "3    0.00205  0.00346  ...  0.00310  0.00360  0.00235  0.00327  0.00260   \n",
              "4    0.00335  0.00351  ...  0.00355  0.00389  0.00406  0.00351  0.00335   \n",
              "..       ...      ...  ...      ...      ...      ...      ...      ...   \n",
              "181  0.00240  0.00185  ...  0.00197  0.00200  0.00144  0.00150  0.00168   \n",
              "182  0.00205  0.00216  ...  0.00205  0.00211  0.00165  0.00216  0.00205   \n",
              "183  0.00175  0.00192  ...  0.00178  0.00155  0.00221  0.00197  0.00140   \n",
              "184  0.00190  0.00168  ...  0.00160  0.00197  0.00185  0.00149  0.00120   \n",
              "185  0.00178  0.00180  ...  0.00210  0.00216  0.00173  0.00200  0.00211   \n",
              "\n",
              "          56       57       58       59  event  \n",
              "0    0.00327  0.00235  0.00288  0.00310    SEP  \n",
              "1    0.00789  0.00776  0.00706  0.00716    SEP  \n",
              "2    0.00298  0.00270  0.00274  0.00255    SEP  \n",
              "3    0.00255  0.00285  0.00298  0.00290    SEP  \n",
              "4    0.00356  0.00315  0.00327  0.00330    SEP  \n",
              "..       ...      ...      ...      ...    ...  \n",
              "181  0.00165  0.00192  0.00165  0.00154   NSEP  \n",
              "182  0.00231  0.00230  0.00216  0.00221   NSEP  \n",
              "183  0.00245  0.00190  0.00144  0.00185   NSEP  \n",
              "184  0.00178  0.00205  0.00202  0.00170   NSEP  \n",
              "185  0.00200  0.00130  0.00240  0.00187   NSEP  \n",
              "\n",
              "[186 rows x 61 columns]"
            ],
            "text/html": [
              "\n",
              "  <div id=\"df-8d291a4f-7aed-4a44-822b-546bd4a10417\">\n",
              "    <div class=\"colab-df-container\">\n",
              "      <div>\n",
              "<style scoped>\n",
              "    .dataframe tbody tr th:only-of-type {\n",
              "        vertical-align: middle;\n",
              "    }\n",
              "\n",
              "    .dataframe tbody tr th {\n",
              "        vertical-align: top;\n",
              "    }\n",
              "\n",
              "    .dataframe thead th {\n",
              "        text-align: right;\n",
              "    }\n",
              "</style>\n",
              "<table border=\"1\" class=\"dataframe\">\n",
              "  <thead>\n",
              "    <tr style=\"text-align: right;\">\n",
              "      <th></th>\n",
              "      <th>0</th>\n",
              "      <th>1</th>\n",
              "      <th>2</th>\n",
              "      <th>3</th>\n",
              "      <th>4</th>\n",
              "      <th>5</th>\n",
              "      <th>6</th>\n",
              "      <th>7</th>\n",
              "      <th>8</th>\n",
              "      <th>9</th>\n",
              "      <th>...</th>\n",
              "      <th>51</th>\n",
              "      <th>52</th>\n",
              "      <th>53</th>\n",
              "      <th>54</th>\n",
              "      <th>55</th>\n",
              "      <th>56</th>\n",
              "      <th>57</th>\n",
              "      <th>58</th>\n",
              "      <th>59</th>\n",
              "      <th>event</th>\n",
              "    </tr>\n",
              "  </thead>\n",
              "  <tbody>\n",
              "    <tr>\n",
              "      <th>0</th>\n",
              "      <td>0.00355</td>\n",
              "      <td>0.00312</td>\n",
              "      <td>0.00295</td>\n",
              "      <td>0.00356</td>\n",
              "      <td>0.00406</td>\n",
              "      <td>0.00288</td>\n",
              "      <td>0.00305</td>\n",
              "      <td>0.00336</td>\n",
              "      <td>0.00340</td>\n",
              "      <td>0.00303</td>\n",
              "      <td>...</td>\n",
              "      <td>0.00325</td>\n",
              "      <td>0.00336</td>\n",
              "      <td>0.00305</td>\n",
              "      <td>0.00312</td>\n",
              "      <td>0.00300</td>\n",
              "      <td>0.00327</td>\n",
              "      <td>0.00235</td>\n",
              "      <td>0.00288</td>\n",
              "      <td>0.00310</td>\n",
              "      <td>SEP</td>\n",
              "    </tr>\n",
              "    <tr>\n",
              "      <th>1</th>\n",
              "      <td>0.00902</td>\n",
              "      <td>0.00851</td>\n",
              "      <td>0.00771</td>\n",
              "      <td>0.00828</td>\n",
              "      <td>0.00736</td>\n",
              "      <td>0.00716</td>\n",
              "      <td>0.00785</td>\n",
              "      <td>0.00793</td>\n",
              "      <td>0.00726</td>\n",
              "      <td>0.00984</td>\n",
              "      <td>...</td>\n",
              "      <td>0.00690</td>\n",
              "      <td>0.00701</td>\n",
              "      <td>0.00697</td>\n",
              "      <td>0.00668</td>\n",
              "      <td>0.00697</td>\n",
              "      <td>0.00789</td>\n",
              "      <td>0.00776</td>\n",
              "      <td>0.00706</td>\n",
              "      <td>0.00716</td>\n",
              "      <td>SEP</td>\n",
              "    </tr>\n",
              "    <tr>\n",
              "      <th>2</th>\n",
              "      <td>0.00285</td>\n",
              "      <td>0.00284</td>\n",
              "      <td>0.00300</td>\n",
              "      <td>0.00288</td>\n",
              "      <td>0.00310</td>\n",
              "      <td>0.00264</td>\n",
              "      <td>0.00290</td>\n",
              "      <td>0.00255</td>\n",
              "      <td>0.00215</td>\n",
              "      <td>0.00231</td>\n",
              "      <td>...</td>\n",
              "      <td>0.00275</td>\n",
              "      <td>0.00255</td>\n",
              "      <td>0.00300</td>\n",
              "      <td>0.00226</td>\n",
              "      <td>0.00280</td>\n",
              "      <td>0.00298</td>\n",
              "      <td>0.00270</td>\n",
              "      <td>0.00274</td>\n",
              "      <td>0.00255</td>\n",
              "      <td>SEP</td>\n",
              "    </tr>\n",
              "    <tr>\n",
              "      <th>3</th>\n",
              "      <td>0.00265</td>\n",
              "      <td>0.00303</td>\n",
              "      <td>0.00295</td>\n",
              "      <td>0.00336</td>\n",
              "      <td>0.00285</td>\n",
              "      <td>0.00303</td>\n",
              "      <td>0.00310</td>\n",
              "      <td>0.00269</td>\n",
              "      <td>0.00205</td>\n",
              "      <td>0.00346</td>\n",
              "      <td>...</td>\n",
              "      <td>0.00310</td>\n",
              "      <td>0.00360</td>\n",
              "      <td>0.00235</td>\n",
              "      <td>0.00327</td>\n",
              "      <td>0.00260</td>\n",
              "      <td>0.00255</td>\n",
              "      <td>0.00285</td>\n",
              "      <td>0.00298</td>\n",
              "      <td>0.00290</td>\n",
              "      <td>SEP</td>\n",
              "    </tr>\n",
              "    <tr>\n",
              "      <th>4</th>\n",
              "      <td>0.00345</td>\n",
              "      <td>0.00308</td>\n",
              "      <td>0.00411</td>\n",
              "      <td>0.00346</td>\n",
              "      <td>0.00350</td>\n",
              "      <td>0.00375</td>\n",
              "      <td>0.00355</td>\n",
              "      <td>0.00360</td>\n",
              "      <td>0.00335</td>\n",
              "      <td>0.00351</td>\n",
              "      <td>...</td>\n",
              "      <td>0.00355</td>\n",
              "      <td>0.00389</td>\n",
              "      <td>0.00406</td>\n",
              "      <td>0.00351</td>\n",
              "      <td>0.00335</td>\n",
              "      <td>0.00356</td>\n",
              "      <td>0.00315</td>\n",
              "      <td>0.00327</td>\n",
              "      <td>0.00330</td>\n",
              "      <td>SEP</td>\n",
              "    </tr>\n",
              "    <tr>\n",
              "      <th>...</th>\n",
              "      <td>...</td>\n",
              "      <td>...</td>\n",
              "      <td>...</td>\n",
              "      <td>...</td>\n",
              "      <td>...</td>\n",
              "      <td>...</td>\n",
              "      <td>...</td>\n",
              "      <td>...</td>\n",
              "      <td>...</td>\n",
              "      <td>...</td>\n",
              "      <td>...</td>\n",
              "      <td>...</td>\n",
              "      <td>...</td>\n",
              "      <td>...</td>\n",
              "      <td>...</td>\n",
              "      <td>...</td>\n",
              "      <td>...</td>\n",
              "      <td>...</td>\n",
              "      <td>...</td>\n",
              "      <td>...</td>\n",
              "      <td>...</td>\n",
              "    </tr>\n",
              "    <tr>\n",
              "      <th>181</th>\n",
              "      <td>0.00226</td>\n",
              "      <td>0.00200</td>\n",
              "      <td>0.00202</td>\n",
              "      <td>0.00215</td>\n",
              "      <td>0.00226</td>\n",
              "      <td>0.00250</td>\n",
              "      <td>0.00202</td>\n",
              "      <td>0.00180</td>\n",
              "      <td>0.00240</td>\n",
              "      <td>0.00185</td>\n",
              "      <td>...</td>\n",
              "      <td>0.00197</td>\n",
              "      <td>0.00200</td>\n",
              "      <td>0.00144</td>\n",
              "      <td>0.00150</td>\n",
              "      <td>0.00168</td>\n",
              "      <td>0.00165</td>\n",
              "      <td>0.00192</td>\n",
              "      <td>0.00165</td>\n",
              "      <td>0.00154</td>\n",
              "      <td>NSEP</td>\n",
              "    </tr>\n",
              "    <tr>\n",
              "      <th>182</th>\n",
              "      <td>0.00185</td>\n",
              "      <td>0.00149</td>\n",
              "      <td>0.00170</td>\n",
              "      <td>0.00183</td>\n",
              "      <td>0.00205</td>\n",
              "      <td>0.00202</td>\n",
              "      <td>0.00168</td>\n",
              "      <td>0.00235</td>\n",
              "      <td>0.00205</td>\n",
              "      <td>0.00216</td>\n",
              "      <td>...</td>\n",
              "      <td>0.00205</td>\n",
              "      <td>0.00211</td>\n",
              "      <td>0.00165</td>\n",
              "      <td>0.00216</td>\n",
              "      <td>0.00205</td>\n",
              "      <td>0.00231</td>\n",
              "      <td>0.00230</td>\n",
              "      <td>0.00216</td>\n",
              "      <td>0.00221</td>\n",
              "      <td>NSEP</td>\n",
              "    </tr>\n",
              "    <tr>\n",
              "      <th>183</th>\n",
              "      <td>0.00187</td>\n",
              "      <td>0.00220</td>\n",
              "      <td>0.00144</td>\n",
              "      <td>0.00190</td>\n",
              "      <td>0.00255</td>\n",
              "      <td>0.00195</td>\n",
              "      <td>0.00245</td>\n",
              "      <td>0.00221</td>\n",
              "      <td>0.00175</td>\n",
              "      <td>0.00192</td>\n",
              "      <td>...</td>\n",
              "      <td>0.00178</td>\n",
              "      <td>0.00155</td>\n",
              "      <td>0.00221</td>\n",
              "      <td>0.00197</td>\n",
              "      <td>0.00140</td>\n",
              "      <td>0.00245</td>\n",
              "      <td>0.00190</td>\n",
              "      <td>0.00144</td>\n",
              "      <td>0.00185</td>\n",
              "      <td>NSEP</td>\n",
              "    </tr>\n",
              "    <tr>\n",
              "      <th>184</th>\n",
              "      <td>0.00245</td>\n",
              "      <td>0.00173</td>\n",
              "      <td>0.00130</td>\n",
              "      <td>0.00154</td>\n",
              "      <td>0.00140</td>\n",
              "      <td>0.00183</td>\n",
              "      <td>0.00245</td>\n",
              "      <td>0.00139</td>\n",
              "      <td>0.00190</td>\n",
              "      <td>0.00168</td>\n",
              "      <td>...</td>\n",
              "      <td>0.00160</td>\n",
              "      <td>0.00197</td>\n",
              "      <td>0.00185</td>\n",
              "      <td>0.00149</td>\n",
              "      <td>0.00120</td>\n",
              "      <td>0.00178</td>\n",
              "      <td>0.00205</td>\n",
              "      <td>0.00202</td>\n",
              "      <td>0.00170</td>\n",
              "      <td>NSEP</td>\n",
              "    </tr>\n",
              "    <tr>\n",
              "      <th>185</th>\n",
              "      <td>0.00265</td>\n",
              "      <td>0.00202</td>\n",
              "      <td>0.00260</td>\n",
              "      <td>0.00207</td>\n",
              "      <td>0.00150</td>\n",
              "      <td>0.00168</td>\n",
              "      <td>0.00139</td>\n",
              "      <td>0.00170</td>\n",
              "      <td>0.00178</td>\n",
              "      <td>0.00180</td>\n",
              "      <td>...</td>\n",
              "      <td>0.00210</td>\n",
              "      <td>0.00216</td>\n",
              "      <td>0.00173</td>\n",
              "      <td>0.00200</td>\n",
              "      <td>0.00211</td>\n",
              "      <td>0.00200</td>\n",
              "      <td>0.00130</td>\n",
              "      <td>0.00240</td>\n",
              "      <td>0.00187</td>\n",
              "      <td>NSEP</td>\n",
              "    </tr>\n",
              "  </tbody>\n",
              "</table>\n",
              "<p>186 rows × 61 columns</p>\n",
              "</div>\n",
              "      <button class=\"colab-df-convert\" onclick=\"convertToInteractive('df-8d291a4f-7aed-4a44-822b-546bd4a10417')\"\n",
              "              title=\"Convert this dataframe to an interactive table.\"\n",
              "              style=\"display:none;\">\n",
              "        \n",
              "  <svg xmlns=\"http://www.w3.org/2000/svg\" height=\"24px\"viewBox=\"0 0 24 24\"\n",
              "       width=\"24px\">\n",
              "    <path d=\"M0 0h24v24H0V0z\" fill=\"none\"/>\n",
              "    <path d=\"M18.56 5.44l.94 2.06.94-2.06 2.06-.94-2.06-.94-.94-2.06-.94 2.06-2.06.94zm-11 1L8.5 8.5l.94-2.06 2.06-.94-2.06-.94L8.5 2.5l-.94 2.06-2.06.94zm10 10l.94 2.06.94-2.06 2.06-.94-2.06-.94-.94-2.06-.94 2.06-2.06.94z\"/><path d=\"M17.41 7.96l-1.37-1.37c-.4-.4-.92-.59-1.43-.59-.52 0-1.04.2-1.43.59L10.3 9.45l-7.72 7.72c-.78.78-.78 2.05 0 2.83L4 21.41c.39.39.9.59 1.41.59.51 0 1.02-.2 1.41-.59l7.78-7.78 2.81-2.81c.8-.78.8-2.07 0-2.86zM5.41 20L4 18.59l7.72-7.72 1.47 1.35L5.41 20z\"/>\n",
              "  </svg>\n",
              "      </button>\n",
              "      \n",
              "  <style>\n",
              "    .colab-df-container {\n",
              "      display:flex;\n",
              "      flex-wrap:wrap;\n",
              "      gap: 12px;\n",
              "    }\n",
              "\n",
              "    .colab-df-convert {\n",
              "      background-color: #E8F0FE;\n",
              "      border: none;\n",
              "      border-radius: 50%;\n",
              "      cursor: pointer;\n",
              "      display: none;\n",
              "      fill: #1967D2;\n",
              "      height: 32px;\n",
              "      padding: 0 0 0 0;\n",
              "      width: 32px;\n",
              "    }\n",
              "\n",
              "    .colab-df-convert:hover {\n",
              "      background-color: #E2EBFA;\n",
              "      box-shadow: 0px 1px 2px rgba(60, 64, 67, 0.3), 0px 1px 3px 1px rgba(60, 64, 67, 0.15);\n",
              "      fill: #174EA6;\n",
              "    }\n",
              "\n",
              "    [theme=dark] .colab-df-convert {\n",
              "      background-color: #3B4455;\n",
              "      fill: #D2E3FC;\n",
              "    }\n",
              "\n",
              "    [theme=dark] .colab-df-convert:hover {\n",
              "      background-color: #434B5C;\n",
              "      box-shadow: 0px 1px 3px 1px rgba(0, 0, 0, 0.15);\n",
              "      filter: drop-shadow(0px 1px 2px rgba(0, 0, 0, 0.3));\n",
              "      fill: #FFFFFF;\n",
              "    }\n",
              "  </style>\n",
              "\n",
              "      <script>\n",
              "        const buttonEl =\n",
              "          document.querySelector('#df-8d291a4f-7aed-4a44-822b-546bd4a10417 button.colab-df-convert');\n",
              "        buttonEl.style.display =\n",
              "          google.colab.kernel.accessAllowed ? 'block' : 'none';\n",
              "\n",
              "        async function convertToInteractive(key) {\n",
              "          const element = document.querySelector('#df-8d291a4f-7aed-4a44-822b-546bd4a10417');\n",
              "          const dataTable =\n",
              "            await google.colab.kernel.invokeFunction('convertToInteractive',\n",
              "                                                     [key], {});\n",
              "          if (!dataTable) return;\n",
              "\n",
              "          const docLinkHtml = 'Like what you see? Visit the ' +\n",
              "            '<a target=\"_blank\" href=https://colab.research.google.com/notebooks/data_table.ipynb>data table notebook</a>'\n",
              "            + ' to learn more about interactive tables.';\n",
              "          element.innerHTML = '';\n",
              "          dataTable['output_type'] = 'display_data';\n",
              "          await google.colab.output.renderOutput(dataTable, element);\n",
              "          const docLink = document.createElement('div');\n",
              "          docLink.innerHTML = docLinkHtml;\n",
              "          element.appendChild(docLink);\n",
              "        }\n",
              "      </script>\n",
              "    </div>\n",
              "  </div>\n",
              "  "
            ]
          },
          "metadata": {},
          "execution_count": 13
        }
      ],
      "source": [
        "data['event'] = 'SEP'\n",
        "data.loc[NSEP_start_index:,['event']] = 'NSEP'\n",
        "my_data_all = data\n",
        "my_data_all"
      ]
    },
    {
      "cell_type": "code",
      "execution_count": null,
      "metadata": {
        "id": "Ukl1ChjDAno1"
      },
      "outputs": [],
      "source": []
    },
    {
      "cell_type": "code",
      "execution_count": null,
      "metadata": {
        "id": "dPNDA1mcAno1"
      },
      "outputs": [],
      "source": []
    },
    {
      "cell_type": "code",
      "execution_count": null,
      "metadata": {
        "id": "CWKHSwA8Ano1"
      },
      "outputs": [],
      "source": [
        "from sklearn.model_selection import StratifiedKFold\n",
        "\n",
        "\n",
        "\n",
        "y = my_data_all.pop('event')\n",
        "X = my_data_all"
      ]
    },
    {
      "cell_type": "code",
      "execution_count": null,
      "metadata": {
        "id": "LmGemZqHAno1"
      },
      "outputs": [],
      "source": [
        "skf = StratifiedKFold(n_splits=10, shuffle=True, random_state=42)\n",
        "\n",
        "lst_accu_stratified_A_TSF = []\n",
        "lst_accuBalanced_stratified_A_TSF = []\n",
        "lst_f1_stratified_A_TSF = []\n",
        "lst_TSS_stratified_A_TSF = []\n",
        "\n",
        "lst_accu_stratified_A_ROCKET = []\n",
        "lst_accuBalanced_stratified_A_ROCKET = []\n",
        "lst_f1_stratified_A_ROCKET = []\n",
        "lst_TSS_stratified_A_ROCKET = []\n",
        "\n",
        "lst_accu_stratified_A_SHAPELET = []\n",
        "lst_accuBalanced_stratified_A_SHAPELET = []\n",
        "lst_f1_stratified_A_SHAPELET = []\n",
        "lst_TSS_stratified_A_SHAPELET = []\n",
        "\n",
        "index = 0  \n",
        "for train_index, test_index in skf.split(X, y):\n",
        "    index = index + 1\n",
        "    X_train, X_test = X.iloc[train_index], X.iloc[test_index]\n",
        "    y_train, y_test = y[train_index], y[test_index]\n",
        "\n",
        "\n",
        "    X_train = np.array(X_train) \n",
        "    X_test = np.array(X_test)\n",
        "    y_train = np.array(y_train) \n",
        "    y_test = np.array(y_test)\n",
        "\n",
        "\n",
        "\n",
        "    clf_A = TimeSeriesForestClassifier(n_estimators=150, random_state = 42)\n",
        "    clf_A.fit(X_train, y_train)\n",
        "    lst_accu_stratified_A_TSF.append(clf_A.score(X_test, y_test))\n",
        "    pred_A = clf_A.predict(X_test)\n",
        "    lst_accuBalanced_stratified_A_TSF.append(balanced_accuracy_score(y_test, pred_A)) # Balanced Accuracy\n",
        "    f1_TSF_A = f1_score(y_test, pred_A, average=\"weighted\")\n",
        "    lst_f1_stratified_A_TSF.append(f1_TSF_A)\n",
        "    tn, fp, fn, tp = confusion_matrix(y_test, pred_A).ravel()\n",
        "    TSS_TSF_A = (tp/(tp+fn)) - (fp/(fp+tn))\n",
        "    lst_TSS_stratified_A_TSF.append(TSS_TSF_A)\n",
        "\n",
        "\n",
        "    clf_A = RocketClassifier(num_kernels=1000, random_state = 42)\n",
        "    clf_A.fit(X_train, y_train)\n",
        "    lst_accu_stratified_A_ROCKET.append(clf_A.score(X_test, y_test))\n",
        "    pred_A = clf_A.predict(X_test)\n",
        "    lst_accuBalanced_stratified_A_ROCKET.append(balanced_accuracy_score(y_test, pred_A)) # Balanced Accuracy\n",
        "    f1_ROCKET_A = f1_score(y_test, pred_A, average=\"weighted\")\n",
        "    lst_f1_stratified_A_ROCKET.append(f1_ROCKET_A)\n",
        "    tn, fp, fn, tp = confusion_matrix(y_test, pred_A).ravel()\n",
        "    TSS_ROCKET_A = (tp/(tp+fn)) - (fp/(fp+tn))\n",
        "    lst_TSS_stratified_A_ROCKET.append(TSS_ROCKET_A)\n",
        "\n",
        "\n",
        "    clf_A = ShapeletTransformClassifier(n_shapelet_samples=500, max_shapelets=20, random_state = 42)\n",
        "    clf_A.fit(X_train, y_train)\n",
        "    lst_accu_stratified_A_SHAPELET.append(clf_A.score(X_test, y_test))\n",
        "    pred_A = clf_A.predict(X_test)\n",
        "    lst_accuBalanced_stratified_A_SHAPELET.append(balanced_accuracy_score(y_test, pred_A)) # Balanced Accuracy\n",
        "    f1_SHAPELET_A = f1_score(y_test, pred_A, average=\"weighted\")\n",
        "    lst_f1_stratified_A_SHAPELET.append(f1_SHAPELET_A)\n",
        "    tn, fp, fn, tp = confusion_matrix(y_test, pred_A).ravel()\n",
        "    TSS_SHAPELET_A = (tp/(tp+fn)) - (fp/(fp+tn))\n",
        "    lst_TSS_stratified_A_SHAPELET.append(TSS_SHAPELET_A)\n",
        "\n"
      ]
    },
    {
      "cell_type": "code",
      "execution_count": null,
      "metadata": {
        "id": "Q8M5PKiVAno2",
        "colab": {
          "base_uri": "https://localhost:8080/"
        },
        "outputId": "5b16aa0e-b7c4-4e0d-a89b-6adba727f9d4"
      },
      "outputs": [
        {
          "output_type": "execute_result",
          "data": {
            "text/plain": [
              "0.69"
            ]
          },
          "metadata": {},
          "execution_count": 16
        }
      ],
      "source": [
        "import numpy as np\n",
        "\n",
        "ACC_TSF_A = round(np.mean(lst_accu_stratified_A_TSF), 2)\n",
        "ACC_TSF_A"
      ]
    },
    {
      "cell_type": "code",
      "execution_count": null,
      "metadata": {
        "id": "T2Wt1J5gNHqM",
        "colab": {
          "base_uri": "https://localhost:8080/"
        },
        "outputId": "df08d5d9-626f-455b-cf3b-27c3d0bd0493"
      },
      "outputs": [
        {
          "output_type": "execute_result",
          "data": {
            "text/plain": [
              "0.7"
            ]
          },
          "metadata": {},
          "execution_count": 17
        }
      ],
      "source": [
        "import numpy as np\n",
        "\n",
        "ACCBALANCED_TSF_A = round(np.mean(lst_accuBalanced_stratified_A_TSF), 2)\n",
        "ACCBALANCED_TSF_A"
      ]
    },
    {
      "cell_type": "code",
      "execution_count": null,
      "metadata": {
        "id": "-_o40o-4Ano2",
        "colab": {
          "base_uri": "https://localhost:8080/"
        },
        "outputId": "3d24844b-6fd6-4622-fbe5-347b823a65a5"
      },
      "outputs": [
        {
          "output_type": "execute_result",
          "data": {
            "text/plain": [
              "0.69"
            ]
          },
          "metadata": {},
          "execution_count": 18
        }
      ],
      "source": [
        "import numpy as np\n",
        "\n",
        "F1_TSF_A = round(np.mean(lst_f1_stratified_A_TSF), 2)\n",
        "F1_TSF_A"
      ]
    },
    {
      "cell_type": "code",
      "execution_count": null,
      "metadata": {
        "id": "OGc0Gr9KAnOj"
      },
      "outputs": [],
      "source": []
    },
    {
      "cell_type": "code",
      "execution_count": null,
      "metadata": {
        "id": "mCw8qAruQ_mM",
        "colab": {
          "base_uri": "https://localhost:8080/"
        },
        "outputId": "52212bb7-5a9c-491d-9b9b-b6189dd45ce7"
      },
      "outputs": [
        {
          "output_type": "execute_result",
          "data": {
            "text/plain": [
              "0.6"
            ]
          },
          "metadata": {},
          "execution_count": 19
        }
      ],
      "source": [
        "import numpy as np\n",
        "\n",
        "ACC_ROCKET_A = round(np.mean(lst_accu_stratified_A_ROCKET), 2)\n",
        "ACC_ROCKET_A"
      ]
    },
    {
      "cell_type": "code",
      "execution_count": null,
      "metadata": {
        "id": "rDYFPbDGN8h2",
        "colab": {
          "base_uri": "https://localhost:8080/"
        },
        "outputId": "1ed3ec84-88b2-408e-c4ed-1b91cd14adda"
      },
      "outputs": [
        {
          "output_type": "execute_result",
          "data": {
            "text/plain": [
              "0.6"
            ]
          },
          "metadata": {},
          "execution_count": 20
        }
      ],
      "source": [
        "import numpy as np\n",
        "\n",
        "ACCBALANCED_ROCKET_A = round(np.mean(lst_accuBalanced_stratified_A_ROCKET), 2)\n",
        "ACCBALANCED_ROCKET_A"
      ]
    },
    {
      "cell_type": "code",
      "execution_count": null,
      "metadata": {
        "id": "5yK3B_TuQ_mN",
        "colab": {
          "base_uri": "https://localhost:8080/"
        },
        "outputId": "7291b254-4ea1-4b97-f54c-929d85297384"
      },
      "outputs": [
        {
          "output_type": "execute_result",
          "data": {
            "text/plain": [
              "0.59"
            ]
          },
          "metadata": {},
          "execution_count": 21
        }
      ],
      "source": [
        "import numpy as np\n",
        "\n",
        "F1_ROCKET_A = round(np.mean(lst_f1_stratified_A_ROCKET), 2)\n",
        "F1_ROCKET_A"
      ]
    },
    {
      "cell_type": "code",
      "execution_count": null,
      "metadata": {
        "id": "b3KnhxPpAnK8"
      },
      "outputs": [],
      "source": []
    },
    {
      "cell_type": "code",
      "execution_count": null,
      "metadata": {
        "id": "ZJ-BjrXbt3XE",
        "colab": {
          "base_uri": "https://localhost:8080/"
        },
        "outputId": "f87e808d-cbc3-4949-b02c-ca04de0c72df"
      },
      "outputs": [
        {
          "output_type": "execute_result",
          "data": {
            "text/plain": [
              "0.54"
            ]
          },
          "metadata": {},
          "execution_count": 22
        }
      ],
      "source": [
        "import numpy as np\n",
        "\n",
        "ACC_SHAPELET_A = round(np.mean(lst_accu_stratified_A_SHAPELET), 2)\n",
        "ACC_SHAPELET_A"
      ]
    },
    {
      "cell_type": "code",
      "execution_count": null,
      "metadata": {
        "id": "hO7mX9EOt4Sj",
        "colab": {
          "base_uri": "https://localhost:8080/"
        },
        "outputId": "bc04b24a-5a99-4616-af2f-ba1280cf2a4f"
      },
      "outputs": [
        {
          "output_type": "execute_result",
          "data": {
            "text/plain": [
              "0.54"
            ]
          },
          "metadata": {},
          "execution_count": 23
        }
      ],
      "source": [
        "import numpy as np\n",
        "\n",
        "ACC_SHAPELET_A = round(np.mean(lst_accu_stratified_A_SHAPELET), 2)\n",
        "ACC_SHAPELET_A"
      ]
    },
    {
      "cell_type": "code",
      "execution_count": null,
      "metadata": {
        "id": "ir5kgFont4Sk",
        "colab": {
          "base_uri": "https://localhost:8080/"
        },
        "outputId": "5542cfb8-9006-4cc1-963c-1f4e0f343bb3"
      },
      "outputs": [
        {
          "output_type": "execute_result",
          "data": {
            "text/plain": [
              "0.54"
            ]
          },
          "metadata": {},
          "execution_count": 24
        }
      ],
      "source": [
        "import numpy as np\n",
        "\n",
        "ACCBALANCED_SHAPELET_A = round(np.mean(lst_accuBalanced_stratified_A_SHAPELET), 2)\n",
        "ACCBALANCED_SHAPELET_A"
      ]
    },
    {
      "cell_type": "code",
      "execution_count": null,
      "metadata": {
        "id": "GTkb8L-i75u7",
        "colab": {
          "base_uri": "https://localhost:8080/"
        },
        "outputId": "77c86a1b-63ae-4289-dfaa-203429efe9e6"
      },
      "outputs": [
        {
          "output_type": "execute_result",
          "data": {
            "text/plain": [
              "0.53"
            ]
          },
          "metadata": {},
          "execution_count": 25
        }
      ],
      "source": [
        "import numpy as np\n",
        "\n",
        "F1_SHAPELET_A = round(np.mean(lst_f1_stratified_A_SHAPELET), 2)\n",
        "F1_SHAPELET_A"
      ]
    },
    {
      "cell_type": "code",
      "execution_count": null,
      "metadata": {
        "id": "c0Y0J8T7AnHG"
      },
      "outputs": [],
      "source": []
    },
    {
      "cell_type": "code",
      "execution_count": null,
      "metadata": {
        "id": "9lxkJK13AnFd"
      },
      "outputs": [],
      "source": []
    },
    {
      "cell_type": "code",
      "execution_count": null,
      "metadata": {
        "id": "Yys9ukhIAnDX"
      },
      "outputs": [],
      "source": []
    },
    {
      "cell_type": "code",
      "execution_count": null,
      "metadata": {
        "id": "RI1R2VKBAnBz"
      },
      "outputs": [],
      "source": []
    },
    {
      "cell_type": "markdown",
      "metadata": {
        "id": "e_EZNAoCVpn-"
      },
      "source": [
        "# [1/1]"
      ]
    },
    {
      "cell_type": "code",
      "execution_count": null,
      "metadata": {
        "id": "BCIB2xobDTu-"
      },
      "outputs": [],
      "source": [
        "from sktime.classification.interval_based import TimeSeriesForestClassifier"
      ]
    },
    {
      "cell_type": "code",
      "execution_count": null,
      "metadata": {
        "id": "AkCyu4lOC3Mb"
      },
      "outputs": [],
      "source": [
        "SEP_df_1 = pd.read_csv(\"/content/sample_data/SEP_data.csv\", header = 0)\n",
        "# SEP_df_1 = SEP_df_1.drop([78, 79, 80, 81])"
      ]
    },
    {
      "cell_type": "code",
      "execution_count": null,
      "metadata": {
        "id": "Z47F-gJKi1hV"
      },
      "outputs": [],
      "source": [
        "NSEP_df_156 = pd.read_csv(\"/content/sample_data/NSEP_data_156.csv\", header = 0)\n",
        "# NSEP_df_156 = NSEP_df_156.drop([78, 79, 80, 80])"
      ]
    },
    {
      "cell_type": "code",
      "execution_count": null,
      "metadata": {
        "id": "xRmT6ABui1fA"
      },
      "outputs": [],
      "source": [
        "def DA_Jitter(X, sigma, p):  # 0.00089  or  0.03  or 0.0002\n",
        "    R = np.random.RandomState(p)\n",
        "    myNoise = R.normal(loc=0, scale=sigma, size=X.shape)\n",
        "    return X+myNoise"
      ]
    },
    {
      "cell_type": "code",
      "execution_count": null,
      "metadata": {
        "id": "Xp13jI1Y93xL"
      },
      "outputs": [],
      "source": [
        "SEP_df_2 = DA_Jitter(SEP_df_1, 0.0002, 2)"
      ]
    },
    {
      "cell_type": "code",
      "execution_count": null,
      "metadata": {
        "id": "bK5-GegI-Q3G",
        "colab": {
          "base_uri": "https://localhost:8080/"
        },
        "outputId": "78d03de2-02bf-4493-aa92-fa1efb8154c0"
      },
      "outputs": [
        {
          "output_type": "stream",
          "name": "stderr",
          "text": [
            "<ipython-input-31-85200dd89e45>:1: FutureWarning: The frame.append method is deprecated and will be removed from pandas in a future version. Use pandas.concat instead.\n",
            "  SEP_df_156= SEP_df_1.append(SEP_df_2)\n"
          ]
        }
      ],
      "source": [
        "SEP_df_156= SEP_df_1.append(SEP_df_2)\n",
        "SEP_df_156 = SEP_df_156.reset_index(drop = True)"
      ]
    },
    {
      "cell_type": "code",
      "execution_count": null,
      "metadata": {
        "id": "ms95Mo3H-d4s",
        "colab": {
          "base_uri": "https://localhost:8080/",
          "height": 488
        },
        "outputId": "58eb06ea-9be6-4304-c5db-8c7ee1e57d84"
      },
      "outputs": [
        {
          "output_type": "execute_result",
          "data": {
            "text/plain": [
              "            0         1         2         3         4         5         6  \\\n",
              "0    0.003550  0.003120  0.002950  0.003560  0.004060  0.002880  0.003050   \n",
              "1    0.009020  0.008510  0.007710  0.008280  0.007360  0.007160  0.007850   \n",
              "2    0.002850  0.002840  0.003000  0.002880  0.003100  0.002640  0.002900   \n",
              "3    0.002650  0.003030  0.002950  0.003360  0.002850  0.003030  0.003100   \n",
              "4    0.003450  0.003080  0.004110  0.003460  0.003500  0.003750  0.003550   \n",
              "..        ...       ...       ...       ...       ...       ...       ...   \n",
              "181  0.004777  0.003730  0.004390  0.004596  0.004651  0.003469  0.005081   \n",
              "182  0.003691  0.002962  0.004136  0.003639  0.003678  0.003503  0.002713   \n",
              "183  0.004853  0.004463  0.005442  0.004668  0.004394  0.004996  0.005071   \n",
              "184  0.003695  0.003887  0.004923  0.004374  0.004114  0.004055  0.003611   \n",
              "185  0.004173  0.003714  0.003868  0.003973  0.003904  0.004256  0.004138   \n",
              "\n",
              "            7         8         9  ...        50        51        52  \\\n",
              "0    0.003360  0.003400  0.003030  ...  0.004470  0.003250  0.003360   \n",
              "1    0.007930  0.007260  0.009840  ...  0.007450  0.006900  0.007010   \n",
              "2    0.002550  0.002150  0.002310  ...  0.002840  0.002750  0.002550   \n",
              "3    0.002690  0.002050  0.003460  ...  0.002550  0.003100  0.003600   \n",
              "4    0.003600  0.003350  0.003510  ...  0.003410  0.003550  0.003890   \n",
              "..        ...       ...       ...  ...       ...       ...       ...   \n",
              "181  0.004512  0.004038  0.004814  ...  0.004950  0.004202  0.003901   \n",
              "182  0.003530  0.003838  0.003255  ...  0.003463  0.004326  0.003965   \n",
              "183  0.004516  0.004460  0.004776  ...  0.004119  0.004790  0.004537   \n",
              "184  0.005281  0.004614  0.004308  ...  0.004079  0.004571  0.003808   \n",
              "185  0.004470  0.004664  0.004273  ...  0.003502  0.003721  0.004371   \n",
              "\n",
              "           53        54        55        56        57        58        59  \n",
              "0    0.003050  0.003120  0.003000  0.003270  0.002350  0.002880  0.003100  \n",
              "1    0.006970  0.006680  0.006970  0.007890  0.007760  0.007060  0.007160  \n",
              "2    0.003000  0.002260  0.002800  0.002980  0.002700  0.002740  0.002550  \n",
              "3    0.002350  0.003270  0.002600  0.002550  0.002850  0.002980  0.002900  \n",
              "4    0.004060  0.003510  0.003350  0.003560  0.003150  0.003270  0.003300  \n",
              "..        ...       ...       ...       ...       ...       ...       ...  \n",
              "181  0.005117  0.005399  0.004787  0.004838  0.003683  0.004779  0.004473  \n",
              "182  0.003018  0.004231  0.003419  0.003778  0.003841  0.003821  0.003896  \n",
              "183  0.004253  0.004699  0.004246  0.004309  0.004339  0.004604  0.003757  \n",
              "184  0.004192  0.004079  0.003994  0.004463  0.004276  0.003563  0.004475  \n",
              "185  0.004269  0.003488  0.004765  0.003553  0.004465  0.004308  0.004932  \n",
              "\n",
              "[186 rows x 60 columns]"
            ],
            "text/html": [
              "\n",
              "  <div id=\"df-adb873ba-8de4-4027-aade-67a680cf7663\">\n",
              "    <div class=\"colab-df-container\">\n",
              "      <div>\n",
              "<style scoped>\n",
              "    .dataframe tbody tr th:only-of-type {\n",
              "        vertical-align: middle;\n",
              "    }\n",
              "\n",
              "    .dataframe tbody tr th {\n",
              "        vertical-align: top;\n",
              "    }\n",
              "\n",
              "    .dataframe thead th {\n",
              "        text-align: right;\n",
              "    }\n",
              "</style>\n",
              "<table border=\"1\" class=\"dataframe\">\n",
              "  <thead>\n",
              "    <tr style=\"text-align: right;\">\n",
              "      <th></th>\n",
              "      <th>0</th>\n",
              "      <th>1</th>\n",
              "      <th>2</th>\n",
              "      <th>3</th>\n",
              "      <th>4</th>\n",
              "      <th>5</th>\n",
              "      <th>6</th>\n",
              "      <th>7</th>\n",
              "      <th>8</th>\n",
              "      <th>9</th>\n",
              "      <th>...</th>\n",
              "      <th>50</th>\n",
              "      <th>51</th>\n",
              "      <th>52</th>\n",
              "      <th>53</th>\n",
              "      <th>54</th>\n",
              "      <th>55</th>\n",
              "      <th>56</th>\n",
              "      <th>57</th>\n",
              "      <th>58</th>\n",
              "      <th>59</th>\n",
              "    </tr>\n",
              "  </thead>\n",
              "  <tbody>\n",
              "    <tr>\n",
              "      <th>0</th>\n",
              "      <td>0.003550</td>\n",
              "      <td>0.003120</td>\n",
              "      <td>0.002950</td>\n",
              "      <td>0.003560</td>\n",
              "      <td>0.004060</td>\n",
              "      <td>0.002880</td>\n",
              "      <td>0.003050</td>\n",
              "      <td>0.003360</td>\n",
              "      <td>0.003400</td>\n",
              "      <td>0.003030</td>\n",
              "      <td>...</td>\n",
              "      <td>0.004470</td>\n",
              "      <td>0.003250</td>\n",
              "      <td>0.003360</td>\n",
              "      <td>0.003050</td>\n",
              "      <td>0.003120</td>\n",
              "      <td>0.003000</td>\n",
              "      <td>0.003270</td>\n",
              "      <td>0.002350</td>\n",
              "      <td>0.002880</td>\n",
              "      <td>0.003100</td>\n",
              "    </tr>\n",
              "    <tr>\n",
              "      <th>1</th>\n",
              "      <td>0.009020</td>\n",
              "      <td>0.008510</td>\n",
              "      <td>0.007710</td>\n",
              "      <td>0.008280</td>\n",
              "      <td>0.007360</td>\n",
              "      <td>0.007160</td>\n",
              "      <td>0.007850</td>\n",
              "      <td>0.007930</td>\n",
              "      <td>0.007260</td>\n",
              "      <td>0.009840</td>\n",
              "      <td>...</td>\n",
              "      <td>0.007450</td>\n",
              "      <td>0.006900</td>\n",
              "      <td>0.007010</td>\n",
              "      <td>0.006970</td>\n",
              "      <td>0.006680</td>\n",
              "      <td>0.006970</td>\n",
              "      <td>0.007890</td>\n",
              "      <td>0.007760</td>\n",
              "      <td>0.007060</td>\n",
              "      <td>0.007160</td>\n",
              "    </tr>\n",
              "    <tr>\n",
              "      <th>2</th>\n",
              "      <td>0.002850</td>\n",
              "      <td>0.002840</td>\n",
              "      <td>0.003000</td>\n",
              "      <td>0.002880</td>\n",
              "      <td>0.003100</td>\n",
              "      <td>0.002640</td>\n",
              "      <td>0.002900</td>\n",
              "      <td>0.002550</td>\n",
              "      <td>0.002150</td>\n",
              "      <td>0.002310</td>\n",
              "      <td>...</td>\n",
              "      <td>0.002840</td>\n",
              "      <td>0.002750</td>\n",
              "      <td>0.002550</td>\n",
              "      <td>0.003000</td>\n",
              "      <td>0.002260</td>\n",
              "      <td>0.002800</td>\n",
              "      <td>0.002980</td>\n",
              "      <td>0.002700</td>\n",
              "      <td>0.002740</td>\n",
              "      <td>0.002550</td>\n",
              "    </tr>\n",
              "    <tr>\n",
              "      <th>3</th>\n",
              "      <td>0.002650</td>\n",
              "      <td>0.003030</td>\n",
              "      <td>0.002950</td>\n",
              "      <td>0.003360</td>\n",
              "      <td>0.002850</td>\n",
              "      <td>0.003030</td>\n",
              "      <td>0.003100</td>\n",
              "      <td>0.002690</td>\n",
              "      <td>0.002050</td>\n",
              "      <td>0.003460</td>\n",
              "      <td>...</td>\n",
              "      <td>0.002550</td>\n",
              "      <td>0.003100</td>\n",
              "      <td>0.003600</td>\n",
              "      <td>0.002350</td>\n",
              "      <td>0.003270</td>\n",
              "      <td>0.002600</td>\n",
              "      <td>0.002550</td>\n",
              "      <td>0.002850</td>\n",
              "      <td>0.002980</td>\n",
              "      <td>0.002900</td>\n",
              "    </tr>\n",
              "    <tr>\n",
              "      <th>4</th>\n",
              "      <td>0.003450</td>\n",
              "      <td>0.003080</td>\n",
              "      <td>0.004110</td>\n",
              "      <td>0.003460</td>\n",
              "      <td>0.003500</td>\n",
              "      <td>0.003750</td>\n",
              "      <td>0.003550</td>\n",
              "      <td>0.003600</td>\n",
              "      <td>0.003350</td>\n",
              "      <td>0.003510</td>\n",
              "      <td>...</td>\n",
              "      <td>0.003410</td>\n",
              "      <td>0.003550</td>\n",
              "      <td>0.003890</td>\n",
              "      <td>0.004060</td>\n",
              "      <td>0.003510</td>\n",
              "      <td>0.003350</td>\n",
              "      <td>0.003560</td>\n",
              "      <td>0.003150</td>\n",
              "      <td>0.003270</td>\n",
              "      <td>0.003300</td>\n",
              "    </tr>\n",
              "    <tr>\n",
              "      <th>...</th>\n",
              "      <td>...</td>\n",
              "      <td>...</td>\n",
              "      <td>...</td>\n",
              "      <td>...</td>\n",
              "      <td>...</td>\n",
              "      <td>...</td>\n",
              "      <td>...</td>\n",
              "      <td>...</td>\n",
              "      <td>...</td>\n",
              "      <td>...</td>\n",
              "      <td>...</td>\n",
              "      <td>...</td>\n",
              "      <td>...</td>\n",
              "      <td>...</td>\n",
              "      <td>...</td>\n",
              "      <td>...</td>\n",
              "      <td>...</td>\n",
              "      <td>...</td>\n",
              "      <td>...</td>\n",
              "      <td>...</td>\n",
              "      <td>...</td>\n",
              "    </tr>\n",
              "    <tr>\n",
              "      <th>181</th>\n",
              "      <td>0.004777</td>\n",
              "      <td>0.003730</td>\n",
              "      <td>0.004390</td>\n",
              "      <td>0.004596</td>\n",
              "      <td>0.004651</td>\n",
              "      <td>0.003469</td>\n",
              "      <td>0.005081</td>\n",
              "      <td>0.004512</td>\n",
              "      <td>0.004038</td>\n",
              "      <td>0.004814</td>\n",
              "      <td>...</td>\n",
              "      <td>0.004950</td>\n",
              "      <td>0.004202</td>\n",
              "      <td>0.003901</td>\n",
              "      <td>0.005117</td>\n",
              "      <td>0.005399</td>\n",
              "      <td>0.004787</td>\n",
              "      <td>0.004838</td>\n",
              "      <td>0.003683</td>\n",
              "      <td>0.004779</td>\n",
              "      <td>0.004473</td>\n",
              "    </tr>\n",
              "    <tr>\n",
              "      <th>182</th>\n",
              "      <td>0.003691</td>\n",
              "      <td>0.002962</td>\n",
              "      <td>0.004136</td>\n",
              "      <td>0.003639</td>\n",
              "      <td>0.003678</td>\n",
              "      <td>0.003503</td>\n",
              "      <td>0.002713</td>\n",
              "      <td>0.003530</td>\n",
              "      <td>0.003838</td>\n",
              "      <td>0.003255</td>\n",
              "      <td>...</td>\n",
              "      <td>0.003463</td>\n",
              "      <td>0.004326</td>\n",
              "      <td>0.003965</td>\n",
              "      <td>0.003018</td>\n",
              "      <td>0.004231</td>\n",
              "      <td>0.003419</td>\n",
              "      <td>0.003778</td>\n",
              "      <td>0.003841</td>\n",
              "      <td>0.003821</td>\n",
              "      <td>0.003896</td>\n",
              "    </tr>\n",
              "    <tr>\n",
              "      <th>183</th>\n",
              "      <td>0.004853</td>\n",
              "      <td>0.004463</td>\n",
              "      <td>0.005442</td>\n",
              "      <td>0.004668</td>\n",
              "      <td>0.004394</td>\n",
              "      <td>0.004996</td>\n",
              "      <td>0.005071</td>\n",
              "      <td>0.004516</td>\n",
              "      <td>0.004460</td>\n",
              "      <td>0.004776</td>\n",
              "      <td>...</td>\n",
              "      <td>0.004119</td>\n",
              "      <td>0.004790</td>\n",
              "      <td>0.004537</td>\n",
              "      <td>0.004253</td>\n",
              "      <td>0.004699</td>\n",
              "      <td>0.004246</td>\n",
              "      <td>0.004309</td>\n",
              "      <td>0.004339</td>\n",
              "      <td>0.004604</td>\n",
              "      <td>0.003757</td>\n",
              "    </tr>\n",
              "    <tr>\n",
              "      <th>184</th>\n",
              "      <td>0.003695</td>\n",
              "      <td>0.003887</td>\n",
              "      <td>0.004923</td>\n",
              "      <td>0.004374</td>\n",
              "      <td>0.004114</td>\n",
              "      <td>0.004055</td>\n",
              "      <td>0.003611</td>\n",
              "      <td>0.005281</td>\n",
              "      <td>0.004614</td>\n",
              "      <td>0.004308</td>\n",
              "      <td>...</td>\n",
              "      <td>0.004079</td>\n",
              "      <td>0.004571</td>\n",
              "      <td>0.003808</td>\n",
              "      <td>0.004192</td>\n",
              "      <td>0.004079</td>\n",
              "      <td>0.003994</td>\n",
              "      <td>0.004463</td>\n",
              "      <td>0.004276</td>\n",
              "      <td>0.003563</td>\n",
              "      <td>0.004475</td>\n",
              "    </tr>\n",
              "    <tr>\n",
              "      <th>185</th>\n",
              "      <td>0.004173</td>\n",
              "      <td>0.003714</td>\n",
              "      <td>0.003868</td>\n",
              "      <td>0.003973</td>\n",
              "      <td>0.003904</td>\n",
              "      <td>0.004256</td>\n",
              "      <td>0.004138</td>\n",
              "      <td>0.004470</td>\n",
              "      <td>0.004664</td>\n",
              "      <td>0.004273</td>\n",
              "      <td>...</td>\n",
              "      <td>0.003502</td>\n",
              "      <td>0.003721</td>\n",
              "      <td>0.004371</td>\n",
              "      <td>0.004269</td>\n",
              "      <td>0.003488</td>\n",
              "      <td>0.004765</td>\n",
              "      <td>0.003553</td>\n",
              "      <td>0.004465</td>\n",
              "      <td>0.004308</td>\n",
              "      <td>0.004932</td>\n",
              "    </tr>\n",
              "  </tbody>\n",
              "</table>\n",
              "<p>186 rows × 60 columns</p>\n",
              "</div>\n",
              "      <button class=\"colab-df-convert\" onclick=\"convertToInteractive('df-adb873ba-8de4-4027-aade-67a680cf7663')\"\n",
              "              title=\"Convert this dataframe to an interactive table.\"\n",
              "              style=\"display:none;\">\n",
              "        \n",
              "  <svg xmlns=\"http://www.w3.org/2000/svg\" height=\"24px\"viewBox=\"0 0 24 24\"\n",
              "       width=\"24px\">\n",
              "    <path d=\"M0 0h24v24H0V0z\" fill=\"none\"/>\n",
              "    <path d=\"M18.56 5.44l.94 2.06.94-2.06 2.06-.94-2.06-.94-.94-2.06-.94 2.06-2.06.94zm-11 1L8.5 8.5l.94-2.06 2.06-.94-2.06-.94L8.5 2.5l-.94 2.06-2.06.94zm10 10l.94 2.06.94-2.06 2.06-.94-2.06-.94-.94-2.06-.94 2.06-2.06.94z\"/><path d=\"M17.41 7.96l-1.37-1.37c-.4-.4-.92-.59-1.43-.59-.52 0-1.04.2-1.43.59L10.3 9.45l-7.72 7.72c-.78.78-.78 2.05 0 2.83L4 21.41c.39.39.9.59 1.41.59.51 0 1.02-.2 1.41-.59l7.78-7.78 2.81-2.81c.8-.78.8-2.07 0-2.86zM5.41 20L4 18.59l7.72-7.72 1.47 1.35L5.41 20z\"/>\n",
              "  </svg>\n",
              "      </button>\n",
              "      \n",
              "  <style>\n",
              "    .colab-df-container {\n",
              "      display:flex;\n",
              "      flex-wrap:wrap;\n",
              "      gap: 12px;\n",
              "    }\n",
              "\n",
              "    .colab-df-convert {\n",
              "      background-color: #E8F0FE;\n",
              "      border: none;\n",
              "      border-radius: 50%;\n",
              "      cursor: pointer;\n",
              "      display: none;\n",
              "      fill: #1967D2;\n",
              "      height: 32px;\n",
              "      padding: 0 0 0 0;\n",
              "      width: 32px;\n",
              "    }\n",
              "\n",
              "    .colab-df-convert:hover {\n",
              "      background-color: #E2EBFA;\n",
              "      box-shadow: 0px 1px 2px rgba(60, 64, 67, 0.3), 0px 1px 3px 1px rgba(60, 64, 67, 0.15);\n",
              "      fill: #174EA6;\n",
              "    }\n",
              "\n",
              "    [theme=dark] .colab-df-convert {\n",
              "      background-color: #3B4455;\n",
              "      fill: #D2E3FC;\n",
              "    }\n",
              "\n",
              "    [theme=dark] .colab-df-convert:hover {\n",
              "      background-color: #434B5C;\n",
              "      box-shadow: 0px 1px 3px 1px rgba(0, 0, 0, 0.15);\n",
              "      filter: drop-shadow(0px 1px 2px rgba(0, 0, 0, 0.3));\n",
              "      fill: #FFFFFF;\n",
              "    }\n",
              "  </style>\n",
              "\n",
              "      <script>\n",
              "        const buttonEl =\n",
              "          document.querySelector('#df-adb873ba-8de4-4027-aade-67a680cf7663 button.colab-df-convert');\n",
              "        buttonEl.style.display =\n",
              "          google.colab.kernel.accessAllowed ? 'block' : 'none';\n",
              "\n",
              "        async function convertToInteractive(key) {\n",
              "          const element = document.querySelector('#df-adb873ba-8de4-4027-aade-67a680cf7663');\n",
              "          const dataTable =\n",
              "            await google.colab.kernel.invokeFunction('convertToInteractive',\n",
              "                                                     [key], {});\n",
              "          if (!dataTable) return;\n",
              "\n",
              "          const docLinkHtml = 'Like what you see? Visit the ' +\n",
              "            '<a target=\"_blank\" href=https://colab.research.google.com/notebooks/data_table.ipynb>data table notebook</a>'\n",
              "            + ' to learn more about interactive tables.';\n",
              "          element.innerHTML = '';\n",
              "          dataTable['output_type'] = 'display_data';\n",
              "          await google.colab.output.renderOutput(dataTable, element);\n",
              "          const docLink = document.createElement('div');\n",
              "          docLink.innerHTML = docLinkHtml;\n",
              "          element.appendChild(docLink);\n",
              "        }\n",
              "      </script>\n",
              "    </div>\n",
              "  </div>\n",
              "  "
            ]
          },
          "metadata": {},
          "execution_count": 32
        }
      ],
      "source": [
        "SEP_df_156"
      ]
    },
    {
      "cell_type": "code",
      "execution_count": null,
      "metadata": {
        "id": "HAaYi5A6C3Mq",
        "colab": {
          "base_uri": "https://localhost:8080/"
        },
        "outputId": "01e41e35-3fda-43ac-f991-be2df326cd48"
      },
      "outputs": [
        {
          "output_type": "stream",
          "name": "stderr",
          "text": [
            "<ipython-input-33-a22e70375fbb>:1: FutureWarning: The frame.append method is deprecated and will be removed from pandas in a future version. Use pandas.concat instead.\n",
            "  data = SEP_df_156.append(NSEP_df_156) # append the two SEP and NSEP dataframes\n"
          ]
        }
      ],
      "source": [
        "data = SEP_df_156.append(NSEP_df_156) # append the two SEP and NSEP dataframes"
      ]
    },
    {
      "cell_type": "code",
      "execution_count": null,
      "metadata": {
        "id": "Byl7Fh9qC3Mq"
      },
      "outputs": [],
      "source": [
        "data = data.reset_index(drop = True)"
      ]
    },
    {
      "cell_type": "code",
      "execution_count": null,
      "metadata": {
        "id": "_vandxCBC3Mr"
      },
      "outputs": [],
      "source": [
        "NSEP_start_index = len(SEP_df_156) + 1"
      ]
    },
    {
      "cell_type": "code",
      "execution_count": null,
      "metadata": {
        "colab": {
          "base_uri": "https://localhost:8080/",
          "height": 488
        },
        "id": "qMfg-2kWC3Ms",
        "outputId": "573f6e71-8254-4a79-93ac-d8280eb76ce2"
      },
      "outputs": [
        {
          "output_type": "execute_result",
          "data": {
            "text/plain": [
              "           0        1        2        3        4        5        6        7  \\\n",
              "0    0.00355  0.00312  0.00295  0.00356  0.00406  0.00288  0.00305  0.00336   \n",
              "1    0.00902  0.00851  0.00771  0.00828  0.00736  0.00716  0.00785  0.00793   \n",
              "2    0.00285  0.00284  0.00300  0.00288  0.00310  0.00264  0.00290  0.00255   \n",
              "3    0.00265  0.00303  0.00295  0.00336  0.00285  0.00303  0.00310  0.00269   \n",
              "4    0.00345  0.00308  0.00411  0.00346  0.00350  0.00375  0.00355  0.00360   \n",
              "..       ...      ...      ...      ...      ...      ...      ...      ...   \n",
              "367  0.00154  0.00210  0.00192  0.00220  0.00211  0.00195  0.00231  0.00185   \n",
              "368  0.00192  0.00200  0.00173  0.00215  0.00178  0.00205  0.00255  0.00195   \n",
              "369  0.00195  0.00192  0.00160  0.00202  0.00170  0.00197  0.00170  0.00231   \n",
              "370  0.00250  0.00185  0.00240  0.00265  0.00211  0.00195  0.00163  0.00226   \n",
              "371  0.00215  0.00231  0.00170  0.00154  0.00180  0.00221  0.00180  0.00168   \n",
              "\n",
              "           8        9  ...       51       52       53       54       55  \\\n",
              "0    0.00340  0.00303  ...  0.00325  0.00336  0.00305  0.00312  0.00300   \n",
              "1    0.00726  0.00984  ...  0.00690  0.00701  0.00697  0.00668  0.00697   \n",
              "2    0.00215  0.00231  ...  0.00275  0.00255  0.00300  0.00226  0.00280   \n",
              "3    0.00205  0.00346  ...  0.00310  0.00360  0.00235  0.00327  0.00260   \n",
              "4    0.00335  0.00351  ...  0.00355  0.00389  0.00406  0.00351  0.00335   \n",
              "..       ...      ...  ...      ...      ...      ...      ...      ...   \n",
              "367  0.00192  0.00216  ...  0.00178  0.00185  0.00197  0.00250  0.00274   \n",
              "368  0.00149  0.00215  ...  0.00221  0.00155  0.00226  0.00245  0.00216   \n",
              "369  0.00265  0.00183  ...  0.00160  0.00168  0.00235  0.00216  0.00205   \n",
              "370  0.00170  0.00235  ...  0.00173  0.00260  0.00192  0.00260  0.00207   \n",
              "371  0.00250  0.00139  ...  0.00235  0.00216  0.00195  0.00264  0.00245   \n",
              "\n",
              "          56       57       58       59  event  \n",
              "0    0.00327  0.00235  0.00288  0.00310    SEP  \n",
              "1    0.00789  0.00776  0.00706  0.00716    SEP  \n",
              "2    0.00298  0.00270  0.00274  0.00255    SEP  \n",
              "3    0.00255  0.00285  0.00298  0.00290    SEP  \n",
              "4    0.00356  0.00315  0.00327  0.00330    SEP  \n",
              "..       ...      ...      ...      ...    ...  \n",
              "367  0.00210  0.00183  0.00202  0.00230   NSEP  \n",
              "368  0.00220  0.00187  0.00220  0.00183   NSEP  \n",
              "369  0.00221  0.00185  0.00231  0.00185   NSEP  \n",
              "370  0.00197  0.00210  0.00226  0.00265   NSEP  \n",
              "371  0.00284  0.00260  0.00250  0.00275   NSEP  \n",
              "\n",
              "[372 rows x 61 columns]"
            ],
            "text/html": [
              "\n",
              "  <div id=\"df-c8978c60-7c32-4bb7-b2f7-5d47f6dcb3cd\">\n",
              "    <div class=\"colab-df-container\">\n",
              "      <div>\n",
              "<style scoped>\n",
              "    .dataframe tbody tr th:only-of-type {\n",
              "        vertical-align: middle;\n",
              "    }\n",
              "\n",
              "    .dataframe tbody tr th {\n",
              "        vertical-align: top;\n",
              "    }\n",
              "\n",
              "    .dataframe thead th {\n",
              "        text-align: right;\n",
              "    }\n",
              "</style>\n",
              "<table border=\"1\" class=\"dataframe\">\n",
              "  <thead>\n",
              "    <tr style=\"text-align: right;\">\n",
              "      <th></th>\n",
              "      <th>0</th>\n",
              "      <th>1</th>\n",
              "      <th>2</th>\n",
              "      <th>3</th>\n",
              "      <th>4</th>\n",
              "      <th>5</th>\n",
              "      <th>6</th>\n",
              "      <th>7</th>\n",
              "      <th>8</th>\n",
              "      <th>9</th>\n",
              "      <th>...</th>\n",
              "      <th>51</th>\n",
              "      <th>52</th>\n",
              "      <th>53</th>\n",
              "      <th>54</th>\n",
              "      <th>55</th>\n",
              "      <th>56</th>\n",
              "      <th>57</th>\n",
              "      <th>58</th>\n",
              "      <th>59</th>\n",
              "      <th>event</th>\n",
              "    </tr>\n",
              "  </thead>\n",
              "  <tbody>\n",
              "    <tr>\n",
              "      <th>0</th>\n",
              "      <td>0.00355</td>\n",
              "      <td>0.00312</td>\n",
              "      <td>0.00295</td>\n",
              "      <td>0.00356</td>\n",
              "      <td>0.00406</td>\n",
              "      <td>0.00288</td>\n",
              "      <td>0.00305</td>\n",
              "      <td>0.00336</td>\n",
              "      <td>0.00340</td>\n",
              "      <td>0.00303</td>\n",
              "      <td>...</td>\n",
              "      <td>0.00325</td>\n",
              "      <td>0.00336</td>\n",
              "      <td>0.00305</td>\n",
              "      <td>0.00312</td>\n",
              "      <td>0.00300</td>\n",
              "      <td>0.00327</td>\n",
              "      <td>0.00235</td>\n",
              "      <td>0.00288</td>\n",
              "      <td>0.00310</td>\n",
              "      <td>SEP</td>\n",
              "    </tr>\n",
              "    <tr>\n",
              "      <th>1</th>\n",
              "      <td>0.00902</td>\n",
              "      <td>0.00851</td>\n",
              "      <td>0.00771</td>\n",
              "      <td>0.00828</td>\n",
              "      <td>0.00736</td>\n",
              "      <td>0.00716</td>\n",
              "      <td>0.00785</td>\n",
              "      <td>0.00793</td>\n",
              "      <td>0.00726</td>\n",
              "      <td>0.00984</td>\n",
              "      <td>...</td>\n",
              "      <td>0.00690</td>\n",
              "      <td>0.00701</td>\n",
              "      <td>0.00697</td>\n",
              "      <td>0.00668</td>\n",
              "      <td>0.00697</td>\n",
              "      <td>0.00789</td>\n",
              "      <td>0.00776</td>\n",
              "      <td>0.00706</td>\n",
              "      <td>0.00716</td>\n",
              "      <td>SEP</td>\n",
              "    </tr>\n",
              "    <tr>\n",
              "      <th>2</th>\n",
              "      <td>0.00285</td>\n",
              "      <td>0.00284</td>\n",
              "      <td>0.00300</td>\n",
              "      <td>0.00288</td>\n",
              "      <td>0.00310</td>\n",
              "      <td>0.00264</td>\n",
              "      <td>0.00290</td>\n",
              "      <td>0.00255</td>\n",
              "      <td>0.00215</td>\n",
              "      <td>0.00231</td>\n",
              "      <td>...</td>\n",
              "      <td>0.00275</td>\n",
              "      <td>0.00255</td>\n",
              "      <td>0.00300</td>\n",
              "      <td>0.00226</td>\n",
              "      <td>0.00280</td>\n",
              "      <td>0.00298</td>\n",
              "      <td>0.00270</td>\n",
              "      <td>0.00274</td>\n",
              "      <td>0.00255</td>\n",
              "      <td>SEP</td>\n",
              "    </tr>\n",
              "    <tr>\n",
              "      <th>3</th>\n",
              "      <td>0.00265</td>\n",
              "      <td>0.00303</td>\n",
              "      <td>0.00295</td>\n",
              "      <td>0.00336</td>\n",
              "      <td>0.00285</td>\n",
              "      <td>0.00303</td>\n",
              "      <td>0.00310</td>\n",
              "      <td>0.00269</td>\n",
              "      <td>0.00205</td>\n",
              "      <td>0.00346</td>\n",
              "      <td>...</td>\n",
              "      <td>0.00310</td>\n",
              "      <td>0.00360</td>\n",
              "      <td>0.00235</td>\n",
              "      <td>0.00327</td>\n",
              "      <td>0.00260</td>\n",
              "      <td>0.00255</td>\n",
              "      <td>0.00285</td>\n",
              "      <td>0.00298</td>\n",
              "      <td>0.00290</td>\n",
              "      <td>SEP</td>\n",
              "    </tr>\n",
              "    <tr>\n",
              "      <th>4</th>\n",
              "      <td>0.00345</td>\n",
              "      <td>0.00308</td>\n",
              "      <td>0.00411</td>\n",
              "      <td>0.00346</td>\n",
              "      <td>0.00350</td>\n",
              "      <td>0.00375</td>\n",
              "      <td>0.00355</td>\n",
              "      <td>0.00360</td>\n",
              "      <td>0.00335</td>\n",
              "      <td>0.00351</td>\n",
              "      <td>...</td>\n",
              "      <td>0.00355</td>\n",
              "      <td>0.00389</td>\n",
              "      <td>0.00406</td>\n",
              "      <td>0.00351</td>\n",
              "      <td>0.00335</td>\n",
              "      <td>0.00356</td>\n",
              "      <td>0.00315</td>\n",
              "      <td>0.00327</td>\n",
              "      <td>0.00330</td>\n",
              "      <td>SEP</td>\n",
              "    </tr>\n",
              "    <tr>\n",
              "      <th>...</th>\n",
              "      <td>...</td>\n",
              "      <td>...</td>\n",
              "      <td>...</td>\n",
              "      <td>...</td>\n",
              "      <td>...</td>\n",
              "      <td>...</td>\n",
              "      <td>...</td>\n",
              "      <td>...</td>\n",
              "      <td>...</td>\n",
              "      <td>...</td>\n",
              "      <td>...</td>\n",
              "      <td>...</td>\n",
              "      <td>...</td>\n",
              "      <td>...</td>\n",
              "      <td>...</td>\n",
              "      <td>...</td>\n",
              "      <td>...</td>\n",
              "      <td>...</td>\n",
              "      <td>...</td>\n",
              "      <td>...</td>\n",
              "      <td>...</td>\n",
              "    </tr>\n",
              "    <tr>\n",
              "      <th>367</th>\n",
              "      <td>0.00154</td>\n",
              "      <td>0.00210</td>\n",
              "      <td>0.00192</td>\n",
              "      <td>0.00220</td>\n",
              "      <td>0.00211</td>\n",
              "      <td>0.00195</td>\n",
              "      <td>0.00231</td>\n",
              "      <td>0.00185</td>\n",
              "      <td>0.00192</td>\n",
              "      <td>0.00216</td>\n",
              "      <td>...</td>\n",
              "      <td>0.00178</td>\n",
              "      <td>0.00185</td>\n",
              "      <td>0.00197</td>\n",
              "      <td>0.00250</td>\n",
              "      <td>0.00274</td>\n",
              "      <td>0.00210</td>\n",
              "      <td>0.00183</td>\n",
              "      <td>0.00202</td>\n",
              "      <td>0.00230</td>\n",
              "      <td>NSEP</td>\n",
              "    </tr>\n",
              "    <tr>\n",
              "      <th>368</th>\n",
              "      <td>0.00192</td>\n",
              "      <td>0.00200</td>\n",
              "      <td>0.00173</td>\n",
              "      <td>0.00215</td>\n",
              "      <td>0.00178</td>\n",
              "      <td>0.00205</td>\n",
              "      <td>0.00255</td>\n",
              "      <td>0.00195</td>\n",
              "      <td>0.00149</td>\n",
              "      <td>0.00215</td>\n",
              "      <td>...</td>\n",
              "      <td>0.00221</td>\n",
              "      <td>0.00155</td>\n",
              "      <td>0.00226</td>\n",
              "      <td>0.00245</td>\n",
              "      <td>0.00216</td>\n",
              "      <td>0.00220</td>\n",
              "      <td>0.00187</td>\n",
              "      <td>0.00220</td>\n",
              "      <td>0.00183</td>\n",
              "      <td>NSEP</td>\n",
              "    </tr>\n",
              "    <tr>\n",
              "      <th>369</th>\n",
              "      <td>0.00195</td>\n",
              "      <td>0.00192</td>\n",
              "      <td>0.00160</td>\n",
              "      <td>0.00202</td>\n",
              "      <td>0.00170</td>\n",
              "      <td>0.00197</td>\n",
              "      <td>0.00170</td>\n",
              "      <td>0.00231</td>\n",
              "      <td>0.00265</td>\n",
              "      <td>0.00183</td>\n",
              "      <td>...</td>\n",
              "      <td>0.00160</td>\n",
              "      <td>0.00168</td>\n",
              "      <td>0.00235</td>\n",
              "      <td>0.00216</td>\n",
              "      <td>0.00205</td>\n",
              "      <td>0.00221</td>\n",
              "      <td>0.00185</td>\n",
              "      <td>0.00231</td>\n",
              "      <td>0.00185</td>\n",
              "      <td>NSEP</td>\n",
              "    </tr>\n",
              "    <tr>\n",
              "      <th>370</th>\n",
              "      <td>0.00250</td>\n",
              "      <td>0.00185</td>\n",
              "      <td>0.00240</td>\n",
              "      <td>0.00265</td>\n",
              "      <td>0.00211</td>\n",
              "      <td>0.00195</td>\n",
              "      <td>0.00163</td>\n",
              "      <td>0.00226</td>\n",
              "      <td>0.00170</td>\n",
              "      <td>0.00235</td>\n",
              "      <td>...</td>\n",
              "      <td>0.00173</td>\n",
              "      <td>0.00260</td>\n",
              "      <td>0.00192</td>\n",
              "      <td>0.00260</td>\n",
              "      <td>0.00207</td>\n",
              "      <td>0.00197</td>\n",
              "      <td>0.00210</td>\n",
              "      <td>0.00226</td>\n",
              "      <td>0.00265</td>\n",
              "      <td>NSEP</td>\n",
              "    </tr>\n",
              "    <tr>\n",
              "      <th>371</th>\n",
              "      <td>0.00215</td>\n",
              "      <td>0.00231</td>\n",
              "      <td>0.00170</td>\n",
              "      <td>0.00154</td>\n",
              "      <td>0.00180</td>\n",
              "      <td>0.00221</td>\n",
              "      <td>0.00180</td>\n",
              "      <td>0.00168</td>\n",
              "      <td>0.00250</td>\n",
              "      <td>0.00139</td>\n",
              "      <td>...</td>\n",
              "      <td>0.00235</td>\n",
              "      <td>0.00216</td>\n",
              "      <td>0.00195</td>\n",
              "      <td>0.00264</td>\n",
              "      <td>0.00245</td>\n",
              "      <td>0.00284</td>\n",
              "      <td>0.00260</td>\n",
              "      <td>0.00250</td>\n",
              "      <td>0.00275</td>\n",
              "      <td>NSEP</td>\n",
              "    </tr>\n",
              "  </tbody>\n",
              "</table>\n",
              "<p>372 rows × 61 columns</p>\n",
              "</div>\n",
              "      <button class=\"colab-df-convert\" onclick=\"convertToInteractive('df-c8978c60-7c32-4bb7-b2f7-5d47f6dcb3cd')\"\n",
              "              title=\"Convert this dataframe to an interactive table.\"\n",
              "              style=\"display:none;\">\n",
              "        \n",
              "  <svg xmlns=\"http://www.w3.org/2000/svg\" height=\"24px\"viewBox=\"0 0 24 24\"\n",
              "       width=\"24px\">\n",
              "    <path d=\"M0 0h24v24H0V0z\" fill=\"none\"/>\n",
              "    <path d=\"M18.56 5.44l.94 2.06.94-2.06 2.06-.94-2.06-.94-.94-2.06-.94 2.06-2.06.94zm-11 1L8.5 8.5l.94-2.06 2.06-.94-2.06-.94L8.5 2.5l-.94 2.06-2.06.94zm10 10l.94 2.06.94-2.06 2.06-.94-2.06-.94-.94-2.06-.94 2.06-2.06.94z\"/><path d=\"M17.41 7.96l-1.37-1.37c-.4-.4-.92-.59-1.43-.59-.52 0-1.04.2-1.43.59L10.3 9.45l-7.72 7.72c-.78.78-.78 2.05 0 2.83L4 21.41c.39.39.9.59 1.41.59.51 0 1.02-.2 1.41-.59l7.78-7.78 2.81-2.81c.8-.78.8-2.07 0-2.86zM5.41 20L4 18.59l7.72-7.72 1.47 1.35L5.41 20z\"/>\n",
              "  </svg>\n",
              "      </button>\n",
              "      \n",
              "  <style>\n",
              "    .colab-df-container {\n",
              "      display:flex;\n",
              "      flex-wrap:wrap;\n",
              "      gap: 12px;\n",
              "    }\n",
              "\n",
              "    .colab-df-convert {\n",
              "      background-color: #E8F0FE;\n",
              "      border: none;\n",
              "      border-radius: 50%;\n",
              "      cursor: pointer;\n",
              "      display: none;\n",
              "      fill: #1967D2;\n",
              "      height: 32px;\n",
              "      padding: 0 0 0 0;\n",
              "      width: 32px;\n",
              "    }\n",
              "\n",
              "    .colab-df-convert:hover {\n",
              "      background-color: #E2EBFA;\n",
              "      box-shadow: 0px 1px 2px rgba(60, 64, 67, 0.3), 0px 1px 3px 1px rgba(60, 64, 67, 0.15);\n",
              "      fill: #174EA6;\n",
              "    }\n",
              "\n",
              "    [theme=dark] .colab-df-convert {\n",
              "      background-color: #3B4455;\n",
              "      fill: #D2E3FC;\n",
              "    }\n",
              "\n",
              "    [theme=dark] .colab-df-convert:hover {\n",
              "      background-color: #434B5C;\n",
              "      box-shadow: 0px 1px 3px 1px rgba(0, 0, 0, 0.15);\n",
              "      filter: drop-shadow(0px 1px 2px rgba(0, 0, 0, 0.3));\n",
              "      fill: #FFFFFF;\n",
              "    }\n",
              "  </style>\n",
              "\n",
              "      <script>\n",
              "        const buttonEl =\n",
              "          document.querySelector('#df-c8978c60-7c32-4bb7-b2f7-5d47f6dcb3cd button.colab-df-convert');\n",
              "        buttonEl.style.display =\n",
              "          google.colab.kernel.accessAllowed ? 'block' : 'none';\n",
              "\n",
              "        async function convertToInteractive(key) {\n",
              "          const element = document.querySelector('#df-c8978c60-7c32-4bb7-b2f7-5d47f6dcb3cd');\n",
              "          const dataTable =\n",
              "            await google.colab.kernel.invokeFunction('convertToInteractive',\n",
              "                                                     [key], {});\n",
              "          if (!dataTable) return;\n",
              "\n",
              "          const docLinkHtml = 'Like what you see? Visit the ' +\n",
              "            '<a target=\"_blank\" href=https://colab.research.google.com/notebooks/data_table.ipynb>data table notebook</a>'\n",
              "            + ' to learn more about interactive tables.';\n",
              "          element.innerHTML = '';\n",
              "          dataTable['output_type'] = 'display_data';\n",
              "          await google.colab.output.renderOutput(dataTable, element);\n",
              "          const docLink = document.createElement('div');\n",
              "          docLink.innerHTML = docLinkHtml;\n",
              "          element.appendChild(docLink);\n",
              "        }\n",
              "      </script>\n",
              "    </div>\n",
              "  </div>\n",
              "  "
            ]
          },
          "metadata": {},
          "execution_count": 36
        }
      ],
      "source": [
        "data['event'] = 'SEP'\n",
        "data.loc[NSEP_start_index:,['event']] = 'NSEP'\n",
        "my_data_all = data\n",
        "my_data_all"
      ]
    },
    {
      "cell_type": "code",
      "execution_count": null,
      "metadata": {
        "id": "_2uBWA-uxPZi"
      },
      "outputs": [],
      "source": [
        "# output_B = my_data_all.copy()\n",
        "# output_B.to_csv('/content/DATA_B.csv', index=False)"
      ]
    },
    {
      "cell_type": "code",
      "execution_count": null,
      "metadata": {
        "id": "Ll80xqj9-r6F"
      },
      "outputs": [],
      "source": []
    },
    {
      "cell_type": "code",
      "execution_count": null,
      "metadata": {
        "id": "MirPxq-C-eet"
      },
      "outputs": [],
      "source": []
    },
    {
      "cell_type": "code",
      "execution_count": null,
      "metadata": {
        "id": "oh32H_Qq09uf"
      },
      "outputs": [],
      "source": [
        "from sklearn.model_selection import StratifiedKFold\n",
        "\n",
        "\n",
        "\n",
        "y = my_data_all.pop('event')\n",
        "X = my_data_all"
      ]
    },
    {
      "cell_type": "code",
      "execution_count": null,
      "metadata": {
        "id": "CN8mxtO6HMuM"
      },
      "outputs": [],
      "source": [
        "# # transform the dataset\n",
        "# from imblearn.over_sampling import SMOTE\n",
        "# oversample = SMOTE(random_state = 42)\n",
        "# X, y = oversample.fit_resample(X, y)"
      ]
    },
    {
      "cell_type": "code",
      "execution_count": null,
      "metadata": {
        "id": "ArFf6MFQaBuA"
      },
      "outputs": [],
      "source": [
        "# SEP_train_index = y_train.where(y_train=='SEP').dropna().index\n"
      ]
    },
    {
      "cell_type": "code",
      "execution_count": null,
      "metadata": {
        "id": "UFZEgeDfZuGm"
      },
      "outputs": [],
      "source": [
        "# X.iloc[SEP_train_index]"
      ]
    },
    {
      "cell_type": "code",
      "execution_count": null,
      "metadata": {
        "id": "BpZhs7ojgeGC"
      },
      "outputs": [],
      "source": [
        "# y_train.iloc[76]"
      ]
    },
    {
      "cell_type": "code",
      "execution_count": null,
      "metadata": {
        "id": "8syhwxP4gbtN"
      },
      "outputs": [],
      "source": [
        "# SEP_train_index"
      ]
    },
    {
      "cell_type": "code",
      "execution_count": null,
      "metadata": {
        "id": "hfmlGjQYhHjb"
      },
      "outputs": [],
      "source": [
        "# test_index"
      ]
    },
    {
      "cell_type": "code",
      "execution_count": null,
      "metadata": {
        "id": "7pqufNVzicL2"
      },
      "outputs": [],
      "source": [
        "# X_train.iloc[SEP_train_index]"
      ]
    },
    {
      "cell_type": "code",
      "execution_count": null,
      "metadata": {
        "id": "g8xYAK7F_ScA"
      },
      "outputs": [],
      "source": [
        "box_accuracy_B_TSF = []\n",
        "box_accuracyBalanced_B_TSF = []\n",
        "box_f1_B_TSF = []\n",
        "\n",
        "box_accuracy_B_ROCKET = []\n",
        "box_accuracyBalanced_B_ROCKET = []\n",
        "box_f1_B_ROCKET = []\n",
        "\n",
        "box_accuracy_B_SHAPELET = []\n",
        "box_accuracyBalanced_B_SHAPELET = []\n",
        "box_f1_B_SHAPELET = []\n",
        "\n",
        "# random_state_values = [0, 2, 10, 30, 42]\n",
        "random_state_values = [42]\n",
        "for p in random_state_values:\n",
        "\n",
        "  skf = StratifiedKFold(n_splits=10, shuffle=True, random_state=42)\n",
        "\n",
        "  lst_accu_stratified_B_TSF = []\n",
        "  lst_accuBalanced_stratified_B_TSF = []\n",
        "  lst_f1_stratified_B_TSF = []\n",
        "\n",
        "  lst_accu_stratified_B_ROCKET = []\n",
        "  lst_accuBalanced_stratified_B_ROCKET = []\n",
        "  lst_f1_stratified_B_ROCKET = []\n",
        "\n",
        "  lst_accu_stratified_B_SHAPELET = []\n",
        "  lst_accuBalanced_stratified_B_SHAPELET = []\n",
        "  lst_f1_stratified_B_SHAPELET = []\n",
        "\n",
        "\n",
        "  index = 0  \n",
        "  for train_index, test_index in skf.split(X, y):\n",
        "      index = index + 1\n",
        "      X_train, X_test = X.iloc[train_index], X.iloc[test_index]\n",
        "      y_train, y_test = y[train_index], y[test_index]\n",
        "\n",
        "\n",
        "\n",
        "      X_train = np.array(X_train) \n",
        "      X_test = np.array(X_test)\n",
        "      y_train = np.array(y_train) \n",
        "      y_test = np.array(y_test)\n",
        "\n",
        "\n",
        "\n",
        "      clf_B = TimeSeriesForestClassifier(n_estimators=150, random_state = 2)\n",
        "      clf_B.fit(X_train, y_train)\n",
        "      lst_accu_stratified_B_TSF.append(clf_B.score(X_test, y_test))\n",
        "      pred_B = clf_B.predict(X_test)\n",
        "      lst_accuBalanced_stratified_B_TSF.append(balanced_accuracy_score(y_test, pred_B)) # Balanced Accuracy\n",
        "      f1_TSF_B = f1_score(y_test, pred_B, average=\"weighted\")\n",
        "      lst_f1_stratified_B_TSF.append(f1_TSF_B)\n",
        "\n",
        "\n",
        "\n",
        "\n",
        "\n",
        "      clf_B = RocketClassifier(num_kernels=1000, random_state = 42)\n",
        "      clf_B.fit(X_train, y_train)\n",
        "      lst_accu_stratified_B_ROCKET.append(clf_B.score(X_test, y_test))\n",
        "      pred_B = clf_B.predict(X_test)\n",
        "      lst_accuBalanced_stratified_B_ROCKET.append(balanced_accuracy_score(y_test, pred_B)) # Balanced Accuracy\n",
        "      f1_ROCKET_B = f1_score(y_test, pred_B, average=\"weighted\")\n",
        "      lst_f1_stratified_B_ROCKET.append(f1_ROCKET_B)\n",
        "\n",
        "\n",
        "\n",
        "      clf_B = ShapeletTransformClassifier(n_shapelet_samples=500, max_shapelets=15, random_state = 42)\n",
        "      clf_B.fit(X_train, y_train)\n",
        "      lst_accu_stratified_B_SHAPELET.append(clf_B.score(X_test, y_test))\n",
        "      pred_B = clf_B.predict(X_test)\n",
        "      lst_accuBalanced_stratified_B_SHAPELET.append(balanced_accuracy_score(y_test, pred_B)) # Balanced Accuracy\n",
        "      f1_SHAPELET_B = f1_score(y_test, pred_B, average=\"weighted\")\n",
        "      lst_f1_stratified_B_SHAPELET.append(f1_SHAPELET_B)\n",
        "\n",
        "\n",
        "\n",
        "\n",
        "  box_accuracy_B_TSF.append(lst_accu_stratified_B_TSF)\n",
        "  box_accuracyBalanced_B_TSF.append(lst_accuBalanced_stratified_B_TSF)\n",
        "  box_f1_B_TSF.append(lst_f1_stratified_B_TSF)\n",
        "\n",
        "  box_accuracy_B_ROCKET.append(lst_accu_stratified_B_ROCKET)\n",
        "  box_accuracyBalanced_B_ROCKET.append(lst_accuBalanced_stratified_B_ROCKET)\n",
        "  box_f1_B_ROCKET.append(lst_f1_stratified_B_ROCKET)\n",
        "\n",
        "  box_accuracy_B_SHAPELET.append(lst_accu_stratified_B_SHAPELET)\n",
        "  box_accuracyBalanced_B_SHAPELET.append(lst_accuBalanced_stratified_B_SHAPELET)\n",
        "  box_f1_B_SHAPELET.append(lst_f1_stratified_B_SHAPELET)\n"
      ]
    },
    {
      "cell_type": "code",
      "execution_count": null,
      "metadata": {
        "colab": {
          "base_uri": "https://localhost:8080/"
        },
        "id": "vLlTqDTZ3xYX",
        "outputId": "826ccd67-008e-467c-e339-7bc7544293fe"
      },
      "outputs": [
        {
          "output_type": "execute_result",
          "data": {
            "text/plain": [
              "0.82"
            ]
          },
          "metadata": {},
          "execution_count": 47
        }
      ],
      "source": [
        "import numpy as np\n",
        "\n",
        "ACC_TSF_B = round(np.mean(lst_accu_stratified_B_TSF), 2)\n",
        "ACC_TSF_B"
      ]
    },
    {
      "cell_type": "code",
      "execution_count": null,
      "metadata": {
        "colab": {
          "base_uri": "https://localhost:8080/"
        },
        "id": "tAKStxNS0T-3",
        "outputId": "8fd2113e-338d-46f6-93ce-0528f0a95f18"
      },
      "outputs": [
        {
          "output_type": "execute_result",
          "data": {
            "text/plain": [
              "[0.82]"
            ]
          },
          "metadata": {},
          "execution_count": 48
        }
      ],
      "source": [
        "All_box_ACC_TSF_B = []\n",
        "for k in box_accuracy_B_TSF:\n",
        "  temp = round(np.mean(k), 2)\n",
        "  All_box_ACC_TSF_B.append(temp)\n",
        "All_box_ACC_TSF_B"
      ]
    },
    {
      "cell_type": "code",
      "execution_count": null,
      "metadata": {
        "colab": {
          "base_uri": "https://localhost:8080/"
        },
        "id": "YT-GPBhWNkL_",
        "outputId": "f23bb1f0-d05e-48ec-a1dd-d9ce5a518e39"
      },
      "outputs": [
        {
          "output_type": "execute_result",
          "data": {
            "text/plain": [
              "0.82"
            ]
          },
          "metadata": {},
          "execution_count": 49
        }
      ],
      "source": [
        "import numpy as np\n",
        "\n",
        "ACCBALANCED_TSF_B = round(np.mean(lst_accuBalanced_stratified_B_TSF), 2)\n",
        "ACCBALANCED_TSF_B"
      ]
    },
    {
      "cell_type": "code",
      "execution_count": null,
      "metadata": {
        "colab": {
          "base_uri": "https://localhost:8080/"
        },
        "id": "ZTEsO2ZHNkMA",
        "outputId": "96f0126a-6e23-49f7-fe0f-7673d5360595"
      },
      "outputs": [
        {
          "output_type": "execute_result",
          "data": {
            "text/plain": [
              "[0.82]"
            ]
          },
          "metadata": {},
          "execution_count": 50
        }
      ],
      "source": [
        "All_box_ACCBALANCED_TSF_B = []\n",
        "for k in box_accuracyBalanced_B_TSF:\n",
        "  temp = round(np.mean(k), 2)\n",
        "  All_box_ACCBALANCED_TSF_B.append(temp)\n",
        "All_box_ACCBALANCED_TSF_B"
      ]
    },
    {
      "cell_type": "code",
      "execution_count": null,
      "metadata": {
        "colab": {
          "base_uri": "https://localhost:8080/"
        },
        "id": "8O6wpZvN3xWp",
        "outputId": "ea857328-e056-4aa3-9a56-bb9db1850003"
      },
      "outputs": [
        {
          "output_type": "execute_result",
          "data": {
            "text/plain": [
              "0.82"
            ]
          },
          "metadata": {},
          "execution_count": 51
        }
      ],
      "source": [
        "import numpy as np\n",
        "\n",
        "F1_TSF_B = round(np.mean(lst_f1_stratified_B_TSF), 2)\n",
        "F1_TSF_B"
      ]
    },
    {
      "cell_type": "code",
      "execution_count": null,
      "metadata": {
        "colab": {
          "base_uri": "https://localhost:8080/"
        },
        "id": "gi-faFxA0ddY",
        "outputId": "615b97c7-956a-4c4d-b34b-5350f31f5844"
      },
      "outputs": [
        {
          "output_type": "execute_result",
          "data": {
            "text/plain": [
              "[0.82]"
            ]
          },
          "metadata": {},
          "execution_count": 52
        }
      ],
      "source": [
        "All_box_F1_TSF_B = []\n",
        "for k in box_f1_B_TSF:\n",
        "  temp = round(np.mean(k), 2)\n",
        "  All_box_F1_TSF_B.append(temp)\n",
        "All_box_F1_TSF_B"
      ]
    },
    {
      "cell_type": "code",
      "execution_count": null,
      "metadata": {
        "id": "C2-JgICb3xUf"
      },
      "outputs": [],
      "source": []
    },
    {
      "cell_type": "code",
      "execution_count": null,
      "metadata": {
        "colab": {
          "base_uri": "https://localhost:8080/"
        },
        "id": "A-BMuHXqSIAT",
        "outputId": "afa993d9-b55a-4ea2-88e8-9af6998db30a"
      },
      "outputs": [
        {
          "output_type": "execute_result",
          "data": {
            "text/plain": [
              "0.71"
            ]
          },
          "metadata": {},
          "execution_count": 53
        }
      ],
      "source": [
        "import numpy as np\n",
        "\n",
        "ACC_ROCKET_B = round(np.mean(lst_accu_stratified_B_ROCKET), 2)\n",
        "ACC_ROCKET_B"
      ]
    },
    {
      "cell_type": "code",
      "execution_count": null,
      "metadata": {
        "colab": {
          "base_uri": "https://localhost:8080/"
        },
        "id": "Nq-TgmLP0x80",
        "outputId": "46f8eb66-011f-46f4-d4d8-6774aca9ddb3"
      },
      "outputs": [
        {
          "output_type": "execute_result",
          "data": {
            "text/plain": [
              "[0.71]"
            ]
          },
          "metadata": {},
          "execution_count": 54
        }
      ],
      "source": [
        "All_box_ACC_ROCKET_B = []\n",
        "for k in box_accuracy_B_ROCKET:\n",
        "  temp = round(np.mean(k), 2)\n",
        "  All_box_ACC_ROCKET_B.append(temp)\n",
        "All_box_ACC_ROCKET_B"
      ]
    },
    {
      "cell_type": "code",
      "execution_count": null,
      "metadata": {
        "colab": {
          "base_uri": "https://localhost:8080/"
        },
        "outputId": "a6d7cb4c-d30f-4886-8059-b2270a262e29",
        "id": "kDnyuYwVNz32"
      },
      "outputs": [
        {
          "output_type": "execute_result",
          "data": {
            "text/plain": [
              "0.71"
            ]
          },
          "metadata": {},
          "execution_count": 55
        }
      ],
      "source": [
        "import numpy as np\n",
        "\n",
        "ACCBALANCED_ROCKET_B = round(np.mean(lst_accuBalanced_stratified_B_ROCKET), 2)\n",
        "ACCBALANCED_ROCKET_B"
      ]
    },
    {
      "cell_type": "code",
      "execution_count": null,
      "metadata": {
        "colab": {
          "base_uri": "https://localhost:8080/"
        },
        "outputId": "431bf591-0ef8-4b71-f787-3e73e0ede13d",
        "id": "JSRYXDHONz33"
      },
      "outputs": [
        {
          "output_type": "execute_result",
          "data": {
            "text/plain": [
              "[0.71]"
            ]
          },
          "metadata": {},
          "execution_count": 56
        }
      ],
      "source": [
        "All_box_ACCBALANCED_ROCKET_B = []\n",
        "for k in box_accuracyBalanced_B_ROCKET:\n",
        "  temp = round(np.mean(k), 2)\n",
        "  All_box_ACCBALANCED_ROCKET_B.append(temp)\n",
        "All_box_ACCBALANCED_ROCKET_B"
      ]
    },
    {
      "cell_type": "code",
      "execution_count": null,
      "metadata": {
        "colab": {
          "base_uri": "https://localhost:8080/"
        },
        "id": "6QM2Byc1SIAg",
        "outputId": "4e7fce3a-fbd4-419e-ace5-d5a0bb73aa1f"
      },
      "outputs": [
        {
          "output_type": "execute_result",
          "data": {
            "text/plain": [
              "0.71"
            ]
          },
          "metadata": {},
          "execution_count": 57
        }
      ],
      "source": [
        "import numpy as np\n",
        "\n",
        "F1_ROCKET_B = round(np.mean(lst_f1_stratified_B_ROCKET), 2)\n",
        "F1_ROCKET_B"
      ]
    },
    {
      "cell_type": "code",
      "execution_count": null,
      "metadata": {
        "colab": {
          "base_uri": "https://localhost:8080/"
        },
        "id": "ZQcmlft5SIZN",
        "outputId": "0d451843-ac9d-4a02-8d2c-0fb8d3406c28"
      },
      "outputs": [
        {
          "output_type": "execute_result",
          "data": {
            "text/plain": [
              "[0.71]"
            ]
          },
          "metadata": {},
          "execution_count": 58
        }
      ],
      "source": [
        "All_box_F1_ROCKET_B = []\n",
        "for k in box_f1_B_ROCKET:\n",
        "  temp = round(np.mean(k), 2)\n",
        "  All_box_F1_ROCKET_B.append(temp)\n",
        "All_box_F1_ROCKET_B"
      ]
    },
    {
      "cell_type": "code",
      "source": [],
      "metadata": {
        "id": "QWWz0xVPvYfT"
      },
      "execution_count": null,
      "outputs": []
    },
    {
      "cell_type": "code",
      "execution_count": null,
      "metadata": {
        "colab": {
          "base_uri": "https://localhost:8080/"
        },
        "id": "yNWxk25PvYu9",
        "outputId": "d7cb2c8a-4054-4f86-cd6e-7a7cc5ef37de"
      },
      "outputs": [
        {
          "output_type": "execute_result",
          "data": {
            "text/plain": [
              "0.61"
            ]
          },
          "metadata": {},
          "execution_count": 59
        }
      ],
      "source": [
        "import numpy as np\n",
        "\n",
        "ACC_SHAPELET_B = round(np.mean(lst_accu_stratified_B_SHAPELET), 2)\n",
        "ACC_SHAPELET_B"
      ]
    },
    {
      "cell_type": "code",
      "execution_count": null,
      "metadata": {
        "colab": {
          "base_uri": "https://localhost:8080/"
        },
        "id": "zaQ27ZlFvaWx",
        "outputId": "4ee89cc7-bc2b-492f-9fef-0bd8e50712a7"
      },
      "outputs": [
        {
          "output_type": "execute_result",
          "data": {
            "text/plain": [
              "0.61"
            ]
          },
          "metadata": {},
          "execution_count": 60
        }
      ],
      "source": [
        "import numpy as np\n",
        "\n",
        "ACC_SHAPELET_B = round(np.mean(lst_accu_stratified_B_SHAPELET), 2)\n",
        "ACC_SHAPELET_B"
      ]
    },
    {
      "cell_type": "code",
      "execution_count": null,
      "metadata": {
        "colab": {
          "base_uri": "https://localhost:8080/"
        },
        "id": "fmNQHZQPvaWx",
        "outputId": "4131b902-8654-43a2-cf80-2997f72323c2"
      },
      "outputs": [
        {
          "output_type": "execute_result",
          "data": {
            "text/plain": [
              "[0.61]"
            ]
          },
          "metadata": {},
          "execution_count": 61
        }
      ],
      "source": [
        "All_box_ACC_SHAPELET_B = []\n",
        "for k in box_accuracy_B_SHAPELET:\n",
        "  temp = round(np.mean(k), 2)\n",
        "  All_box_ACC_SHAPELET_B.append(temp)\n",
        "All_box_ACC_SHAPELET_B"
      ]
    },
    {
      "cell_type": "code",
      "execution_count": null,
      "metadata": {
        "colab": {
          "base_uri": "https://localhost:8080/"
        },
        "id": "LFvoMe5vvaWx",
        "outputId": "da3d83a2-b016-49b8-b22f-0f2caa9e11bb"
      },
      "outputs": [
        {
          "output_type": "execute_result",
          "data": {
            "text/plain": [
              "0.61"
            ]
          },
          "metadata": {},
          "execution_count": 62
        }
      ],
      "source": [
        "import numpy as np\n",
        "\n",
        "ACCBALANCED_SHAPELET_B = round(np.mean(lst_accuBalanced_stratified_B_SHAPELET), 2)\n",
        "ACCBALANCED_SHAPELET_B"
      ]
    },
    {
      "cell_type": "code",
      "execution_count": null,
      "metadata": {
        "colab": {
          "base_uri": "https://localhost:8080/"
        },
        "id": "58HOJQd1vaWx",
        "outputId": "5f3b9e9e-3269-4929-ae51-9fd086e2a1bb"
      },
      "outputs": [
        {
          "output_type": "execute_result",
          "data": {
            "text/plain": [
              "[0.61]"
            ]
          },
          "metadata": {},
          "execution_count": 63
        }
      ],
      "source": [
        "All_box_ACCBALANCED_SHAPELET_B = []\n",
        "for k in box_accuracyBalanced_B_SHAPELET:\n",
        "  temp = round(np.mean(k), 2)\n",
        "  All_box_ACCBALANCED_SHAPELET_B.append(temp)\n",
        "All_box_ACCBALANCED_SHAPELET_B\n"
      ]
    },
    {
      "cell_type": "code",
      "execution_count": null,
      "metadata": {
        "colab": {
          "base_uri": "https://localhost:8080/"
        },
        "outputId": "fc99282c-9449-4f7c-f130-8b33b9917ea6",
        "id": "VisTe3QM7zKY"
      },
      "outputs": [
        {
          "output_type": "execute_result",
          "data": {
            "text/plain": [
              "0.61"
            ]
          },
          "metadata": {},
          "execution_count": 64
        }
      ],
      "source": [
        "import numpy as np\n",
        "\n",
        "F1_SHAPELET_B = round(np.mean(lst_f1_stratified_B_SHAPELET), 2)\n",
        "F1_SHAPELET_B"
      ]
    },
    {
      "cell_type": "code",
      "execution_count": null,
      "metadata": {
        "colab": {
          "base_uri": "https://localhost:8080/"
        },
        "outputId": "7725e678-4a9b-4947-c498-70753fc1826d",
        "id": "l4Y7oYmT7TLm"
      },
      "outputs": [
        {
          "output_type": "execute_result",
          "data": {
            "text/plain": [
              "[0.61]"
            ]
          },
          "metadata": {},
          "execution_count": 65
        }
      ],
      "source": [
        "All_box_F1_SHAPELET_B = []\n",
        "for k in box_f1_B_SHAPELET:\n",
        "  temp = round(np.mean(k), 2)\n",
        "  All_box_F1_SHAPELET_B.append(temp)\n",
        "All_box_F1_SHAPELET_B"
      ]
    },
    {
      "cell_type": "code",
      "execution_count": null,
      "metadata": {
        "id": "6qEvPKQSWAhT"
      },
      "outputs": [],
      "source": []
    },
    {
      "cell_type": "markdown",
      "metadata": {
        "id": "xFfyqdtVWBCO"
      },
      "source": [
        "# [1/2]"
      ]
    },
    {
      "cell_type": "code",
      "execution_count": null,
      "metadata": {
        "id": "uwCzdAePWBYR"
      },
      "outputs": [],
      "source": []
    },
    {
      "cell_type": "code",
      "execution_count": null,
      "metadata": {
        "id": "vCAzPNI2WP_u"
      },
      "outputs": [],
      "source": [
        "from sktime.classification.interval_based import TimeSeriesForestClassifier"
      ]
    },
    {
      "cell_type": "code",
      "execution_count": null,
      "metadata": {
        "id": "K9T46hugWP_v"
      },
      "outputs": [],
      "source": [
        "SEP_df_1 = pd.read_csv(\"/content/sample_data/SEP_data.csv\", header = 0)\n",
        "# SEP_df_1 = SEP_df_1.drop([78, 79, 80, 81])"
      ]
    },
    {
      "cell_type": "code",
      "execution_count": null,
      "metadata": {
        "id": "yZgZjMO2WP_v"
      },
      "outputs": [],
      "source": [
        "NSEP_df_234 = pd.read_csv(\"/content/sample_data/NSEP_data_234.csv\", header = 0)\n",
        "# NSEP_df_234 = NSEP_df_234.drop([78, 79, 80, 80])"
      ]
    },
    {
      "cell_type": "code",
      "execution_count": null,
      "metadata": {
        "id": "tg7ft87eWP_v"
      },
      "outputs": [],
      "source": [
        "def DA_Jitter(X, sigma, p):  # 0.00089  or  0.03  or 0.0002\n",
        "    R = np.random.RandomState(p)\n",
        "    myNoise = R.normal(loc=0, scale=sigma, size=X.shape)\n",
        "    return X+myNoise"
      ]
    },
    {
      "cell_type": "code",
      "execution_count": null,
      "metadata": {
        "id": "SC3p1d2NWP_w"
      },
      "outputs": [],
      "source": [
        "SEP_df_2 = DA_Jitter(SEP_df_1, 0.0002, 2)"
      ]
    },
    {
      "cell_type": "code",
      "execution_count": null,
      "metadata": {
        "id": "I5UxuTYfWP_w",
        "colab": {
          "base_uri": "https://localhost:8080/"
        },
        "outputId": "3ea9277b-899d-4308-bfcd-c4d31fa49c4e"
      },
      "outputs": [
        {
          "output_type": "stream",
          "name": "stderr",
          "text": [
            "<ipython-input-71-85200dd89e45>:1: FutureWarning: The frame.append method is deprecated and will be removed from pandas in a future version. Use pandas.concat instead.\n",
            "  SEP_df_156= SEP_df_1.append(SEP_df_2)\n"
          ]
        }
      ],
      "source": [
        "SEP_df_156= SEP_df_1.append(SEP_df_2)\n",
        "SEP_df_156 = SEP_df_156.reset_index(drop = True)"
      ]
    },
    {
      "cell_type": "code",
      "execution_count": null,
      "metadata": {
        "id": "4W52RGv4WP_w",
        "colab": {
          "base_uri": "https://localhost:8080/",
          "height": 488
        },
        "outputId": "44895486-608d-41c2-b60f-9ebd675ce44a"
      },
      "outputs": [
        {
          "output_type": "execute_result",
          "data": {
            "text/plain": [
              "            0         1         2         3         4         5         6  \\\n",
              "0    0.003550  0.003120  0.002950  0.003560  0.004060  0.002880  0.003050   \n",
              "1    0.009020  0.008510  0.007710  0.008280  0.007360  0.007160  0.007850   \n",
              "2    0.002850  0.002840  0.003000  0.002880  0.003100  0.002640  0.002900   \n",
              "3    0.002650  0.003030  0.002950  0.003360  0.002850  0.003030  0.003100   \n",
              "4    0.003450  0.003080  0.004110  0.003460  0.003500  0.003750  0.003550   \n",
              "..        ...       ...       ...       ...       ...       ...       ...   \n",
              "181  0.004777  0.003730  0.004390  0.004596  0.004651  0.003469  0.005081   \n",
              "182  0.003691  0.002962  0.004136  0.003639  0.003678  0.003503  0.002713   \n",
              "183  0.004853  0.004463  0.005442  0.004668  0.004394  0.004996  0.005071   \n",
              "184  0.003695  0.003887  0.004923  0.004374  0.004114  0.004055  0.003611   \n",
              "185  0.004173  0.003714  0.003868  0.003973  0.003904  0.004256  0.004138   \n",
              "\n",
              "            7         8         9  ...        50        51        52  \\\n",
              "0    0.003360  0.003400  0.003030  ...  0.004470  0.003250  0.003360   \n",
              "1    0.007930  0.007260  0.009840  ...  0.007450  0.006900  0.007010   \n",
              "2    0.002550  0.002150  0.002310  ...  0.002840  0.002750  0.002550   \n",
              "3    0.002690  0.002050  0.003460  ...  0.002550  0.003100  0.003600   \n",
              "4    0.003600  0.003350  0.003510  ...  0.003410  0.003550  0.003890   \n",
              "..        ...       ...       ...  ...       ...       ...       ...   \n",
              "181  0.004512  0.004038  0.004814  ...  0.004950  0.004202  0.003901   \n",
              "182  0.003530  0.003838  0.003255  ...  0.003463  0.004326  0.003965   \n",
              "183  0.004516  0.004460  0.004776  ...  0.004119  0.004790  0.004537   \n",
              "184  0.005281  0.004614  0.004308  ...  0.004079  0.004571  0.003808   \n",
              "185  0.004470  0.004664  0.004273  ...  0.003502  0.003721  0.004371   \n",
              "\n",
              "           53        54        55        56        57        58        59  \n",
              "0    0.003050  0.003120  0.003000  0.003270  0.002350  0.002880  0.003100  \n",
              "1    0.006970  0.006680  0.006970  0.007890  0.007760  0.007060  0.007160  \n",
              "2    0.003000  0.002260  0.002800  0.002980  0.002700  0.002740  0.002550  \n",
              "3    0.002350  0.003270  0.002600  0.002550  0.002850  0.002980  0.002900  \n",
              "4    0.004060  0.003510  0.003350  0.003560  0.003150  0.003270  0.003300  \n",
              "..        ...       ...       ...       ...       ...       ...       ...  \n",
              "181  0.005117  0.005399  0.004787  0.004838  0.003683  0.004779  0.004473  \n",
              "182  0.003018  0.004231  0.003419  0.003778  0.003841  0.003821  0.003896  \n",
              "183  0.004253  0.004699  0.004246  0.004309  0.004339  0.004604  0.003757  \n",
              "184  0.004192  0.004079  0.003994  0.004463  0.004276  0.003563  0.004475  \n",
              "185  0.004269  0.003488  0.004765  0.003553  0.004465  0.004308  0.004932  \n",
              "\n",
              "[186 rows x 60 columns]"
            ],
            "text/html": [
              "\n",
              "  <div id=\"df-ca5a6086-7da3-4eb6-a7ff-60d27475f384\">\n",
              "    <div class=\"colab-df-container\">\n",
              "      <div>\n",
              "<style scoped>\n",
              "    .dataframe tbody tr th:only-of-type {\n",
              "        vertical-align: middle;\n",
              "    }\n",
              "\n",
              "    .dataframe tbody tr th {\n",
              "        vertical-align: top;\n",
              "    }\n",
              "\n",
              "    .dataframe thead th {\n",
              "        text-align: right;\n",
              "    }\n",
              "</style>\n",
              "<table border=\"1\" class=\"dataframe\">\n",
              "  <thead>\n",
              "    <tr style=\"text-align: right;\">\n",
              "      <th></th>\n",
              "      <th>0</th>\n",
              "      <th>1</th>\n",
              "      <th>2</th>\n",
              "      <th>3</th>\n",
              "      <th>4</th>\n",
              "      <th>5</th>\n",
              "      <th>6</th>\n",
              "      <th>7</th>\n",
              "      <th>8</th>\n",
              "      <th>9</th>\n",
              "      <th>...</th>\n",
              "      <th>50</th>\n",
              "      <th>51</th>\n",
              "      <th>52</th>\n",
              "      <th>53</th>\n",
              "      <th>54</th>\n",
              "      <th>55</th>\n",
              "      <th>56</th>\n",
              "      <th>57</th>\n",
              "      <th>58</th>\n",
              "      <th>59</th>\n",
              "    </tr>\n",
              "  </thead>\n",
              "  <tbody>\n",
              "    <tr>\n",
              "      <th>0</th>\n",
              "      <td>0.003550</td>\n",
              "      <td>0.003120</td>\n",
              "      <td>0.002950</td>\n",
              "      <td>0.003560</td>\n",
              "      <td>0.004060</td>\n",
              "      <td>0.002880</td>\n",
              "      <td>0.003050</td>\n",
              "      <td>0.003360</td>\n",
              "      <td>0.003400</td>\n",
              "      <td>0.003030</td>\n",
              "      <td>...</td>\n",
              "      <td>0.004470</td>\n",
              "      <td>0.003250</td>\n",
              "      <td>0.003360</td>\n",
              "      <td>0.003050</td>\n",
              "      <td>0.003120</td>\n",
              "      <td>0.003000</td>\n",
              "      <td>0.003270</td>\n",
              "      <td>0.002350</td>\n",
              "      <td>0.002880</td>\n",
              "      <td>0.003100</td>\n",
              "    </tr>\n",
              "    <tr>\n",
              "      <th>1</th>\n",
              "      <td>0.009020</td>\n",
              "      <td>0.008510</td>\n",
              "      <td>0.007710</td>\n",
              "      <td>0.008280</td>\n",
              "      <td>0.007360</td>\n",
              "      <td>0.007160</td>\n",
              "      <td>0.007850</td>\n",
              "      <td>0.007930</td>\n",
              "      <td>0.007260</td>\n",
              "      <td>0.009840</td>\n",
              "      <td>...</td>\n",
              "      <td>0.007450</td>\n",
              "      <td>0.006900</td>\n",
              "      <td>0.007010</td>\n",
              "      <td>0.006970</td>\n",
              "      <td>0.006680</td>\n",
              "      <td>0.006970</td>\n",
              "      <td>0.007890</td>\n",
              "      <td>0.007760</td>\n",
              "      <td>0.007060</td>\n",
              "      <td>0.007160</td>\n",
              "    </tr>\n",
              "    <tr>\n",
              "      <th>2</th>\n",
              "      <td>0.002850</td>\n",
              "      <td>0.002840</td>\n",
              "      <td>0.003000</td>\n",
              "      <td>0.002880</td>\n",
              "      <td>0.003100</td>\n",
              "      <td>0.002640</td>\n",
              "      <td>0.002900</td>\n",
              "      <td>0.002550</td>\n",
              "      <td>0.002150</td>\n",
              "      <td>0.002310</td>\n",
              "      <td>...</td>\n",
              "      <td>0.002840</td>\n",
              "      <td>0.002750</td>\n",
              "      <td>0.002550</td>\n",
              "      <td>0.003000</td>\n",
              "      <td>0.002260</td>\n",
              "      <td>0.002800</td>\n",
              "      <td>0.002980</td>\n",
              "      <td>0.002700</td>\n",
              "      <td>0.002740</td>\n",
              "      <td>0.002550</td>\n",
              "    </tr>\n",
              "    <tr>\n",
              "      <th>3</th>\n",
              "      <td>0.002650</td>\n",
              "      <td>0.003030</td>\n",
              "      <td>0.002950</td>\n",
              "      <td>0.003360</td>\n",
              "      <td>0.002850</td>\n",
              "      <td>0.003030</td>\n",
              "      <td>0.003100</td>\n",
              "      <td>0.002690</td>\n",
              "      <td>0.002050</td>\n",
              "      <td>0.003460</td>\n",
              "      <td>...</td>\n",
              "      <td>0.002550</td>\n",
              "      <td>0.003100</td>\n",
              "      <td>0.003600</td>\n",
              "      <td>0.002350</td>\n",
              "      <td>0.003270</td>\n",
              "      <td>0.002600</td>\n",
              "      <td>0.002550</td>\n",
              "      <td>0.002850</td>\n",
              "      <td>0.002980</td>\n",
              "      <td>0.002900</td>\n",
              "    </tr>\n",
              "    <tr>\n",
              "      <th>4</th>\n",
              "      <td>0.003450</td>\n",
              "      <td>0.003080</td>\n",
              "      <td>0.004110</td>\n",
              "      <td>0.003460</td>\n",
              "      <td>0.003500</td>\n",
              "      <td>0.003750</td>\n",
              "      <td>0.003550</td>\n",
              "      <td>0.003600</td>\n",
              "      <td>0.003350</td>\n",
              "      <td>0.003510</td>\n",
              "      <td>...</td>\n",
              "      <td>0.003410</td>\n",
              "      <td>0.003550</td>\n",
              "      <td>0.003890</td>\n",
              "      <td>0.004060</td>\n",
              "      <td>0.003510</td>\n",
              "      <td>0.003350</td>\n",
              "      <td>0.003560</td>\n",
              "      <td>0.003150</td>\n",
              "      <td>0.003270</td>\n",
              "      <td>0.003300</td>\n",
              "    </tr>\n",
              "    <tr>\n",
              "      <th>...</th>\n",
              "      <td>...</td>\n",
              "      <td>...</td>\n",
              "      <td>...</td>\n",
              "      <td>...</td>\n",
              "      <td>...</td>\n",
              "      <td>...</td>\n",
              "      <td>...</td>\n",
              "      <td>...</td>\n",
              "      <td>...</td>\n",
              "      <td>...</td>\n",
              "      <td>...</td>\n",
              "      <td>...</td>\n",
              "      <td>...</td>\n",
              "      <td>...</td>\n",
              "      <td>...</td>\n",
              "      <td>...</td>\n",
              "      <td>...</td>\n",
              "      <td>...</td>\n",
              "      <td>...</td>\n",
              "      <td>...</td>\n",
              "      <td>...</td>\n",
              "    </tr>\n",
              "    <tr>\n",
              "      <th>181</th>\n",
              "      <td>0.004777</td>\n",
              "      <td>0.003730</td>\n",
              "      <td>0.004390</td>\n",
              "      <td>0.004596</td>\n",
              "      <td>0.004651</td>\n",
              "      <td>0.003469</td>\n",
              "      <td>0.005081</td>\n",
              "      <td>0.004512</td>\n",
              "      <td>0.004038</td>\n",
              "      <td>0.004814</td>\n",
              "      <td>...</td>\n",
              "      <td>0.004950</td>\n",
              "      <td>0.004202</td>\n",
              "      <td>0.003901</td>\n",
              "      <td>0.005117</td>\n",
              "      <td>0.005399</td>\n",
              "      <td>0.004787</td>\n",
              "      <td>0.004838</td>\n",
              "      <td>0.003683</td>\n",
              "      <td>0.004779</td>\n",
              "      <td>0.004473</td>\n",
              "    </tr>\n",
              "    <tr>\n",
              "      <th>182</th>\n",
              "      <td>0.003691</td>\n",
              "      <td>0.002962</td>\n",
              "      <td>0.004136</td>\n",
              "      <td>0.003639</td>\n",
              "      <td>0.003678</td>\n",
              "      <td>0.003503</td>\n",
              "      <td>0.002713</td>\n",
              "      <td>0.003530</td>\n",
              "      <td>0.003838</td>\n",
              "      <td>0.003255</td>\n",
              "      <td>...</td>\n",
              "      <td>0.003463</td>\n",
              "      <td>0.004326</td>\n",
              "      <td>0.003965</td>\n",
              "      <td>0.003018</td>\n",
              "      <td>0.004231</td>\n",
              "      <td>0.003419</td>\n",
              "      <td>0.003778</td>\n",
              "      <td>0.003841</td>\n",
              "      <td>0.003821</td>\n",
              "      <td>0.003896</td>\n",
              "    </tr>\n",
              "    <tr>\n",
              "      <th>183</th>\n",
              "      <td>0.004853</td>\n",
              "      <td>0.004463</td>\n",
              "      <td>0.005442</td>\n",
              "      <td>0.004668</td>\n",
              "      <td>0.004394</td>\n",
              "      <td>0.004996</td>\n",
              "      <td>0.005071</td>\n",
              "      <td>0.004516</td>\n",
              "      <td>0.004460</td>\n",
              "      <td>0.004776</td>\n",
              "      <td>...</td>\n",
              "      <td>0.004119</td>\n",
              "      <td>0.004790</td>\n",
              "      <td>0.004537</td>\n",
              "      <td>0.004253</td>\n",
              "      <td>0.004699</td>\n",
              "      <td>0.004246</td>\n",
              "      <td>0.004309</td>\n",
              "      <td>0.004339</td>\n",
              "      <td>0.004604</td>\n",
              "      <td>0.003757</td>\n",
              "    </tr>\n",
              "    <tr>\n",
              "      <th>184</th>\n",
              "      <td>0.003695</td>\n",
              "      <td>0.003887</td>\n",
              "      <td>0.004923</td>\n",
              "      <td>0.004374</td>\n",
              "      <td>0.004114</td>\n",
              "      <td>0.004055</td>\n",
              "      <td>0.003611</td>\n",
              "      <td>0.005281</td>\n",
              "      <td>0.004614</td>\n",
              "      <td>0.004308</td>\n",
              "      <td>...</td>\n",
              "      <td>0.004079</td>\n",
              "      <td>0.004571</td>\n",
              "      <td>0.003808</td>\n",
              "      <td>0.004192</td>\n",
              "      <td>0.004079</td>\n",
              "      <td>0.003994</td>\n",
              "      <td>0.004463</td>\n",
              "      <td>0.004276</td>\n",
              "      <td>0.003563</td>\n",
              "      <td>0.004475</td>\n",
              "    </tr>\n",
              "    <tr>\n",
              "      <th>185</th>\n",
              "      <td>0.004173</td>\n",
              "      <td>0.003714</td>\n",
              "      <td>0.003868</td>\n",
              "      <td>0.003973</td>\n",
              "      <td>0.003904</td>\n",
              "      <td>0.004256</td>\n",
              "      <td>0.004138</td>\n",
              "      <td>0.004470</td>\n",
              "      <td>0.004664</td>\n",
              "      <td>0.004273</td>\n",
              "      <td>...</td>\n",
              "      <td>0.003502</td>\n",
              "      <td>0.003721</td>\n",
              "      <td>0.004371</td>\n",
              "      <td>0.004269</td>\n",
              "      <td>0.003488</td>\n",
              "      <td>0.004765</td>\n",
              "      <td>0.003553</td>\n",
              "      <td>0.004465</td>\n",
              "      <td>0.004308</td>\n",
              "      <td>0.004932</td>\n",
              "    </tr>\n",
              "  </tbody>\n",
              "</table>\n",
              "<p>186 rows × 60 columns</p>\n",
              "</div>\n",
              "      <button class=\"colab-df-convert\" onclick=\"convertToInteractive('df-ca5a6086-7da3-4eb6-a7ff-60d27475f384')\"\n",
              "              title=\"Convert this dataframe to an interactive table.\"\n",
              "              style=\"display:none;\">\n",
              "        \n",
              "  <svg xmlns=\"http://www.w3.org/2000/svg\" height=\"24px\"viewBox=\"0 0 24 24\"\n",
              "       width=\"24px\">\n",
              "    <path d=\"M0 0h24v24H0V0z\" fill=\"none\"/>\n",
              "    <path d=\"M18.56 5.44l.94 2.06.94-2.06 2.06-.94-2.06-.94-.94-2.06-.94 2.06-2.06.94zm-11 1L8.5 8.5l.94-2.06 2.06-.94-2.06-.94L8.5 2.5l-.94 2.06-2.06.94zm10 10l.94 2.06.94-2.06 2.06-.94-2.06-.94-.94-2.06-.94 2.06-2.06.94z\"/><path d=\"M17.41 7.96l-1.37-1.37c-.4-.4-.92-.59-1.43-.59-.52 0-1.04.2-1.43.59L10.3 9.45l-7.72 7.72c-.78.78-.78 2.05 0 2.83L4 21.41c.39.39.9.59 1.41.59.51 0 1.02-.2 1.41-.59l7.78-7.78 2.81-2.81c.8-.78.8-2.07 0-2.86zM5.41 20L4 18.59l7.72-7.72 1.47 1.35L5.41 20z\"/>\n",
              "  </svg>\n",
              "      </button>\n",
              "      \n",
              "  <style>\n",
              "    .colab-df-container {\n",
              "      display:flex;\n",
              "      flex-wrap:wrap;\n",
              "      gap: 12px;\n",
              "    }\n",
              "\n",
              "    .colab-df-convert {\n",
              "      background-color: #E8F0FE;\n",
              "      border: none;\n",
              "      border-radius: 50%;\n",
              "      cursor: pointer;\n",
              "      display: none;\n",
              "      fill: #1967D2;\n",
              "      height: 32px;\n",
              "      padding: 0 0 0 0;\n",
              "      width: 32px;\n",
              "    }\n",
              "\n",
              "    .colab-df-convert:hover {\n",
              "      background-color: #E2EBFA;\n",
              "      box-shadow: 0px 1px 2px rgba(60, 64, 67, 0.3), 0px 1px 3px 1px rgba(60, 64, 67, 0.15);\n",
              "      fill: #174EA6;\n",
              "    }\n",
              "\n",
              "    [theme=dark] .colab-df-convert {\n",
              "      background-color: #3B4455;\n",
              "      fill: #D2E3FC;\n",
              "    }\n",
              "\n",
              "    [theme=dark] .colab-df-convert:hover {\n",
              "      background-color: #434B5C;\n",
              "      box-shadow: 0px 1px 3px 1px rgba(0, 0, 0, 0.15);\n",
              "      filter: drop-shadow(0px 1px 2px rgba(0, 0, 0, 0.3));\n",
              "      fill: #FFFFFF;\n",
              "    }\n",
              "  </style>\n",
              "\n",
              "      <script>\n",
              "        const buttonEl =\n",
              "          document.querySelector('#df-ca5a6086-7da3-4eb6-a7ff-60d27475f384 button.colab-df-convert');\n",
              "        buttonEl.style.display =\n",
              "          google.colab.kernel.accessAllowed ? 'block' : 'none';\n",
              "\n",
              "        async function convertToInteractive(key) {\n",
              "          const element = document.querySelector('#df-ca5a6086-7da3-4eb6-a7ff-60d27475f384');\n",
              "          const dataTable =\n",
              "            await google.colab.kernel.invokeFunction('convertToInteractive',\n",
              "                                                     [key], {});\n",
              "          if (!dataTable) return;\n",
              "\n",
              "          const docLinkHtml = 'Like what you see? Visit the ' +\n",
              "            '<a target=\"_blank\" href=https://colab.research.google.com/notebooks/data_table.ipynb>data table notebook</a>'\n",
              "            + ' to learn more about interactive tables.';\n",
              "          element.innerHTML = '';\n",
              "          dataTable['output_type'] = 'display_data';\n",
              "          await google.colab.output.renderOutput(dataTable, element);\n",
              "          const docLink = document.createElement('div');\n",
              "          docLink.innerHTML = docLinkHtml;\n",
              "          element.appendChild(docLink);\n",
              "        }\n",
              "      </script>\n",
              "    </div>\n",
              "  </div>\n",
              "  "
            ]
          },
          "metadata": {},
          "execution_count": 72
        }
      ],
      "source": [
        "SEP_df_156"
      ]
    },
    {
      "cell_type": "code",
      "execution_count": null,
      "metadata": {
        "id": "9xBTXgLNWh0l"
      },
      "outputs": [],
      "source": [
        "SEP_df_3 = DA_Jitter(SEP_df_1, 0.0002, 42)"
      ]
    },
    {
      "cell_type": "code",
      "execution_count": null,
      "metadata": {
        "id": "8PH6h6AMXKjt",
        "colab": {
          "base_uri": "https://localhost:8080/"
        },
        "outputId": "7d84b3e4-d6ed-4bc5-853f-e1317cd7c03d"
      },
      "outputs": [
        {
          "output_type": "stream",
          "name": "stderr",
          "text": [
            "<ipython-input-74-3fd562fe6152>:1: FutureWarning: The frame.append method is deprecated and will be removed from pandas in a future version. Use pandas.concat instead.\n",
            "  SEP_df_234 = SEP_df_156.append(SEP_df_3)\n"
          ]
        }
      ],
      "source": [
        "SEP_df_234 = SEP_df_156.append(SEP_df_3)\n",
        "SEP_df_234 = SEP_df_234.reset_index(drop = True)"
      ]
    },
    {
      "cell_type": "code",
      "execution_count": null,
      "metadata": {
        "id": "0kSaKY44XKj7",
        "colab": {
          "base_uri": "https://localhost:8080/",
          "height": 488
        },
        "outputId": "54983c7c-b52e-4bfd-b0c4-a67e824dccf9"
      },
      "outputs": [
        {
          "output_type": "execute_result",
          "data": {
            "text/plain": [
              "            0         1         2         3         4         5         6  \\\n",
              "0    0.003550  0.003120  0.002950  0.003560  0.004060  0.002880  0.003050   \n",
              "1    0.009020  0.008510  0.007710  0.008280  0.007360  0.007160  0.007850   \n",
              "2    0.002850  0.002840  0.003000  0.002880  0.003100  0.002640  0.002900   \n",
              "3    0.002650  0.003030  0.002950  0.003360  0.002850  0.003030  0.003100   \n",
              "4    0.003450  0.003080  0.004110  0.003460  0.003500  0.003750  0.003550   \n",
              "..        ...       ...       ...       ...       ...       ...       ...   \n",
              "274  0.004411  0.003790  0.004779  0.004693  0.004897  0.003877  0.004804   \n",
              "275  0.003380  0.003033  0.003725  0.003377  0.003627  0.003858  0.002892   \n",
              "276  0.004607  0.004663  0.005391  0.004693  0.004233  0.004981  0.004538   \n",
              "277  0.003854  0.004095  0.005028  0.004525  0.003841  0.004264  0.003751   \n",
              "278  0.003950  0.003425  0.004487  0.004078  0.004165  0.004180  0.004289   \n",
              "\n",
              "            7         8         9  ...        50        51        52  \\\n",
              "0    0.003360  0.003400  0.003030  ...  0.004470  0.003250  0.003360   \n",
              "1    0.007930  0.007260  0.009840  ...  0.007450  0.006900  0.007010   \n",
              "2    0.002550  0.002150  0.002310  ...  0.002840  0.002750  0.002550   \n",
              "3    0.002690  0.002050  0.003460  ...  0.002550  0.003100  0.003600   \n",
              "4    0.003600  0.003350  0.003510  ...  0.003410  0.003550  0.003890   \n",
              "..        ...       ...       ...  ...       ...       ...       ...   \n",
              "274  0.004744  0.004046  0.004891  ...  0.004533  0.004454  0.003981   \n",
              "275  0.002846  0.003631  0.003598  ...  0.003282  0.004064  0.004119   \n",
              "276  0.004735  0.004295  0.005000  ...  0.004078  0.005036  0.004575   \n",
              "277  0.005097  0.004745  0.004327  ...  0.003991  0.004583  0.003820   \n",
              "278  0.004711  0.004571  0.004178  ...  0.003590  0.004026  0.004064   \n",
              "\n",
              "           53        54        55        56        57        58        59  \n",
              "0    0.003050  0.003120  0.003000  0.003270  0.002350  0.002880  0.003100  \n",
              "1    0.006970  0.006680  0.006970  0.007890  0.007760  0.007060  0.007160  \n",
              "2    0.003000  0.002260  0.002800  0.002980  0.002700  0.002740  0.002550  \n",
              "3    0.002350  0.003270  0.002600  0.002550  0.002850  0.002980  0.002900  \n",
              "4    0.004060  0.003510  0.003350  0.003560  0.003150  0.003270  0.003300  \n",
              "..        ...       ...       ...       ...       ...       ...       ...  \n",
              "274  0.005523  0.005435  0.004406  0.004437  0.003634  0.004944  0.004693  \n",
              "275  0.003146  0.003783  0.003582  0.004215  0.003873  0.003449  0.003721  \n",
              "276  0.003708  0.004972  0.004514  0.004210  0.004280  0.004705  0.004092  \n",
              "277  0.004185  0.004474  0.003795  0.004301  0.004360  0.003309  0.003900  \n",
              "278  0.003685  0.003225  0.004351  0.003593  0.004680  0.004033  0.004542  \n",
              "\n",
              "[279 rows x 60 columns]"
            ],
            "text/html": [
              "\n",
              "  <div id=\"df-170337e8-e70e-4ccb-a54e-aaff41a249ab\">\n",
              "    <div class=\"colab-df-container\">\n",
              "      <div>\n",
              "<style scoped>\n",
              "    .dataframe tbody tr th:only-of-type {\n",
              "        vertical-align: middle;\n",
              "    }\n",
              "\n",
              "    .dataframe tbody tr th {\n",
              "        vertical-align: top;\n",
              "    }\n",
              "\n",
              "    .dataframe thead th {\n",
              "        text-align: right;\n",
              "    }\n",
              "</style>\n",
              "<table border=\"1\" class=\"dataframe\">\n",
              "  <thead>\n",
              "    <tr style=\"text-align: right;\">\n",
              "      <th></th>\n",
              "      <th>0</th>\n",
              "      <th>1</th>\n",
              "      <th>2</th>\n",
              "      <th>3</th>\n",
              "      <th>4</th>\n",
              "      <th>5</th>\n",
              "      <th>6</th>\n",
              "      <th>7</th>\n",
              "      <th>8</th>\n",
              "      <th>9</th>\n",
              "      <th>...</th>\n",
              "      <th>50</th>\n",
              "      <th>51</th>\n",
              "      <th>52</th>\n",
              "      <th>53</th>\n",
              "      <th>54</th>\n",
              "      <th>55</th>\n",
              "      <th>56</th>\n",
              "      <th>57</th>\n",
              "      <th>58</th>\n",
              "      <th>59</th>\n",
              "    </tr>\n",
              "  </thead>\n",
              "  <tbody>\n",
              "    <tr>\n",
              "      <th>0</th>\n",
              "      <td>0.003550</td>\n",
              "      <td>0.003120</td>\n",
              "      <td>0.002950</td>\n",
              "      <td>0.003560</td>\n",
              "      <td>0.004060</td>\n",
              "      <td>0.002880</td>\n",
              "      <td>0.003050</td>\n",
              "      <td>0.003360</td>\n",
              "      <td>0.003400</td>\n",
              "      <td>0.003030</td>\n",
              "      <td>...</td>\n",
              "      <td>0.004470</td>\n",
              "      <td>0.003250</td>\n",
              "      <td>0.003360</td>\n",
              "      <td>0.003050</td>\n",
              "      <td>0.003120</td>\n",
              "      <td>0.003000</td>\n",
              "      <td>0.003270</td>\n",
              "      <td>0.002350</td>\n",
              "      <td>0.002880</td>\n",
              "      <td>0.003100</td>\n",
              "    </tr>\n",
              "    <tr>\n",
              "      <th>1</th>\n",
              "      <td>0.009020</td>\n",
              "      <td>0.008510</td>\n",
              "      <td>0.007710</td>\n",
              "      <td>0.008280</td>\n",
              "      <td>0.007360</td>\n",
              "      <td>0.007160</td>\n",
              "      <td>0.007850</td>\n",
              "      <td>0.007930</td>\n",
              "      <td>0.007260</td>\n",
              "      <td>0.009840</td>\n",
              "      <td>...</td>\n",
              "      <td>0.007450</td>\n",
              "      <td>0.006900</td>\n",
              "      <td>0.007010</td>\n",
              "      <td>0.006970</td>\n",
              "      <td>0.006680</td>\n",
              "      <td>0.006970</td>\n",
              "      <td>0.007890</td>\n",
              "      <td>0.007760</td>\n",
              "      <td>0.007060</td>\n",
              "      <td>0.007160</td>\n",
              "    </tr>\n",
              "    <tr>\n",
              "      <th>2</th>\n",
              "      <td>0.002850</td>\n",
              "      <td>0.002840</td>\n",
              "      <td>0.003000</td>\n",
              "      <td>0.002880</td>\n",
              "      <td>0.003100</td>\n",
              "      <td>0.002640</td>\n",
              "      <td>0.002900</td>\n",
              "      <td>0.002550</td>\n",
              "      <td>0.002150</td>\n",
              "      <td>0.002310</td>\n",
              "      <td>...</td>\n",
              "      <td>0.002840</td>\n",
              "      <td>0.002750</td>\n",
              "      <td>0.002550</td>\n",
              "      <td>0.003000</td>\n",
              "      <td>0.002260</td>\n",
              "      <td>0.002800</td>\n",
              "      <td>0.002980</td>\n",
              "      <td>0.002700</td>\n",
              "      <td>0.002740</td>\n",
              "      <td>0.002550</td>\n",
              "    </tr>\n",
              "    <tr>\n",
              "      <th>3</th>\n",
              "      <td>0.002650</td>\n",
              "      <td>0.003030</td>\n",
              "      <td>0.002950</td>\n",
              "      <td>0.003360</td>\n",
              "      <td>0.002850</td>\n",
              "      <td>0.003030</td>\n",
              "      <td>0.003100</td>\n",
              "      <td>0.002690</td>\n",
              "      <td>0.002050</td>\n",
              "      <td>0.003460</td>\n",
              "      <td>...</td>\n",
              "      <td>0.002550</td>\n",
              "      <td>0.003100</td>\n",
              "      <td>0.003600</td>\n",
              "      <td>0.002350</td>\n",
              "      <td>0.003270</td>\n",
              "      <td>0.002600</td>\n",
              "      <td>0.002550</td>\n",
              "      <td>0.002850</td>\n",
              "      <td>0.002980</td>\n",
              "      <td>0.002900</td>\n",
              "    </tr>\n",
              "    <tr>\n",
              "      <th>4</th>\n",
              "      <td>0.003450</td>\n",
              "      <td>0.003080</td>\n",
              "      <td>0.004110</td>\n",
              "      <td>0.003460</td>\n",
              "      <td>0.003500</td>\n",
              "      <td>0.003750</td>\n",
              "      <td>0.003550</td>\n",
              "      <td>0.003600</td>\n",
              "      <td>0.003350</td>\n",
              "      <td>0.003510</td>\n",
              "      <td>...</td>\n",
              "      <td>0.003410</td>\n",
              "      <td>0.003550</td>\n",
              "      <td>0.003890</td>\n",
              "      <td>0.004060</td>\n",
              "      <td>0.003510</td>\n",
              "      <td>0.003350</td>\n",
              "      <td>0.003560</td>\n",
              "      <td>0.003150</td>\n",
              "      <td>0.003270</td>\n",
              "      <td>0.003300</td>\n",
              "    </tr>\n",
              "    <tr>\n",
              "      <th>...</th>\n",
              "      <td>...</td>\n",
              "      <td>...</td>\n",
              "      <td>...</td>\n",
              "      <td>...</td>\n",
              "      <td>...</td>\n",
              "      <td>...</td>\n",
              "      <td>...</td>\n",
              "      <td>...</td>\n",
              "      <td>...</td>\n",
              "      <td>...</td>\n",
              "      <td>...</td>\n",
              "      <td>...</td>\n",
              "      <td>...</td>\n",
              "      <td>...</td>\n",
              "      <td>...</td>\n",
              "      <td>...</td>\n",
              "      <td>...</td>\n",
              "      <td>...</td>\n",
              "      <td>...</td>\n",
              "      <td>...</td>\n",
              "      <td>...</td>\n",
              "    </tr>\n",
              "    <tr>\n",
              "      <th>274</th>\n",
              "      <td>0.004411</td>\n",
              "      <td>0.003790</td>\n",
              "      <td>0.004779</td>\n",
              "      <td>0.004693</td>\n",
              "      <td>0.004897</td>\n",
              "      <td>0.003877</td>\n",
              "      <td>0.004804</td>\n",
              "      <td>0.004744</td>\n",
              "      <td>0.004046</td>\n",
              "      <td>0.004891</td>\n",
              "      <td>...</td>\n",
              "      <td>0.004533</td>\n",
              "      <td>0.004454</td>\n",
              "      <td>0.003981</td>\n",
              "      <td>0.005523</td>\n",
              "      <td>0.005435</td>\n",
              "      <td>0.004406</td>\n",
              "      <td>0.004437</td>\n",
              "      <td>0.003634</td>\n",
              "      <td>0.004944</td>\n",
              "      <td>0.004693</td>\n",
              "    </tr>\n",
              "    <tr>\n",
              "      <th>275</th>\n",
              "      <td>0.003380</td>\n",
              "      <td>0.003033</td>\n",
              "      <td>0.003725</td>\n",
              "      <td>0.003377</td>\n",
              "      <td>0.003627</td>\n",
              "      <td>0.003858</td>\n",
              "      <td>0.002892</td>\n",
              "      <td>0.002846</td>\n",
              "      <td>0.003631</td>\n",
              "      <td>0.003598</td>\n",
              "      <td>...</td>\n",
              "      <td>0.003282</td>\n",
              "      <td>0.004064</td>\n",
              "      <td>0.004119</td>\n",
              "      <td>0.003146</td>\n",
              "      <td>0.003783</td>\n",
              "      <td>0.003582</td>\n",
              "      <td>0.004215</td>\n",
              "      <td>0.003873</td>\n",
              "      <td>0.003449</td>\n",
              "      <td>0.003721</td>\n",
              "    </tr>\n",
              "    <tr>\n",
              "      <th>276</th>\n",
              "      <td>0.004607</td>\n",
              "      <td>0.004663</td>\n",
              "      <td>0.005391</td>\n",
              "      <td>0.004693</td>\n",
              "      <td>0.004233</td>\n",
              "      <td>0.004981</td>\n",
              "      <td>0.004538</td>\n",
              "      <td>0.004735</td>\n",
              "      <td>0.004295</td>\n",
              "      <td>0.005000</td>\n",
              "      <td>...</td>\n",
              "      <td>0.004078</td>\n",
              "      <td>0.005036</td>\n",
              "      <td>0.004575</td>\n",
              "      <td>0.003708</td>\n",
              "      <td>0.004972</td>\n",
              "      <td>0.004514</td>\n",
              "      <td>0.004210</td>\n",
              "      <td>0.004280</td>\n",
              "      <td>0.004705</td>\n",
              "      <td>0.004092</td>\n",
              "    </tr>\n",
              "    <tr>\n",
              "      <th>277</th>\n",
              "      <td>0.003854</td>\n",
              "      <td>0.004095</td>\n",
              "      <td>0.005028</td>\n",
              "      <td>0.004525</td>\n",
              "      <td>0.003841</td>\n",
              "      <td>0.004264</td>\n",
              "      <td>0.003751</td>\n",
              "      <td>0.005097</td>\n",
              "      <td>0.004745</td>\n",
              "      <td>0.004327</td>\n",
              "      <td>...</td>\n",
              "      <td>0.003991</td>\n",
              "      <td>0.004583</td>\n",
              "      <td>0.003820</td>\n",
              "      <td>0.004185</td>\n",
              "      <td>0.004474</td>\n",
              "      <td>0.003795</td>\n",
              "      <td>0.004301</td>\n",
              "      <td>0.004360</td>\n",
              "      <td>0.003309</td>\n",
              "      <td>0.003900</td>\n",
              "    </tr>\n",
              "    <tr>\n",
              "      <th>278</th>\n",
              "      <td>0.003950</td>\n",
              "      <td>0.003425</td>\n",
              "      <td>0.004487</td>\n",
              "      <td>0.004078</td>\n",
              "      <td>0.004165</td>\n",
              "      <td>0.004180</td>\n",
              "      <td>0.004289</td>\n",
              "      <td>0.004711</td>\n",
              "      <td>0.004571</td>\n",
              "      <td>0.004178</td>\n",
              "      <td>...</td>\n",
              "      <td>0.003590</td>\n",
              "      <td>0.004026</td>\n",
              "      <td>0.004064</td>\n",
              "      <td>0.003685</td>\n",
              "      <td>0.003225</td>\n",
              "      <td>0.004351</td>\n",
              "      <td>0.003593</td>\n",
              "      <td>0.004680</td>\n",
              "      <td>0.004033</td>\n",
              "      <td>0.004542</td>\n",
              "    </tr>\n",
              "  </tbody>\n",
              "</table>\n",
              "<p>279 rows × 60 columns</p>\n",
              "</div>\n",
              "      <button class=\"colab-df-convert\" onclick=\"convertToInteractive('df-170337e8-e70e-4ccb-a54e-aaff41a249ab')\"\n",
              "              title=\"Convert this dataframe to an interactive table.\"\n",
              "              style=\"display:none;\">\n",
              "        \n",
              "  <svg xmlns=\"http://www.w3.org/2000/svg\" height=\"24px\"viewBox=\"0 0 24 24\"\n",
              "       width=\"24px\">\n",
              "    <path d=\"M0 0h24v24H0V0z\" fill=\"none\"/>\n",
              "    <path d=\"M18.56 5.44l.94 2.06.94-2.06 2.06-.94-2.06-.94-.94-2.06-.94 2.06-2.06.94zm-11 1L8.5 8.5l.94-2.06 2.06-.94-2.06-.94L8.5 2.5l-.94 2.06-2.06.94zm10 10l.94 2.06.94-2.06 2.06-.94-2.06-.94-.94-2.06-.94 2.06-2.06.94z\"/><path d=\"M17.41 7.96l-1.37-1.37c-.4-.4-.92-.59-1.43-.59-.52 0-1.04.2-1.43.59L10.3 9.45l-7.72 7.72c-.78.78-.78 2.05 0 2.83L4 21.41c.39.39.9.59 1.41.59.51 0 1.02-.2 1.41-.59l7.78-7.78 2.81-2.81c.8-.78.8-2.07 0-2.86zM5.41 20L4 18.59l7.72-7.72 1.47 1.35L5.41 20z\"/>\n",
              "  </svg>\n",
              "      </button>\n",
              "      \n",
              "  <style>\n",
              "    .colab-df-container {\n",
              "      display:flex;\n",
              "      flex-wrap:wrap;\n",
              "      gap: 12px;\n",
              "    }\n",
              "\n",
              "    .colab-df-convert {\n",
              "      background-color: #E8F0FE;\n",
              "      border: none;\n",
              "      border-radius: 50%;\n",
              "      cursor: pointer;\n",
              "      display: none;\n",
              "      fill: #1967D2;\n",
              "      height: 32px;\n",
              "      padding: 0 0 0 0;\n",
              "      width: 32px;\n",
              "    }\n",
              "\n",
              "    .colab-df-convert:hover {\n",
              "      background-color: #E2EBFA;\n",
              "      box-shadow: 0px 1px 2px rgba(60, 64, 67, 0.3), 0px 1px 3px 1px rgba(60, 64, 67, 0.15);\n",
              "      fill: #174EA6;\n",
              "    }\n",
              "\n",
              "    [theme=dark] .colab-df-convert {\n",
              "      background-color: #3B4455;\n",
              "      fill: #D2E3FC;\n",
              "    }\n",
              "\n",
              "    [theme=dark] .colab-df-convert:hover {\n",
              "      background-color: #434B5C;\n",
              "      box-shadow: 0px 1px 3px 1px rgba(0, 0, 0, 0.15);\n",
              "      filter: drop-shadow(0px 1px 2px rgba(0, 0, 0, 0.3));\n",
              "      fill: #FFFFFF;\n",
              "    }\n",
              "  </style>\n",
              "\n",
              "      <script>\n",
              "        const buttonEl =\n",
              "          document.querySelector('#df-170337e8-e70e-4ccb-a54e-aaff41a249ab button.colab-df-convert');\n",
              "        buttonEl.style.display =\n",
              "          google.colab.kernel.accessAllowed ? 'block' : 'none';\n",
              "\n",
              "        async function convertToInteractive(key) {\n",
              "          const element = document.querySelector('#df-170337e8-e70e-4ccb-a54e-aaff41a249ab');\n",
              "          const dataTable =\n",
              "            await google.colab.kernel.invokeFunction('convertToInteractive',\n",
              "                                                     [key], {});\n",
              "          if (!dataTable) return;\n",
              "\n",
              "          const docLinkHtml = 'Like what you see? Visit the ' +\n",
              "            '<a target=\"_blank\" href=https://colab.research.google.com/notebooks/data_table.ipynb>data table notebook</a>'\n",
              "            + ' to learn more about interactive tables.';\n",
              "          element.innerHTML = '';\n",
              "          dataTable['output_type'] = 'display_data';\n",
              "          await google.colab.output.renderOutput(dataTable, element);\n",
              "          const docLink = document.createElement('div');\n",
              "          docLink.innerHTML = docLinkHtml;\n",
              "          element.appendChild(docLink);\n",
              "        }\n",
              "      </script>\n",
              "    </div>\n",
              "  </div>\n",
              "  "
            ]
          },
          "metadata": {},
          "execution_count": 75
        }
      ],
      "source": [
        "SEP_df_234"
      ]
    },
    {
      "cell_type": "code",
      "execution_count": null,
      "metadata": {
        "id": "hZv7DgSOWP_w",
        "colab": {
          "base_uri": "https://localhost:8080/"
        },
        "outputId": "15a9d6e7-f22c-4c1a-aa3f-ba0613bf3150"
      },
      "outputs": [
        {
          "output_type": "stream",
          "name": "stderr",
          "text": [
            "<ipython-input-76-148934edda4a>:1: FutureWarning: The frame.append method is deprecated and will be removed from pandas in a future version. Use pandas.concat instead.\n",
            "  data = SEP_df_234.append(NSEP_df_234) # append the two SEP and NSEP dataframes\n"
          ]
        }
      ],
      "source": [
        "data = SEP_df_234.append(NSEP_df_234) # append the two SEP and NSEP dataframes"
      ]
    },
    {
      "cell_type": "code",
      "execution_count": null,
      "metadata": {
        "id": "TeCJymlfWP_w"
      },
      "outputs": [],
      "source": [
        "data = data.reset_index(drop = True)"
      ]
    },
    {
      "cell_type": "code",
      "execution_count": null,
      "metadata": {
        "id": "UeFVI3k5WP_w"
      },
      "outputs": [],
      "source": [
        "NSEP_start_index = len(SEP_df_234) + 1"
      ]
    },
    {
      "cell_type": "code",
      "execution_count": null,
      "metadata": {
        "colab": {
          "base_uri": "https://localhost:8080/",
          "height": 488
        },
        "id": "_VQr9W58WP_x",
        "outputId": "2a0655eb-a3d0-438b-c4db-bf3d4fde0ada"
      },
      "outputs": [
        {
          "output_type": "execute_result",
          "data": {
            "text/plain": [
              "           0        1        2        3        4        5        6        7  \\\n",
              "0    0.00355  0.00312  0.00295  0.00356  0.00406  0.00288  0.00305  0.00336   \n",
              "1    0.00902  0.00851  0.00771  0.00828  0.00736  0.00716  0.00785  0.00793   \n",
              "2    0.00285  0.00284  0.00300  0.00288  0.00310  0.00264  0.00290  0.00255   \n",
              "3    0.00265  0.00303  0.00295  0.00336  0.00285  0.00303  0.00310  0.00269   \n",
              "4    0.00345  0.00308  0.00411  0.00346  0.00350  0.00375  0.00355  0.00360   \n",
              "..       ...      ...      ...      ...      ...      ...      ...      ...   \n",
              "553  0.00404  0.00367  0.00383  0.00367  0.00397  0.00448  0.00389  0.00486   \n",
              "554  0.00470  0.00479  0.00292  0.00479  0.00448  0.00382  0.00404  0.00478   \n",
              "555  0.00501  0.00374  0.00427  0.00404  0.00494  0.00441  0.00397  0.00367   \n",
              "556  0.00465  0.00486  0.00442  0.00369  0.00382  0.00486  0.00506  0.00344   \n",
              "557  0.00465  0.00420  0.00427  0.00449  0.00470  0.00434  0.00427  0.00383   \n",
              "\n",
              "           8        9  ...       51       52       53       54       55  \\\n",
              "0    0.00340  0.00303  ...  0.00325  0.00336  0.00305  0.00312  0.00300   \n",
              "1    0.00726  0.00984  ...  0.00690  0.00701  0.00697  0.00668  0.00697   \n",
              "2    0.00215  0.00231  ...  0.00275  0.00255  0.00300  0.00226  0.00280   \n",
              "3    0.00205  0.00346  ...  0.00310  0.00360  0.00235  0.00327  0.00260   \n",
              "4    0.00335  0.00351  ...  0.00355  0.00389  0.00406  0.00351  0.00335   \n",
              "..       ...      ...  ...      ...      ...      ...      ...      ...   \n",
              "553  0.00485  0.00367  ...  0.00449  0.00456  0.00382  0.00456  0.00374   \n",
              "554  0.00531  0.00479  ...  0.00456  0.00456  0.00456  0.00420  0.00434   \n",
              "555  0.00369  0.00337  ...  0.00419  0.00412  0.00292  0.00352  0.00383   \n",
              "556  0.00314  0.00463  ...  0.00374  0.00434  0.00485  0.00329  0.00389   \n",
              "557  0.00471  0.00389  ...  0.00398  0.00456  0.00479  0.00412  0.00277   \n",
              "\n",
              "          56       57       58       59  event  \n",
              "0    0.00327  0.00235  0.00288  0.00310    SEP  \n",
              "1    0.00789  0.00776  0.00706  0.00716    SEP  \n",
              "2    0.00298  0.00270  0.00274  0.00255    SEP  \n",
              "3    0.00255  0.00285  0.00298  0.00290    SEP  \n",
              "4    0.00356  0.00315  0.00327  0.00330    SEP  \n",
              "..       ...      ...      ...      ...    ...  \n",
              "553  0.00340  0.00382  0.00389  0.00470   NSEP  \n",
              "554  0.00494  0.00449  0.00514  0.00486   NSEP  \n",
              "555  0.00419  0.00427  0.00479  0.00391   NSEP  \n",
              "556  0.00427  0.00412  0.00404  0.00456   NSEP  \n",
              "557  0.00397  0.00352  0.00340  0.00546   NSEP  \n",
              "\n",
              "[558 rows x 61 columns]"
            ],
            "text/html": [
              "\n",
              "  <div id=\"df-23a57798-0657-4415-9c51-382d5ad8e02c\">\n",
              "    <div class=\"colab-df-container\">\n",
              "      <div>\n",
              "<style scoped>\n",
              "    .dataframe tbody tr th:only-of-type {\n",
              "        vertical-align: middle;\n",
              "    }\n",
              "\n",
              "    .dataframe tbody tr th {\n",
              "        vertical-align: top;\n",
              "    }\n",
              "\n",
              "    .dataframe thead th {\n",
              "        text-align: right;\n",
              "    }\n",
              "</style>\n",
              "<table border=\"1\" class=\"dataframe\">\n",
              "  <thead>\n",
              "    <tr style=\"text-align: right;\">\n",
              "      <th></th>\n",
              "      <th>0</th>\n",
              "      <th>1</th>\n",
              "      <th>2</th>\n",
              "      <th>3</th>\n",
              "      <th>4</th>\n",
              "      <th>5</th>\n",
              "      <th>6</th>\n",
              "      <th>7</th>\n",
              "      <th>8</th>\n",
              "      <th>9</th>\n",
              "      <th>...</th>\n",
              "      <th>51</th>\n",
              "      <th>52</th>\n",
              "      <th>53</th>\n",
              "      <th>54</th>\n",
              "      <th>55</th>\n",
              "      <th>56</th>\n",
              "      <th>57</th>\n",
              "      <th>58</th>\n",
              "      <th>59</th>\n",
              "      <th>event</th>\n",
              "    </tr>\n",
              "  </thead>\n",
              "  <tbody>\n",
              "    <tr>\n",
              "      <th>0</th>\n",
              "      <td>0.00355</td>\n",
              "      <td>0.00312</td>\n",
              "      <td>0.00295</td>\n",
              "      <td>0.00356</td>\n",
              "      <td>0.00406</td>\n",
              "      <td>0.00288</td>\n",
              "      <td>0.00305</td>\n",
              "      <td>0.00336</td>\n",
              "      <td>0.00340</td>\n",
              "      <td>0.00303</td>\n",
              "      <td>...</td>\n",
              "      <td>0.00325</td>\n",
              "      <td>0.00336</td>\n",
              "      <td>0.00305</td>\n",
              "      <td>0.00312</td>\n",
              "      <td>0.00300</td>\n",
              "      <td>0.00327</td>\n",
              "      <td>0.00235</td>\n",
              "      <td>0.00288</td>\n",
              "      <td>0.00310</td>\n",
              "      <td>SEP</td>\n",
              "    </tr>\n",
              "    <tr>\n",
              "      <th>1</th>\n",
              "      <td>0.00902</td>\n",
              "      <td>0.00851</td>\n",
              "      <td>0.00771</td>\n",
              "      <td>0.00828</td>\n",
              "      <td>0.00736</td>\n",
              "      <td>0.00716</td>\n",
              "      <td>0.00785</td>\n",
              "      <td>0.00793</td>\n",
              "      <td>0.00726</td>\n",
              "      <td>0.00984</td>\n",
              "      <td>...</td>\n",
              "      <td>0.00690</td>\n",
              "      <td>0.00701</td>\n",
              "      <td>0.00697</td>\n",
              "      <td>0.00668</td>\n",
              "      <td>0.00697</td>\n",
              "      <td>0.00789</td>\n",
              "      <td>0.00776</td>\n",
              "      <td>0.00706</td>\n",
              "      <td>0.00716</td>\n",
              "      <td>SEP</td>\n",
              "    </tr>\n",
              "    <tr>\n",
              "      <th>2</th>\n",
              "      <td>0.00285</td>\n",
              "      <td>0.00284</td>\n",
              "      <td>0.00300</td>\n",
              "      <td>0.00288</td>\n",
              "      <td>0.00310</td>\n",
              "      <td>0.00264</td>\n",
              "      <td>0.00290</td>\n",
              "      <td>0.00255</td>\n",
              "      <td>0.00215</td>\n",
              "      <td>0.00231</td>\n",
              "      <td>...</td>\n",
              "      <td>0.00275</td>\n",
              "      <td>0.00255</td>\n",
              "      <td>0.00300</td>\n",
              "      <td>0.00226</td>\n",
              "      <td>0.00280</td>\n",
              "      <td>0.00298</td>\n",
              "      <td>0.00270</td>\n",
              "      <td>0.00274</td>\n",
              "      <td>0.00255</td>\n",
              "      <td>SEP</td>\n",
              "    </tr>\n",
              "    <tr>\n",
              "      <th>3</th>\n",
              "      <td>0.00265</td>\n",
              "      <td>0.00303</td>\n",
              "      <td>0.00295</td>\n",
              "      <td>0.00336</td>\n",
              "      <td>0.00285</td>\n",
              "      <td>0.00303</td>\n",
              "      <td>0.00310</td>\n",
              "      <td>0.00269</td>\n",
              "      <td>0.00205</td>\n",
              "      <td>0.00346</td>\n",
              "      <td>...</td>\n",
              "      <td>0.00310</td>\n",
              "      <td>0.00360</td>\n",
              "      <td>0.00235</td>\n",
              "      <td>0.00327</td>\n",
              "      <td>0.00260</td>\n",
              "      <td>0.00255</td>\n",
              "      <td>0.00285</td>\n",
              "      <td>0.00298</td>\n",
              "      <td>0.00290</td>\n",
              "      <td>SEP</td>\n",
              "    </tr>\n",
              "    <tr>\n",
              "      <th>4</th>\n",
              "      <td>0.00345</td>\n",
              "      <td>0.00308</td>\n",
              "      <td>0.00411</td>\n",
              "      <td>0.00346</td>\n",
              "      <td>0.00350</td>\n",
              "      <td>0.00375</td>\n",
              "      <td>0.00355</td>\n",
              "      <td>0.00360</td>\n",
              "      <td>0.00335</td>\n",
              "      <td>0.00351</td>\n",
              "      <td>...</td>\n",
              "      <td>0.00355</td>\n",
              "      <td>0.00389</td>\n",
              "      <td>0.00406</td>\n",
              "      <td>0.00351</td>\n",
              "      <td>0.00335</td>\n",
              "      <td>0.00356</td>\n",
              "      <td>0.00315</td>\n",
              "      <td>0.00327</td>\n",
              "      <td>0.00330</td>\n",
              "      <td>SEP</td>\n",
              "    </tr>\n",
              "    <tr>\n",
              "      <th>...</th>\n",
              "      <td>...</td>\n",
              "      <td>...</td>\n",
              "      <td>...</td>\n",
              "      <td>...</td>\n",
              "      <td>...</td>\n",
              "      <td>...</td>\n",
              "      <td>...</td>\n",
              "      <td>...</td>\n",
              "      <td>...</td>\n",
              "      <td>...</td>\n",
              "      <td>...</td>\n",
              "      <td>...</td>\n",
              "      <td>...</td>\n",
              "      <td>...</td>\n",
              "      <td>...</td>\n",
              "      <td>...</td>\n",
              "      <td>...</td>\n",
              "      <td>...</td>\n",
              "      <td>...</td>\n",
              "      <td>...</td>\n",
              "      <td>...</td>\n",
              "    </tr>\n",
              "    <tr>\n",
              "      <th>553</th>\n",
              "      <td>0.00404</td>\n",
              "      <td>0.00367</td>\n",
              "      <td>0.00383</td>\n",
              "      <td>0.00367</td>\n",
              "      <td>0.00397</td>\n",
              "      <td>0.00448</td>\n",
              "      <td>0.00389</td>\n",
              "      <td>0.00486</td>\n",
              "      <td>0.00485</td>\n",
              "      <td>0.00367</td>\n",
              "      <td>...</td>\n",
              "      <td>0.00449</td>\n",
              "      <td>0.00456</td>\n",
              "      <td>0.00382</td>\n",
              "      <td>0.00456</td>\n",
              "      <td>0.00374</td>\n",
              "      <td>0.00340</td>\n",
              "      <td>0.00382</td>\n",
              "      <td>0.00389</td>\n",
              "      <td>0.00470</td>\n",
              "      <td>NSEP</td>\n",
              "    </tr>\n",
              "    <tr>\n",
              "      <th>554</th>\n",
              "      <td>0.00470</td>\n",
              "      <td>0.00479</td>\n",
              "      <td>0.00292</td>\n",
              "      <td>0.00479</td>\n",
              "      <td>0.00448</td>\n",
              "      <td>0.00382</td>\n",
              "      <td>0.00404</td>\n",
              "      <td>0.00478</td>\n",
              "      <td>0.00531</td>\n",
              "      <td>0.00479</td>\n",
              "      <td>...</td>\n",
              "      <td>0.00456</td>\n",
              "      <td>0.00456</td>\n",
              "      <td>0.00456</td>\n",
              "      <td>0.00420</td>\n",
              "      <td>0.00434</td>\n",
              "      <td>0.00494</td>\n",
              "      <td>0.00449</td>\n",
              "      <td>0.00514</td>\n",
              "      <td>0.00486</td>\n",
              "      <td>NSEP</td>\n",
              "    </tr>\n",
              "    <tr>\n",
              "      <th>555</th>\n",
              "      <td>0.00501</td>\n",
              "      <td>0.00374</td>\n",
              "      <td>0.00427</td>\n",
              "      <td>0.00404</td>\n",
              "      <td>0.00494</td>\n",
              "      <td>0.00441</td>\n",
              "      <td>0.00397</td>\n",
              "      <td>0.00367</td>\n",
              "      <td>0.00369</td>\n",
              "      <td>0.00337</td>\n",
              "      <td>...</td>\n",
              "      <td>0.00419</td>\n",
              "      <td>0.00412</td>\n",
              "      <td>0.00292</td>\n",
              "      <td>0.00352</td>\n",
              "      <td>0.00383</td>\n",
              "      <td>0.00419</td>\n",
              "      <td>0.00427</td>\n",
              "      <td>0.00479</td>\n",
              "      <td>0.00391</td>\n",
              "      <td>NSEP</td>\n",
              "    </tr>\n",
              "    <tr>\n",
              "      <th>556</th>\n",
              "      <td>0.00465</td>\n",
              "      <td>0.00486</td>\n",
              "      <td>0.00442</td>\n",
              "      <td>0.00369</td>\n",
              "      <td>0.00382</td>\n",
              "      <td>0.00486</td>\n",
              "      <td>0.00506</td>\n",
              "      <td>0.00344</td>\n",
              "      <td>0.00314</td>\n",
              "      <td>0.00463</td>\n",
              "      <td>...</td>\n",
              "      <td>0.00374</td>\n",
              "      <td>0.00434</td>\n",
              "      <td>0.00485</td>\n",
              "      <td>0.00329</td>\n",
              "      <td>0.00389</td>\n",
              "      <td>0.00427</td>\n",
              "      <td>0.00412</td>\n",
              "      <td>0.00404</td>\n",
              "      <td>0.00456</td>\n",
              "      <td>NSEP</td>\n",
              "    </tr>\n",
              "    <tr>\n",
              "      <th>557</th>\n",
              "      <td>0.00465</td>\n",
              "      <td>0.00420</td>\n",
              "      <td>0.00427</td>\n",
              "      <td>0.00449</td>\n",
              "      <td>0.00470</td>\n",
              "      <td>0.00434</td>\n",
              "      <td>0.00427</td>\n",
              "      <td>0.00383</td>\n",
              "      <td>0.00471</td>\n",
              "      <td>0.00389</td>\n",
              "      <td>...</td>\n",
              "      <td>0.00398</td>\n",
              "      <td>0.00456</td>\n",
              "      <td>0.00479</td>\n",
              "      <td>0.00412</td>\n",
              "      <td>0.00277</td>\n",
              "      <td>0.00397</td>\n",
              "      <td>0.00352</td>\n",
              "      <td>0.00340</td>\n",
              "      <td>0.00546</td>\n",
              "      <td>NSEP</td>\n",
              "    </tr>\n",
              "  </tbody>\n",
              "</table>\n",
              "<p>558 rows × 61 columns</p>\n",
              "</div>\n",
              "      <button class=\"colab-df-convert\" onclick=\"convertToInteractive('df-23a57798-0657-4415-9c51-382d5ad8e02c')\"\n",
              "              title=\"Convert this dataframe to an interactive table.\"\n",
              "              style=\"display:none;\">\n",
              "        \n",
              "  <svg xmlns=\"http://www.w3.org/2000/svg\" height=\"24px\"viewBox=\"0 0 24 24\"\n",
              "       width=\"24px\">\n",
              "    <path d=\"M0 0h24v24H0V0z\" fill=\"none\"/>\n",
              "    <path d=\"M18.56 5.44l.94 2.06.94-2.06 2.06-.94-2.06-.94-.94-2.06-.94 2.06-2.06.94zm-11 1L8.5 8.5l.94-2.06 2.06-.94-2.06-.94L8.5 2.5l-.94 2.06-2.06.94zm10 10l.94 2.06.94-2.06 2.06-.94-2.06-.94-.94-2.06-.94 2.06-2.06.94z\"/><path d=\"M17.41 7.96l-1.37-1.37c-.4-.4-.92-.59-1.43-.59-.52 0-1.04.2-1.43.59L10.3 9.45l-7.72 7.72c-.78.78-.78 2.05 0 2.83L4 21.41c.39.39.9.59 1.41.59.51 0 1.02-.2 1.41-.59l7.78-7.78 2.81-2.81c.8-.78.8-2.07 0-2.86zM5.41 20L4 18.59l7.72-7.72 1.47 1.35L5.41 20z\"/>\n",
              "  </svg>\n",
              "      </button>\n",
              "      \n",
              "  <style>\n",
              "    .colab-df-container {\n",
              "      display:flex;\n",
              "      flex-wrap:wrap;\n",
              "      gap: 12px;\n",
              "    }\n",
              "\n",
              "    .colab-df-convert {\n",
              "      background-color: #E8F0FE;\n",
              "      border: none;\n",
              "      border-radius: 50%;\n",
              "      cursor: pointer;\n",
              "      display: none;\n",
              "      fill: #1967D2;\n",
              "      height: 32px;\n",
              "      padding: 0 0 0 0;\n",
              "      width: 32px;\n",
              "    }\n",
              "\n",
              "    .colab-df-convert:hover {\n",
              "      background-color: #E2EBFA;\n",
              "      box-shadow: 0px 1px 2px rgba(60, 64, 67, 0.3), 0px 1px 3px 1px rgba(60, 64, 67, 0.15);\n",
              "      fill: #174EA6;\n",
              "    }\n",
              "\n",
              "    [theme=dark] .colab-df-convert {\n",
              "      background-color: #3B4455;\n",
              "      fill: #D2E3FC;\n",
              "    }\n",
              "\n",
              "    [theme=dark] .colab-df-convert:hover {\n",
              "      background-color: #434B5C;\n",
              "      box-shadow: 0px 1px 3px 1px rgba(0, 0, 0, 0.15);\n",
              "      filter: drop-shadow(0px 1px 2px rgba(0, 0, 0, 0.3));\n",
              "      fill: #FFFFFF;\n",
              "    }\n",
              "  </style>\n",
              "\n",
              "      <script>\n",
              "        const buttonEl =\n",
              "          document.querySelector('#df-23a57798-0657-4415-9c51-382d5ad8e02c button.colab-df-convert');\n",
              "        buttonEl.style.display =\n",
              "          google.colab.kernel.accessAllowed ? 'block' : 'none';\n",
              "\n",
              "        async function convertToInteractive(key) {\n",
              "          const element = document.querySelector('#df-23a57798-0657-4415-9c51-382d5ad8e02c');\n",
              "          const dataTable =\n",
              "            await google.colab.kernel.invokeFunction('convertToInteractive',\n",
              "                                                     [key], {});\n",
              "          if (!dataTable) return;\n",
              "\n",
              "          const docLinkHtml = 'Like what you see? Visit the ' +\n",
              "            '<a target=\"_blank\" href=https://colab.research.google.com/notebooks/data_table.ipynb>data table notebook</a>'\n",
              "            + ' to learn more about interactive tables.';\n",
              "          element.innerHTML = '';\n",
              "          dataTable['output_type'] = 'display_data';\n",
              "          await google.colab.output.renderOutput(dataTable, element);\n",
              "          const docLink = document.createElement('div');\n",
              "          docLink.innerHTML = docLinkHtml;\n",
              "          element.appendChild(docLink);\n",
              "        }\n",
              "      </script>\n",
              "    </div>\n",
              "  </div>\n",
              "  "
            ]
          },
          "metadata": {},
          "execution_count": 79
        }
      ],
      "source": [
        "data['event'] = 'SEP'\n",
        "data.loc[NSEP_start_index:,['event']] = 'NSEP'\n",
        "my_data_all = data\n",
        "my_data_all"
      ]
    },
    {
      "cell_type": "code",
      "execution_count": null,
      "metadata": {
        "id": "iCqm7suhWP_x"
      },
      "outputs": [],
      "source": []
    },
    {
      "cell_type": "code",
      "execution_count": null,
      "metadata": {
        "id": "nJ05BYasWP_x"
      },
      "outputs": [],
      "source": [
        "from sklearn.model_selection import StratifiedKFold\n",
        "\n",
        "\n",
        "\n",
        "y = my_data_all.pop('event')\n",
        "X = my_data_all"
      ]
    },
    {
      "cell_type": "code",
      "execution_count": null,
      "metadata": {
        "id": "ZtRe_e6zWP_x"
      },
      "outputs": [],
      "source": [
        "box_accuracy_C_TSF = []\n",
        "box_accuracyBalanced_C_TSF = []\n",
        "box_f1_C_TSF = []\n",
        "\n",
        "box_accuracy_C_ROCKET = []\n",
        "box_accuracyBalanced_C_ROCKET = []\n",
        "box_f1_C_ROCKET = []\n",
        "\n",
        "box_accuracy_C_SHAPELET = []\n",
        "box_accuracyBalanced_C_SHAPELET = []\n",
        "box_f1_C_SHAPELET = []\n",
        "\n",
        "# random_state_values = [0, 2, 10, 30, 42]\n",
        "random_state_values = [42]\n",
        "for p in random_state_values:\n",
        "\n",
        "  skf = StratifiedKFold(n_splits=10, shuffle=True, random_state=42)\n",
        "\n",
        "  lst_accu_stratified_C_TSF = []\n",
        "  lst_accuBalanced_stratified_C_TSF = []\n",
        "  lst_f1_stratified_C_TSF = []\n",
        "\n",
        "  lst_accu_stratified_C_ROCKET = []\n",
        "  lst_accuBalanced_stratified_C_ROCKET = []\n",
        "  lst_f1_stratified_C_ROCKET = []\n",
        "\n",
        "  lst_accu_stratified_C_SHAPELET = []\n",
        "  lst_accuBalanced_stratified_C_SHAPELET = []\n",
        "  lst_f1_stratified_C_SHAPELET = []\n",
        "\n",
        "  index = 0  \n",
        "  for train_index, test_index in skf.split(X, y):\n",
        "      index = index + 1\n",
        "      X_train, X_test = X.iloc[train_index], X.iloc[test_index]\n",
        "      y_train, y_test = y[train_index], y[test_index]\n",
        "\n",
        "\n",
        "\n",
        "\n",
        "\n",
        "      X_train = np.array(X_train) # if we change to normalized_raw_data (without augmentation) -- X_train_aug: with aug.\n",
        "      X_test = np.array(X_test)\n",
        "      y_train = np.array(y_train) # y_train (without augmentation) --- y_train_aug: with aug.\n",
        "      y_test = np.array(y_test)\n",
        "\n",
        "\n",
        "\n",
        "      clf_C = TimeSeriesForestClassifier(n_estimators=150, random_state = 2)\n",
        "      clf_C.fit(X_train, y_train)\n",
        "      lst_accu_stratified_C_TSF.append(clf_C.score(X_test, y_test))\n",
        "      pred_C = clf_C.predict(X_test)\n",
        "      lst_accuBalanced_stratified_C_TSF.append(balanced_accuracy_score(y_test, pred_C)) # Balanced Accuracy\n",
        "      f1_TSF_C = f1_score(y_test, pred_C, average=\"weighted\")\n",
        "      lst_f1_stratified_C_TSF.append(f1_TSF_C)\n",
        "\n",
        "\n",
        "\n",
        "\n",
        "\n",
        "      clf_C = RocketClassifier(num_kernels=1000, random_state = 42)\n",
        "      clf_C.fit(X_train, y_train)\n",
        "      lst_accu_stratified_C_ROCKET.append(clf_C.score(X_test, y_test))\n",
        "      pred_C = clf_C.predict(X_test)\n",
        "      lst_accuBalanced_stratified_C_ROCKET.append(balanced_accuracy_score(y_test, pred_C)) # Balanced Accuracy\n",
        "      f1_ROCKET_C = f1_score(y_test, pred_C, average=\"weighted\")\n",
        "      lst_f1_stratified_C_ROCKET.append(f1_ROCKET_C)\n",
        "\n",
        "\n",
        "\n",
        "      clf_C = ShapeletTransformClassifier(n_shapelet_samples=500, max_shapelets=15, random_state = 42)\n",
        "      clf_C.fit(X_train, y_train)\n",
        "      lst_accu_stratified_C_SHAPELET.append(clf_C.score(X_test, y_test))\n",
        "      pred_C = clf_C.predict(X_test)\n",
        "      lst_accuBalanced_stratified_C_SHAPELET.append(balanced_accuracy_score(y_test, pred_C)) # Balanced Accuracy\n",
        "      f1_SHAPELET_C = f1_score(y_test, pred_C, average=\"weighted\")\n",
        "      lst_f1_stratified_C_SHAPELET.append(f1_SHAPELET_C)\n",
        "\n",
        "\n",
        "\n",
        "\n",
        "  box_accuracy_C_TSF.append(lst_accu_stratified_C_TSF)\n",
        "  box_accuracyBalanced_C_TSF.append(lst_accuBalanced_stratified_C_TSF)\n",
        "  box_f1_C_TSF.append(lst_f1_stratified_C_TSF)\n",
        "\n",
        "  box_accuracy_C_ROCKET.append(lst_accu_stratified_C_ROCKET)\n",
        "  box_accuracyBalanced_C_ROCKET.append(lst_accuBalanced_stratified_C_ROCKET)\n",
        "  box_f1_C_ROCKET.append(lst_f1_stratified_C_ROCKET)\n",
        "\n",
        "  box_accuracy_C_SHAPELET.append(lst_accu_stratified_C_SHAPELET)\n",
        "  box_accuracyBalanced_C_SHAPELET.append(lst_accuBalanced_stratified_C_SHAPELET)\n",
        "  box_f1_C_SHAPELET.append(lst_f1_stratified_C_SHAPELET)"
      ]
    },
    {
      "cell_type": "code",
      "execution_count": null,
      "metadata": {
        "colab": {
          "base_uri": "https://localhost:8080/"
        },
        "id": "hHohrMkF3QNC",
        "outputId": "937f320d-a27b-4b9a-dca1-da0ce0568a1c"
      },
      "outputs": [
        {
          "output_type": "execute_result",
          "data": {
            "text/plain": [
              "0.81"
            ]
          },
          "metadata": {},
          "execution_count": 82
        }
      ],
      "source": [
        "import numpy as np\n",
        "\n",
        "ACC_TSF_C = round(np.mean(lst_accu_stratified_C_TSF), 2)\n",
        "ACC_TSF_C"
      ]
    },
    {
      "cell_type": "code",
      "execution_count": null,
      "metadata": {
        "colab": {
          "base_uri": "https://localhost:8080/"
        },
        "id": "TVMMXoMD3QND",
        "outputId": "674d2d92-2e42-4679-b13d-47aa753a12c8"
      },
      "outputs": [
        {
          "output_type": "execute_result",
          "data": {
            "text/plain": [
              "[0.81]"
            ]
          },
          "metadata": {},
          "execution_count": 83
        }
      ],
      "source": [
        "All_box_ACC_TSF_C = []\n",
        "for k in box_accuracy_C_TSF:\n",
        "  temp = round(np.mean(k), 2)\n",
        "  All_box_ACC_TSF_C.append(temp)\n",
        "All_box_ACC_TSF_C"
      ]
    },
    {
      "cell_type": "code",
      "execution_count": null,
      "metadata": {
        "colab": {
          "base_uri": "https://localhost:8080/"
        },
        "outputId": "eb2bca27-5e63-4709-d00e-76155bce83ae",
        "id": "_u8CiTsiOo_T"
      },
      "outputs": [
        {
          "output_type": "execute_result",
          "data": {
            "text/plain": [
              "0.81"
            ]
          },
          "metadata": {},
          "execution_count": 84
        }
      ],
      "source": [
        "import numpy as np\n",
        "\n",
        "ACCBALANCED_TSF_C = round(np.mean(lst_accuBalanced_stratified_C_TSF), 2)\n",
        "ACCBALANCED_TSF_C"
      ]
    },
    {
      "cell_type": "code",
      "execution_count": null,
      "metadata": {
        "colab": {
          "base_uri": "https://localhost:8080/"
        },
        "outputId": "94990a05-0a21-4db2-806f-01961d9cf550",
        "id": "eeL6TON7Oo_U"
      },
      "outputs": [
        {
          "output_type": "execute_result",
          "data": {
            "text/plain": [
              "[0.81]"
            ]
          },
          "metadata": {},
          "execution_count": 85
        }
      ],
      "source": [
        "All_box_ACCBALANCED_TSF_C = []\n",
        "for k in box_accuracyBalanced_C_TSF:\n",
        "  temp = round(np.mean(k), 2)\n",
        "  All_box_ACCBALANCED_TSF_C.append(temp)\n",
        "All_box_ACCBALANCED_TSF_C"
      ]
    },
    {
      "cell_type": "code",
      "execution_count": null,
      "metadata": {
        "colab": {
          "base_uri": "https://localhost:8080/"
        },
        "id": "U_JIr-pX3QND",
        "outputId": "73ecd043-6a52-4eb6-c533-27224d4b9a10"
      },
      "outputs": [
        {
          "output_type": "execute_result",
          "data": {
            "text/plain": [
              "0.81"
            ]
          },
          "metadata": {},
          "execution_count": 86
        }
      ],
      "source": [
        "import numpy as np\n",
        "\n",
        "F1_TSF_C = round(np.mean(lst_f1_stratified_C_TSF), 2)\n",
        "F1_TSF_C"
      ]
    },
    {
      "cell_type": "code",
      "execution_count": null,
      "metadata": {
        "colab": {
          "base_uri": "https://localhost:8080/"
        },
        "id": "5Rt_mL8U3QND",
        "outputId": "707643ab-e625-4753-fe51-f575d39da08c"
      },
      "outputs": [
        {
          "output_type": "execute_result",
          "data": {
            "text/plain": [
              "[0.81]"
            ]
          },
          "metadata": {},
          "execution_count": 87
        }
      ],
      "source": [
        "All_box_F1_TSF_C = []\n",
        "for k in box_f1_C_TSF:\n",
        "  temp = round(np.mean(k), 2)\n",
        "  All_box_F1_TSF_C.append(temp)\n",
        "All_box_F1_TSF_C"
      ]
    },
    {
      "cell_type": "code",
      "execution_count": null,
      "metadata": {
        "id": "_N5qSnyi3QND"
      },
      "outputs": [],
      "source": []
    },
    {
      "cell_type": "code",
      "execution_count": null,
      "metadata": {
        "colab": {
          "base_uri": "https://localhost:8080/"
        },
        "id": "Z4V3dp2M3QND",
        "outputId": "92823e75-e722-46da-b311-80f2c76363eb"
      },
      "outputs": [
        {
          "output_type": "execute_result",
          "data": {
            "text/plain": [
              "0.75"
            ]
          },
          "metadata": {},
          "execution_count": 88
        }
      ],
      "source": [
        "import numpy as np\n",
        "\n",
        "ACC_ROCKET_C = round(np.mean(lst_accu_stratified_C_ROCKET), 2)\n",
        "ACC_ROCKET_C"
      ]
    },
    {
      "cell_type": "code",
      "execution_count": null,
      "metadata": {
        "colab": {
          "base_uri": "https://localhost:8080/"
        },
        "id": "hP3dpxt73QNE",
        "outputId": "4a16dd71-70c6-45ae-e9f6-c2268d6ca90a"
      },
      "outputs": [
        {
          "output_type": "execute_result",
          "data": {
            "text/plain": [
              "[0.75]"
            ]
          },
          "metadata": {},
          "execution_count": 89
        }
      ],
      "source": [
        "All_box_ACC_ROCKET_C = []\n",
        "for k in box_accuracy_C_ROCKET:\n",
        "  temp = round(np.mean(k), 2)\n",
        "  All_box_ACC_ROCKET_C.append(temp)\n",
        "All_box_ACC_ROCKET_C"
      ]
    },
    {
      "cell_type": "code",
      "execution_count": null,
      "metadata": {
        "colab": {
          "base_uri": "https://localhost:8080/"
        },
        "outputId": "ba255118-ced5-4e2d-89a8-174907aa8768",
        "id": "K89Apj9WOvHW"
      },
      "outputs": [
        {
          "output_type": "execute_result",
          "data": {
            "text/plain": [
              "0.75"
            ]
          },
          "metadata": {},
          "execution_count": 90
        }
      ],
      "source": [
        "import numpy as np\n",
        "\n",
        "ACCBALANCED_ROCKET_C = round(np.mean(lst_accuBalanced_stratified_C_ROCKET), 2)\n",
        "ACCBALANCED_ROCKET_C"
      ]
    },
    {
      "cell_type": "code",
      "execution_count": null,
      "metadata": {
        "colab": {
          "base_uri": "https://localhost:8080/"
        },
        "outputId": "7988da5e-b672-48c0-dec0-b51a6725c855",
        "id": "orJc1ReOOvHW"
      },
      "outputs": [
        {
          "output_type": "execute_result",
          "data": {
            "text/plain": [
              "[0.75]"
            ]
          },
          "metadata": {},
          "execution_count": 91
        }
      ],
      "source": [
        "All_box_ACCBALANCED_ROCKET_C = []\n",
        "for k in box_accuracyBalanced_C_ROCKET:\n",
        "  temp = round(np.mean(k), 2)\n",
        "  All_box_ACCBALANCED_ROCKET_C.append(temp)\n",
        "All_box_ACCBALANCED_ROCKET_C"
      ]
    },
    {
      "cell_type": "code",
      "execution_count": null,
      "metadata": {
        "colab": {
          "base_uri": "https://localhost:8080/"
        },
        "id": "1gPC_2qu3QNE",
        "outputId": "c501e111-edfe-4f69-ff9d-0f67ee037b44"
      },
      "outputs": [
        {
          "output_type": "execute_result",
          "data": {
            "text/plain": [
              "0.75"
            ]
          },
          "metadata": {},
          "execution_count": 92
        }
      ],
      "source": [
        "import numpy as np\n",
        "\n",
        "F1_ROCKET_C = round(np.mean(lst_f1_stratified_C_ROCKET), 2)\n",
        "F1_ROCKET_C"
      ]
    },
    {
      "cell_type": "code",
      "execution_count": null,
      "metadata": {
        "colab": {
          "base_uri": "https://localhost:8080/"
        },
        "id": "5eeGM6x63QNE",
        "outputId": "0bef89bc-60d8-4938-f9a4-7bffb3899ac4"
      },
      "outputs": [
        {
          "output_type": "execute_result",
          "data": {
            "text/plain": [
              "[0.75]"
            ]
          },
          "metadata": {},
          "execution_count": 93
        }
      ],
      "source": [
        "All_box_F1_ROCKET_C = []\n",
        "for k in box_f1_C_ROCKET:\n",
        "  temp = round(np.mean(k), 2)\n",
        "  All_box_F1_ROCKET_C.append(temp)\n",
        "All_box_F1_ROCKET_C"
      ]
    },
    {
      "cell_type": "code",
      "source": [],
      "metadata": {
        "id": "R5u4C_XZweFT"
      },
      "execution_count": null,
      "outputs": []
    },
    {
      "cell_type": "code",
      "execution_count": null,
      "metadata": {
        "colab": {
          "base_uri": "https://localhost:8080/"
        },
        "outputId": "5c5bbcbf-5e25-4fff-cc43-6b67c14562e5",
        "id": "Val5LhYswf7e"
      },
      "outputs": [
        {
          "output_type": "execute_result",
          "data": {
            "text/plain": [
              "0.65"
            ]
          },
          "metadata": {},
          "execution_count": 94
        }
      ],
      "source": [
        "import numpy as np\n",
        "\n",
        "ACC_SHAPELET_C = round(np.mean(lst_accu_stratified_C_SHAPELET), 2)\n",
        "ACC_SHAPELET_C"
      ]
    },
    {
      "cell_type": "code",
      "execution_count": null,
      "metadata": {
        "colab": {
          "base_uri": "https://localhost:8080/"
        },
        "outputId": "ad46fbe1-6cc5-4ed9-cfef-b23f68b87ad9",
        "id": "L7ykw2Grwf7f"
      },
      "outputs": [
        {
          "output_type": "execute_result",
          "data": {
            "text/plain": [
              "[0.65]"
            ]
          },
          "metadata": {},
          "execution_count": 95
        }
      ],
      "source": [
        "All_box_ACC_SHAPELET_C = []\n",
        "for k in box_accuracy_C_SHAPELET:\n",
        "  temp = round(np.mean(k), 2)\n",
        "  All_box_ACC_SHAPELET_C.append(temp)\n",
        "All_box_ACC_SHAPELET_C"
      ]
    },
    {
      "cell_type": "code",
      "execution_count": null,
      "metadata": {
        "colab": {
          "base_uri": "https://localhost:8080/"
        },
        "outputId": "38c512a7-3fc7-4275-f57d-8369be77f867",
        "id": "4U6hKSGmwf7f"
      },
      "outputs": [
        {
          "output_type": "execute_result",
          "data": {
            "text/plain": [
              "0.65"
            ]
          },
          "metadata": {},
          "execution_count": 96
        }
      ],
      "source": [
        "import numpy as np\n",
        "\n",
        "ACCBALANCED_SHAPELET_C = round(np.mean(lst_accuBalanced_stratified_C_SHAPELET), 2)\n",
        "ACCBALANCED_SHAPELET_C"
      ]
    },
    {
      "cell_type": "code",
      "execution_count": null,
      "metadata": {
        "colab": {
          "base_uri": "https://localhost:8080/"
        },
        "outputId": "60d7334b-ebb8-4c6c-f856-747e1a3b45f9",
        "id": "80rf3jEGwf7f"
      },
      "outputs": [
        {
          "output_type": "execute_result",
          "data": {
            "text/plain": [
              "[0.65]"
            ]
          },
          "metadata": {},
          "execution_count": 97
        }
      ],
      "source": [
        "All_box_ACCBALANCED_SHAPELET_C = []\n",
        "for k in box_accuracyBalanced_C_SHAPELET:\n",
        "  temp = round(np.mean(k), 2)\n",
        "  All_box_ACCBALANCED_SHAPELET_C.append(temp)\n",
        "All_box_ACCBALANCED_SHAPELET_C"
      ]
    },
    {
      "cell_type": "code",
      "execution_count": null,
      "metadata": {
        "colab": {
          "base_uri": "https://localhost:8080/"
        },
        "outputId": "d52530ad-9835-4cc7-c692-f2c8e7942045",
        "id": "DJLg20oKwf7f"
      },
      "outputs": [
        {
          "output_type": "execute_result",
          "data": {
            "text/plain": [
              "0.65"
            ]
          },
          "metadata": {},
          "execution_count": 98
        }
      ],
      "source": [
        "import numpy as np\n",
        "\n",
        "F1_SHAPELET_C = round(np.mean(lst_f1_stratified_C_SHAPELET), 2)\n",
        "F1_SHAPELET_C"
      ]
    },
    {
      "cell_type": "code",
      "execution_count": null,
      "metadata": {
        "colab": {
          "base_uri": "https://localhost:8080/"
        },
        "outputId": "95c4922e-3fa2-462e-dab5-08efdecdd552",
        "id": "2pEmhbMfwf7g"
      },
      "outputs": [
        {
          "output_type": "execute_result",
          "data": {
            "text/plain": [
              "[0.65]"
            ]
          },
          "metadata": {},
          "execution_count": 99
        }
      ],
      "source": [
        "All_box_F1_SHAPELET_C = []\n",
        "for k in box_f1_C_SHAPELET:\n",
        "  temp = round(np.mean(k), 2)\n",
        "  All_box_F1_SHAPELET_C.append(temp)\n",
        "All_box_F1_SHAPELET_C"
      ]
    },
    {
      "cell_type": "code",
      "execution_count": null,
      "metadata": {
        "id": "LyYAK56-Xghn"
      },
      "outputs": [],
      "source": []
    },
    {
      "cell_type": "code",
      "execution_count": null,
      "metadata": {
        "id": "G0KDuXUGXgfI"
      },
      "outputs": [],
      "source": []
    },
    {
      "cell_type": "markdown",
      "metadata": {
        "id": "r0ljzITkLLUn"
      },
      "source": [
        "# [1/3]"
      ]
    },
    {
      "cell_type": "code",
      "execution_count": null,
      "metadata": {
        "id": "HQpKYeVVLLUo"
      },
      "outputs": [],
      "source": [
        "from sktime.classification.interval_based import TimeSeriesForestClassifier"
      ]
    },
    {
      "cell_type": "code",
      "execution_count": null,
      "metadata": {
        "id": "OsgRUpaRLLUo"
      },
      "outputs": [],
      "source": [
        "SEP_df_1 = pd.read_csv(\"/content/sample_data/SEP_data.csv\", header = 0)\n",
        "# SEP_df_1 = SEP_df_1.drop([78, 79, 80, 81])"
      ]
    },
    {
      "cell_type": "code",
      "execution_count": null,
      "metadata": {
        "id": "nK_vYXAWLLUo"
      },
      "outputs": [],
      "source": [
        "NSEP_df_312 = pd.read_csv(\"/content/sample_data/NSEP_data_312.csv\", header = 0)\n",
        "# NSEP_df_312 = NSEP_df_312.drop([78, 79, 80, 80])"
      ]
    },
    {
      "cell_type": "code",
      "execution_count": null,
      "metadata": {
        "id": "DHtcho-mLLUo"
      },
      "outputs": [],
      "source": [
        "def DA_Jitter(X, sigma, p):  # 0.00089  or  0.03  or 0.0002\n",
        "    R = np.random.RandomState(p)\n",
        "    myNoise = R.normal(loc=0, scale=sigma, size=X.shape)\n",
        "    return X+myNoise"
      ]
    },
    {
      "cell_type": "code",
      "execution_count": null,
      "metadata": {
        "id": "1TUZkG2vLLUo"
      },
      "outputs": [],
      "source": [
        "SEP_df_2 = DA_Jitter(SEP_df_1, 0.0002, 2)"
      ]
    },
    {
      "cell_type": "code",
      "execution_count": null,
      "metadata": {
        "id": "Si-pC2VYLLUo",
        "colab": {
          "base_uri": "https://localhost:8080/"
        },
        "outputId": "024aad1c-49ef-4fd7-8904-8043409a8277"
      },
      "outputs": [
        {
          "output_type": "stream",
          "name": "stderr",
          "text": [
            "<ipython-input-105-c27c9b1f2212>:1: FutureWarning: The frame.append method is deprecated and will be removed from pandas in a future version. Use pandas.concat instead.\n",
            "  SEP_df_156 = SEP_df_1.append(SEP_df_2)\n"
          ]
        }
      ],
      "source": [
        "SEP_df_156 = SEP_df_1.append(SEP_df_2)\n",
        "SEP_df_156 = SEP_df_156.reset_index(drop = True)"
      ]
    },
    {
      "cell_type": "code",
      "execution_count": null,
      "metadata": {
        "id": "VRtIQWuNLLUo",
        "colab": {
          "base_uri": "https://localhost:8080/",
          "height": 488
        },
        "outputId": "76666e64-d2e1-45db-a85a-394c2f915f3a"
      },
      "outputs": [
        {
          "output_type": "execute_result",
          "data": {
            "text/plain": [
              "            0         1         2         3         4         5         6  \\\n",
              "0    0.003550  0.003120  0.002950  0.003560  0.004060  0.002880  0.003050   \n",
              "1    0.009020  0.008510  0.007710  0.008280  0.007360  0.007160  0.007850   \n",
              "2    0.002850  0.002840  0.003000  0.002880  0.003100  0.002640  0.002900   \n",
              "3    0.002650  0.003030  0.002950  0.003360  0.002850  0.003030  0.003100   \n",
              "4    0.003450  0.003080  0.004110  0.003460  0.003500  0.003750  0.003550   \n",
              "..        ...       ...       ...       ...       ...       ...       ...   \n",
              "181  0.004777  0.003730  0.004390  0.004596  0.004651  0.003469  0.005081   \n",
              "182  0.003691  0.002962  0.004136  0.003639  0.003678  0.003503  0.002713   \n",
              "183  0.004853  0.004463  0.005442  0.004668  0.004394  0.004996  0.005071   \n",
              "184  0.003695  0.003887  0.004923  0.004374  0.004114  0.004055  0.003611   \n",
              "185  0.004173  0.003714  0.003868  0.003973  0.003904  0.004256  0.004138   \n",
              "\n",
              "            7         8         9  ...        50        51        52  \\\n",
              "0    0.003360  0.003400  0.003030  ...  0.004470  0.003250  0.003360   \n",
              "1    0.007930  0.007260  0.009840  ...  0.007450  0.006900  0.007010   \n",
              "2    0.002550  0.002150  0.002310  ...  0.002840  0.002750  0.002550   \n",
              "3    0.002690  0.002050  0.003460  ...  0.002550  0.003100  0.003600   \n",
              "4    0.003600  0.003350  0.003510  ...  0.003410  0.003550  0.003890   \n",
              "..        ...       ...       ...  ...       ...       ...       ...   \n",
              "181  0.004512  0.004038  0.004814  ...  0.004950  0.004202  0.003901   \n",
              "182  0.003530  0.003838  0.003255  ...  0.003463  0.004326  0.003965   \n",
              "183  0.004516  0.004460  0.004776  ...  0.004119  0.004790  0.004537   \n",
              "184  0.005281  0.004614  0.004308  ...  0.004079  0.004571  0.003808   \n",
              "185  0.004470  0.004664  0.004273  ...  0.003502  0.003721  0.004371   \n",
              "\n",
              "           53        54        55        56        57        58        59  \n",
              "0    0.003050  0.003120  0.003000  0.003270  0.002350  0.002880  0.003100  \n",
              "1    0.006970  0.006680  0.006970  0.007890  0.007760  0.007060  0.007160  \n",
              "2    0.003000  0.002260  0.002800  0.002980  0.002700  0.002740  0.002550  \n",
              "3    0.002350  0.003270  0.002600  0.002550  0.002850  0.002980  0.002900  \n",
              "4    0.004060  0.003510  0.003350  0.003560  0.003150  0.003270  0.003300  \n",
              "..        ...       ...       ...       ...       ...       ...       ...  \n",
              "181  0.005117  0.005399  0.004787  0.004838  0.003683  0.004779  0.004473  \n",
              "182  0.003018  0.004231  0.003419  0.003778  0.003841  0.003821  0.003896  \n",
              "183  0.004253  0.004699  0.004246  0.004309  0.004339  0.004604  0.003757  \n",
              "184  0.004192  0.004079  0.003994  0.004463  0.004276  0.003563  0.004475  \n",
              "185  0.004269  0.003488  0.004765  0.003553  0.004465  0.004308  0.004932  \n",
              "\n",
              "[186 rows x 60 columns]"
            ],
            "text/html": [
              "\n",
              "  <div id=\"df-c0af58a8-00ec-41d3-90cc-9f59146b85c3\">\n",
              "    <div class=\"colab-df-container\">\n",
              "      <div>\n",
              "<style scoped>\n",
              "    .dataframe tbody tr th:only-of-type {\n",
              "        vertical-align: middle;\n",
              "    }\n",
              "\n",
              "    .dataframe tbody tr th {\n",
              "        vertical-align: top;\n",
              "    }\n",
              "\n",
              "    .dataframe thead th {\n",
              "        text-align: right;\n",
              "    }\n",
              "</style>\n",
              "<table border=\"1\" class=\"dataframe\">\n",
              "  <thead>\n",
              "    <tr style=\"text-align: right;\">\n",
              "      <th></th>\n",
              "      <th>0</th>\n",
              "      <th>1</th>\n",
              "      <th>2</th>\n",
              "      <th>3</th>\n",
              "      <th>4</th>\n",
              "      <th>5</th>\n",
              "      <th>6</th>\n",
              "      <th>7</th>\n",
              "      <th>8</th>\n",
              "      <th>9</th>\n",
              "      <th>...</th>\n",
              "      <th>50</th>\n",
              "      <th>51</th>\n",
              "      <th>52</th>\n",
              "      <th>53</th>\n",
              "      <th>54</th>\n",
              "      <th>55</th>\n",
              "      <th>56</th>\n",
              "      <th>57</th>\n",
              "      <th>58</th>\n",
              "      <th>59</th>\n",
              "    </tr>\n",
              "  </thead>\n",
              "  <tbody>\n",
              "    <tr>\n",
              "      <th>0</th>\n",
              "      <td>0.003550</td>\n",
              "      <td>0.003120</td>\n",
              "      <td>0.002950</td>\n",
              "      <td>0.003560</td>\n",
              "      <td>0.004060</td>\n",
              "      <td>0.002880</td>\n",
              "      <td>0.003050</td>\n",
              "      <td>0.003360</td>\n",
              "      <td>0.003400</td>\n",
              "      <td>0.003030</td>\n",
              "      <td>...</td>\n",
              "      <td>0.004470</td>\n",
              "      <td>0.003250</td>\n",
              "      <td>0.003360</td>\n",
              "      <td>0.003050</td>\n",
              "      <td>0.003120</td>\n",
              "      <td>0.003000</td>\n",
              "      <td>0.003270</td>\n",
              "      <td>0.002350</td>\n",
              "      <td>0.002880</td>\n",
              "      <td>0.003100</td>\n",
              "    </tr>\n",
              "    <tr>\n",
              "      <th>1</th>\n",
              "      <td>0.009020</td>\n",
              "      <td>0.008510</td>\n",
              "      <td>0.007710</td>\n",
              "      <td>0.008280</td>\n",
              "      <td>0.007360</td>\n",
              "      <td>0.007160</td>\n",
              "      <td>0.007850</td>\n",
              "      <td>0.007930</td>\n",
              "      <td>0.007260</td>\n",
              "      <td>0.009840</td>\n",
              "      <td>...</td>\n",
              "      <td>0.007450</td>\n",
              "      <td>0.006900</td>\n",
              "      <td>0.007010</td>\n",
              "      <td>0.006970</td>\n",
              "      <td>0.006680</td>\n",
              "      <td>0.006970</td>\n",
              "      <td>0.007890</td>\n",
              "      <td>0.007760</td>\n",
              "      <td>0.007060</td>\n",
              "      <td>0.007160</td>\n",
              "    </tr>\n",
              "    <tr>\n",
              "      <th>2</th>\n",
              "      <td>0.002850</td>\n",
              "      <td>0.002840</td>\n",
              "      <td>0.003000</td>\n",
              "      <td>0.002880</td>\n",
              "      <td>0.003100</td>\n",
              "      <td>0.002640</td>\n",
              "      <td>0.002900</td>\n",
              "      <td>0.002550</td>\n",
              "      <td>0.002150</td>\n",
              "      <td>0.002310</td>\n",
              "      <td>...</td>\n",
              "      <td>0.002840</td>\n",
              "      <td>0.002750</td>\n",
              "      <td>0.002550</td>\n",
              "      <td>0.003000</td>\n",
              "      <td>0.002260</td>\n",
              "      <td>0.002800</td>\n",
              "      <td>0.002980</td>\n",
              "      <td>0.002700</td>\n",
              "      <td>0.002740</td>\n",
              "      <td>0.002550</td>\n",
              "    </tr>\n",
              "    <tr>\n",
              "      <th>3</th>\n",
              "      <td>0.002650</td>\n",
              "      <td>0.003030</td>\n",
              "      <td>0.002950</td>\n",
              "      <td>0.003360</td>\n",
              "      <td>0.002850</td>\n",
              "      <td>0.003030</td>\n",
              "      <td>0.003100</td>\n",
              "      <td>0.002690</td>\n",
              "      <td>0.002050</td>\n",
              "      <td>0.003460</td>\n",
              "      <td>...</td>\n",
              "      <td>0.002550</td>\n",
              "      <td>0.003100</td>\n",
              "      <td>0.003600</td>\n",
              "      <td>0.002350</td>\n",
              "      <td>0.003270</td>\n",
              "      <td>0.002600</td>\n",
              "      <td>0.002550</td>\n",
              "      <td>0.002850</td>\n",
              "      <td>0.002980</td>\n",
              "      <td>0.002900</td>\n",
              "    </tr>\n",
              "    <tr>\n",
              "      <th>4</th>\n",
              "      <td>0.003450</td>\n",
              "      <td>0.003080</td>\n",
              "      <td>0.004110</td>\n",
              "      <td>0.003460</td>\n",
              "      <td>0.003500</td>\n",
              "      <td>0.003750</td>\n",
              "      <td>0.003550</td>\n",
              "      <td>0.003600</td>\n",
              "      <td>0.003350</td>\n",
              "      <td>0.003510</td>\n",
              "      <td>...</td>\n",
              "      <td>0.003410</td>\n",
              "      <td>0.003550</td>\n",
              "      <td>0.003890</td>\n",
              "      <td>0.004060</td>\n",
              "      <td>0.003510</td>\n",
              "      <td>0.003350</td>\n",
              "      <td>0.003560</td>\n",
              "      <td>0.003150</td>\n",
              "      <td>0.003270</td>\n",
              "      <td>0.003300</td>\n",
              "    </tr>\n",
              "    <tr>\n",
              "      <th>...</th>\n",
              "      <td>...</td>\n",
              "      <td>...</td>\n",
              "      <td>...</td>\n",
              "      <td>...</td>\n",
              "      <td>...</td>\n",
              "      <td>...</td>\n",
              "      <td>...</td>\n",
              "      <td>...</td>\n",
              "      <td>...</td>\n",
              "      <td>...</td>\n",
              "      <td>...</td>\n",
              "      <td>...</td>\n",
              "      <td>...</td>\n",
              "      <td>...</td>\n",
              "      <td>...</td>\n",
              "      <td>...</td>\n",
              "      <td>...</td>\n",
              "      <td>...</td>\n",
              "      <td>...</td>\n",
              "      <td>...</td>\n",
              "      <td>...</td>\n",
              "    </tr>\n",
              "    <tr>\n",
              "      <th>181</th>\n",
              "      <td>0.004777</td>\n",
              "      <td>0.003730</td>\n",
              "      <td>0.004390</td>\n",
              "      <td>0.004596</td>\n",
              "      <td>0.004651</td>\n",
              "      <td>0.003469</td>\n",
              "      <td>0.005081</td>\n",
              "      <td>0.004512</td>\n",
              "      <td>0.004038</td>\n",
              "      <td>0.004814</td>\n",
              "      <td>...</td>\n",
              "      <td>0.004950</td>\n",
              "      <td>0.004202</td>\n",
              "      <td>0.003901</td>\n",
              "      <td>0.005117</td>\n",
              "      <td>0.005399</td>\n",
              "      <td>0.004787</td>\n",
              "      <td>0.004838</td>\n",
              "      <td>0.003683</td>\n",
              "      <td>0.004779</td>\n",
              "      <td>0.004473</td>\n",
              "    </tr>\n",
              "    <tr>\n",
              "      <th>182</th>\n",
              "      <td>0.003691</td>\n",
              "      <td>0.002962</td>\n",
              "      <td>0.004136</td>\n",
              "      <td>0.003639</td>\n",
              "      <td>0.003678</td>\n",
              "      <td>0.003503</td>\n",
              "      <td>0.002713</td>\n",
              "      <td>0.003530</td>\n",
              "      <td>0.003838</td>\n",
              "      <td>0.003255</td>\n",
              "      <td>...</td>\n",
              "      <td>0.003463</td>\n",
              "      <td>0.004326</td>\n",
              "      <td>0.003965</td>\n",
              "      <td>0.003018</td>\n",
              "      <td>0.004231</td>\n",
              "      <td>0.003419</td>\n",
              "      <td>0.003778</td>\n",
              "      <td>0.003841</td>\n",
              "      <td>0.003821</td>\n",
              "      <td>0.003896</td>\n",
              "    </tr>\n",
              "    <tr>\n",
              "      <th>183</th>\n",
              "      <td>0.004853</td>\n",
              "      <td>0.004463</td>\n",
              "      <td>0.005442</td>\n",
              "      <td>0.004668</td>\n",
              "      <td>0.004394</td>\n",
              "      <td>0.004996</td>\n",
              "      <td>0.005071</td>\n",
              "      <td>0.004516</td>\n",
              "      <td>0.004460</td>\n",
              "      <td>0.004776</td>\n",
              "      <td>...</td>\n",
              "      <td>0.004119</td>\n",
              "      <td>0.004790</td>\n",
              "      <td>0.004537</td>\n",
              "      <td>0.004253</td>\n",
              "      <td>0.004699</td>\n",
              "      <td>0.004246</td>\n",
              "      <td>0.004309</td>\n",
              "      <td>0.004339</td>\n",
              "      <td>0.004604</td>\n",
              "      <td>0.003757</td>\n",
              "    </tr>\n",
              "    <tr>\n",
              "      <th>184</th>\n",
              "      <td>0.003695</td>\n",
              "      <td>0.003887</td>\n",
              "      <td>0.004923</td>\n",
              "      <td>0.004374</td>\n",
              "      <td>0.004114</td>\n",
              "      <td>0.004055</td>\n",
              "      <td>0.003611</td>\n",
              "      <td>0.005281</td>\n",
              "      <td>0.004614</td>\n",
              "      <td>0.004308</td>\n",
              "      <td>...</td>\n",
              "      <td>0.004079</td>\n",
              "      <td>0.004571</td>\n",
              "      <td>0.003808</td>\n",
              "      <td>0.004192</td>\n",
              "      <td>0.004079</td>\n",
              "      <td>0.003994</td>\n",
              "      <td>0.004463</td>\n",
              "      <td>0.004276</td>\n",
              "      <td>0.003563</td>\n",
              "      <td>0.004475</td>\n",
              "    </tr>\n",
              "    <tr>\n",
              "      <th>185</th>\n",
              "      <td>0.004173</td>\n",
              "      <td>0.003714</td>\n",
              "      <td>0.003868</td>\n",
              "      <td>0.003973</td>\n",
              "      <td>0.003904</td>\n",
              "      <td>0.004256</td>\n",
              "      <td>0.004138</td>\n",
              "      <td>0.004470</td>\n",
              "      <td>0.004664</td>\n",
              "      <td>0.004273</td>\n",
              "      <td>...</td>\n",
              "      <td>0.003502</td>\n",
              "      <td>0.003721</td>\n",
              "      <td>0.004371</td>\n",
              "      <td>0.004269</td>\n",
              "      <td>0.003488</td>\n",
              "      <td>0.004765</td>\n",
              "      <td>0.003553</td>\n",
              "      <td>0.004465</td>\n",
              "      <td>0.004308</td>\n",
              "      <td>0.004932</td>\n",
              "    </tr>\n",
              "  </tbody>\n",
              "</table>\n",
              "<p>186 rows × 60 columns</p>\n",
              "</div>\n",
              "      <button class=\"colab-df-convert\" onclick=\"convertToInteractive('df-c0af58a8-00ec-41d3-90cc-9f59146b85c3')\"\n",
              "              title=\"Convert this dataframe to an interactive table.\"\n",
              "              style=\"display:none;\">\n",
              "        \n",
              "  <svg xmlns=\"http://www.w3.org/2000/svg\" height=\"24px\"viewBox=\"0 0 24 24\"\n",
              "       width=\"24px\">\n",
              "    <path d=\"M0 0h24v24H0V0z\" fill=\"none\"/>\n",
              "    <path d=\"M18.56 5.44l.94 2.06.94-2.06 2.06-.94-2.06-.94-.94-2.06-.94 2.06-2.06.94zm-11 1L8.5 8.5l.94-2.06 2.06-.94-2.06-.94L8.5 2.5l-.94 2.06-2.06.94zm10 10l.94 2.06.94-2.06 2.06-.94-2.06-.94-.94-2.06-.94 2.06-2.06.94z\"/><path d=\"M17.41 7.96l-1.37-1.37c-.4-.4-.92-.59-1.43-.59-.52 0-1.04.2-1.43.59L10.3 9.45l-7.72 7.72c-.78.78-.78 2.05 0 2.83L4 21.41c.39.39.9.59 1.41.59.51 0 1.02-.2 1.41-.59l7.78-7.78 2.81-2.81c.8-.78.8-2.07 0-2.86zM5.41 20L4 18.59l7.72-7.72 1.47 1.35L5.41 20z\"/>\n",
              "  </svg>\n",
              "      </button>\n",
              "      \n",
              "  <style>\n",
              "    .colab-df-container {\n",
              "      display:flex;\n",
              "      flex-wrap:wrap;\n",
              "      gap: 12px;\n",
              "    }\n",
              "\n",
              "    .colab-df-convert {\n",
              "      background-color: #E8F0FE;\n",
              "      border: none;\n",
              "      border-radius: 50%;\n",
              "      cursor: pointer;\n",
              "      display: none;\n",
              "      fill: #1967D2;\n",
              "      height: 32px;\n",
              "      padding: 0 0 0 0;\n",
              "      width: 32px;\n",
              "    }\n",
              "\n",
              "    .colab-df-convert:hover {\n",
              "      background-color: #E2EBFA;\n",
              "      box-shadow: 0px 1px 2px rgba(60, 64, 67, 0.3), 0px 1px 3px 1px rgba(60, 64, 67, 0.15);\n",
              "      fill: #174EA6;\n",
              "    }\n",
              "\n",
              "    [theme=dark] .colab-df-convert {\n",
              "      background-color: #3B4455;\n",
              "      fill: #D2E3FC;\n",
              "    }\n",
              "\n",
              "    [theme=dark] .colab-df-convert:hover {\n",
              "      background-color: #434B5C;\n",
              "      box-shadow: 0px 1px 3px 1px rgba(0, 0, 0, 0.15);\n",
              "      filter: drop-shadow(0px 1px 2px rgba(0, 0, 0, 0.3));\n",
              "      fill: #FFFFFF;\n",
              "    }\n",
              "  </style>\n",
              "\n",
              "      <script>\n",
              "        const buttonEl =\n",
              "          document.querySelector('#df-c0af58a8-00ec-41d3-90cc-9f59146b85c3 button.colab-df-convert');\n",
              "        buttonEl.style.display =\n",
              "          google.colab.kernel.accessAllowed ? 'block' : 'none';\n",
              "\n",
              "        async function convertToInteractive(key) {\n",
              "          const element = document.querySelector('#df-c0af58a8-00ec-41d3-90cc-9f59146b85c3');\n",
              "          const dataTable =\n",
              "            await google.colab.kernel.invokeFunction('convertToInteractive',\n",
              "                                                     [key], {});\n",
              "          if (!dataTable) return;\n",
              "\n",
              "          const docLinkHtml = 'Like what you see? Visit the ' +\n",
              "            '<a target=\"_blank\" href=https://colab.research.google.com/notebooks/data_table.ipynb>data table notebook</a>'\n",
              "            + ' to learn more about interactive tables.';\n",
              "          element.innerHTML = '';\n",
              "          dataTable['output_type'] = 'display_data';\n",
              "          await google.colab.output.renderOutput(dataTable, element);\n",
              "          const docLink = document.createElement('div');\n",
              "          docLink.innerHTML = docLinkHtml;\n",
              "          element.appendChild(docLink);\n",
              "        }\n",
              "      </script>\n",
              "    </div>\n",
              "  </div>\n",
              "  "
            ]
          },
          "metadata": {},
          "execution_count": 106
        }
      ],
      "source": [
        "SEP_df_156"
      ]
    },
    {
      "cell_type": "code",
      "execution_count": null,
      "metadata": {
        "id": "p7Q5xdnILLUo"
      },
      "outputs": [],
      "source": [
        "SEP_df_3 = DA_Jitter(SEP_df_1, 0.0002, 42)"
      ]
    },
    {
      "cell_type": "code",
      "execution_count": null,
      "metadata": {
        "id": "4pH1KR_HLLUo",
        "colab": {
          "base_uri": "https://localhost:8080/"
        },
        "outputId": "430236c5-3736-45e8-b21e-9d97eecc38aa"
      },
      "outputs": [
        {
          "output_type": "stream",
          "name": "stderr",
          "text": [
            "<ipython-input-108-3fd562fe6152>:1: FutureWarning: The frame.append method is deprecated and will be removed from pandas in a future version. Use pandas.concat instead.\n",
            "  SEP_df_234 = SEP_df_156.append(SEP_df_3)\n"
          ]
        }
      ],
      "source": [
        "SEP_df_234 = SEP_df_156.append(SEP_df_3)\n",
        "SEP_df_234 = SEP_df_234.reset_index(drop = True)"
      ]
    },
    {
      "cell_type": "code",
      "execution_count": null,
      "metadata": {
        "id": "Z9VlWlkpLLUo",
        "colab": {
          "base_uri": "https://localhost:8080/",
          "height": 488
        },
        "outputId": "35ff5823-b2dd-48f8-9b8c-c96f14e5fe5f"
      },
      "outputs": [
        {
          "output_type": "execute_result",
          "data": {
            "text/plain": [
              "            0         1         2         3         4         5         6  \\\n",
              "0    0.003550  0.003120  0.002950  0.003560  0.004060  0.002880  0.003050   \n",
              "1    0.009020  0.008510  0.007710  0.008280  0.007360  0.007160  0.007850   \n",
              "2    0.002850  0.002840  0.003000  0.002880  0.003100  0.002640  0.002900   \n",
              "3    0.002650  0.003030  0.002950  0.003360  0.002850  0.003030  0.003100   \n",
              "4    0.003450  0.003080  0.004110  0.003460  0.003500  0.003750  0.003550   \n",
              "..        ...       ...       ...       ...       ...       ...       ...   \n",
              "274  0.004411  0.003790  0.004779  0.004693  0.004897  0.003877  0.004804   \n",
              "275  0.003380  0.003033  0.003725  0.003377  0.003627  0.003858  0.002892   \n",
              "276  0.004607  0.004663  0.005391  0.004693  0.004233  0.004981  0.004538   \n",
              "277  0.003854  0.004095  0.005028  0.004525  0.003841  0.004264  0.003751   \n",
              "278  0.003950  0.003425  0.004487  0.004078  0.004165  0.004180  0.004289   \n",
              "\n",
              "            7         8         9  ...        50        51        52  \\\n",
              "0    0.003360  0.003400  0.003030  ...  0.004470  0.003250  0.003360   \n",
              "1    0.007930  0.007260  0.009840  ...  0.007450  0.006900  0.007010   \n",
              "2    0.002550  0.002150  0.002310  ...  0.002840  0.002750  0.002550   \n",
              "3    0.002690  0.002050  0.003460  ...  0.002550  0.003100  0.003600   \n",
              "4    0.003600  0.003350  0.003510  ...  0.003410  0.003550  0.003890   \n",
              "..        ...       ...       ...  ...       ...       ...       ...   \n",
              "274  0.004744  0.004046  0.004891  ...  0.004533  0.004454  0.003981   \n",
              "275  0.002846  0.003631  0.003598  ...  0.003282  0.004064  0.004119   \n",
              "276  0.004735  0.004295  0.005000  ...  0.004078  0.005036  0.004575   \n",
              "277  0.005097  0.004745  0.004327  ...  0.003991  0.004583  0.003820   \n",
              "278  0.004711  0.004571  0.004178  ...  0.003590  0.004026  0.004064   \n",
              "\n",
              "           53        54        55        56        57        58        59  \n",
              "0    0.003050  0.003120  0.003000  0.003270  0.002350  0.002880  0.003100  \n",
              "1    0.006970  0.006680  0.006970  0.007890  0.007760  0.007060  0.007160  \n",
              "2    0.003000  0.002260  0.002800  0.002980  0.002700  0.002740  0.002550  \n",
              "3    0.002350  0.003270  0.002600  0.002550  0.002850  0.002980  0.002900  \n",
              "4    0.004060  0.003510  0.003350  0.003560  0.003150  0.003270  0.003300  \n",
              "..        ...       ...       ...       ...       ...       ...       ...  \n",
              "274  0.005523  0.005435  0.004406  0.004437  0.003634  0.004944  0.004693  \n",
              "275  0.003146  0.003783  0.003582  0.004215  0.003873  0.003449  0.003721  \n",
              "276  0.003708  0.004972  0.004514  0.004210  0.004280  0.004705  0.004092  \n",
              "277  0.004185  0.004474  0.003795  0.004301  0.004360  0.003309  0.003900  \n",
              "278  0.003685  0.003225  0.004351  0.003593  0.004680  0.004033  0.004542  \n",
              "\n",
              "[279 rows x 60 columns]"
            ],
            "text/html": [
              "\n",
              "  <div id=\"df-10e6bcbe-0ae8-48e6-8197-702e3909a411\">\n",
              "    <div class=\"colab-df-container\">\n",
              "      <div>\n",
              "<style scoped>\n",
              "    .dataframe tbody tr th:only-of-type {\n",
              "        vertical-align: middle;\n",
              "    }\n",
              "\n",
              "    .dataframe tbody tr th {\n",
              "        vertical-align: top;\n",
              "    }\n",
              "\n",
              "    .dataframe thead th {\n",
              "        text-align: right;\n",
              "    }\n",
              "</style>\n",
              "<table border=\"1\" class=\"dataframe\">\n",
              "  <thead>\n",
              "    <tr style=\"text-align: right;\">\n",
              "      <th></th>\n",
              "      <th>0</th>\n",
              "      <th>1</th>\n",
              "      <th>2</th>\n",
              "      <th>3</th>\n",
              "      <th>4</th>\n",
              "      <th>5</th>\n",
              "      <th>6</th>\n",
              "      <th>7</th>\n",
              "      <th>8</th>\n",
              "      <th>9</th>\n",
              "      <th>...</th>\n",
              "      <th>50</th>\n",
              "      <th>51</th>\n",
              "      <th>52</th>\n",
              "      <th>53</th>\n",
              "      <th>54</th>\n",
              "      <th>55</th>\n",
              "      <th>56</th>\n",
              "      <th>57</th>\n",
              "      <th>58</th>\n",
              "      <th>59</th>\n",
              "    </tr>\n",
              "  </thead>\n",
              "  <tbody>\n",
              "    <tr>\n",
              "      <th>0</th>\n",
              "      <td>0.003550</td>\n",
              "      <td>0.003120</td>\n",
              "      <td>0.002950</td>\n",
              "      <td>0.003560</td>\n",
              "      <td>0.004060</td>\n",
              "      <td>0.002880</td>\n",
              "      <td>0.003050</td>\n",
              "      <td>0.003360</td>\n",
              "      <td>0.003400</td>\n",
              "      <td>0.003030</td>\n",
              "      <td>...</td>\n",
              "      <td>0.004470</td>\n",
              "      <td>0.003250</td>\n",
              "      <td>0.003360</td>\n",
              "      <td>0.003050</td>\n",
              "      <td>0.003120</td>\n",
              "      <td>0.003000</td>\n",
              "      <td>0.003270</td>\n",
              "      <td>0.002350</td>\n",
              "      <td>0.002880</td>\n",
              "      <td>0.003100</td>\n",
              "    </tr>\n",
              "    <tr>\n",
              "      <th>1</th>\n",
              "      <td>0.009020</td>\n",
              "      <td>0.008510</td>\n",
              "      <td>0.007710</td>\n",
              "      <td>0.008280</td>\n",
              "      <td>0.007360</td>\n",
              "      <td>0.007160</td>\n",
              "      <td>0.007850</td>\n",
              "      <td>0.007930</td>\n",
              "      <td>0.007260</td>\n",
              "      <td>0.009840</td>\n",
              "      <td>...</td>\n",
              "      <td>0.007450</td>\n",
              "      <td>0.006900</td>\n",
              "      <td>0.007010</td>\n",
              "      <td>0.006970</td>\n",
              "      <td>0.006680</td>\n",
              "      <td>0.006970</td>\n",
              "      <td>0.007890</td>\n",
              "      <td>0.007760</td>\n",
              "      <td>0.007060</td>\n",
              "      <td>0.007160</td>\n",
              "    </tr>\n",
              "    <tr>\n",
              "      <th>2</th>\n",
              "      <td>0.002850</td>\n",
              "      <td>0.002840</td>\n",
              "      <td>0.003000</td>\n",
              "      <td>0.002880</td>\n",
              "      <td>0.003100</td>\n",
              "      <td>0.002640</td>\n",
              "      <td>0.002900</td>\n",
              "      <td>0.002550</td>\n",
              "      <td>0.002150</td>\n",
              "      <td>0.002310</td>\n",
              "      <td>...</td>\n",
              "      <td>0.002840</td>\n",
              "      <td>0.002750</td>\n",
              "      <td>0.002550</td>\n",
              "      <td>0.003000</td>\n",
              "      <td>0.002260</td>\n",
              "      <td>0.002800</td>\n",
              "      <td>0.002980</td>\n",
              "      <td>0.002700</td>\n",
              "      <td>0.002740</td>\n",
              "      <td>0.002550</td>\n",
              "    </tr>\n",
              "    <tr>\n",
              "      <th>3</th>\n",
              "      <td>0.002650</td>\n",
              "      <td>0.003030</td>\n",
              "      <td>0.002950</td>\n",
              "      <td>0.003360</td>\n",
              "      <td>0.002850</td>\n",
              "      <td>0.003030</td>\n",
              "      <td>0.003100</td>\n",
              "      <td>0.002690</td>\n",
              "      <td>0.002050</td>\n",
              "      <td>0.003460</td>\n",
              "      <td>...</td>\n",
              "      <td>0.002550</td>\n",
              "      <td>0.003100</td>\n",
              "      <td>0.003600</td>\n",
              "      <td>0.002350</td>\n",
              "      <td>0.003270</td>\n",
              "      <td>0.002600</td>\n",
              "      <td>0.002550</td>\n",
              "      <td>0.002850</td>\n",
              "      <td>0.002980</td>\n",
              "      <td>0.002900</td>\n",
              "    </tr>\n",
              "    <tr>\n",
              "      <th>4</th>\n",
              "      <td>0.003450</td>\n",
              "      <td>0.003080</td>\n",
              "      <td>0.004110</td>\n",
              "      <td>0.003460</td>\n",
              "      <td>0.003500</td>\n",
              "      <td>0.003750</td>\n",
              "      <td>0.003550</td>\n",
              "      <td>0.003600</td>\n",
              "      <td>0.003350</td>\n",
              "      <td>0.003510</td>\n",
              "      <td>...</td>\n",
              "      <td>0.003410</td>\n",
              "      <td>0.003550</td>\n",
              "      <td>0.003890</td>\n",
              "      <td>0.004060</td>\n",
              "      <td>0.003510</td>\n",
              "      <td>0.003350</td>\n",
              "      <td>0.003560</td>\n",
              "      <td>0.003150</td>\n",
              "      <td>0.003270</td>\n",
              "      <td>0.003300</td>\n",
              "    </tr>\n",
              "    <tr>\n",
              "      <th>...</th>\n",
              "      <td>...</td>\n",
              "      <td>...</td>\n",
              "      <td>...</td>\n",
              "      <td>...</td>\n",
              "      <td>...</td>\n",
              "      <td>...</td>\n",
              "      <td>...</td>\n",
              "      <td>...</td>\n",
              "      <td>...</td>\n",
              "      <td>...</td>\n",
              "      <td>...</td>\n",
              "      <td>...</td>\n",
              "      <td>...</td>\n",
              "      <td>...</td>\n",
              "      <td>...</td>\n",
              "      <td>...</td>\n",
              "      <td>...</td>\n",
              "      <td>...</td>\n",
              "      <td>...</td>\n",
              "      <td>...</td>\n",
              "      <td>...</td>\n",
              "    </tr>\n",
              "    <tr>\n",
              "      <th>274</th>\n",
              "      <td>0.004411</td>\n",
              "      <td>0.003790</td>\n",
              "      <td>0.004779</td>\n",
              "      <td>0.004693</td>\n",
              "      <td>0.004897</td>\n",
              "      <td>0.003877</td>\n",
              "      <td>0.004804</td>\n",
              "      <td>0.004744</td>\n",
              "      <td>0.004046</td>\n",
              "      <td>0.004891</td>\n",
              "      <td>...</td>\n",
              "      <td>0.004533</td>\n",
              "      <td>0.004454</td>\n",
              "      <td>0.003981</td>\n",
              "      <td>0.005523</td>\n",
              "      <td>0.005435</td>\n",
              "      <td>0.004406</td>\n",
              "      <td>0.004437</td>\n",
              "      <td>0.003634</td>\n",
              "      <td>0.004944</td>\n",
              "      <td>0.004693</td>\n",
              "    </tr>\n",
              "    <tr>\n",
              "      <th>275</th>\n",
              "      <td>0.003380</td>\n",
              "      <td>0.003033</td>\n",
              "      <td>0.003725</td>\n",
              "      <td>0.003377</td>\n",
              "      <td>0.003627</td>\n",
              "      <td>0.003858</td>\n",
              "      <td>0.002892</td>\n",
              "      <td>0.002846</td>\n",
              "      <td>0.003631</td>\n",
              "      <td>0.003598</td>\n",
              "      <td>...</td>\n",
              "      <td>0.003282</td>\n",
              "      <td>0.004064</td>\n",
              "      <td>0.004119</td>\n",
              "      <td>0.003146</td>\n",
              "      <td>0.003783</td>\n",
              "      <td>0.003582</td>\n",
              "      <td>0.004215</td>\n",
              "      <td>0.003873</td>\n",
              "      <td>0.003449</td>\n",
              "      <td>0.003721</td>\n",
              "    </tr>\n",
              "    <tr>\n",
              "      <th>276</th>\n",
              "      <td>0.004607</td>\n",
              "      <td>0.004663</td>\n",
              "      <td>0.005391</td>\n",
              "      <td>0.004693</td>\n",
              "      <td>0.004233</td>\n",
              "      <td>0.004981</td>\n",
              "      <td>0.004538</td>\n",
              "      <td>0.004735</td>\n",
              "      <td>0.004295</td>\n",
              "      <td>0.005000</td>\n",
              "      <td>...</td>\n",
              "      <td>0.004078</td>\n",
              "      <td>0.005036</td>\n",
              "      <td>0.004575</td>\n",
              "      <td>0.003708</td>\n",
              "      <td>0.004972</td>\n",
              "      <td>0.004514</td>\n",
              "      <td>0.004210</td>\n",
              "      <td>0.004280</td>\n",
              "      <td>0.004705</td>\n",
              "      <td>0.004092</td>\n",
              "    </tr>\n",
              "    <tr>\n",
              "      <th>277</th>\n",
              "      <td>0.003854</td>\n",
              "      <td>0.004095</td>\n",
              "      <td>0.005028</td>\n",
              "      <td>0.004525</td>\n",
              "      <td>0.003841</td>\n",
              "      <td>0.004264</td>\n",
              "      <td>0.003751</td>\n",
              "      <td>0.005097</td>\n",
              "      <td>0.004745</td>\n",
              "      <td>0.004327</td>\n",
              "      <td>...</td>\n",
              "      <td>0.003991</td>\n",
              "      <td>0.004583</td>\n",
              "      <td>0.003820</td>\n",
              "      <td>0.004185</td>\n",
              "      <td>0.004474</td>\n",
              "      <td>0.003795</td>\n",
              "      <td>0.004301</td>\n",
              "      <td>0.004360</td>\n",
              "      <td>0.003309</td>\n",
              "      <td>0.003900</td>\n",
              "    </tr>\n",
              "    <tr>\n",
              "      <th>278</th>\n",
              "      <td>0.003950</td>\n",
              "      <td>0.003425</td>\n",
              "      <td>0.004487</td>\n",
              "      <td>0.004078</td>\n",
              "      <td>0.004165</td>\n",
              "      <td>0.004180</td>\n",
              "      <td>0.004289</td>\n",
              "      <td>0.004711</td>\n",
              "      <td>0.004571</td>\n",
              "      <td>0.004178</td>\n",
              "      <td>...</td>\n",
              "      <td>0.003590</td>\n",
              "      <td>0.004026</td>\n",
              "      <td>0.004064</td>\n",
              "      <td>0.003685</td>\n",
              "      <td>0.003225</td>\n",
              "      <td>0.004351</td>\n",
              "      <td>0.003593</td>\n",
              "      <td>0.004680</td>\n",
              "      <td>0.004033</td>\n",
              "      <td>0.004542</td>\n",
              "    </tr>\n",
              "  </tbody>\n",
              "</table>\n",
              "<p>279 rows × 60 columns</p>\n",
              "</div>\n",
              "      <button class=\"colab-df-convert\" onclick=\"convertToInteractive('df-10e6bcbe-0ae8-48e6-8197-702e3909a411')\"\n",
              "              title=\"Convert this dataframe to an interactive table.\"\n",
              "              style=\"display:none;\">\n",
              "        \n",
              "  <svg xmlns=\"http://www.w3.org/2000/svg\" height=\"24px\"viewBox=\"0 0 24 24\"\n",
              "       width=\"24px\">\n",
              "    <path d=\"M0 0h24v24H0V0z\" fill=\"none\"/>\n",
              "    <path d=\"M18.56 5.44l.94 2.06.94-2.06 2.06-.94-2.06-.94-.94-2.06-.94 2.06-2.06.94zm-11 1L8.5 8.5l.94-2.06 2.06-.94-2.06-.94L8.5 2.5l-.94 2.06-2.06.94zm10 10l.94 2.06.94-2.06 2.06-.94-2.06-.94-.94-2.06-.94 2.06-2.06.94z\"/><path d=\"M17.41 7.96l-1.37-1.37c-.4-.4-.92-.59-1.43-.59-.52 0-1.04.2-1.43.59L10.3 9.45l-7.72 7.72c-.78.78-.78 2.05 0 2.83L4 21.41c.39.39.9.59 1.41.59.51 0 1.02-.2 1.41-.59l7.78-7.78 2.81-2.81c.8-.78.8-2.07 0-2.86zM5.41 20L4 18.59l7.72-7.72 1.47 1.35L5.41 20z\"/>\n",
              "  </svg>\n",
              "      </button>\n",
              "      \n",
              "  <style>\n",
              "    .colab-df-container {\n",
              "      display:flex;\n",
              "      flex-wrap:wrap;\n",
              "      gap: 12px;\n",
              "    }\n",
              "\n",
              "    .colab-df-convert {\n",
              "      background-color: #E8F0FE;\n",
              "      border: none;\n",
              "      border-radius: 50%;\n",
              "      cursor: pointer;\n",
              "      display: none;\n",
              "      fill: #1967D2;\n",
              "      height: 32px;\n",
              "      padding: 0 0 0 0;\n",
              "      width: 32px;\n",
              "    }\n",
              "\n",
              "    .colab-df-convert:hover {\n",
              "      background-color: #E2EBFA;\n",
              "      box-shadow: 0px 1px 2px rgba(60, 64, 67, 0.3), 0px 1px 3px 1px rgba(60, 64, 67, 0.15);\n",
              "      fill: #174EA6;\n",
              "    }\n",
              "\n",
              "    [theme=dark] .colab-df-convert {\n",
              "      background-color: #3B4455;\n",
              "      fill: #D2E3FC;\n",
              "    }\n",
              "\n",
              "    [theme=dark] .colab-df-convert:hover {\n",
              "      background-color: #434B5C;\n",
              "      box-shadow: 0px 1px 3px 1px rgba(0, 0, 0, 0.15);\n",
              "      filter: drop-shadow(0px 1px 2px rgba(0, 0, 0, 0.3));\n",
              "      fill: #FFFFFF;\n",
              "    }\n",
              "  </style>\n",
              "\n",
              "      <script>\n",
              "        const buttonEl =\n",
              "          document.querySelector('#df-10e6bcbe-0ae8-48e6-8197-702e3909a411 button.colab-df-convert');\n",
              "        buttonEl.style.display =\n",
              "          google.colab.kernel.accessAllowed ? 'block' : 'none';\n",
              "\n",
              "        async function convertToInteractive(key) {\n",
              "          const element = document.querySelector('#df-10e6bcbe-0ae8-48e6-8197-702e3909a411');\n",
              "          const dataTable =\n",
              "            await google.colab.kernel.invokeFunction('convertToInteractive',\n",
              "                                                     [key], {});\n",
              "          if (!dataTable) return;\n",
              "\n",
              "          const docLinkHtml = 'Like what you see? Visit the ' +\n",
              "            '<a target=\"_blank\" href=https://colab.research.google.com/notebooks/data_table.ipynb>data table notebook</a>'\n",
              "            + ' to learn more about interactive tables.';\n",
              "          element.innerHTML = '';\n",
              "          dataTable['output_type'] = 'display_data';\n",
              "          await google.colab.output.renderOutput(dataTable, element);\n",
              "          const docLink = document.createElement('div');\n",
              "          docLink.innerHTML = docLinkHtml;\n",
              "          element.appendChild(docLink);\n",
              "        }\n",
              "      </script>\n",
              "    </div>\n",
              "  </div>\n",
              "  "
            ]
          },
          "metadata": {},
          "execution_count": 109
        }
      ],
      "source": [
        "SEP_df_234"
      ]
    },
    {
      "cell_type": "code",
      "execution_count": null,
      "metadata": {
        "id": "MgcYUk9NQoQC"
      },
      "outputs": [],
      "source": [
        "SEP_df_4 = DA_Jitter(SEP_df_1, 0.0002, 30)"
      ]
    },
    {
      "cell_type": "code",
      "execution_count": null,
      "metadata": {
        "id": "4deSiYwyQoQC",
        "colab": {
          "base_uri": "https://localhost:8080/"
        },
        "outputId": "8f34e3cb-4fbf-43ea-c738-9ab9d82a5c5d"
      },
      "outputs": [
        {
          "output_type": "stream",
          "name": "stderr",
          "text": [
            "<ipython-input-111-cea74f24dcc7>:1: FutureWarning: The frame.append method is deprecated and will be removed from pandas in a future version. Use pandas.concat instead.\n",
            "  SEP_df_312 = SEP_df_234.append(SEP_df_4)\n"
          ]
        }
      ],
      "source": [
        "SEP_df_312 = SEP_df_234.append(SEP_df_4)\n",
        "SEP_df_312 = SEP_df_312.reset_index(drop = True)"
      ]
    },
    {
      "cell_type": "code",
      "execution_count": null,
      "metadata": {
        "colab": {
          "base_uri": "https://localhost:8080/",
          "height": 488
        },
        "outputId": "44475c03-7ffe-4a94-db6d-a17a619394f1",
        "id": "kdyzszelQoQC"
      },
      "outputs": [
        {
          "output_type": "execute_result",
          "data": {
            "text/plain": [
              "            0         1         2         3         4         5         6  \\\n",
              "0    0.003550  0.003120  0.002950  0.003560  0.004060  0.002880  0.003050   \n",
              "1    0.009020  0.008510  0.007710  0.008280  0.007360  0.007160  0.007850   \n",
              "2    0.002850  0.002840  0.003000  0.002880  0.003100  0.002640  0.002900   \n",
              "3    0.002650  0.003030  0.002950  0.003360  0.002850  0.003030  0.003100   \n",
              "4    0.003450  0.003080  0.004110  0.003460  0.003500  0.003750  0.003550   \n",
              "..        ...       ...       ...       ...       ...       ...       ...   \n",
              "367  0.004371  0.003441  0.004631  0.004675  0.004379  0.003870  0.004974   \n",
              "368  0.003750  0.003097  0.004142  0.003079  0.003427  0.003749  0.002955   \n",
              "369  0.005004  0.004547  0.005512  0.004823  0.004664  0.004732  0.004502   \n",
              "370  0.003627  0.004180  0.004703  0.005086  0.004251  0.004652  0.003663   \n",
              "371  0.004058  0.003729  0.004225  0.004101  0.004530  0.004232  0.003668   \n",
              "\n",
              "            7         8         9  ...        50        51        52  \\\n",
              "0    0.003360  0.003400  0.003030  ...  0.004470  0.003250  0.003360   \n",
              "1    0.007930  0.007260  0.009840  ...  0.007450  0.006900  0.007010   \n",
              "2    0.002550  0.002150  0.002310  ...  0.002840  0.002750  0.002550   \n",
              "3    0.002690  0.002050  0.003460  ...  0.002550  0.003100  0.003600   \n",
              "4    0.003600  0.003350  0.003510  ...  0.003410  0.003550  0.003890   \n",
              "..        ...       ...       ...  ...       ...       ...       ...   \n",
              "367  0.004514  0.003996  0.005227  ...  0.004604  0.004329  0.003797   \n",
              "368  0.003301  0.004192  0.003671  ...  0.003423  0.004263  0.003886   \n",
              "369  0.004503  0.004416  0.004318  ...  0.004318  0.004959  0.004434   \n",
              "370  0.005000  0.004871  0.004071  ...  0.003804  0.004719  0.003462   \n",
              "371  0.004731  0.004709  0.004061  ...  0.003557  0.004323  0.003980   \n",
              "\n",
              "           53        54        55        56        57        58        59  \n",
              "0    0.003050  0.003120  0.003000  0.003270  0.002350  0.002880  0.003100  \n",
              "1    0.006970  0.006680  0.006970  0.007890  0.007760  0.007060  0.007160  \n",
              "2    0.003000  0.002260  0.002800  0.002980  0.002700  0.002740  0.002550  \n",
              "3    0.002350  0.003270  0.002600  0.002550  0.002850  0.002980  0.002900  \n",
              "4    0.004060  0.003510  0.003350  0.003560  0.003150  0.003270  0.003300  \n",
              "..        ...       ...       ...       ...       ...       ...       ...  \n",
              "367  0.004911  0.005451  0.004453  0.004548  0.003591  0.005085  0.004347  \n",
              "368  0.002803  0.004034  0.003717  0.004043  0.004004  0.003703  0.003733  \n",
              "369  0.004154  0.004814  0.004432  0.004267  0.003866  0.005321  0.003663  \n",
              "370  0.004227  0.004375  0.003836  0.003948  0.004166  0.003364  0.004388  \n",
              "371  0.003764  0.003494  0.004579  0.003540  0.004852  0.004351  0.004467  \n",
              "\n",
              "[372 rows x 60 columns]"
            ],
            "text/html": [
              "\n",
              "  <div id=\"df-98753a08-a03b-4cf7-98ad-78ef289b1a15\">\n",
              "    <div class=\"colab-df-container\">\n",
              "      <div>\n",
              "<style scoped>\n",
              "    .dataframe tbody tr th:only-of-type {\n",
              "        vertical-align: middle;\n",
              "    }\n",
              "\n",
              "    .dataframe tbody tr th {\n",
              "        vertical-align: top;\n",
              "    }\n",
              "\n",
              "    .dataframe thead th {\n",
              "        text-align: right;\n",
              "    }\n",
              "</style>\n",
              "<table border=\"1\" class=\"dataframe\">\n",
              "  <thead>\n",
              "    <tr style=\"text-align: right;\">\n",
              "      <th></th>\n",
              "      <th>0</th>\n",
              "      <th>1</th>\n",
              "      <th>2</th>\n",
              "      <th>3</th>\n",
              "      <th>4</th>\n",
              "      <th>5</th>\n",
              "      <th>6</th>\n",
              "      <th>7</th>\n",
              "      <th>8</th>\n",
              "      <th>9</th>\n",
              "      <th>...</th>\n",
              "      <th>50</th>\n",
              "      <th>51</th>\n",
              "      <th>52</th>\n",
              "      <th>53</th>\n",
              "      <th>54</th>\n",
              "      <th>55</th>\n",
              "      <th>56</th>\n",
              "      <th>57</th>\n",
              "      <th>58</th>\n",
              "      <th>59</th>\n",
              "    </tr>\n",
              "  </thead>\n",
              "  <tbody>\n",
              "    <tr>\n",
              "      <th>0</th>\n",
              "      <td>0.003550</td>\n",
              "      <td>0.003120</td>\n",
              "      <td>0.002950</td>\n",
              "      <td>0.003560</td>\n",
              "      <td>0.004060</td>\n",
              "      <td>0.002880</td>\n",
              "      <td>0.003050</td>\n",
              "      <td>0.003360</td>\n",
              "      <td>0.003400</td>\n",
              "      <td>0.003030</td>\n",
              "      <td>...</td>\n",
              "      <td>0.004470</td>\n",
              "      <td>0.003250</td>\n",
              "      <td>0.003360</td>\n",
              "      <td>0.003050</td>\n",
              "      <td>0.003120</td>\n",
              "      <td>0.003000</td>\n",
              "      <td>0.003270</td>\n",
              "      <td>0.002350</td>\n",
              "      <td>0.002880</td>\n",
              "      <td>0.003100</td>\n",
              "    </tr>\n",
              "    <tr>\n",
              "      <th>1</th>\n",
              "      <td>0.009020</td>\n",
              "      <td>0.008510</td>\n",
              "      <td>0.007710</td>\n",
              "      <td>0.008280</td>\n",
              "      <td>0.007360</td>\n",
              "      <td>0.007160</td>\n",
              "      <td>0.007850</td>\n",
              "      <td>0.007930</td>\n",
              "      <td>0.007260</td>\n",
              "      <td>0.009840</td>\n",
              "      <td>...</td>\n",
              "      <td>0.007450</td>\n",
              "      <td>0.006900</td>\n",
              "      <td>0.007010</td>\n",
              "      <td>0.006970</td>\n",
              "      <td>0.006680</td>\n",
              "      <td>0.006970</td>\n",
              "      <td>0.007890</td>\n",
              "      <td>0.007760</td>\n",
              "      <td>0.007060</td>\n",
              "      <td>0.007160</td>\n",
              "    </tr>\n",
              "    <tr>\n",
              "      <th>2</th>\n",
              "      <td>0.002850</td>\n",
              "      <td>0.002840</td>\n",
              "      <td>0.003000</td>\n",
              "      <td>0.002880</td>\n",
              "      <td>0.003100</td>\n",
              "      <td>0.002640</td>\n",
              "      <td>0.002900</td>\n",
              "      <td>0.002550</td>\n",
              "      <td>0.002150</td>\n",
              "      <td>0.002310</td>\n",
              "      <td>...</td>\n",
              "      <td>0.002840</td>\n",
              "      <td>0.002750</td>\n",
              "      <td>0.002550</td>\n",
              "      <td>0.003000</td>\n",
              "      <td>0.002260</td>\n",
              "      <td>0.002800</td>\n",
              "      <td>0.002980</td>\n",
              "      <td>0.002700</td>\n",
              "      <td>0.002740</td>\n",
              "      <td>0.002550</td>\n",
              "    </tr>\n",
              "    <tr>\n",
              "      <th>3</th>\n",
              "      <td>0.002650</td>\n",
              "      <td>0.003030</td>\n",
              "      <td>0.002950</td>\n",
              "      <td>0.003360</td>\n",
              "      <td>0.002850</td>\n",
              "      <td>0.003030</td>\n",
              "      <td>0.003100</td>\n",
              "      <td>0.002690</td>\n",
              "      <td>0.002050</td>\n",
              "      <td>0.003460</td>\n",
              "      <td>...</td>\n",
              "      <td>0.002550</td>\n",
              "      <td>0.003100</td>\n",
              "      <td>0.003600</td>\n",
              "      <td>0.002350</td>\n",
              "      <td>0.003270</td>\n",
              "      <td>0.002600</td>\n",
              "      <td>0.002550</td>\n",
              "      <td>0.002850</td>\n",
              "      <td>0.002980</td>\n",
              "      <td>0.002900</td>\n",
              "    </tr>\n",
              "    <tr>\n",
              "      <th>4</th>\n",
              "      <td>0.003450</td>\n",
              "      <td>0.003080</td>\n",
              "      <td>0.004110</td>\n",
              "      <td>0.003460</td>\n",
              "      <td>0.003500</td>\n",
              "      <td>0.003750</td>\n",
              "      <td>0.003550</td>\n",
              "      <td>0.003600</td>\n",
              "      <td>0.003350</td>\n",
              "      <td>0.003510</td>\n",
              "      <td>...</td>\n",
              "      <td>0.003410</td>\n",
              "      <td>0.003550</td>\n",
              "      <td>0.003890</td>\n",
              "      <td>0.004060</td>\n",
              "      <td>0.003510</td>\n",
              "      <td>0.003350</td>\n",
              "      <td>0.003560</td>\n",
              "      <td>0.003150</td>\n",
              "      <td>0.003270</td>\n",
              "      <td>0.003300</td>\n",
              "    </tr>\n",
              "    <tr>\n",
              "      <th>...</th>\n",
              "      <td>...</td>\n",
              "      <td>...</td>\n",
              "      <td>...</td>\n",
              "      <td>...</td>\n",
              "      <td>...</td>\n",
              "      <td>...</td>\n",
              "      <td>...</td>\n",
              "      <td>...</td>\n",
              "      <td>...</td>\n",
              "      <td>...</td>\n",
              "      <td>...</td>\n",
              "      <td>...</td>\n",
              "      <td>...</td>\n",
              "      <td>...</td>\n",
              "      <td>...</td>\n",
              "      <td>...</td>\n",
              "      <td>...</td>\n",
              "      <td>...</td>\n",
              "      <td>...</td>\n",
              "      <td>...</td>\n",
              "      <td>...</td>\n",
              "    </tr>\n",
              "    <tr>\n",
              "      <th>367</th>\n",
              "      <td>0.004371</td>\n",
              "      <td>0.003441</td>\n",
              "      <td>0.004631</td>\n",
              "      <td>0.004675</td>\n",
              "      <td>0.004379</td>\n",
              "      <td>0.003870</td>\n",
              "      <td>0.004974</td>\n",
              "      <td>0.004514</td>\n",
              "      <td>0.003996</td>\n",
              "      <td>0.005227</td>\n",
              "      <td>...</td>\n",
              "      <td>0.004604</td>\n",
              "      <td>0.004329</td>\n",
              "      <td>0.003797</td>\n",
              "      <td>0.004911</td>\n",
              "      <td>0.005451</td>\n",
              "      <td>0.004453</td>\n",
              "      <td>0.004548</td>\n",
              "      <td>0.003591</td>\n",
              "      <td>0.005085</td>\n",
              "      <td>0.004347</td>\n",
              "    </tr>\n",
              "    <tr>\n",
              "      <th>368</th>\n",
              "      <td>0.003750</td>\n",
              "      <td>0.003097</td>\n",
              "      <td>0.004142</td>\n",
              "      <td>0.003079</td>\n",
              "      <td>0.003427</td>\n",
              "      <td>0.003749</td>\n",
              "      <td>0.002955</td>\n",
              "      <td>0.003301</td>\n",
              "      <td>0.004192</td>\n",
              "      <td>0.003671</td>\n",
              "      <td>...</td>\n",
              "      <td>0.003423</td>\n",
              "      <td>0.004263</td>\n",
              "      <td>0.003886</td>\n",
              "      <td>0.002803</td>\n",
              "      <td>0.004034</td>\n",
              "      <td>0.003717</td>\n",
              "      <td>0.004043</td>\n",
              "      <td>0.004004</td>\n",
              "      <td>0.003703</td>\n",
              "      <td>0.003733</td>\n",
              "    </tr>\n",
              "    <tr>\n",
              "      <th>369</th>\n",
              "      <td>0.005004</td>\n",
              "      <td>0.004547</td>\n",
              "      <td>0.005512</td>\n",
              "      <td>0.004823</td>\n",
              "      <td>0.004664</td>\n",
              "      <td>0.004732</td>\n",
              "      <td>0.004502</td>\n",
              "      <td>0.004503</td>\n",
              "      <td>0.004416</td>\n",
              "      <td>0.004318</td>\n",
              "      <td>...</td>\n",
              "      <td>0.004318</td>\n",
              "      <td>0.004959</td>\n",
              "      <td>0.004434</td>\n",
              "      <td>0.004154</td>\n",
              "      <td>0.004814</td>\n",
              "      <td>0.004432</td>\n",
              "      <td>0.004267</td>\n",
              "      <td>0.003866</td>\n",
              "      <td>0.005321</td>\n",
              "      <td>0.003663</td>\n",
              "    </tr>\n",
              "    <tr>\n",
              "      <th>370</th>\n",
              "      <td>0.003627</td>\n",
              "      <td>0.004180</td>\n",
              "      <td>0.004703</td>\n",
              "      <td>0.005086</td>\n",
              "      <td>0.004251</td>\n",
              "      <td>0.004652</td>\n",
              "      <td>0.003663</td>\n",
              "      <td>0.005000</td>\n",
              "      <td>0.004871</td>\n",
              "      <td>0.004071</td>\n",
              "      <td>...</td>\n",
              "      <td>0.003804</td>\n",
              "      <td>0.004719</td>\n",
              "      <td>0.003462</td>\n",
              "      <td>0.004227</td>\n",
              "      <td>0.004375</td>\n",
              "      <td>0.003836</td>\n",
              "      <td>0.003948</td>\n",
              "      <td>0.004166</td>\n",
              "      <td>0.003364</td>\n",
              "      <td>0.004388</td>\n",
              "    </tr>\n",
              "    <tr>\n",
              "      <th>371</th>\n",
              "      <td>0.004058</td>\n",
              "      <td>0.003729</td>\n",
              "      <td>0.004225</td>\n",
              "      <td>0.004101</td>\n",
              "      <td>0.004530</td>\n",
              "      <td>0.004232</td>\n",
              "      <td>0.003668</td>\n",
              "      <td>0.004731</td>\n",
              "      <td>0.004709</td>\n",
              "      <td>0.004061</td>\n",
              "      <td>...</td>\n",
              "      <td>0.003557</td>\n",
              "      <td>0.004323</td>\n",
              "      <td>0.003980</td>\n",
              "      <td>0.003764</td>\n",
              "      <td>0.003494</td>\n",
              "      <td>0.004579</td>\n",
              "      <td>0.003540</td>\n",
              "      <td>0.004852</td>\n",
              "      <td>0.004351</td>\n",
              "      <td>0.004467</td>\n",
              "    </tr>\n",
              "  </tbody>\n",
              "</table>\n",
              "<p>372 rows × 60 columns</p>\n",
              "</div>\n",
              "      <button class=\"colab-df-convert\" onclick=\"convertToInteractive('df-98753a08-a03b-4cf7-98ad-78ef289b1a15')\"\n",
              "              title=\"Convert this dataframe to an interactive table.\"\n",
              "              style=\"display:none;\">\n",
              "        \n",
              "  <svg xmlns=\"http://www.w3.org/2000/svg\" height=\"24px\"viewBox=\"0 0 24 24\"\n",
              "       width=\"24px\">\n",
              "    <path d=\"M0 0h24v24H0V0z\" fill=\"none\"/>\n",
              "    <path d=\"M18.56 5.44l.94 2.06.94-2.06 2.06-.94-2.06-.94-.94-2.06-.94 2.06-2.06.94zm-11 1L8.5 8.5l.94-2.06 2.06-.94-2.06-.94L8.5 2.5l-.94 2.06-2.06.94zm10 10l.94 2.06.94-2.06 2.06-.94-2.06-.94-.94-2.06-.94 2.06-2.06.94z\"/><path d=\"M17.41 7.96l-1.37-1.37c-.4-.4-.92-.59-1.43-.59-.52 0-1.04.2-1.43.59L10.3 9.45l-7.72 7.72c-.78.78-.78 2.05 0 2.83L4 21.41c.39.39.9.59 1.41.59.51 0 1.02-.2 1.41-.59l7.78-7.78 2.81-2.81c.8-.78.8-2.07 0-2.86zM5.41 20L4 18.59l7.72-7.72 1.47 1.35L5.41 20z\"/>\n",
              "  </svg>\n",
              "      </button>\n",
              "      \n",
              "  <style>\n",
              "    .colab-df-container {\n",
              "      display:flex;\n",
              "      flex-wrap:wrap;\n",
              "      gap: 12px;\n",
              "    }\n",
              "\n",
              "    .colab-df-convert {\n",
              "      background-color: #E8F0FE;\n",
              "      border: none;\n",
              "      border-radius: 50%;\n",
              "      cursor: pointer;\n",
              "      display: none;\n",
              "      fill: #1967D2;\n",
              "      height: 32px;\n",
              "      padding: 0 0 0 0;\n",
              "      width: 32px;\n",
              "    }\n",
              "\n",
              "    .colab-df-convert:hover {\n",
              "      background-color: #E2EBFA;\n",
              "      box-shadow: 0px 1px 2px rgba(60, 64, 67, 0.3), 0px 1px 3px 1px rgba(60, 64, 67, 0.15);\n",
              "      fill: #174EA6;\n",
              "    }\n",
              "\n",
              "    [theme=dark] .colab-df-convert {\n",
              "      background-color: #3B4455;\n",
              "      fill: #D2E3FC;\n",
              "    }\n",
              "\n",
              "    [theme=dark] .colab-df-convert:hover {\n",
              "      background-color: #434B5C;\n",
              "      box-shadow: 0px 1px 3px 1px rgba(0, 0, 0, 0.15);\n",
              "      filter: drop-shadow(0px 1px 2px rgba(0, 0, 0, 0.3));\n",
              "      fill: #FFFFFF;\n",
              "    }\n",
              "  </style>\n",
              "\n",
              "      <script>\n",
              "        const buttonEl =\n",
              "          document.querySelector('#df-98753a08-a03b-4cf7-98ad-78ef289b1a15 button.colab-df-convert');\n",
              "        buttonEl.style.display =\n",
              "          google.colab.kernel.accessAllowed ? 'block' : 'none';\n",
              "\n",
              "        async function convertToInteractive(key) {\n",
              "          const element = document.querySelector('#df-98753a08-a03b-4cf7-98ad-78ef289b1a15');\n",
              "          const dataTable =\n",
              "            await google.colab.kernel.invokeFunction('convertToInteractive',\n",
              "                                                     [key], {});\n",
              "          if (!dataTable) return;\n",
              "\n",
              "          const docLinkHtml = 'Like what you see? Visit the ' +\n",
              "            '<a target=\"_blank\" href=https://colab.research.google.com/notebooks/data_table.ipynb>data table notebook</a>'\n",
              "            + ' to learn more about interactive tables.';\n",
              "          element.innerHTML = '';\n",
              "          dataTable['output_type'] = 'display_data';\n",
              "          await google.colab.output.renderOutput(dataTable, element);\n",
              "          const docLink = document.createElement('div');\n",
              "          docLink.innerHTML = docLinkHtml;\n",
              "          element.appendChild(docLink);\n",
              "        }\n",
              "      </script>\n",
              "    </div>\n",
              "  </div>\n",
              "  "
            ]
          },
          "metadata": {},
          "execution_count": 112
        }
      ],
      "source": [
        "SEP_df_312"
      ]
    },
    {
      "cell_type": "code",
      "execution_count": null,
      "metadata": {
        "id": "Vgd7c504LLUo",
        "colab": {
          "base_uri": "https://localhost:8080/"
        },
        "outputId": "07be5ada-03d7-40eb-e625-a934e16e20a0"
      },
      "outputs": [
        {
          "output_type": "stream",
          "name": "stderr",
          "text": [
            "<ipython-input-113-2940e6fa6090>:1: FutureWarning: The frame.append method is deprecated and will be removed from pandas in a future version. Use pandas.concat instead.\n",
            "  data = SEP_df_312.append(NSEP_df_312) # append the two SEP and NSEP dataframes\n"
          ]
        }
      ],
      "source": [
        "data = SEP_df_312.append(NSEP_df_312) # append the two SEP and NSEP dataframes"
      ]
    },
    {
      "cell_type": "code",
      "execution_count": null,
      "metadata": {
        "id": "6ze7LNAiLLUo"
      },
      "outputs": [],
      "source": [
        "data = data.reset_index(drop = True)"
      ]
    },
    {
      "cell_type": "code",
      "execution_count": null,
      "metadata": {
        "id": "by_lFT2YLLUp"
      },
      "outputs": [],
      "source": [
        "NSEP_start_index = len(SEP_df_312) + 1"
      ]
    },
    {
      "cell_type": "code",
      "execution_count": null,
      "metadata": {
        "colab": {
          "base_uri": "https://localhost:8080/",
          "height": 488
        },
        "id": "e8Tp4aDkLLUp",
        "outputId": "82bb42c4-2689-4df7-accd-fbca44266be3"
      },
      "outputs": [
        {
          "output_type": "execute_result",
          "data": {
            "text/plain": [
              "           0        1        2        3        4        5        6        7  \\\n",
              "0    0.00355  0.00312  0.00295  0.00356  0.00406  0.00288  0.00305  0.00336   \n",
              "1    0.00902  0.00851  0.00771  0.00828  0.00736  0.00716  0.00785  0.00793   \n",
              "2    0.00285  0.00284  0.00300  0.00288  0.00310  0.00264  0.00290  0.00255   \n",
              "3    0.00265  0.00303  0.00295  0.00336  0.00285  0.00303  0.00310  0.00269   \n",
              "4    0.00345  0.00308  0.00411  0.00346  0.00350  0.00375  0.00355  0.00360   \n",
              "..       ...      ...      ...      ...      ...      ...      ...      ...   \n",
              "739  0.00311  0.00329  0.00322  0.00326  0.00322  0.00299  0.00314  0.00311   \n",
              "740  0.00224  0.00318  0.00269  0.00352  0.00354  0.00352  0.00329  0.00239   \n",
              "741  0.00277  0.00374  0.00292  0.00268  0.00224  0.00352  0.00246  0.00292   \n",
              "742  0.00217  0.00299  0.00224  0.00239  0.00188  0.00247  0.00314  0.00239   \n",
              "743  0.00246  0.00262  0.00217  0.00246  0.00254  0.00344  0.00159  0.00269   \n",
              "\n",
              "           8        9  ...       51       52       53       54       55  \\\n",
              "0    0.00340  0.00303  ...  0.00325  0.00336  0.00305  0.00312  0.00300   \n",
              "1    0.00726  0.00984  ...  0.00690  0.00701  0.00697  0.00668  0.00697   \n",
              "2    0.00215  0.00231  ...  0.00275  0.00255  0.00300  0.00226  0.00280   \n",
              "3    0.00205  0.00346  ...  0.00310  0.00360  0.00235  0.00327  0.00260   \n",
              "4    0.00335  0.00351  ...  0.00355  0.00389  0.00406  0.00351  0.00335   \n",
              "..       ...      ...  ...      ...      ...      ...      ...      ...   \n",
              "739  0.00382  0.00224  ...  0.00254  0.00262  0.00262  0.00333  0.00277   \n",
              "740  0.00382  0.00307  ...  0.00420  0.00359  0.00307  0.00329  0.00268   \n",
              "741  0.00337  0.00297  ...  0.00322  0.00367  0.00260  0.00269  0.00277   \n",
              "742  0.00262  0.00277  ...  0.00246  0.00210  0.00239  0.00297  0.00322   \n",
              "743  0.00187  0.00217  ...  0.00239  0.00337  0.00289  0.00247  0.00239   \n",
              "\n",
              "          56       57       58       59  event  \n",
              "0    0.00327  0.00235  0.00288  0.00310    SEP  \n",
              "1    0.00789  0.00776  0.00706  0.00716    SEP  \n",
              "2    0.00298  0.00270  0.00274  0.00255    SEP  \n",
              "3    0.00255  0.00285  0.00298  0.00290    SEP  \n",
              "4    0.00356  0.00315  0.00327  0.00330    SEP  \n",
              "..       ...      ...      ...      ...    ...  \n",
              "739  0.00262  0.00289  0.00322  0.00314   NSEP  \n",
              "740  0.00292  0.00269  0.00239  0.00292   NSEP  \n",
              "741  0.00232  0.00311  0.00307  0.00314   NSEP  \n",
              "742  0.00307  0.00210  0.00224  0.00232   NSEP  \n",
              "743  0.00307  0.00210  0.00165  0.00254   NSEP  \n",
              "\n",
              "[744 rows x 61 columns]"
            ],
            "text/html": [
              "\n",
              "  <div id=\"df-609ca2d1-c994-47c4-9901-2e3e3db58d9d\">\n",
              "    <div class=\"colab-df-container\">\n",
              "      <div>\n",
              "<style scoped>\n",
              "    .dataframe tbody tr th:only-of-type {\n",
              "        vertical-align: middle;\n",
              "    }\n",
              "\n",
              "    .dataframe tbody tr th {\n",
              "        vertical-align: top;\n",
              "    }\n",
              "\n",
              "    .dataframe thead th {\n",
              "        text-align: right;\n",
              "    }\n",
              "</style>\n",
              "<table border=\"1\" class=\"dataframe\">\n",
              "  <thead>\n",
              "    <tr style=\"text-align: right;\">\n",
              "      <th></th>\n",
              "      <th>0</th>\n",
              "      <th>1</th>\n",
              "      <th>2</th>\n",
              "      <th>3</th>\n",
              "      <th>4</th>\n",
              "      <th>5</th>\n",
              "      <th>6</th>\n",
              "      <th>7</th>\n",
              "      <th>8</th>\n",
              "      <th>9</th>\n",
              "      <th>...</th>\n",
              "      <th>51</th>\n",
              "      <th>52</th>\n",
              "      <th>53</th>\n",
              "      <th>54</th>\n",
              "      <th>55</th>\n",
              "      <th>56</th>\n",
              "      <th>57</th>\n",
              "      <th>58</th>\n",
              "      <th>59</th>\n",
              "      <th>event</th>\n",
              "    </tr>\n",
              "  </thead>\n",
              "  <tbody>\n",
              "    <tr>\n",
              "      <th>0</th>\n",
              "      <td>0.00355</td>\n",
              "      <td>0.00312</td>\n",
              "      <td>0.00295</td>\n",
              "      <td>0.00356</td>\n",
              "      <td>0.00406</td>\n",
              "      <td>0.00288</td>\n",
              "      <td>0.00305</td>\n",
              "      <td>0.00336</td>\n",
              "      <td>0.00340</td>\n",
              "      <td>0.00303</td>\n",
              "      <td>...</td>\n",
              "      <td>0.00325</td>\n",
              "      <td>0.00336</td>\n",
              "      <td>0.00305</td>\n",
              "      <td>0.00312</td>\n",
              "      <td>0.00300</td>\n",
              "      <td>0.00327</td>\n",
              "      <td>0.00235</td>\n",
              "      <td>0.00288</td>\n",
              "      <td>0.00310</td>\n",
              "      <td>SEP</td>\n",
              "    </tr>\n",
              "    <tr>\n",
              "      <th>1</th>\n",
              "      <td>0.00902</td>\n",
              "      <td>0.00851</td>\n",
              "      <td>0.00771</td>\n",
              "      <td>0.00828</td>\n",
              "      <td>0.00736</td>\n",
              "      <td>0.00716</td>\n",
              "      <td>0.00785</td>\n",
              "      <td>0.00793</td>\n",
              "      <td>0.00726</td>\n",
              "      <td>0.00984</td>\n",
              "      <td>...</td>\n",
              "      <td>0.00690</td>\n",
              "      <td>0.00701</td>\n",
              "      <td>0.00697</td>\n",
              "      <td>0.00668</td>\n",
              "      <td>0.00697</td>\n",
              "      <td>0.00789</td>\n",
              "      <td>0.00776</td>\n",
              "      <td>0.00706</td>\n",
              "      <td>0.00716</td>\n",
              "      <td>SEP</td>\n",
              "    </tr>\n",
              "    <tr>\n",
              "      <th>2</th>\n",
              "      <td>0.00285</td>\n",
              "      <td>0.00284</td>\n",
              "      <td>0.00300</td>\n",
              "      <td>0.00288</td>\n",
              "      <td>0.00310</td>\n",
              "      <td>0.00264</td>\n",
              "      <td>0.00290</td>\n",
              "      <td>0.00255</td>\n",
              "      <td>0.00215</td>\n",
              "      <td>0.00231</td>\n",
              "      <td>...</td>\n",
              "      <td>0.00275</td>\n",
              "      <td>0.00255</td>\n",
              "      <td>0.00300</td>\n",
              "      <td>0.00226</td>\n",
              "      <td>0.00280</td>\n",
              "      <td>0.00298</td>\n",
              "      <td>0.00270</td>\n",
              "      <td>0.00274</td>\n",
              "      <td>0.00255</td>\n",
              "      <td>SEP</td>\n",
              "    </tr>\n",
              "    <tr>\n",
              "      <th>3</th>\n",
              "      <td>0.00265</td>\n",
              "      <td>0.00303</td>\n",
              "      <td>0.00295</td>\n",
              "      <td>0.00336</td>\n",
              "      <td>0.00285</td>\n",
              "      <td>0.00303</td>\n",
              "      <td>0.00310</td>\n",
              "      <td>0.00269</td>\n",
              "      <td>0.00205</td>\n",
              "      <td>0.00346</td>\n",
              "      <td>...</td>\n",
              "      <td>0.00310</td>\n",
              "      <td>0.00360</td>\n",
              "      <td>0.00235</td>\n",
              "      <td>0.00327</td>\n",
              "      <td>0.00260</td>\n",
              "      <td>0.00255</td>\n",
              "      <td>0.00285</td>\n",
              "      <td>0.00298</td>\n",
              "      <td>0.00290</td>\n",
              "      <td>SEP</td>\n",
              "    </tr>\n",
              "    <tr>\n",
              "      <th>4</th>\n",
              "      <td>0.00345</td>\n",
              "      <td>0.00308</td>\n",
              "      <td>0.00411</td>\n",
              "      <td>0.00346</td>\n",
              "      <td>0.00350</td>\n",
              "      <td>0.00375</td>\n",
              "      <td>0.00355</td>\n",
              "      <td>0.00360</td>\n",
              "      <td>0.00335</td>\n",
              "      <td>0.00351</td>\n",
              "      <td>...</td>\n",
              "      <td>0.00355</td>\n",
              "      <td>0.00389</td>\n",
              "      <td>0.00406</td>\n",
              "      <td>0.00351</td>\n",
              "      <td>0.00335</td>\n",
              "      <td>0.00356</td>\n",
              "      <td>0.00315</td>\n",
              "      <td>0.00327</td>\n",
              "      <td>0.00330</td>\n",
              "      <td>SEP</td>\n",
              "    </tr>\n",
              "    <tr>\n",
              "      <th>...</th>\n",
              "      <td>...</td>\n",
              "      <td>...</td>\n",
              "      <td>...</td>\n",
              "      <td>...</td>\n",
              "      <td>...</td>\n",
              "      <td>...</td>\n",
              "      <td>...</td>\n",
              "      <td>...</td>\n",
              "      <td>...</td>\n",
              "      <td>...</td>\n",
              "      <td>...</td>\n",
              "      <td>...</td>\n",
              "      <td>...</td>\n",
              "      <td>...</td>\n",
              "      <td>...</td>\n",
              "      <td>...</td>\n",
              "      <td>...</td>\n",
              "      <td>...</td>\n",
              "      <td>...</td>\n",
              "      <td>...</td>\n",
              "      <td>...</td>\n",
              "    </tr>\n",
              "    <tr>\n",
              "      <th>739</th>\n",
              "      <td>0.00311</td>\n",
              "      <td>0.00329</td>\n",
              "      <td>0.00322</td>\n",
              "      <td>0.00326</td>\n",
              "      <td>0.00322</td>\n",
              "      <td>0.00299</td>\n",
              "      <td>0.00314</td>\n",
              "      <td>0.00311</td>\n",
              "      <td>0.00382</td>\n",
              "      <td>0.00224</td>\n",
              "      <td>...</td>\n",
              "      <td>0.00254</td>\n",
              "      <td>0.00262</td>\n",
              "      <td>0.00262</td>\n",
              "      <td>0.00333</td>\n",
              "      <td>0.00277</td>\n",
              "      <td>0.00262</td>\n",
              "      <td>0.00289</td>\n",
              "      <td>0.00322</td>\n",
              "      <td>0.00314</td>\n",
              "      <td>NSEP</td>\n",
              "    </tr>\n",
              "    <tr>\n",
              "      <th>740</th>\n",
              "      <td>0.00224</td>\n",
              "      <td>0.00318</td>\n",
              "      <td>0.00269</td>\n",
              "      <td>0.00352</td>\n",
              "      <td>0.00354</td>\n",
              "      <td>0.00352</td>\n",
              "      <td>0.00329</td>\n",
              "      <td>0.00239</td>\n",
              "      <td>0.00382</td>\n",
              "      <td>0.00307</td>\n",
              "      <td>...</td>\n",
              "      <td>0.00420</td>\n",
              "      <td>0.00359</td>\n",
              "      <td>0.00307</td>\n",
              "      <td>0.00329</td>\n",
              "      <td>0.00268</td>\n",
              "      <td>0.00292</td>\n",
              "      <td>0.00269</td>\n",
              "      <td>0.00239</td>\n",
              "      <td>0.00292</td>\n",
              "      <td>NSEP</td>\n",
              "    </tr>\n",
              "    <tr>\n",
              "      <th>741</th>\n",
              "      <td>0.00277</td>\n",
              "      <td>0.00374</td>\n",
              "      <td>0.00292</td>\n",
              "      <td>0.00268</td>\n",
              "      <td>0.00224</td>\n",
              "      <td>0.00352</td>\n",
              "      <td>0.00246</td>\n",
              "      <td>0.00292</td>\n",
              "      <td>0.00337</td>\n",
              "      <td>0.00297</td>\n",
              "      <td>...</td>\n",
              "      <td>0.00322</td>\n",
              "      <td>0.00367</td>\n",
              "      <td>0.00260</td>\n",
              "      <td>0.00269</td>\n",
              "      <td>0.00277</td>\n",
              "      <td>0.00232</td>\n",
              "      <td>0.00311</td>\n",
              "      <td>0.00307</td>\n",
              "      <td>0.00314</td>\n",
              "      <td>NSEP</td>\n",
              "    </tr>\n",
              "    <tr>\n",
              "      <th>742</th>\n",
              "      <td>0.00217</td>\n",
              "      <td>0.00299</td>\n",
              "      <td>0.00224</td>\n",
              "      <td>0.00239</td>\n",
              "      <td>0.00188</td>\n",
              "      <td>0.00247</td>\n",
              "      <td>0.00314</td>\n",
              "      <td>0.00239</td>\n",
              "      <td>0.00262</td>\n",
              "      <td>0.00277</td>\n",
              "      <td>...</td>\n",
              "      <td>0.00246</td>\n",
              "      <td>0.00210</td>\n",
              "      <td>0.00239</td>\n",
              "      <td>0.00297</td>\n",
              "      <td>0.00322</td>\n",
              "      <td>0.00307</td>\n",
              "      <td>0.00210</td>\n",
              "      <td>0.00224</td>\n",
              "      <td>0.00232</td>\n",
              "      <td>NSEP</td>\n",
              "    </tr>\n",
              "    <tr>\n",
              "      <th>743</th>\n",
              "      <td>0.00246</td>\n",
              "      <td>0.00262</td>\n",
              "      <td>0.00217</td>\n",
              "      <td>0.00246</td>\n",
              "      <td>0.00254</td>\n",
              "      <td>0.00344</td>\n",
              "      <td>0.00159</td>\n",
              "      <td>0.00269</td>\n",
              "      <td>0.00187</td>\n",
              "      <td>0.00217</td>\n",
              "      <td>...</td>\n",
              "      <td>0.00239</td>\n",
              "      <td>0.00337</td>\n",
              "      <td>0.00289</td>\n",
              "      <td>0.00247</td>\n",
              "      <td>0.00239</td>\n",
              "      <td>0.00307</td>\n",
              "      <td>0.00210</td>\n",
              "      <td>0.00165</td>\n",
              "      <td>0.00254</td>\n",
              "      <td>NSEP</td>\n",
              "    </tr>\n",
              "  </tbody>\n",
              "</table>\n",
              "<p>744 rows × 61 columns</p>\n",
              "</div>\n",
              "      <button class=\"colab-df-convert\" onclick=\"convertToInteractive('df-609ca2d1-c994-47c4-9901-2e3e3db58d9d')\"\n",
              "              title=\"Convert this dataframe to an interactive table.\"\n",
              "              style=\"display:none;\">\n",
              "        \n",
              "  <svg xmlns=\"http://www.w3.org/2000/svg\" height=\"24px\"viewBox=\"0 0 24 24\"\n",
              "       width=\"24px\">\n",
              "    <path d=\"M0 0h24v24H0V0z\" fill=\"none\"/>\n",
              "    <path d=\"M18.56 5.44l.94 2.06.94-2.06 2.06-.94-2.06-.94-.94-2.06-.94 2.06-2.06.94zm-11 1L8.5 8.5l.94-2.06 2.06-.94-2.06-.94L8.5 2.5l-.94 2.06-2.06.94zm10 10l.94 2.06.94-2.06 2.06-.94-2.06-.94-.94-2.06-.94 2.06-2.06.94z\"/><path d=\"M17.41 7.96l-1.37-1.37c-.4-.4-.92-.59-1.43-.59-.52 0-1.04.2-1.43.59L10.3 9.45l-7.72 7.72c-.78.78-.78 2.05 0 2.83L4 21.41c.39.39.9.59 1.41.59.51 0 1.02-.2 1.41-.59l7.78-7.78 2.81-2.81c.8-.78.8-2.07 0-2.86zM5.41 20L4 18.59l7.72-7.72 1.47 1.35L5.41 20z\"/>\n",
              "  </svg>\n",
              "      </button>\n",
              "      \n",
              "  <style>\n",
              "    .colab-df-container {\n",
              "      display:flex;\n",
              "      flex-wrap:wrap;\n",
              "      gap: 12px;\n",
              "    }\n",
              "\n",
              "    .colab-df-convert {\n",
              "      background-color: #E8F0FE;\n",
              "      border: none;\n",
              "      border-radius: 50%;\n",
              "      cursor: pointer;\n",
              "      display: none;\n",
              "      fill: #1967D2;\n",
              "      height: 32px;\n",
              "      padding: 0 0 0 0;\n",
              "      width: 32px;\n",
              "    }\n",
              "\n",
              "    .colab-df-convert:hover {\n",
              "      background-color: #E2EBFA;\n",
              "      box-shadow: 0px 1px 2px rgba(60, 64, 67, 0.3), 0px 1px 3px 1px rgba(60, 64, 67, 0.15);\n",
              "      fill: #174EA6;\n",
              "    }\n",
              "\n",
              "    [theme=dark] .colab-df-convert {\n",
              "      background-color: #3B4455;\n",
              "      fill: #D2E3FC;\n",
              "    }\n",
              "\n",
              "    [theme=dark] .colab-df-convert:hover {\n",
              "      background-color: #434B5C;\n",
              "      box-shadow: 0px 1px 3px 1px rgba(0, 0, 0, 0.15);\n",
              "      filter: drop-shadow(0px 1px 2px rgba(0, 0, 0, 0.3));\n",
              "      fill: #FFFFFF;\n",
              "    }\n",
              "  </style>\n",
              "\n",
              "      <script>\n",
              "        const buttonEl =\n",
              "          document.querySelector('#df-609ca2d1-c994-47c4-9901-2e3e3db58d9d button.colab-df-convert');\n",
              "        buttonEl.style.display =\n",
              "          google.colab.kernel.accessAllowed ? 'block' : 'none';\n",
              "\n",
              "        async function convertToInteractive(key) {\n",
              "          const element = document.querySelector('#df-609ca2d1-c994-47c4-9901-2e3e3db58d9d');\n",
              "          const dataTable =\n",
              "            await google.colab.kernel.invokeFunction('convertToInteractive',\n",
              "                                                     [key], {});\n",
              "          if (!dataTable) return;\n",
              "\n",
              "          const docLinkHtml = 'Like what you see? Visit the ' +\n",
              "            '<a target=\"_blank\" href=https://colab.research.google.com/notebooks/data_table.ipynb>data table notebook</a>'\n",
              "            + ' to learn more about interactive tables.';\n",
              "          element.innerHTML = '';\n",
              "          dataTable['output_type'] = 'display_data';\n",
              "          await google.colab.output.renderOutput(dataTable, element);\n",
              "          const docLink = document.createElement('div');\n",
              "          docLink.innerHTML = docLinkHtml;\n",
              "          element.appendChild(docLink);\n",
              "        }\n",
              "      </script>\n",
              "    </div>\n",
              "  </div>\n",
              "  "
            ]
          },
          "metadata": {},
          "execution_count": 116
        }
      ],
      "source": [
        "data['event'] = 'SEP'\n",
        "data.loc[NSEP_start_index:,['event']] = 'NSEP'\n",
        "my_data_all = data\n",
        "my_data_all"
      ]
    },
    {
      "cell_type": "code",
      "execution_count": null,
      "metadata": {
        "id": "543uHvu-5YOb"
      },
      "outputs": [],
      "source": [
        "from sklearn.model_selection import StratifiedKFold\n",
        "\n",
        "\n",
        "\n",
        "y = my_data_all.pop('event')\n",
        "X = my_data_all"
      ]
    },
    {
      "cell_type": "code",
      "execution_count": null,
      "metadata": {
        "id": "lIKg-knOYcxv"
      },
      "outputs": [],
      "source": [
        "box_accuracy_D_TSF = []\n",
        "box_accuracyBalanced_D_TSF = []\n",
        "box_f1_D_TSF = []\n",
        "\n",
        "box_accuracy_D_ROCKET = []\n",
        "box_accuracyBalanced_D_ROCKET = []\n",
        "box_f1_D_ROCKET = []\n",
        "\n",
        "box_accuracy_D_SHAPELET = []\n",
        "box_accuracyBalanced_D_SHAPELET = []\n",
        "box_f1_D_SHAPELET = []\n",
        "\n",
        "# random_state_values = [0, 2, 10, 30, 42]\n",
        "random_state_values = [42]\n",
        "for p in random_state_values:\n",
        "\n",
        "  skf = StratifiedKFold(n_splits=10, shuffle=True, random_state=42)\n",
        "\n",
        "  lst_accu_stratified_D_TSF = []\n",
        "  lst_accuBalanced_stratified_D_TSF = []\n",
        "  lst_f1_stratified_D_TSF = []\n",
        "\n",
        "  lst_accu_stratified_D_ROCKET = []\n",
        "  lst_accuBalanced_stratified_D_ROCKET = []\n",
        "  lst_f1_stratified_D_ROCKET = []\n",
        "\n",
        "  lst_accu_stratified_D_SHAPELET = []\n",
        "  lst_accuBalanced_stratified_D_SHAPELET = []\n",
        "  lst_f1_stratified_D_SHAPELET = []\n",
        "\n",
        "  index = 0  \n",
        "  for train_index, test_index in skf.split(X, y):\n",
        "      index = index + 1\n",
        "      X_train, X_test = X.iloc[train_index], X.iloc[test_index]\n",
        "      y_train, y_test = y[train_index], y[test_index]\n",
        "\n",
        "\n",
        "\n",
        "\n",
        "      X_train = np.array(X_train) \n",
        "      X_test = np.array(X_test)\n",
        "      y_train = np.array(y_train) \n",
        "      y_test = np.array(y_test)\n",
        "\n",
        "\n",
        "\n",
        "      clf_D = TimeSeriesForestClassifier(n_estimators=150, random_state = 2)\n",
        "      clf_D.fit(X_train, y_train)\n",
        "      lst_accu_stratified_D_TSF.append(clf_D.score(X_test, y_test))\n",
        "      pred_D = clf_D.predict(X_test)\n",
        "      lst_accuBalanced_stratified_D_TSF.append(balanced_accuracy_score(y_test, pred_D)) # Balanced Accuracy\n",
        "      f1_TSF_D = f1_score(y_test, pred_D, average=\"weighted\")\n",
        "      lst_f1_stratified_D_TSF.append(f1_TSF_D)\n",
        "\n",
        "\n",
        "\n",
        "\n",
        "\n",
        "      clf_D = RocketClassifier(num_kernels=1000, random_state = 42)\n",
        "      clf_D.fit(X_train, y_train)\n",
        "      lst_accu_stratified_D_ROCKET.append(clf_D.score(X_test, y_test))\n",
        "      pred_D = clf_D.predict(X_test)\n",
        "      lst_accuBalanced_stratified_D_ROCKET.append(balanced_accuracy_score(y_test, pred_D)) # Balanced Accuracy\n",
        "      f1_ROCKET_D = f1_score(y_test, pred_D, average=\"weighted\")\n",
        "      lst_f1_stratified_D_ROCKET.append(f1_ROCKET_D)\n",
        "\n",
        "\n",
        "\n",
        "      clf_D = ShapeletTransformClassifier(n_shapelet_samples=500, max_shapelets=15, random_state = 42)\n",
        "      clf_D.fit(X_train, y_train)\n",
        "      lst_accu_stratified_D_SHAPELET.append(clf_D.score(X_test, y_test))\n",
        "      pred_D = clf_D.predict(X_test)\n",
        "      lst_accuBalanced_stratified_D_SHAPELET.append(balanced_accuracy_score(y_test, pred_D)) # Balanced Accuracy\n",
        "      f1_SHAPELET_D = f1_score(y_test, pred_D, average=\"weighted\")\n",
        "      lst_f1_stratified_D_SHAPELET.append(f1_SHAPELET_D)\n",
        "\n",
        "\n",
        "\n",
        "\n",
        "  box_accuracy_D_TSF.append(lst_accu_stratified_D_TSF)\n",
        "  box_accuracyBalanced_D_TSF.append(lst_accuBalanced_stratified_D_TSF)\n",
        "  box_f1_D_TSF.append(lst_f1_stratified_D_TSF)\n",
        "\n",
        "  box_accuracy_D_ROCKET.append(lst_accu_stratified_D_ROCKET)\n",
        "  box_accuracyBalanced_D_ROCKET.append(lst_accuBalanced_stratified_D_ROCKET)\n",
        "  box_f1_D_ROCKET.append(lst_f1_stratified_D_ROCKET)\n",
        "\n",
        "  box_accuracy_D_SHAPELET.append(lst_accu_stratified_D_SHAPELET)\n",
        "  box_accuracyBalanced_D_SHAPELET.append(lst_accuBalanced_stratified_D_SHAPELET)\n",
        "  box_f1_D_SHAPELET.append(lst_f1_stratified_D_SHAPELET)"
      ]
    },
    {
      "cell_type": "code",
      "execution_count": null,
      "metadata": {
        "colab": {
          "base_uri": "https://localhost:8080/"
        },
        "id": "1GZn6YYQ5mc6",
        "outputId": "7b0da95c-aa69-4e2b-bd3a-476456a1a740"
      },
      "outputs": [
        {
          "output_type": "execute_result",
          "data": {
            "text/plain": [
              "0.82"
            ]
          },
          "metadata": {},
          "execution_count": 119
        }
      ],
      "source": [
        "import numpy as np\n",
        "\n",
        "ACC_TSF_D = round(np.mean(lst_accu_stratified_D_TSF), 2)\n",
        "ACC_TSF_D"
      ]
    },
    {
      "cell_type": "code",
      "execution_count": null,
      "metadata": {
        "colab": {
          "base_uri": "https://localhost:8080/"
        },
        "id": "B-uuD4im5mc7",
        "outputId": "0c6485e5-af06-4fb3-cfc6-f18770f7e68a"
      },
      "outputs": [
        {
          "output_type": "execute_result",
          "data": {
            "text/plain": [
              "[0.82]"
            ]
          },
          "metadata": {},
          "execution_count": 120
        }
      ],
      "source": [
        "All_box_ACC_TSF_D = []\n",
        "for k in box_accuracy_D_TSF:\n",
        "  temp = round(np.mean(k), 2)\n",
        "  All_box_ACC_TSF_D.append(temp)\n",
        "All_box_ACC_TSF_D"
      ]
    },
    {
      "cell_type": "code",
      "execution_count": null,
      "metadata": {
        "colab": {
          "base_uri": "https://localhost:8080/"
        },
        "outputId": "97749258-e669-43de-be73-d1a39c9cdbce",
        "id": "2cDca1SOPQWg"
      },
      "outputs": [
        {
          "output_type": "execute_result",
          "data": {
            "text/plain": [
              "0.82"
            ]
          },
          "metadata": {},
          "execution_count": 121
        }
      ],
      "source": [
        "import numpy as np\n",
        "\n",
        "ACCBALANCED_TSF_D = round(np.mean(lst_accuBalanced_stratified_D_TSF), 2)\n",
        "ACCBALANCED_TSF_D"
      ]
    },
    {
      "cell_type": "code",
      "execution_count": null,
      "metadata": {
        "colab": {
          "base_uri": "https://localhost:8080/"
        },
        "outputId": "fbbbabd2-efe7-47cf-a983-fd76af23458e",
        "id": "4JOXF87iPQWh"
      },
      "outputs": [
        {
          "output_type": "execute_result",
          "data": {
            "text/plain": [
              "[0.82]"
            ]
          },
          "metadata": {},
          "execution_count": 122
        }
      ],
      "source": [
        "All_box_ACCBALANCED_TSF_D = []\n",
        "for k in box_accuracyBalanced_D_TSF:\n",
        "  temp = round(np.mean(k), 2)\n",
        "  All_box_ACCBALANCED_TSF_D.append(temp)\n",
        "All_box_ACCBALANCED_TSF_D"
      ]
    },
    {
      "cell_type": "code",
      "execution_count": null,
      "metadata": {
        "colab": {
          "base_uri": "https://localhost:8080/"
        },
        "id": "UcH2WZLP5mc7",
        "outputId": "0d0823cd-acd8-4526-eb6d-7ec4f704c92b"
      },
      "outputs": [
        {
          "output_type": "execute_result",
          "data": {
            "text/plain": [
              "0.82"
            ]
          },
          "metadata": {},
          "execution_count": 123
        }
      ],
      "source": [
        "import numpy as np\n",
        "\n",
        "F1_TSF_D = round(np.mean(lst_f1_stratified_D_TSF), 2)\n",
        "F1_TSF_D"
      ]
    },
    {
      "cell_type": "code",
      "execution_count": null,
      "metadata": {
        "colab": {
          "base_uri": "https://localhost:8080/"
        },
        "id": "SzG0__Yy5mc7",
        "outputId": "651ee693-df1d-4247-80f5-c75d320d4c20"
      },
      "outputs": [
        {
          "output_type": "execute_result",
          "data": {
            "text/plain": [
              "[0.82]"
            ]
          },
          "metadata": {},
          "execution_count": 124
        }
      ],
      "source": [
        "All_box_F1_TSF_D = []\n",
        "for k in box_f1_D_TSF:\n",
        "  temp = round(np.mean(k), 2)\n",
        "  All_box_F1_TSF_D.append(temp)\n",
        "All_box_F1_TSF_D"
      ]
    },
    {
      "cell_type": "code",
      "execution_count": null,
      "metadata": {
        "id": "6cRVer_M5mc7"
      },
      "outputs": [],
      "source": []
    },
    {
      "cell_type": "code",
      "execution_count": null,
      "metadata": {
        "colab": {
          "base_uri": "https://localhost:8080/"
        },
        "id": "y6pLob155mc8",
        "outputId": "96c0ba52-47ff-43e1-8a39-dc326a410eef"
      },
      "outputs": [
        {
          "output_type": "execute_result",
          "data": {
            "text/plain": [
              "0.77"
            ]
          },
          "metadata": {},
          "execution_count": 125
        }
      ],
      "source": [
        "import numpy as np\n",
        "\n",
        "ACC_ROCKET_D = round(np.mean(lst_accu_stratified_D_ROCKET), 2)\n",
        "ACC_ROCKET_D"
      ]
    },
    {
      "cell_type": "code",
      "execution_count": null,
      "metadata": {
        "colab": {
          "base_uri": "https://localhost:8080/"
        },
        "id": "XQgnk0vP5mc8",
        "outputId": "5fc4bc36-8fe8-49d9-997d-6e2d1446e21f"
      },
      "outputs": [
        {
          "output_type": "execute_result",
          "data": {
            "text/plain": [
              "[0.77]"
            ]
          },
          "metadata": {},
          "execution_count": 126
        }
      ],
      "source": [
        "All_box_ACC_ROCKET_D = []\n",
        "for k in box_accuracy_D_ROCKET:\n",
        "  temp = round(np.mean(k), 2)\n",
        "  All_box_ACC_ROCKET_D.append(temp)\n",
        "All_box_ACC_ROCKET_D"
      ]
    },
    {
      "cell_type": "code",
      "execution_count": null,
      "metadata": {
        "colab": {
          "base_uri": "https://localhost:8080/"
        },
        "outputId": "c5d9bd85-6ace-4377-8166-a08a3126cec8",
        "id": "Fn8Z8OMdPaJZ"
      },
      "outputs": [
        {
          "output_type": "execute_result",
          "data": {
            "text/plain": [
              "0.77"
            ]
          },
          "metadata": {},
          "execution_count": 127
        }
      ],
      "source": [
        "import numpy as np\n",
        "\n",
        "ACCBALANCED_ROCKET_D = round(np.mean(lst_accuBalanced_stratified_D_ROCKET), 2)\n",
        "ACCBALANCED_ROCKET_D"
      ]
    },
    {
      "cell_type": "code",
      "execution_count": null,
      "metadata": {
        "colab": {
          "base_uri": "https://localhost:8080/"
        },
        "outputId": "a8d7fe1f-f81a-46d6-988c-2f3f4c79c7e5",
        "id": "Dn5j_hlrPaJa"
      },
      "outputs": [
        {
          "output_type": "execute_result",
          "data": {
            "text/plain": [
              "[0.77]"
            ]
          },
          "metadata": {},
          "execution_count": 128
        }
      ],
      "source": [
        "All_box_ACCBALANCED_ROCKET_D = []\n",
        "for k in box_accuracyBalanced_D_ROCKET:\n",
        "  temp = round(np.mean(k), 2)\n",
        "  All_box_ACCBALANCED_ROCKET_D.append(temp)\n",
        "All_box_ACCBALANCED_ROCKET_D"
      ]
    },
    {
      "cell_type": "code",
      "execution_count": null,
      "metadata": {
        "colab": {
          "base_uri": "https://localhost:8080/"
        },
        "id": "L9YvC2Uh5mc8",
        "outputId": "79cf0375-f726-4197-a9e1-3711ef29618f"
      },
      "outputs": [
        {
          "output_type": "execute_result",
          "data": {
            "text/plain": [
              "0.77"
            ]
          },
          "metadata": {},
          "execution_count": 129
        }
      ],
      "source": [
        "import numpy as np\n",
        "\n",
        "F1_ROCKET_D = round(np.mean(lst_f1_stratified_D_ROCKET), 2)\n",
        "F1_ROCKET_D"
      ]
    },
    {
      "cell_type": "code",
      "execution_count": null,
      "metadata": {
        "colab": {
          "base_uri": "https://localhost:8080/"
        },
        "id": "vbeDEvNr5mc8",
        "outputId": "3c7f4f9d-2eee-42ab-8b22-de5755eb5d41"
      },
      "outputs": [
        {
          "output_type": "execute_result",
          "data": {
            "text/plain": [
              "[0.77]"
            ]
          },
          "metadata": {},
          "execution_count": 130
        }
      ],
      "source": [
        "All_box_F1_ROCKET_D = []\n",
        "for k in box_f1_D_ROCKET:\n",
        "  temp = round(np.mean(k), 2)\n",
        "  All_box_F1_ROCKET_D.append(temp)\n",
        "All_box_F1_ROCKET_D"
      ]
    },
    {
      "cell_type": "code",
      "source": [],
      "metadata": {
        "id": "U2c8h1gYxZSo"
      },
      "execution_count": null,
      "outputs": []
    },
    {
      "cell_type": "code",
      "execution_count": null,
      "metadata": {
        "colab": {
          "base_uri": "https://localhost:8080/"
        },
        "outputId": "6d56f7dd-e079-4577-c9e0-93a7b289c658",
        "id": "ReRjSjVfxZpE"
      },
      "outputs": [
        {
          "output_type": "execute_result",
          "data": {
            "text/plain": [
              "0.7"
            ]
          },
          "metadata": {},
          "execution_count": 131
        }
      ],
      "source": [
        "import numpy as np\n",
        "\n",
        "ACC_SHAPELET_D = round(np.mean(lst_accu_stratified_D_SHAPELET), 2)\n",
        "ACC_SHAPELET_D"
      ]
    },
    {
      "cell_type": "code",
      "execution_count": null,
      "metadata": {
        "colab": {
          "base_uri": "https://localhost:8080/"
        },
        "outputId": "cefe188e-af05-4dac-b8e0-b84afb120c88",
        "id": "m7FGRGjwxZpF"
      },
      "outputs": [
        {
          "output_type": "execute_result",
          "data": {
            "text/plain": [
              "[0.7]"
            ]
          },
          "metadata": {},
          "execution_count": 132
        }
      ],
      "source": [
        "All_box_ACC_SHAPELET_D = []\n",
        "for k in box_accuracy_D_SHAPELET:\n",
        "  temp = round(np.mean(k), 2)\n",
        "  All_box_ACC_SHAPELET_D.append(temp)\n",
        "All_box_ACC_SHAPELET_D"
      ]
    },
    {
      "cell_type": "code",
      "execution_count": null,
      "metadata": {
        "colab": {
          "base_uri": "https://localhost:8080/"
        },
        "outputId": "b38fb925-4562-4eb2-f2a2-9f8bc8e41416",
        "id": "00oCcV72xZpF"
      },
      "outputs": [
        {
          "output_type": "execute_result",
          "data": {
            "text/plain": [
              "0.7"
            ]
          },
          "metadata": {},
          "execution_count": 133
        }
      ],
      "source": [
        "import numpy as np\n",
        "\n",
        "ACCBALANCED_SHAPELET_D = round(np.mean(lst_accuBalanced_stratified_D_SHAPELET), 2)\n",
        "ACCBALANCED_SHAPELET_D"
      ]
    },
    {
      "cell_type": "code",
      "execution_count": null,
      "metadata": {
        "colab": {
          "base_uri": "https://localhost:8080/"
        },
        "outputId": "1243935a-7803-4fdc-c148-966f9c908484",
        "id": "WiwBKIdQxZpF"
      },
      "outputs": [
        {
          "output_type": "execute_result",
          "data": {
            "text/plain": [
              "[0.7]"
            ]
          },
          "metadata": {},
          "execution_count": 134
        }
      ],
      "source": [
        "All_box_ACCBALANCED_SHAPELET_D = []\n",
        "for k in box_accuracyBalanced_D_SHAPELET:\n",
        "  temp = round(np.mean(k), 2)\n",
        "  All_box_ACCBALANCED_SHAPELET_D.append(temp)\n",
        "All_box_ACCBALANCED_SHAPELET_D"
      ]
    },
    {
      "cell_type": "code",
      "execution_count": null,
      "metadata": {
        "colab": {
          "base_uri": "https://localhost:8080/"
        },
        "outputId": "310be6d5-1b84-437f-f4b0-694eab9344c9",
        "id": "wS5r306HxZpF"
      },
      "outputs": [
        {
          "output_type": "execute_result",
          "data": {
            "text/plain": [
              "0.7"
            ]
          },
          "metadata": {},
          "execution_count": 135
        }
      ],
      "source": [
        "import numpy as np\n",
        "\n",
        "F1_SHAPELET_D = round(np.mean(lst_f1_stratified_D_SHAPELET), 2)\n",
        "F1_SHAPELET_D"
      ]
    },
    {
      "cell_type": "code",
      "execution_count": null,
      "metadata": {
        "colab": {
          "base_uri": "https://localhost:8080/"
        },
        "outputId": "1d1144a3-16f3-48fc-ca38-5bbc9ede02c7",
        "id": "ikdLRBV-xZpF"
      },
      "outputs": [
        {
          "output_type": "execute_result",
          "data": {
            "text/plain": [
              "[0.7]"
            ]
          },
          "metadata": {},
          "execution_count": 136
        }
      ],
      "source": [
        "All_box_F1_SHAPELET_D = []\n",
        "for k in box_f1_D_SHAPELET:\n",
        "  temp = round(np.mean(k), 2)\n",
        "  All_box_F1_SHAPELET_D.append(temp)\n",
        "All_box_F1_SHAPELET_D\n"
      ]
    },
    {
      "cell_type": "code",
      "source": [],
      "metadata": {
        "id": "vxxI0bTQxbMg"
      },
      "execution_count": null,
      "outputs": []
    },
    {
      "cell_type": "code",
      "source": [],
      "metadata": {
        "id": "j1BEOauLISyd"
      },
      "execution_count": null,
      "outputs": []
    },
    {
      "cell_type": "markdown",
      "metadata": {
        "id": "IMBn4QkS-EUe"
      },
      "source": [
        "# [1/4]"
      ]
    },
    {
      "cell_type": "code",
      "execution_count": null,
      "metadata": {
        "id": "B7yr6r7O-EUe"
      },
      "outputs": [],
      "source": [
        "from sktime.classification.interval_based import TimeSeriesForestClassifier"
      ]
    },
    {
      "cell_type": "code",
      "execution_count": null,
      "metadata": {
        "id": "NJTc8ks5-EUe"
      },
      "outputs": [],
      "source": [
        "SEP_df_1 = pd.read_csv(\"/content/sample_data/SEP_data.csv\", header = 0)\n",
        "# SEP_df_1 = SEP_df_1.drop([78, 79, 80, 81])"
      ]
    },
    {
      "cell_type": "code",
      "execution_count": null,
      "metadata": {
        "id": "gwVvp9kD-EUe"
      },
      "outputs": [],
      "source": [
        "NSEP_df_390 = pd.read_csv(\"/content/sample_data/NSEP_data_390.csv\", header = 0)\n",
        "# NSEP_df_390 = NSEP_df_390.drop([78, 79, 80, 80])"
      ]
    },
    {
      "cell_type": "code",
      "execution_count": null,
      "metadata": {
        "id": "X9k5aBrk-EUe"
      },
      "outputs": [],
      "source": [
        "def DA_Jitter(X, sigma, p):  # 0.00089  or  0.03  or 0.0002\n",
        "    R = np.random.RandomState(p)\n",
        "    myNoise = R.normal(loc=0, scale=sigma, size=X.shape)\n",
        "    return X+myNoise"
      ]
    },
    {
      "cell_type": "code",
      "execution_count": null,
      "metadata": {
        "id": "W5H-vUJCSA08"
      },
      "outputs": [],
      "source": [
        "SEP_df_2 = DA_Jitter(SEP_df_1, 0.0002, 2)"
      ]
    },
    {
      "cell_type": "code",
      "execution_count": null,
      "metadata": {
        "id": "fraqs_S2SA09",
        "colab": {
          "base_uri": "https://localhost:8080/"
        },
        "outputId": "5e9cbc22-b7bc-4b98-f4e5-f7751f30de2a"
      },
      "outputs": [
        {
          "output_type": "stream",
          "name": "stderr",
          "text": [
            "<ipython-input-142-c27c9b1f2212>:1: FutureWarning: The frame.append method is deprecated and will be removed from pandas in a future version. Use pandas.concat instead.\n",
            "  SEP_df_156 = SEP_df_1.append(SEP_df_2)\n"
          ]
        }
      ],
      "source": [
        "SEP_df_156 = SEP_df_1.append(SEP_df_2)\n",
        "SEP_df_156 = SEP_df_156.reset_index(drop = True)"
      ]
    },
    {
      "cell_type": "code",
      "execution_count": null,
      "metadata": {
        "colab": {
          "base_uri": "https://localhost:8080/",
          "height": 488
        },
        "outputId": "cb604830-811f-4c0e-bc79-83a3a4c09fe6",
        "id": "l9SdlXerSA09"
      },
      "outputs": [
        {
          "output_type": "execute_result",
          "data": {
            "text/plain": [
              "            0         1         2         3         4         5         6  \\\n",
              "0    0.003550  0.003120  0.002950  0.003560  0.004060  0.002880  0.003050   \n",
              "1    0.009020  0.008510  0.007710  0.008280  0.007360  0.007160  0.007850   \n",
              "2    0.002850  0.002840  0.003000  0.002880  0.003100  0.002640  0.002900   \n",
              "3    0.002650  0.003030  0.002950  0.003360  0.002850  0.003030  0.003100   \n",
              "4    0.003450  0.003080  0.004110  0.003460  0.003500  0.003750  0.003550   \n",
              "..        ...       ...       ...       ...       ...       ...       ...   \n",
              "181  0.004777  0.003730  0.004390  0.004596  0.004651  0.003469  0.005081   \n",
              "182  0.003691  0.002962  0.004136  0.003639  0.003678  0.003503  0.002713   \n",
              "183  0.004853  0.004463  0.005442  0.004668  0.004394  0.004996  0.005071   \n",
              "184  0.003695  0.003887  0.004923  0.004374  0.004114  0.004055  0.003611   \n",
              "185  0.004173  0.003714  0.003868  0.003973  0.003904  0.004256  0.004138   \n",
              "\n",
              "            7         8         9  ...        50        51        52  \\\n",
              "0    0.003360  0.003400  0.003030  ...  0.004470  0.003250  0.003360   \n",
              "1    0.007930  0.007260  0.009840  ...  0.007450  0.006900  0.007010   \n",
              "2    0.002550  0.002150  0.002310  ...  0.002840  0.002750  0.002550   \n",
              "3    0.002690  0.002050  0.003460  ...  0.002550  0.003100  0.003600   \n",
              "4    0.003600  0.003350  0.003510  ...  0.003410  0.003550  0.003890   \n",
              "..        ...       ...       ...  ...       ...       ...       ...   \n",
              "181  0.004512  0.004038  0.004814  ...  0.004950  0.004202  0.003901   \n",
              "182  0.003530  0.003838  0.003255  ...  0.003463  0.004326  0.003965   \n",
              "183  0.004516  0.004460  0.004776  ...  0.004119  0.004790  0.004537   \n",
              "184  0.005281  0.004614  0.004308  ...  0.004079  0.004571  0.003808   \n",
              "185  0.004470  0.004664  0.004273  ...  0.003502  0.003721  0.004371   \n",
              "\n",
              "           53        54        55        56        57        58        59  \n",
              "0    0.003050  0.003120  0.003000  0.003270  0.002350  0.002880  0.003100  \n",
              "1    0.006970  0.006680  0.006970  0.007890  0.007760  0.007060  0.007160  \n",
              "2    0.003000  0.002260  0.002800  0.002980  0.002700  0.002740  0.002550  \n",
              "3    0.002350  0.003270  0.002600  0.002550  0.002850  0.002980  0.002900  \n",
              "4    0.004060  0.003510  0.003350  0.003560  0.003150  0.003270  0.003300  \n",
              "..        ...       ...       ...       ...       ...       ...       ...  \n",
              "181  0.005117  0.005399  0.004787  0.004838  0.003683  0.004779  0.004473  \n",
              "182  0.003018  0.004231  0.003419  0.003778  0.003841  0.003821  0.003896  \n",
              "183  0.004253  0.004699  0.004246  0.004309  0.004339  0.004604  0.003757  \n",
              "184  0.004192  0.004079  0.003994  0.004463  0.004276  0.003563  0.004475  \n",
              "185  0.004269  0.003488  0.004765  0.003553  0.004465  0.004308  0.004932  \n",
              "\n",
              "[186 rows x 60 columns]"
            ],
            "text/html": [
              "\n",
              "  <div id=\"df-b4eb3000-1944-488c-8a92-ecbbd3995f34\">\n",
              "    <div class=\"colab-df-container\">\n",
              "      <div>\n",
              "<style scoped>\n",
              "    .dataframe tbody tr th:only-of-type {\n",
              "        vertical-align: middle;\n",
              "    }\n",
              "\n",
              "    .dataframe tbody tr th {\n",
              "        vertical-align: top;\n",
              "    }\n",
              "\n",
              "    .dataframe thead th {\n",
              "        text-align: right;\n",
              "    }\n",
              "</style>\n",
              "<table border=\"1\" class=\"dataframe\">\n",
              "  <thead>\n",
              "    <tr style=\"text-align: right;\">\n",
              "      <th></th>\n",
              "      <th>0</th>\n",
              "      <th>1</th>\n",
              "      <th>2</th>\n",
              "      <th>3</th>\n",
              "      <th>4</th>\n",
              "      <th>5</th>\n",
              "      <th>6</th>\n",
              "      <th>7</th>\n",
              "      <th>8</th>\n",
              "      <th>9</th>\n",
              "      <th>...</th>\n",
              "      <th>50</th>\n",
              "      <th>51</th>\n",
              "      <th>52</th>\n",
              "      <th>53</th>\n",
              "      <th>54</th>\n",
              "      <th>55</th>\n",
              "      <th>56</th>\n",
              "      <th>57</th>\n",
              "      <th>58</th>\n",
              "      <th>59</th>\n",
              "    </tr>\n",
              "  </thead>\n",
              "  <tbody>\n",
              "    <tr>\n",
              "      <th>0</th>\n",
              "      <td>0.003550</td>\n",
              "      <td>0.003120</td>\n",
              "      <td>0.002950</td>\n",
              "      <td>0.003560</td>\n",
              "      <td>0.004060</td>\n",
              "      <td>0.002880</td>\n",
              "      <td>0.003050</td>\n",
              "      <td>0.003360</td>\n",
              "      <td>0.003400</td>\n",
              "      <td>0.003030</td>\n",
              "      <td>...</td>\n",
              "      <td>0.004470</td>\n",
              "      <td>0.003250</td>\n",
              "      <td>0.003360</td>\n",
              "      <td>0.003050</td>\n",
              "      <td>0.003120</td>\n",
              "      <td>0.003000</td>\n",
              "      <td>0.003270</td>\n",
              "      <td>0.002350</td>\n",
              "      <td>0.002880</td>\n",
              "      <td>0.003100</td>\n",
              "    </tr>\n",
              "    <tr>\n",
              "      <th>1</th>\n",
              "      <td>0.009020</td>\n",
              "      <td>0.008510</td>\n",
              "      <td>0.007710</td>\n",
              "      <td>0.008280</td>\n",
              "      <td>0.007360</td>\n",
              "      <td>0.007160</td>\n",
              "      <td>0.007850</td>\n",
              "      <td>0.007930</td>\n",
              "      <td>0.007260</td>\n",
              "      <td>0.009840</td>\n",
              "      <td>...</td>\n",
              "      <td>0.007450</td>\n",
              "      <td>0.006900</td>\n",
              "      <td>0.007010</td>\n",
              "      <td>0.006970</td>\n",
              "      <td>0.006680</td>\n",
              "      <td>0.006970</td>\n",
              "      <td>0.007890</td>\n",
              "      <td>0.007760</td>\n",
              "      <td>0.007060</td>\n",
              "      <td>0.007160</td>\n",
              "    </tr>\n",
              "    <tr>\n",
              "      <th>2</th>\n",
              "      <td>0.002850</td>\n",
              "      <td>0.002840</td>\n",
              "      <td>0.003000</td>\n",
              "      <td>0.002880</td>\n",
              "      <td>0.003100</td>\n",
              "      <td>0.002640</td>\n",
              "      <td>0.002900</td>\n",
              "      <td>0.002550</td>\n",
              "      <td>0.002150</td>\n",
              "      <td>0.002310</td>\n",
              "      <td>...</td>\n",
              "      <td>0.002840</td>\n",
              "      <td>0.002750</td>\n",
              "      <td>0.002550</td>\n",
              "      <td>0.003000</td>\n",
              "      <td>0.002260</td>\n",
              "      <td>0.002800</td>\n",
              "      <td>0.002980</td>\n",
              "      <td>0.002700</td>\n",
              "      <td>0.002740</td>\n",
              "      <td>0.002550</td>\n",
              "    </tr>\n",
              "    <tr>\n",
              "      <th>3</th>\n",
              "      <td>0.002650</td>\n",
              "      <td>0.003030</td>\n",
              "      <td>0.002950</td>\n",
              "      <td>0.003360</td>\n",
              "      <td>0.002850</td>\n",
              "      <td>0.003030</td>\n",
              "      <td>0.003100</td>\n",
              "      <td>0.002690</td>\n",
              "      <td>0.002050</td>\n",
              "      <td>0.003460</td>\n",
              "      <td>...</td>\n",
              "      <td>0.002550</td>\n",
              "      <td>0.003100</td>\n",
              "      <td>0.003600</td>\n",
              "      <td>0.002350</td>\n",
              "      <td>0.003270</td>\n",
              "      <td>0.002600</td>\n",
              "      <td>0.002550</td>\n",
              "      <td>0.002850</td>\n",
              "      <td>0.002980</td>\n",
              "      <td>0.002900</td>\n",
              "    </tr>\n",
              "    <tr>\n",
              "      <th>4</th>\n",
              "      <td>0.003450</td>\n",
              "      <td>0.003080</td>\n",
              "      <td>0.004110</td>\n",
              "      <td>0.003460</td>\n",
              "      <td>0.003500</td>\n",
              "      <td>0.003750</td>\n",
              "      <td>0.003550</td>\n",
              "      <td>0.003600</td>\n",
              "      <td>0.003350</td>\n",
              "      <td>0.003510</td>\n",
              "      <td>...</td>\n",
              "      <td>0.003410</td>\n",
              "      <td>0.003550</td>\n",
              "      <td>0.003890</td>\n",
              "      <td>0.004060</td>\n",
              "      <td>0.003510</td>\n",
              "      <td>0.003350</td>\n",
              "      <td>0.003560</td>\n",
              "      <td>0.003150</td>\n",
              "      <td>0.003270</td>\n",
              "      <td>0.003300</td>\n",
              "    </tr>\n",
              "    <tr>\n",
              "      <th>...</th>\n",
              "      <td>...</td>\n",
              "      <td>...</td>\n",
              "      <td>...</td>\n",
              "      <td>...</td>\n",
              "      <td>...</td>\n",
              "      <td>...</td>\n",
              "      <td>...</td>\n",
              "      <td>...</td>\n",
              "      <td>...</td>\n",
              "      <td>...</td>\n",
              "      <td>...</td>\n",
              "      <td>...</td>\n",
              "      <td>...</td>\n",
              "      <td>...</td>\n",
              "      <td>...</td>\n",
              "      <td>...</td>\n",
              "      <td>...</td>\n",
              "      <td>...</td>\n",
              "      <td>...</td>\n",
              "      <td>...</td>\n",
              "      <td>...</td>\n",
              "    </tr>\n",
              "    <tr>\n",
              "      <th>181</th>\n",
              "      <td>0.004777</td>\n",
              "      <td>0.003730</td>\n",
              "      <td>0.004390</td>\n",
              "      <td>0.004596</td>\n",
              "      <td>0.004651</td>\n",
              "      <td>0.003469</td>\n",
              "      <td>0.005081</td>\n",
              "      <td>0.004512</td>\n",
              "      <td>0.004038</td>\n",
              "      <td>0.004814</td>\n",
              "      <td>...</td>\n",
              "      <td>0.004950</td>\n",
              "      <td>0.004202</td>\n",
              "      <td>0.003901</td>\n",
              "      <td>0.005117</td>\n",
              "      <td>0.005399</td>\n",
              "      <td>0.004787</td>\n",
              "      <td>0.004838</td>\n",
              "      <td>0.003683</td>\n",
              "      <td>0.004779</td>\n",
              "      <td>0.004473</td>\n",
              "    </tr>\n",
              "    <tr>\n",
              "      <th>182</th>\n",
              "      <td>0.003691</td>\n",
              "      <td>0.002962</td>\n",
              "      <td>0.004136</td>\n",
              "      <td>0.003639</td>\n",
              "      <td>0.003678</td>\n",
              "      <td>0.003503</td>\n",
              "      <td>0.002713</td>\n",
              "      <td>0.003530</td>\n",
              "      <td>0.003838</td>\n",
              "      <td>0.003255</td>\n",
              "      <td>...</td>\n",
              "      <td>0.003463</td>\n",
              "      <td>0.004326</td>\n",
              "      <td>0.003965</td>\n",
              "      <td>0.003018</td>\n",
              "      <td>0.004231</td>\n",
              "      <td>0.003419</td>\n",
              "      <td>0.003778</td>\n",
              "      <td>0.003841</td>\n",
              "      <td>0.003821</td>\n",
              "      <td>0.003896</td>\n",
              "    </tr>\n",
              "    <tr>\n",
              "      <th>183</th>\n",
              "      <td>0.004853</td>\n",
              "      <td>0.004463</td>\n",
              "      <td>0.005442</td>\n",
              "      <td>0.004668</td>\n",
              "      <td>0.004394</td>\n",
              "      <td>0.004996</td>\n",
              "      <td>0.005071</td>\n",
              "      <td>0.004516</td>\n",
              "      <td>0.004460</td>\n",
              "      <td>0.004776</td>\n",
              "      <td>...</td>\n",
              "      <td>0.004119</td>\n",
              "      <td>0.004790</td>\n",
              "      <td>0.004537</td>\n",
              "      <td>0.004253</td>\n",
              "      <td>0.004699</td>\n",
              "      <td>0.004246</td>\n",
              "      <td>0.004309</td>\n",
              "      <td>0.004339</td>\n",
              "      <td>0.004604</td>\n",
              "      <td>0.003757</td>\n",
              "    </tr>\n",
              "    <tr>\n",
              "      <th>184</th>\n",
              "      <td>0.003695</td>\n",
              "      <td>0.003887</td>\n",
              "      <td>0.004923</td>\n",
              "      <td>0.004374</td>\n",
              "      <td>0.004114</td>\n",
              "      <td>0.004055</td>\n",
              "      <td>0.003611</td>\n",
              "      <td>0.005281</td>\n",
              "      <td>0.004614</td>\n",
              "      <td>0.004308</td>\n",
              "      <td>...</td>\n",
              "      <td>0.004079</td>\n",
              "      <td>0.004571</td>\n",
              "      <td>0.003808</td>\n",
              "      <td>0.004192</td>\n",
              "      <td>0.004079</td>\n",
              "      <td>0.003994</td>\n",
              "      <td>0.004463</td>\n",
              "      <td>0.004276</td>\n",
              "      <td>0.003563</td>\n",
              "      <td>0.004475</td>\n",
              "    </tr>\n",
              "    <tr>\n",
              "      <th>185</th>\n",
              "      <td>0.004173</td>\n",
              "      <td>0.003714</td>\n",
              "      <td>0.003868</td>\n",
              "      <td>0.003973</td>\n",
              "      <td>0.003904</td>\n",
              "      <td>0.004256</td>\n",
              "      <td>0.004138</td>\n",
              "      <td>0.004470</td>\n",
              "      <td>0.004664</td>\n",
              "      <td>0.004273</td>\n",
              "      <td>...</td>\n",
              "      <td>0.003502</td>\n",
              "      <td>0.003721</td>\n",
              "      <td>0.004371</td>\n",
              "      <td>0.004269</td>\n",
              "      <td>0.003488</td>\n",
              "      <td>0.004765</td>\n",
              "      <td>0.003553</td>\n",
              "      <td>0.004465</td>\n",
              "      <td>0.004308</td>\n",
              "      <td>0.004932</td>\n",
              "    </tr>\n",
              "  </tbody>\n",
              "</table>\n",
              "<p>186 rows × 60 columns</p>\n",
              "</div>\n",
              "      <button class=\"colab-df-convert\" onclick=\"convertToInteractive('df-b4eb3000-1944-488c-8a92-ecbbd3995f34')\"\n",
              "              title=\"Convert this dataframe to an interactive table.\"\n",
              "              style=\"display:none;\">\n",
              "        \n",
              "  <svg xmlns=\"http://www.w3.org/2000/svg\" height=\"24px\"viewBox=\"0 0 24 24\"\n",
              "       width=\"24px\">\n",
              "    <path d=\"M0 0h24v24H0V0z\" fill=\"none\"/>\n",
              "    <path d=\"M18.56 5.44l.94 2.06.94-2.06 2.06-.94-2.06-.94-.94-2.06-.94 2.06-2.06.94zm-11 1L8.5 8.5l.94-2.06 2.06-.94-2.06-.94L8.5 2.5l-.94 2.06-2.06.94zm10 10l.94 2.06.94-2.06 2.06-.94-2.06-.94-.94-2.06-.94 2.06-2.06.94z\"/><path d=\"M17.41 7.96l-1.37-1.37c-.4-.4-.92-.59-1.43-.59-.52 0-1.04.2-1.43.59L10.3 9.45l-7.72 7.72c-.78.78-.78 2.05 0 2.83L4 21.41c.39.39.9.59 1.41.59.51 0 1.02-.2 1.41-.59l7.78-7.78 2.81-2.81c.8-.78.8-2.07 0-2.86zM5.41 20L4 18.59l7.72-7.72 1.47 1.35L5.41 20z\"/>\n",
              "  </svg>\n",
              "      </button>\n",
              "      \n",
              "  <style>\n",
              "    .colab-df-container {\n",
              "      display:flex;\n",
              "      flex-wrap:wrap;\n",
              "      gap: 12px;\n",
              "    }\n",
              "\n",
              "    .colab-df-convert {\n",
              "      background-color: #E8F0FE;\n",
              "      border: none;\n",
              "      border-radius: 50%;\n",
              "      cursor: pointer;\n",
              "      display: none;\n",
              "      fill: #1967D2;\n",
              "      height: 32px;\n",
              "      padding: 0 0 0 0;\n",
              "      width: 32px;\n",
              "    }\n",
              "\n",
              "    .colab-df-convert:hover {\n",
              "      background-color: #E2EBFA;\n",
              "      box-shadow: 0px 1px 2px rgba(60, 64, 67, 0.3), 0px 1px 3px 1px rgba(60, 64, 67, 0.15);\n",
              "      fill: #174EA6;\n",
              "    }\n",
              "\n",
              "    [theme=dark] .colab-df-convert {\n",
              "      background-color: #3B4455;\n",
              "      fill: #D2E3FC;\n",
              "    }\n",
              "\n",
              "    [theme=dark] .colab-df-convert:hover {\n",
              "      background-color: #434B5C;\n",
              "      box-shadow: 0px 1px 3px 1px rgba(0, 0, 0, 0.15);\n",
              "      filter: drop-shadow(0px 1px 2px rgba(0, 0, 0, 0.3));\n",
              "      fill: #FFFFFF;\n",
              "    }\n",
              "  </style>\n",
              "\n",
              "      <script>\n",
              "        const buttonEl =\n",
              "          document.querySelector('#df-b4eb3000-1944-488c-8a92-ecbbd3995f34 button.colab-df-convert');\n",
              "        buttonEl.style.display =\n",
              "          google.colab.kernel.accessAllowed ? 'block' : 'none';\n",
              "\n",
              "        async function convertToInteractive(key) {\n",
              "          const element = document.querySelector('#df-b4eb3000-1944-488c-8a92-ecbbd3995f34');\n",
              "          const dataTable =\n",
              "            await google.colab.kernel.invokeFunction('convertToInteractive',\n",
              "                                                     [key], {});\n",
              "          if (!dataTable) return;\n",
              "\n",
              "          const docLinkHtml = 'Like what you see? Visit the ' +\n",
              "            '<a target=\"_blank\" href=https://colab.research.google.com/notebooks/data_table.ipynb>data table notebook</a>'\n",
              "            + ' to learn more about interactive tables.';\n",
              "          element.innerHTML = '';\n",
              "          dataTable['output_type'] = 'display_data';\n",
              "          await google.colab.output.renderOutput(dataTable, element);\n",
              "          const docLink = document.createElement('div');\n",
              "          docLink.innerHTML = docLinkHtml;\n",
              "          element.appendChild(docLink);\n",
              "        }\n",
              "      </script>\n",
              "    </div>\n",
              "  </div>\n",
              "  "
            ]
          },
          "metadata": {},
          "execution_count": 143
        }
      ],
      "source": [
        "SEP_df_156"
      ]
    },
    {
      "cell_type": "code",
      "execution_count": null,
      "metadata": {
        "id": "3p_sOHb5SA09"
      },
      "outputs": [],
      "source": [
        "SEP_df_3 = DA_Jitter(SEP_df_1, 0.0002, 42)"
      ]
    },
    {
      "cell_type": "code",
      "execution_count": null,
      "metadata": {
        "id": "IsWSs91iSA09",
        "colab": {
          "base_uri": "https://localhost:8080/"
        },
        "outputId": "79711467-7e3a-4dc1-cc96-b268ebd2b9f1"
      },
      "outputs": [
        {
          "output_type": "stream",
          "name": "stderr",
          "text": [
            "<ipython-input-145-3fd562fe6152>:1: FutureWarning: The frame.append method is deprecated and will be removed from pandas in a future version. Use pandas.concat instead.\n",
            "  SEP_df_234 = SEP_df_156.append(SEP_df_3)\n"
          ]
        }
      ],
      "source": [
        "SEP_df_234 = SEP_df_156.append(SEP_df_3)\n",
        "SEP_df_234 = SEP_df_234.reset_index(drop = True)"
      ]
    },
    {
      "cell_type": "code",
      "execution_count": null,
      "metadata": {
        "colab": {
          "base_uri": "https://localhost:8080/",
          "height": 488
        },
        "outputId": "948b13c4-1599-4ceb-c68a-5db5dc16e60c",
        "id": "DFhv_iCBSA09"
      },
      "outputs": [
        {
          "output_type": "execute_result",
          "data": {
            "text/plain": [
              "            0         1         2         3         4         5         6  \\\n",
              "0    0.003550  0.003120  0.002950  0.003560  0.004060  0.002880  0.003050   \n",
              "1    0.009020  0.008510  0.007710  0.008280  0.007360  0.007160  0.007850   \n",
              "2    0.002850  0.002840  0.003000  0.002880  0.003100  0.002640  0.002900   \n",
              "3    0.002650  0.003030  0.002950  0.003360  0.002850  0.003030  0.003100   \n",
              "4    0.003450  0.003080  0.004110  0.003460  0.003500  0.003750  0.003550   \n",
              "..        ...       ...       ...       ...       ...       ...       ...   \n",
              "274  0.004411  0.003790  0.004779  0.004693  0.004897  0.003877  0.004804   \n",
              "275  0.003380  0.003033  0.003725  0.003377  0.003627  0.003858  0.002892   \n",
              "276  0.004607  0.004663  0.005391  0.004693  0.004233  0.004981  0.004538   \n",
              "277  0.003854  0.004095  0.005028  0.004525  0.003841  0.004264  0.003751   \n",
              "278  0.003950  0.003425  0.004487  0.004078  0.004165  0.004180  0.004289   \n",
              "\n",
              "            7         8         9  ...        50        51        52  \\\n",
              "0    0.003360  0.003400  0.003030  ...  0.004470  0.003250  0.003360   \n",
              "1    0.007930  0.007260  0.009840  ...  0.007450  0.006900  0.007010   \n",
              "2    0.002550  0.002150  0.002310  ...  0.002840  0.002750  0.002550   \n",
              "3    0.002690  0.002050  0.003460  ...  0.002550  0.003100  0.003600   \n",
              "4    0.003600  0.003350  0.003510  ...  0.003410  0.003550  0.003890   \n",
              "..        ...       ...       ...  ...       ...       ...       ...   \n",
              "274  0.004744  0.004046  0.004891  ...  0.004533  0.004454  0.003981   \n",
              "275  0.002846  0.003631  0.003598  ...  0.003282  0.004064  0.004119   \n",
              "276  0.004735  0.004295  0.005000  ...  0.004078  0.005036  0.004575   \n",
              "277  0.005097  0.004745  0.004327  ...  0.003991  0.004583  0.003820   \n",
              "278  0.004711  0.004571  0.004178  ...  0.003590  0.004026  0.004064   \n",
              "\n",
              "           53        54        55        56        57        58        59  \n",
              "0    0.003050  0.003120  0.003000  0.003270  0.002350  0.002880  0.003100  \n",
              "1    0.006970  0.006680  0.006970  0.007890  0.007760  0.007060  0.007160  \n",
              "2    0.003000  0.002260  0.002800  0.002980  0.002700  0.002740  0.002550  \n",
              "3    0.002350  0.003270  0.002600  0.002550  0.002850  0.002980  0.002900  \n",
              "4    0.004060  0.003510  0.003350  0.003560  0.003150  0.003270  0.003300  \n",
              "..        ...       ...       ...       ...       ...       ...       ...  \n",
              "274  0.005523  0.005435  0.004406  0.004437  0.003634  0.004944  0.004693  \n",
              "275  0.003146  0.003783  0.003582  0.004215  0.003873  0.003449  0.003721  \n",
              "276  0.003708  0.004972  0.004514  0.004210  0.004280  0.004705  0.004092  \n",
              "277  0.004185  0.004474  0.003795  0.004301  0.004360  0.003309  0.003900  \n",
              "278  0.003685  0.003225  0.004351  0.003593  0.004680  0.004033  0.004542  \n",
              "\n",
              "[279 rows x 60 columns]"
            ],
            "text/html": [
              "\n",
              "  <div id=\"df-6e060000-44c6-44bd-898d-48ab1a02a86b\">\n",
              "    <div class=\"colab-df-container\">\n",
              "      <div>\n",
              "<style scoped>\n",
              "    .dataframe tbody tr th:only-of-type {\n",
              "        vertical-align: middle;\n",
              "    }\n",
              "\n",
              "    .dataframe tbody tr th {\n",
              "        vertical-align: top;\n",
              "    }\n",
              "\n",
              "    .dataframe thead th {\n",
              "        text-align: right;\n",
              "    }\n",
              "</style>\n",
              "<table border=\"1\" class=\"dataframe\">\n",
              "  <thead>\n",
              "    <tr style=\"text-align: right;\">\n",
              "      <th></th>\n",
              "      <th>0</th>\n",
              "      <th>1</th>\n",
              "      <th>2</th>\n",
              "      <th>3</th>\n",
              "      <th>4</th>\n",
              "      <th>5</th>\n",
              "      <th>6</th>\n",
              "      <th>7</th>\n",
              "      <th>8</th>\n",
              "      <th>9</th>\n",
              "      <th>...</th>\n",
              "      <th>50</th>\n",
              "      <th>51</th>\n",
              "      <th>52</th>\n",
              "      <th>53</th>\n",
              "      <th>54</th>\n",
              "      <th>55</th>\n",
              "      <th>56</th>\n",
              "      <th>57</th>\n",
              "      <th>58</th>\n",
              "      <th>59</th>\n",
              "    </tr>\n",
              "  </thead>\n",
              "  <tbody>\n",
              "    <tr>\n",
              "      <th>0</th>\n",
              "      <td>0.003550</td>\n",
              "      <td>0.003120</td>\n",
              "      <td>0.002950</td>\n",
              "      <td>0.003560</td>\n",
              "      <td>0.004060</td>\n",
              "      <td>0.002880</td>\n",
              "      <td>0.003050</td>\n",
              "      <td>0.003360</td>\n",
              "      <td>0.003400</td>\n",
              "      <td>0.003030</td>\n",
              "      <td>...</td>\n",
              "      <td>0.004470</td>\n",
              "      <td>0.003250</td>\n",
              "      <td>0.003360</td>\n",
              "      <td>0.003050</td>\n",
              "      <td>0.003120</td>\n",
              "      <td>0.003000</td>\n",
              "      <td>0.003270</td>\n",
              "      <td>0.002350</td>\n",
              "      <td>0.002880</td>\n",
              "      <td>0.003100</td>\n",
              "    </tr>\n",
              "    <tr>\n",
              "      <th>1</th>\n",
              "      <td>0.009020</td>\n",
              "      <td>0.008510</td>\n",
              "      <td>0.007710</td>\n",
              "      <td>0.008280</td>\n",
              "      <td>0.007360</td>\n",
              "      <td>0.007160</td>\n",
              "      <td>0.007850</td>\n",
              "      <td>0.007930</td>\n",
              "      <td>0.007260</td>\n",
              "      <td>0.009840</td>\n",
              "      <td>...</td>\n",
              "      <td>0.007450</td>\n",
              "      <td>0.006900</td>\n",
              "      <td>0.007010</td>\n",
              "      <td>0.006970</td>\n",
              "      <td>0.006680</td>\n",
              "      <td>0.006970</td>\n",
              "      <td>0.007890</td>\n",
              "      <td>0.007760</td>\n",
              "      <td>0.007060</td>\n",
              "      <td>0.007160</td>\n",
              "    </tr>\n",
              "    <tr>\n",
              "      <th>2</th>\n",
              "      <td>0.002850</td>\n",
              "      <td>0.002840</td>\n",
              "      <td>0.003000</td>\n",
              "      <td>0.002880</td>\n",
              "      <td>0.003100</td>\n",
              "      <td>0.002640</td>\n",
              "      <td>0.002900</td>\n",
              "      <td>0.002550</td>\n",
              "      <td>0.002150</td>\n",
              "      <td>0.002310</td>\n",
              "      <td>...</td>\n",
              "      <td>0.002840</td>\n",
              "      <td>0.002750</td>\n",
              "      <td>0.002550</td>\n",
              "      <td>0.003000</td>\n",
              "      <td>0.002260</td>\n",
              "      <td>0.002800</td>\n",
              "      <td>0.002980</td>\n",
              "      <td>0.002700</td>\n",
              "      <td>0.002740</td>\n",
              "      <td>0.002550</td>\n",
              "    </tr>\n",
              "    <tr>\n",
              "      <th>3</th>\n",
              "      <td>0.002650</td>\n",
              "      <td>0.003030</td>\n",
              "      <td>0.002950</td>\n",
              "      <td>0.003360</td>\n",
              "      <td>0.002850</td>\n",
              "      <td>0.003030</td>\n",
              "      <td>0.003100</td>\n",
              "      <td>0.002690</td>\n",
              "      <td>0.002050</td>\n",
              "      <td>0.003460</td>\n",
              "      <td>...</td>\n",
              "      <td>0.002550</td>\n",
              "      <td>0.003100</td>\n",
              "      <td>0.003600</td>\n",
              "      <td>0.002350</td>\n",
              "      <td>0.003270</td>\n",
              "      <td>0.002600</td>\n",
              "      <td>0.002550</td>\n",
              "      <td>0.002850</td>\n",
              "      <td>0.002980</td>\n",
              "      <td>0.002900</td>\n",
              "    </tr>\n",
              "    <tr>\n",
              "      <th>4</th>\n",
              "      <td>0.003450</td>\n",
              "      <td>0.003080</td>\n",
              "      <td>0.004110</td>\n",
              "      <td>0.003460</td>\n",
              "      <td>0.003500</td>\n",
              "      <td>0.003750</td>\n",
              "      <td>0.003550</td>\n",
              "      <td>0.003600</td>\n",
              "      <td>0.003350</td>\n",
              "      <td>0.003510</td>\n",
              "      <td>...</td>\n",
              "      <td>0.003410</td>\n",
              "      <td>0.003550</td>\n",
              "      <td>0.003890</td>\n",
              "      <td>0.004060</td>\n",
              "      <td>0.003510</td>\n",
              "      <td>0.003350</td>\n",
              "      <td>0.003560</td>\n",
              "      <td>0.003150</td>\n",
              "      <td>0.003270</td>\n",
              "      <td>0.003300</td>\n",
              "    </tr>\n",
              "    <tr>\n",
              "      <th>...</th>\n",
              "      <td>...</td>\n",
              "      <td>...</td>\n",
              "      <td>...</td>\n",
              "      <td>...</td>\n",
              "      <td>...</td>\n",
              "      <td>...</td>\n",
              "      <td>...</td>\n",
              "      <td>...</td>\n",
              "      <td>...</td>\n",
              "      <td>...</td>\n",
              "      <td>...</td>\n",
              "      <td>...</td>\n",
              "      <td>...</td>\n",
              "      <td>...</td>\n",
              "      <td>...</td>\n",
              "      <td>...</td>\n",
              "      <td>...</td>\n",
              "      <td>...</td>\n",
              "      <td>...</td>\n",
              "      <td>...</td>\n",
              "      <td>...</td>\n",
              "    </tr>\n",
              "    <tr>\n",
              "      <th>274</th>\n",
              "      <td>0.004411</td>\n",
              "      <td>0.003790</td>\n",
              "      <td>0.004779</td>\n",
              "      <td>0.004693</td>\n",
              "      <td>0.004897</td>\n",
              "      <td>0.003877</td>\n",
              "      <td>0.004804</td>\n",
              "      <td>0.004744</td>\n",
              "      <td>0.004046</td>\n",
              "      <td>0.004891</td>\n",
              "      <td>...</td>\n",
              "      <td>0.004533</td>\n",
              "      <td>0.004454</td>\n",
              "      <td>0.003981</td>\n",
              "      <td>0.005523</td>\n",
              "      <td>0.005435</td>\n",
              "      <td>0.004406</td>\n",
              "      <td>0.004437</td>\n",
              "      <td>0.003634</td>\n",
              "      <td>0.004944</td>\n",
              "      <td>0.004693</td>\n",
              "    </tr>\n",
              "    <tr>\n",
              "      <th>275</th>\n",
              "      <td>0.003380</td>\n",
              "      <td>0.003033</td>\n",
              "      <td>0.003725</td>\n",
              "      <td>0.003377</td>\n",
              "      <td>0.003627</td>\n",
              "      <td>0.003858</td>\n",
              "      <td>0.002892</td>\n",
              "      <td>0.002846</td>\n",
              "      <td>0.003631</td>\n",
              "      <td>0.003598</td>\n",
              "      <td>...</td>\n",
              "      <td>0.003282</td>\n",
              "      <td>0.004064</td>\n",
              "      <td>0.004119</td>\n",
              "      <td>0.003146</td>\n",
              "      <td>0.003783</td>\n",
              "      <td>0.003582</td>\n",
              "      <td>0.004215</td>\n",
              "      <td>0.003873</td>\n",
              "      <td>0.003449</td>\n",
              "      <td>0.003721</td>\n",
              "    </tr>\n",
              "    <tr>\n",
              "      <th>276</th>\n",
              "      <td>0.004607</td>\n",
              "      <td>0.004663</td>\n",
              "      <td>0.005391</td>\n",
              "      <td>0.004693</td>\n",
              "      <td>0.004233</td>\n",
              "      <td>0.004981</td>\n",
              "      <td>0.004538</td>\n",
              "      <td>0.004735</td>\n",
              "      <td>0.004295</td>\n",
              "      <td>0.005000</td>\n",
              "      <td>...</td>\n",
              "      <td>0.004078</td>\n",
              "      <td>0.005036</td>\n",
              "      <td>0.004575</td>\n",
              "      <td>0.003708</td>\n",
              "      <td>0.004972</td>\n",
              "      <td>0.004514</td>\n",
              "      <td>0.004210</td>\n",
              "      <td>0.004280</td>\n",
              "      <td>0.004705</td>\n",
              "      <td>0.004092</td>\n",
              "    </tr>\n",
              "    <tr>\n",
              "      <th>277</th>\n",
              "      <td>0.003854</td>\n",
              "      <td>0.004095</td>\n",
              "      <td>0.005028</td>\n",
              "      <td>0.004525</td>\n",
              "      <td>0.003841</td>\n",
              "      <td>0.004264</td>\n",
              "      <td>0.003751</td>\n",
              "      <td>0.005097</td>\n",
              "      <td>0.004745</td>\n",
              "      <td>0.004327</td>\n",
              "      <td>...</td>\n",
              "      <td>0.003991</td>\n",
              "      <td>0.004583</td>\n",
              "      <td>0.003820</td>\n",
              "      <td>0.004185</td>\n",
              "      <td>0.004474</td>\n",
              "      <td>0.003795</td>\n",
              "      <td>0.004301</td>\n",
              "      <td>0.004360</td>\n",
              "      <td>0.003309</td>\n",
              "      <td>0.003900</td>\n",
              "    </tr>\n",
              "    <tr>\n",
              "      <th>278</th>\n",
              "      <td>0.003950</td>\n",
              "      <td>0.003425</td>\n",
              "      <td>0.004487</td>\n",
              "      <td>0.004078</td>\n",
              "      <td>0.004165</td>\n",
              "      <td>0.004180</td>\n",
              "      <td>0.004289</td>\n",
              "      <td>0.004711</td>\n",
              "      <td>0.004571</td>\n",
              "      <td>0.004178</td>\n",
              "      <td>...</td>\n",
              "      <td>0.003590</td>\n",
              "      <td>0.004026</td>\n",
              "      <td>0.004064</td>\n",
              "      <td>0.003685</td>\n",
              "      <td>0.003225</td>\n",
              "      <td>0.004351</td>\n",
              "      <td>0.003593</td>\n",
              "      <td>0.004680</td>\n",
              "      <td>0.004033</td>\n",
              "      <td>0.004542</td>\n",
              "    </tr>\n",
              "  </tbody>\n",
              "</table>\n",
              "<p>279 rows × 60 columns</p>\n",
              "</div>\n",
              "      <button class=\"colab-df-convert\" onclick=\"convertToInteractive('df-6e060000-44c6-44bd-898d-48ab1a02a86b')\"\n",
              "              title=\"Convert this dataframe to an interactive table.\"\n",
              "              style=\"display:none;\">\n",
              "        \n",
              "  <svg xmlns=\"http://www.w3.org/2000/svg\" height=\"24px\"viewBox=\"0 0 24 24\"\n",
              "       width=\"24px\">\n",
              "    <path d=\"M0 0h24v24H0V0z\" fill=\"none\"/>\n",
              "    <path d=\"M18.56 5.44l.94 2.06.94-2.06 2.06-.94-2.06-.94-.94-2.06-.94 2.06-2.06.94zm-11 1L8.5 8.5l.94-2.06 2.06-.94-2.06-.94L8.5 2.5l-.94 2.06-2.06.94zm10 10l.94 2.06.94-2.06 2.06-.94-2.06-.94-.94-2.06-.94 2.06-2.06.94z\"/><path d=\"M17.41 7.96l-1.37-1.37c-.4-.4-.92-.59-1.43-.59-.52 0-1.04.2-1.43.59L10.3 9.45l-7.72 7.72c-.78.78-.78 2.05 0 2.83L4 21.41c.39.39.9.59 1.41.59.51 0 1.02-.2 1.41-.59l7.78-7.78 2.81-2.81c.8-.78.8-2.07 0-2.86zM5.41 20L4 18.59l7.72-7.72 1.47 1.35L5.41 20z\"/>\n",
              "  </svg>\n",
              "      </button>\n",
              "      \n",
              "  <style>\n",
              "    .colab-df-container {\n",
              "      display:flex;\n",
              "      flex-wrap:wrap;\n",
              "      gap: 12px;\n",
              "    }\n",
              "\n",
              "    .colab-df-convert {\n",
              "      background-color: #E8F0FE;\n",
              "      border: none;\n",
              "      border-radius: 50%;\n",
              "      cursor: pointer;\n",
              "      display: none;\n",
              "      fill: #1967D2;\n",
              "      height: 32px;\n",
              "      padding: 0 0 0 0;\n",
              "      width: 32px;\n",
              "    }\n",
              "\n",
              "    .colab-df-convert:hover {\n",
              "      background-color: #E2EBFA;\n",
              "      box-shadow: 0px 1px 2px rgba(60, 64, 67, 0.3), 0px 1px 3px 1px rgba(60, 64, 67, 0.15);\n",
              "      fill: #174EA6;\n",
              "    }\n",
              "\n",
              "    [theme=dark] .colab-df-convert {\n",
              "      background-color: #3B4455;\n",
              "      fill: #D2E3FC;\n",
              "    }\n",
              "\n",
              "    [theme=dark] .colab-df-convert:hover {\n",
              "      background-color: #434B5C;\n",
              "      box-shadow: 0px 1px 3px 1px rgba(0, 0, 0, 0.15);\n",
              "      filter: drop-shadow(0px 1px 2px rgba(0, 0, 0, 0.3));\n",
              "      fill: #FFFFFF;\n",
              "    }\n",
              "  </style>\n",
              "\n",
              "      <script>\n",
              "        const buttonEl =\n",
              "          document.querySelector('#df-6e060000-44c6-44bd-898d-48ab1a02a86b button.colab-df-convert');\n",
              "        buttonEl.style.display =\n",
              "          google.colab.kernel.accessAllowed ? 'block' : 'none';\n",
              "\n",
              "        async function convertToInteractive(key) {\n",
              "          const element = document.querySelector('#df-6e060000-44c6-44bd-898d-48ab1a02a86b');\n",
              "          const dataTable =\n",
              "            await google.colab.kernel.invokeFunction('convertToInteractive',\n",
              "                                                     [key], {});\n",
              "          if (!dataTable) return;\n",
              "\n",
              "          const docLinkHtml = 'Like what you see? Visit the ' +\n",
              "            '<a target=\"_blank\" href=https://colab.research.google.com/notebooks/data_table.ipynb>data table notebook</a>'\n",
              "            + ' to learn more about interactive tables.';\n",
              "          element.innerHTML = '';\n",
              "          dataTable['output_type'] = 'display_data';\n",
              "          await google.colab.output.renderOutput(dataTable, element);\n",
              "          const docLink = document.createElement('div');\n",
              "          docLink.innerHTML = docLinkHtml;\n",
              "          element.appendChild(docLink);\n",
              "        }\n",
              "      </script>\n",
              "    </div>\n",
              "  </div>\n",
              "  "
            ]
          },
          "metadata": {},
          "execution_count": 146
        }
      ],
      "source": [
        "SEP_df_234"
      ]
    },
    {
      "cell_type": "code",
      "execution_count": null,
      "metadata": {
        "id": "SYnWe-wFSA0-"
      },
      "outputs": [],
      "source": [
        "SEP_df_4 = DA_Jitter(SEP_df_1, 0.0002, 30)"
      ]
    },
    {
      "cell_type": "code",
      "execution_count": null,
      "metadata": {
        "id": "G4hw_3CpSA0-",
        "colab": {
          "base_uri": "https://localhost:8080/"
        },
        "outputId": "4d38d11b-a03e-4e9c-ba97-0ce2e85d7d1c"
      },
      "outputs": [
        {
          "output_type": "stream",
          "name": "stderr",
          "text": [
            "<ipython-input-148-cea74f24dcc7>:1: FutureWarning: The frame.append method is deprecated and will be removed from pandas in a future version. Use pandas.concat instead.\n",
            "  SEP_df_312 = SEP_df_234.append(SEP_df_4)\n"
          ]
        }
      ],
      "source": [
        "SEP_df_312 = SEP_df_234.append(SEP_df_4)\n",
        "SEP_df_312 = SEP_df_312.reset_index(drop = True)"
      ]
    },
    {
      "cell_type": "code",
      "execution_count": null,
      "metadata": {
        "colab": {
          "base_uri": "https://localhost:8080/",
          "height": 488
        },
        "outputId": "cd5e86c2-f475-4e11-e4df-1110c5167f85",
        "id": "bYWxqqhKSA0-"
      },
      "outputs": [
        {
          "output_type": "execute_result",
          "data": {
            "text/plain": [
              "            0         1         2         3         4         5         6  \\\n",
              "0    0.003550  0.003120  0.002950  0.003560  0.004060  0.002880  0.003050   \n",
              "1    0.009020  0.008510  0.007710  0.008280  0.007360  0.007160  0.007850   \n",
              "2    0.002850  0.002840  0.003000  0.002880  0.003100  0.002640  0.002900   \n",
              "3    0.002650  0.003030  0.002950  0.003360  0.002850  0.003030  0.003100   \n",
              "4    0.003450  0.003080  0.004110  0.003460  0.003500  0.003750  0.003550   \n",
              "..        ...       ...       ...       ...       ...       ...       ...   \n",
              "367  0.004371  0.003441  0.004631  0.004675  0.004379  0.003870  0.004974   \n",
              "368  0.003750  0.003097  0.004142  0.003079  0.003427  0.003749  0.002955   \n",
              "369  0.005004  0.004547  0.005512  0.004823  0.004664  0.004732  0.004502   \n",
              "370  0.003627  0.004180  0.004703  0.005086  0.004251  0.004652  0.003663   \n",
              "371  0.004058  0.003729  0.004225  0.004101  0.004530  0.004232  0.003668   \n",
              "\n",
              "            7         8         9  ...        50        51        52  \\\n",
              "0    0.003360  0.003400  0.003030  ...  0.004470  0.003250  0.003360   \n",
              "1    0.007930  0.007260  0.009840  ...  0.007450  0.006900  0.007010   \n",
              "2    0.002550  0.002150  0.002310  ...  0.002840  0.002750  0.002550   \n",
              "3    0.002690  0.002050  0.003460  ...  0.002550  0.003100  0.003600   \n",
              "4    0.003600  0.003350  0.003510  ...  0.003410  0.003550  0.003890   \n",
              "..        ...       ...       ...  ...       ...       ...       ...   \n",
              "367  0.004514  0.003996  0.005227  ...  0.004604  0.004329  0.003797   \n",
              "368  0.003301  0.004192  0.003671  ...  0.003423  0.004263  0.003886   \n",
              "369  0.004503  0.004416  0.004318  ...  0.004318  0.004959  0.004434   \n",
              "370  0.005000  0.004871  0.004071  ...  0.003804  0.004719  0.003462   \n",
              "371  0.004731  0.004709  0.004061  ...  0.003557  0.004323  0.003980   \n",
              "\n",
              "           53        54        55        56        57        58        59  \n",
              "0    0.003050  0.003120  0.003000  0.003270  0.002350  0.002880  0.003100  \n",
              "1    0.006970  0.006680  0.006970  0.007890  0.007760  0.007060  0.007160  \n",
              "2    0.003000  0.002260  0.002800  0.002980  0.002700  0.002740  0.002550  \n",
              "3    0.002350  0.003270  0.002600  0.002550  0.002850  0.002980  0.002900  \n",
              "4    0.004060  0.003510  0.003350  0.003560  0.003150  0.003270  0.003300  \n",
              "..        ...       ...       ...       ...       ...       ...       ...  \n",
              "367  0.004911  0.005451  0.004453  0.004548  0.003591  0.005085  0.004347  \n",
              "368  0.002803  0.004034  0.003717  0.004043  0.004004  0.003703  0.003733  \n",
              "369  0.004154  0.004814  0.004432  0.004267  0.003866  0.005321  0.003663  \n",
              "370  0.004227  0.004375  0.003836  0.003948  0.004166  0.003364  0.004388  \n",
              "371  0.003764  0.003494  0.004579  0.003540  0.004852  0.004351  0.004467  \n",
              "\n",
              "[372 rows x 60 columns]"
            ],
            "text/html": [
              "\n",
              "  <div id=\"df-e80fab60-6b99-43c6-b7be-b75433da352a\">\n",
              "    <div class=\"colab-df-container\">\n",
              "      <div>\n",
              "<style scoped>\n",
              "    .dataframe tbody tr th:only-of-type {\n",
              "        vertical-align: middle;\n",
              "    }\n",
              "\n",
              "    .dataframe tbody tr th {\n",
              "        vertical-align: top;\n",
              "    }\n",
              "\n",
              "    .dataframe thead th {\n",
              "        text-align: right;\n",
              "    }\n",
              "</style>\n",
              "<table border=\"1\" class=\"dataframe\">\n",
              "  <thead>\n",
              "    <tr style=\"text-align: right;\">\n",
              "      <th></th>\n",
              "      <th>0</th>\n",
              "      <th>1</th>\n",
              "      <th>2</th>\n",
              "      <th>3</th>\n",
              "      <th>4</th>\n",
              "      <th>5</th>\n",
              "      <th>6</th>\n",
              "      <th>7</th>\n",
              "      <th>8</th>\n",
              "      <th>9</th>\n",
              "      <th>...</th>\n",
              "      <th>50</th>\n",
              "      <th>51</th>\n",
              "      <th>52</th>\n",
              "      <th>53</th>\n",
              "      <th>54</th>\n",
              "      <th>55</th>\n",
              "      <th>56</th>\n",
              "      <th>57</th>\n",
              "      <th>58</th>\n",
              "      <th>59</th>\n",
              "    </tr>\n",
              "  </thead>\n",
              "  <tbody>\n",
              "    <tr>\n",
              "      <th>0</th>\n",
              "      <td>0.003550</td>\n",
              "      <td>0.003120</td>\n",
              "      <td>0.002950</td>\n",
              "      <td>0.003560</td>\n",
              "      <td>0.004060</td>\n",
              "      <td>0.002880</td>\n",
              "      <td>0.003050</td>\n",
              "      <td>0.003360</td>\n",
              "      <td>0.003400</td>\n",
              "      <td>0.003030</td>\n",
              "      <td>...</td>\n",
              "      <td>0.004470</td>\n",
              "      <td>0.003250</td>\n",
              "      <td>0.003360</td>\n",
              "      <td>0.003050</td>\n",
              "      <td>0.003120</td>\n",
              "      <td>0.003000</td>\n",
              "      <td>0.003270</td>\n",
              "      <td>0.002350</td>\n",
              "      <td>0.002880</td>\n",
              "      <td>0.003100</td>\n",
              "    </tr>\n",
              "    <tr>\n",
              "      <th>1</th>\n",
              "      <td>0.009020</td>\n",
              "      <td>0.008510</td>\n",
              "      <td>0.007710</td>\n",
              "      <td>0.008280</td>\n",
              "      <td>0.007360</td>\n",
              "      <td>0.007160</td>\n",
              "      <td>0.007850</td>\n",
              "      <td>0.007930</td>\n",
              "      <td>0.007260</td>\n",
              "      <td>0.009840</td>\n",
              "      <td>...</td>\n",
              "      <td>0.007450</td>\n",
              "      <td>0.006900</td>\n",
              "      <td>0.007010</td>\n",
              "      <td>0.006970</td>\n",
              "      <td>0.006680</td>\n",
              "      <td>0.006970</td>\n",
              "      <td>0.007890</td>\n",
              "      <td>0.007760</td>\n",
              "      <td>0.007060</td>\n",
              "      <td>0.007160</td>\n",
              "    </tr>\n",
              "    <tr>\n",
              "      <th>2</th>\n",
              "      <td>0.002850</td>\n",
              "      <td>0.002840</td>\n",
              "      <td>0.003000</td>\n",
              "      <td>0.002880</td>\n",
              "      <td>0.003100</td>\n",
              "      <td>0.002640</td>\n",
              "      <td>0.002900</td>\n",
              "      <td>0.002550</td>\n",
              "      <td>0.002150</td>\n",
              "      <td>0.002310</td>\n",
              "      <td>...</td>\n",
              "      <td>0.002840</td>\n",
              "      <td>0.002750</td>\n",
              "      <td>0.002550</td>\n",
              "      <td>0.003000</td>\n",
              "      <td>0.002260</td>\n",
              "      <td>0.002800</td>\n",
              "      <td>0.002980</td>\n",
              "      <td>0.002700</td>\n",
              "      <td>0.002740</td>\n",
              "      <td>0.002550</td>\n",
              "    </tr>\n",
              "    <tr>\n",
              "      <th>3</th>\n",
              "      <td>0.002650</td>\n",
              "      <td>0.003030</td>\n",
              "      <td>0.002950</td>\n",
              "      <td>0.003360</td>\n",
              "      <td>0.002850</td>\n",
              "      <td>0.003030</td>\n",
              "      <td>0.003100</td>\n",
              "      <td>0.002690</td>\n",
              "      <td>0.002050</td>\n",
              "      <td>0.003460</td>\n",
              "      <td>...</td>\n",
              "      <td>0.002550</td>\n",
              "      <td>0.003100</td>\n",
              "      <td>0.003600</td>\n",
              "      <td>0.002350</td>\n",
              "      <td>0.003270</td>\n",
              "      <td>0.002600</td>\n",
              "      <td>0.002550</td>\n",
              "      <td>0.002850</td>\n",
              "      <td>0.002980</td>\n",
              "      <td>0.002900</td>\n",
              "    </tr>\n",
              "    <tr>\n",
              "      <th>4</th>\n",
              "      <td>0.003450</td>\n",
              "      <td>0.003080</td>\n",
              "      <td>0.004110</td>\n",
              "      <td>0.003460</td>\n",
              "      <td>0.003500</td>\n",
              "      <td>0.003750</td>\n",
              "      <td>0.003550</td>\n",
              "      <td>0.003600</td>\n",
              "      <td>0.003350</td>\n",
              "      <td>0.003510</td>\n",
              "      <td>...</td>\n",
              "      <td>0.003410</td>\n",
              "      <td>0.003550</td>\n",
              "      <td>0.003890</td>\n",
              "      <td>0.004060</td>\n",
              "      <td>0.003510</td>\n",
              "      <td>0.003350</td>\n",
              "      <td>0.003560</td>\n",
              "      <td>0.003150</td>\n",
              "      <td>0.003270</td>\n",
              "      <td>0.003300</td>\n",
              "    </tr>\n",
              "    <tr>\n",
              "      <th>...</th>\n",
              "      <td>...</td>\n",
              "      <td>...</td>\n",
              "      <td>...</td>\n",
              "      <td>...</td>\n",
              "      <td>...</td>\n",
              "      <td>...</td>\n",
              "      <td>...</td>\n",
              "      <td>...</td>\n",
              "      <td>...</td>\n",
              "      <td>...</td>\n",
              "      <td>...</td>\n",
              "      <td>...</td>\n",
              "      <td>...</td>\n",
              "      <td>...</td>\n",
              "      <td>...</td>\n",
              "      <td>...</td>\n",
              "      <td>...</td>\n",
              "      <td>...</td>\n",
              "      <td>...</td>\n",
              "      <td>...</td>\n",
              "      <td>...</td>\n",
              "    </tr>\n",
              "    <tr>\n",
              "      <th>367</th>\n",
              "      <td>0.004371</td>\n",
              "      <td>0.003441</td>\n",
              "      <td>0.004631</td>\n",
              "      <td>0.004675</td>\n",
              "      <td>0.004379</td>\n",
              "      <td>0.003870</td>\n",
              "      <td>0.004974</td>\n",
              "      <td>0.004514</td>\n",
              "      <td>0.003996</td>\n",
              "      <td>0.005227</td>\n",
              "      <td>...</td>\n",
              "      <td>0.004604</td>\n",
              "      <td>0.004329</td>\n",
              "      <td>0.003797</td>\n",
              "      <td>0.004911</td>\n",
              "      <td>0.005451</td>\n",
              "      <td>0.004453</td>\n",
              "      <td>0.004548</td>\n",
              "      <td>0.003591</td>\n",
              "      <td>0.005085</td>\n",
              "      <td>0.004347</td>\n",
              "    </tr>\n",
              "    <tr>\n",
              "      <th>368</th>\n",
              "      <td>0.003750</td>\n",
              "      <td>0.003097</td>\n",
              "      <td>0.004142</td>\n",
              "      <td>0.003079</td>\n",
              "      <td>0.003427</td>\n",
              "      <td>0.003749</td>\n",
              "      <td>0.002955</td>\n",
              "      <td>0.003301</td>\n",
              "      <td>0.004192</td>\n",
              "      <td>0.003671</td>\n",
              "      <td>...</td>\n",
              "      <td>0.003423</td>\n",
              "      <td>0.004263</td>\n",
              "      <td>0.003886</td>\n",
              "      <td>0.002803</td>\n",
              "      <td>0.004034</td>\n",
              "      <td>0.003717</td>\n",
              "      <td>0.004043</td>\n",
              "      <td>0.004004</td>\n",
              "      <td>0.003703</td>\n",
              "      <td>0.003733</td>\n",
              "    </tr>\n",
              "    <tr>\n",
              "      <th>369</th>\n",
              "      <td>0.005004</td>\n",
              "      <td>0.004547</td>\n",
              "      <td>0.005512</td>\n",
              "      <td>0.004823</td>\n",
              "      <td>0.004664</td>\n",
              "      <td>0.004732</td>\n",
              "      <td>0.004502</td>\n",
              "      <td>0.004503</td>\n",
              "      <td>0.004416</td>\n",
              "      <td>0.004318</td>\n",
              "      <td>...</td>\n",
              "      <td>0.004318</td>\n",
              "      <td>0.004959</td>\n",
              "      <td>0.004434</td>\n",
              "      <td>0.004154</td>\n",
              "      <td>0.004814</td>\n",
              "      <td>0.004432</td>\n",
              "      <td>0.004267</td>\n",
              "      <td>0.003866</td>\n",
              "      <td>0.005321</td>\n",
              "      <td>0.003663</td>\n",
              "    </tr>\n",
              "    <tr>\n",
              "      <th>370</th>\n",
              "      <td>0.003627</td>\n",
              "      <td>0.004180</td>\n",
              "      <td>0.004703</td>\n",
              "      <td>0.005086</td>\n",
              "      <td>0.004251</td>\n",
              "      <td>0.004652</td>\n",
              "      <td>0.003663</td>\n",
              "      <td>0.005000</td>\n",
              "      <td>0.004871</td>\n",
              "      <td>0.004071</td>\n",
              "      <td>...</td>\n",
              "      <td>0.003804</td>\n",
              "      <td>0.004719</td>\n",
              "      <td>0.003462</td>\n",
              "      <td>0.004227</td>\n",
              "      <td>0.004375</td>\n",
              "      <td>0.003836</td>\n",
              "      <td>0.003948</td>\n",
              "      <td>0.004166</td>\n",
              "      <td>0.003364</td>\n",
              "      <td>0.004388</td>\n",
              "    </tr>\n",
              "    <tr>\n",
              "      <th>371</th>\n",
              "      <td>0.004058</td>\n",
              "      <td>0.003729</td>\n",
              "      <td>0.004225</td>\n",
              "      <td>0.004101</td>\n",
              "      <td>0.004530</td>\n",
              "      <td>0.004232</td>\n",
              "      <td>0.003668</td>\n",
              "      <td>0.004731</td>\n",
              "      <td>0.004709</td>\n",
              "      <td>0.004061</td>\n",
              "      <td>...</td>\n",
              "      <td>0.003557</td>\n",
              "      <td>0.004323</td>\n",
              "      <td>0.003980</td>\n",
              "      <td>0.003764</td>\n",
              "      <td>0.003494</td>\n",
              "      <td>0.004579</td>\n",
              "      <td>0.003540</td>\n",
              "      <td>0.004852</td>\n",
              "      <td>0.004351</td>\n",
              "      <td>0.004467</td>\n",
              "    </tr>\n",
              "  </tbody>\n",
              "</table>\n",
              "<p>372 rows × 60 columns</p>\n",
              "</div>\n",
              "      <button class=\"colab-df-convert\" onclick=\"convertToInteractive('df-e80fab60-6b99-43c6-b7be-b75433da352a')\"\n",
              "              title=\"Convert this dataframe to an interactive table.\"\n",
              "              style=\"display:none;\">\n",
              "        \n",
              "  <svg xmlns=\"http://www.w3.org/2000/svg\" height=\"24px\"viewBox=\"0 0 24 24\"\n",
              "       width=\"24px\">\n",
              "    <path d=\"M0 0h24v24H0V0z\" fill=\"none\"/>\n",
              "    <path d=\"M18.56 5.44l.94 2.06.94-2.06 2.06-.94-2.06-.94-.94-2.06-.94 2.06-2.06.94zm-11 1L8.5 8.5l.94-2.06 2.06-.94-2.06-.94L8.5 2.5l-.94 2.06-2.06.94zm10 10l.94 2.06.94-2.06 2.06-.94-2.06-.94-.94-2.06-.94 2.06-2.06.94z\"/><path d=\"M17.41 7.96l-1.37-1.37c-.4-.4-.92-.59-1.43-.59-.52 0-1.04.2-1.43.59L10.3 9.45l-7.72 7.72c-.78.78-.78 2.05 0 2.83L4 21.41c.39.39.9.59 1.41.59.51 0 1.02-.2 1.41-.59l7.78-7.78 2.81-2.81c.8-.78.8-2.07 0-2.86zM5.41 20L4 18.59l7.72-7.72 1.47 1.35L5.41 20z\"/>\n",
              "  </svg>\n",
              "      </button>\n",
              "      \n",
              "  <style>\n",
              "    .colab-df-container {\n",
              "      display:flex;\n",
              "      flex-wrap:wrap;\n",
              "      gap: 12px;\n",
              "    }\n",
              "\n",
              "    .colab-df-convert {\n",
              "      background-color: #E8F0FE;\n",
              "      border: none;\n",
              "      border-radius: 50%;\n",
              "      cursor: pointer;\n",
              "      display: none;\n",
              "      fill: #1967D2;\n",
              "      height: 32px;\n",
              "      padding: 0 0 0 0;\n",
              "      width: 32px;\n",
              "    }\n",
              "\n",
              "    .colab-df-convert:hover {\n",
              "      background-color: #E2EBFA;\n",
              "      box-shadow: 0px 1px 2px rgba(60, 64, 67, 0.3), 0px 1px 3px 1px rgba(60, 64, 67, 0.15);\n",
              "      fill: #174EA6;\n",
              "    }\n",
              "\n",
              "    [theme=dark] .colab-df-convert {\n",
              "      background-color: #3B4455;\n",
              "      fill: #D2E3FC;\n",
              "    }\n",
              "\n",
              "    [theme=dark] .colab-df-convert:hover {\n",
              "      background-color: #434B5C;\n",
              "      box-shadow: 0px 1px 3px 1px rgba(0, 0, 0, 0.15);\n",
              "      filter: drop-shadow(0px 1px 2px rgba(0, 0, 0, 0.3));\n",
              "      fill: #FFFFFF;\n",
              "    }\n",
              "  </style>\n",
              "\n",
              "      <script>\n",
              "        const buttonEl =\n",
              "          document.querySelector('#df-e80fab60-6b99-43c6-b7be-b75433da352a button.colab-df-convert');\n",
              "        buttonEl.style.display =\n",
              "          google.colab.kernel.accessAllowed ? 'block' : 'none';\n",
              "\n",
              "        async function convertToInteractive(key) {\n",
              "          const element = document.querySelector('#df-e80fab60-6b99-43c6-b7be-b75433da352a');\n",
              "          const dataTable =\n",
              "            await google.colab.kernel.invokeFunction('convertToInteractive',\n",
              "                                                     [key], {});\n",
              "          if (!dataTable) return;\n",
              "\n",
              "          const docLinkHtml = 'Like what you see? Visit the ' +\n",
              "            '<a target=\"_blank\" href=https://colab.research.google.com/notebooks/data_table.ipynb>data table notebook</a>'\n",
              "            + ' to learn more about interactive tables.';\n",
              "          element.innerHTML = '';\n",
              "          dataTable['output_type'] = 'display_data';\n",
              "          await google.colab.output.renderOutput(dataTable, element);\n",
              "          const docLink = document.createElement('div');\n",
              "          docLink.innerHTML = docLinkHtml;\n",
              "          element.appendChild(docLink);\n",
              "        }\n",
              "      </script>\n",
              "    </div>\n",
              "  </div>\n",
              "  "
            ]
          },
          "metadata": {},
          "execution_count": 149
        }
      ],
      "source": [
        "SEP_df_312"
      ]
    },
    {
      "cell_type": "code",
      "source": [
        "SEP_df_5 = DA_Jitter(SEP_df_1, 0.0002, 0)"
      ],
      "metadata": {
        "id": "meu1mA00TVzl"
      },
      "execution_count": null,
      "outputs": []
    },
    {
      "cell_type": "code",
      "source": [
        "SEP_df_390 = SEP_df_312.append(SEP_df_5)\n",
        "SEP_df_390 = SEP_df_390.reset_index(drop = True)"
      ],
      "metadata": {
        "id": "B2CXcx6gTX70",
        "colab": {
          "base_uri": "https://localhost:8080/"
        },
        "outputId": "a0d80a30-beeb-47f6-9211-9d6d11abb4e6"
      },
      "execution_count": null,
      "outputs": [
        {
          "output_type": "stream",
          "name": "stderr",
          "text": [
            "<ipython-input-151-6a23b5f89a65>:1: FutureWarning: The frame.append method is deprecated and will be removed from pandas in a future version. Use pandas.concat instead.\n",
            "  SEP_df_390 = SEP_df_312.append(SEP_df_5)\n"
          ]
        }
      ]
    },
    {
      "cell_type": "code",
      "execution_count": null,
      "metadata": {
        "id": "AWVjXIDpSA0-",
        "colab": {
          "base_uri": "https://localhost:8080/"
        },
        "outputId": "4246536a-85b7-4686-9f18-089ebd6006fa"
      },
      "outputs": [
        {
          "output_type": "stream",
          "name": "stderr",
          "text": [
            "<ipython-input-152-fcf0811599b9>:1: FutureWarning: The frame.append method is deprecated and will be removed from pandas in a future version. Use pandas.concat instead.\n",
            "  data = SEP_df_390.append(NSEP_df_390) # append the two SEP and NSEP dataframes\n"
          ]
        }
      ],
      "source": [
        "data = SEP_df_390.append(NSEP_df_390) # append the two SEP and NSEP dataframes"
      ]
    },
    {
      "cell_type": "code",
      "execution_count": null,
      "metadata": {
        "id": "_e2bdgHGSA0-"
      },
      "outputs": [],
      "source": [
        "data = data.reset_index(drop = True)"
      ]
    },
    {
      "cell_type": "code",
      "execution_count": null,
      "metadata": {
        "id": "k3aLdnMeSA0-"
      },
      "outputs": [],
      "source": [
        "NSEP_start_index = len(SEP_df_390) + 1"
      ]
    },
    {
      "cell_type": "code",
      "execution_count": null,
      "metadata": {
        "colab": {
          "base_uri": "https://localhost:8080/",
          "height": 488
        },
        "id": "aww09bQU-EUf",
        "outputId": "31e7a4b3-7860-476d-ea2f-332cae7493f5"
      },
      "outputs": [
        {
          "output_type": "execute_result",
          "data": {
            "text/plain": [
              "           0        1        2        3        4        5        6        7  \\\n",
              "0    0.00355  0.00312  0.00295  0.00356  0.00406  0.00288  0.00305  0.00336   \n",
              "1    0.00902  0.00851  0.00771  0.00828  0.00736  0.00716  0.00785  0.00793   \n",
              "2    0.00285  0.00284  0.00300  0.00288  0.00310  0.00264  0.00290  0.00255   \n",
              "3    0.00265  0.00303  0.00295  0.00336  0.00285  0.00303  0.00310  0.00269   \n",
              "4    0.00345  0.00308  0.00411  0.00346  0.00350  0.00375  0.00355  0.00360   \n",
              "..       ...      ...      ...      ...      ...      ...      ...      ...   \n",
              "864  0.00254  0.00269  0.00260  0.00292  0.00269  0.00260  0.00299  0.00277   \n",
              "865  0.00239  0.00304  0.00337  0.00322  0.00333  0.00232  0.00307  0.00246   \n",
              "866  0.00359  0.00318  0.00232  0.00262  0.00275  0.00322  0.00322  0.00299   \n",
              "867  0.00673  0.00557  0.00652  0.00621  0.00578  0.00577  0.00569  0.00569   \n",
              "868  0.00528  0.00471  0.00404  0.00571  0.00486  0.00577  0.00486  0.00521   \n",
              "\n",
              "           8        9  ...       51       52       53       54       55  \\\n",
              "0    0.00340  0.00303  ...  0.00325  0.00336  0.00305  0.00312  0.00300   \n",
              "1    0.00726  0.00984  ...  0.00690  0.00701  0.00697  0.00668  0.00697   \n",
              "2    0.00215  0.00231  ...  0.00275  0.00255  0.00300  0.00226  0.00280   \n",
              "3    0.00205  0.00346  ...  0.00310  0.00360  0.00235  0.00327  0.00260   \n",
              "4    0.00335  0.00351  ...  0.00355  0.00389  0.00406  0.00351  0.00335   \n",
              "..       ...      ...  ...      ...      ...      ...      ...      ...   \n",
              "864  0.00254  0.00340  ...  0.00292  0.00333  0.00284  0.00269  0.00254   \n",
              "865  0.00352  0.00247  ...  0.00253  0.00269  0.00269  0.00326  0.00284   \n",
              "866  0.00275  0.00239  ...  0.00239  0.00329  0.00374  0.00367  0.00311   \n",
              "867  0.00637  0.00561  ...  0.00546  0.00456  0.00718  0.00607  0.00600   \n",
              "868  0.00516  0.00494  ...  0.00449  0.00569  0.00577  0.00644  0.00652   \n",
              "\n",
              "          56       57       58       59  event  \n",
              "0    0.00327  0.00235  0.00288  0.00310    SEP  \n",
              "1    0.00789  0.00776  0.00706  0.00716    SEP  \n",
              "2    0.00298  0.00270  0.00274  0.00255    SEP  \n",
              "3    0.00255  0.00285  0.00298  0.00290    SEP  \n",
              "4    0.00356  0.00315  0.00327  0.00330    SEP  \n",
              "..       ...      ...      ...      ...    ...  \n",
              "864  0.00318  0.00254  0.00299  0.00311   NSEP  \n",
              "865  0.00224  0.00314  0.00318  0.00337   NSEP  \n",
              "866  0.00344  0.00344  0.00289  0.00374   NSEP  \n",
              "867  0.00538  0.00621  0.00658  0.00637   NSEP  \n",
              "868  0.00449  0.00542  0.00577  0.00509   NSEP  \n",
              "\n",
              "[869 rows x 61 columns]"
            ],
            "text/html": [
              "\n",
              "  <div id=\"df-069c15dc-ea61-4aa6-99cb-96fb2594e6af\">\n",
              "    <div class=\"colab-df-container\">\n",
              "      <div>\n",
              "<style scoped>\n",
              "    .dataframe tbody tr th:only-of-type {\n",
              "        vertical-align: middle;\n",
              "    }\n",
              "\n",
              "    .dataframe tbody tr th {\n",
              "        vertical-align: top;\n",
              "    }\n",
              "\n",
              "    .dataframe thead th {\n",
              "        text-align: right;\n",
              "    }\n",
              "</style>\n",
              "<table border=\"1\" class=\"dataframe\">\n",
              "  <thead>\n",
              "    <tr style=\"text-align: right;\">\n",
              "      <th></th>\n",
              "      <th>0</th>\n",
              "      <th>1</th>\n",
              "      <th>2</th>\n",
              "      <th>3</th>\n",
              "      <th>4</th>\n",
              "      <th>5</th>\n",
              "      <th>6</th>\n",
              "      <th>7</th>\n",
              "      <th>8</th>\n",
              "      <th>9</th>\n",
              "      <th>...</th>\n",
              "      <th>51</th>\n",
              "      <th>52</th>\n",
              "      <th>53</th>\n",
              "      <th>54</th>\n",
              "      <th>55</th>\n",
              "      <th>56</th>\n",
              "      <th>57</th>\n",
              "      <th>58</th>\n",
              "      <th>59</th>\n",
              "      <th>event</th>\n",
              "    </tr>\n",
              "  </thead>\n",
              "  <tbody>\n",
              "    <tr>\n",
              "      <th>0</th>\n",
              "      <td>0.00355</td>\n",
              "      <td>0.00312</td>\n",
              "      <td>0.00295</td>\n",
              "      <td>0.00356</td>\n",
              "      <td>0.00406</td>\n",
              "      <td>0.00288</td>\n",
              "      <td>0.00305</td>\n",
              "      <td>0.00336</td>\n",
              "      <td>0.00340</td>\n",
              "      <td>0.00303</td>\n",
              "      <td>...</td>\n",
              "      <td>0.00325</td>\n",
              "      <td>0.00336</td>\n",
              "      <td>0.00305</td>\n",
              "      <td>0.00312</td>\n",
              "      <td>0.00300</td>\n",
              "      <td>0.00327</td>\n",
              "      <td>0.00235</td>\n",
              "      <td>0.00288</td>\n",
              "      <td>0.00310</td>\n",
              "      <td>SEP</td>\n",
              "    </tr>\n",
              "    <tr>\n",
              "      <th>1</th>\n",
              "      <td>0.00902</td>\n",
              "      <td>0.00851</td>\n",
              "      <td>0.00771</td>\n",
              "      <td>0.00828</td>\n",
              "      <td>0.00736</td>\n",
              "      <td>0.00716</td>\n",
              "      <td>0.00785</td>\n",
              "      <td>0.00793</td>\n",
              "      <td>0.00726</td>\n",
              "      <td>0.00984</td>\n",
              "      <td>...</td>\n",
              "      <td>0.00690</td>\n",
              "      <td>0.00701</td>\n",
              "      <td>0.00697</td>\n",
              "      <td>0.00668</td>\n",
              "      <td>0.00697</td>\n",
              "      <td>0.00789</td>\n",
              "      <td>0.00776</td>\n",
              "      <td>0.00706</td>\n",
              "      <td>0.00716</td>\n",
              "      <td>SEP</td>\n",
              "    </tr>\n",
              "    <tr>\n",
              "      <th>2</th>\n",
              "      <td>0.00285</td>\n",
              "      <td>0.00284</td>\n",
              "      <td>0.00300</td>\n",
              "      <td>0.00288</td>\n",
              "      <td>0.00310</td>\n",
              "      <td>0.00264</td>\n",
              "      <td>0.00290</td>\n",
              "      <td>0.00255</td>\n",
              "      <td>0.00215</td>\n",
              "      <td>0.00231</td>\n",
              "      <td>...</td>\n",
              "      <td>0.00275</td>\n",
              "      <td>0.00255</td>\n",
              "      <td>0.00300</td>\n",
              "      <td>0.00226</td>\n",
              "      <td>0.00280</td>\n",
              "      <td>0.00298</td>\n",
              "      <td>0.00270</td>\n",
              "      <td>0.00274</td>\n",
              "      <td>0.00255</td>\n",
              "      <td>SEP</td>\n",
              "    </tr>\n",
              "    <tr>\n",
              "      <th>3</th>\n",
              "      <td>0.00265</td>\n",
              "      <td>0.00303</td>\n",
              "      <td>0.00295</td>\n",
              "      <td>0.00336</td>\n",
              "      <td>0.00285</td>\n",
              "      <td>0.00303</td>\n",
              "      <td>0.00310</td>\n",
              "      <td>0.00269</td>\n",
              "      <td>0.00205</td>\n",
              "      <td>0.00346</td>\n",
              "      <td>...</td>\n",
              "      <td>0.00310</td>\n",
              "      <td>0.00360</td>\n",
              "      <td>0.00235</td>\n",
              "      <td>0.00327</td>\n",
              "      <td>0.00260</td>\n",
              "      <td>0.00255</td>\n",
              "      <td>0.00285</td>\n",
              "      <td>0.00298</td>\n",
              "      <td>0.00290</td>\n",
              "      <td>SEP</td>\n",
              "    </tr>\n",
              "    <tr>\n",
              "      <th>4</th>\n",
              "      <td>0.00345</td>\n",
              "      <td>0.00308</td>\n",
              "      <td>0.00411</td>\n",
              "      <td>0.00346</td>\n",
              "      <td>0.00350</td>\n",
              "      <td>0.00375</td>\n",
              "      <td>0.00355</td>\n",
              "      <td>0.00360</td>\n",
              "      <td>0.00335</td>\n",
              "      <td>0.00351</td>\n",
              "      <td>...</td>\n",
              "      <td>0.00355</td>\n",
              "      <td>0.00389</td>\n",
              "      <td>0.00406</td>\n",
              "      <td>0.00351</td>\n",
              "      <td>0.00335</td>\n",
              "      <td>0.00356</td>\n",
              "      <td>0.00315</td>\n",
              "      <td>0.00327</td>\n",
              "      <td>0.00330</td>\n",
              "      <td>SEP</td>\n",
              "    </tr>\n",
              "    <tr>\n",
              "      <th>...</th>\n",
              "      <td>...</td>\n",
              "      <td>...</td>\n",
              "      <td>...</td>\n",
              "      <td>...</td>\n",
              "      <td>...</td>\n",
              "      <td>...</td>\n",
              "      <td>...</td>\n",
              "      <td>...</td>\n",
              "      <td>...</td>\n",
              "      <td>...</td>\n",
              "      <td>...</td>\n",
              "      <td>...</td>\n",
              "      <td>...</td>\n",
              "      <td>...</td>\n",
              "      <td>...</td>\n",
              "      <td>...</td>\n",
              "      <td>...</td>\n",
              "      <td>...</td>\n",
              "      <td>...</td>\n",
              "      <td>...</td>\n",
              "      <td>...</td>\n",
              "    </tr>\n",
              "    <tr>\n",
              "      <th>864</th>\n",
              "      <td>0.00254</td>\n",
              "      <td>0.00269</td>\n",
              "      <td>0.00260</td>\n",
              "      <td>0.00292</td>\n",
              "      <td>0.00269</td>\n",
              "      <td>0.00260</td>\n",
              "      <td>0.00299</td>\n",
              "      <td>0.00277</td>\n",
              "      <td>0.00254</td>\n",
              "      <td>0.00340</td>\n",
              "      <td>...</td>\n",
              "      <td>0.00292</td>\n",
              "      <td>0.00333</td>\n",
              "      <td>0.00284</td>\n",
              "      <td>0.00269</td>\n",
              "      <td>0.00254</td>\n",
              "      <td>0.00318</td>\n",
              "      <td>0.00254</td>\n",
              "      <td>0.00299</td>\n",
              "      <td>0.00311</td>\n",
              "      <td>NSEP</td>\n",
              "    </tr>\n",
              "    <tr>\n",
              "      <th>865</th>\n",
              "      <td>0.00239</td>\n",
              "      <td>0.00304</td>\n",
              "      <td>0.00337</td>\n",
              "      <td>0.00322</td>\n",
              "      <td>0.00333</td>\n",
              "      <td>0.00232</td>\n",
              "      <td>0.00307</td>\n",
              "      <td>0.00246</td>\n",
              "      <td>0.00352</td>\n",
              "      <td>0.00247</td>\n",
              "      <td>...</td>\n",
              "      <td>0.00253</td>\n",
              "      <td>0.00269</td>\n",
              "      <td>0.00269</td>\n",
              "      <td>0.00326</td>\n",
              "      <td>0.00284</td>\n",
              "      <td>0.00224</td>\n",
              "      <td>0.00314</td>\n",
              "      <td>0.00318</td>\n",
              "      <td>0.00337</td>\n",
              "      <td>NSEP</td>\n",
              "    </tr>\n",
              "    <tr>\n",
              "      <th>866</th>\n",
              "      <td>0.00359</td>\n",
              "      <td>0.00318</td>\n",
              "      <td>0.00232</td>\n",
              "      <td>0.00262</td>\n",
              "      <td>0.00275</td>\n",
              "      <td>0.00322</td>\n",
              "      <td>0.00322</td>\n",
              "      <td>0.00299</td>\n",
              "      <td>0.00275</td>\n",
              "      <td>0.00239</td>\n",
              "      <td>...</td>\n",
              "      <td>0.00239</td>\n",
              "      <td>0.00329</td>\n",
              "      <td>0.00374</td>\n",
              "      <td>0.00367</td>\n",
              "      <td>0.00311</td>\n",
              "      <td>0.00344</td>\n",
              "      <td>0.00344</td>\n",
              "      <td>0.00289</td>\n",
              "      <td>0.00374</td>\n",
              "      <td>NSEP</td>\n",
              "    </tr>\n",
              "    <tr>\n",
              "      <th>867</th>\n",
              "      <td>0.00673</td>\n",
              "      <td>0.00557</td>\n",
              "      <td>0.00652</td>\n",
              "      <td>0.00621</td>\n",
              "      <td>0.00578</td>\n",
              "      <td>0.00577</td>\n",
              "      <td>0.00569</td>\n",
              "      <td>0.00569</td>\n",
              "      <td>0.00637</td>\n",
              "      <td>0.00561</td>\n",
              "      <td>...</td>\n",
              "      <td>0.00546</td>\n",
              "      <td>0.00456</td>\n",
              "      <td>0.00718</td>\n",
              "      <td>0.00607</td>\n",
              "      <td>0.00600</td>\n",
              "      <td>0.00538</td>\n",
              "      <td>0.00621</td>\n",
              "      <td>0.00658</td>\n",
              "      <td>0.00637</td>\n",
              "      <td>NSEP</td>\n",
              "    </tr>\n",
              "    <tr>\n",
              "      <th>868</th>\n",
              "      <td>0.00528</td>\n",
              "      <td>0.00471</td>\n",
              "      <td>0.00404</td>\n",
              "      <td>0.00571</td>\n",
              "      <td>0.00486</td>\n",
              "      <td>0.00577</td>\n",
              "      <td>0.00486</td>\n",
              "      <td>0.00521</td>\n",
              "      <td>0.00516</td>\n",
              "      <td>0.00494</td>\n",
              "      <td>...</td>\n",
              "      <td>0.00449</td>\n",
              "      <td>0.00569</td>\n",
              "      <td>0.00577</td>\n",
              "      <td>0.00644</td>\n",
              "      <td>0.00652</td>\n",
              "      <td>0.00449</td>\n",
              "      <td>0.00542</td>\n",
              "      <td>0.00577</td>\n",
              "      <td>0.00509</td>\n",
              "      <td>NSEP</td>\n",
              "    </tr>\n",
              "  </tbody>\n",
              "</table>\n",
              "<p>869 rows × 61 columns</p>\n",
              "</div>\n",
              "      <button class=\"colab-df-convert\" onclick=\"convertToInteractive('df-069c15dc-ea61-4aa6-99cb-96fb2594e6af')\"\n",
              "              title=\"Convert this dataframe to an interactive table.\"\n",
              "              style=\"display:none;\">\n",
              "        \n",
              "  <svg xmlns=\"http://www.w3.org/2000/svg\" height=\"24px\"viewBox=\"0 0 24 24\"\n",
              "       width=\"24px\">\n",
              "    <path d=\"M0 0h24v24H0V0z\" fill=\"none\"/>\n",
              "    <path d=\"M18.56 5.44l.94 2.06.94-2.06 2.06-.94-2.06-.94-.94-2.06-.94 2.06-2.06.94zm-11 1L8.5 8.5l.94-2.06 2.06-.94-2.06-.94L8.5 2.5l-.94 2.06-2.06.94zm10 10l.94 2.06.94-2.06 2.06-.94-2.06-.94-.94-2.06-.94 2.06-2.06.94z\"/><path d=\"M17.41 7.96l-1.37-1.37c-.4-.4-.92-.59-1.43-.59-.52 0-1.04.2-1.43.59L10.3 9.45l-7.72 7.72c-.78.78-.78 2.05 0 2.83L4 21.41c.39.39.9.59 1.41.59.51 0 1.02-.2 1.41-.59l7.78-7.78 2.81-2.81c.8-.78.8-2.07 0-2.86zM5.41 20L4 18.59l7.72-7.72 1.47 1.35L5.41 20z\"/>\n",
              "  </svg>\n",
              "      </button>\n",
              "      \n",
              "  <style>\n",
              "    .colab-df-container {\n",
              "      display:flex;\n",
              "      flex-wrap:wrap;\n",
              "      gap: 12px;\n",
              "    }\n",
              "\n",
              "    .colab-df-convert {\n",
              "      background-color: #E8F0FE;\n",
              "      border: none;\n",
              "      border-radius: 50%;\n",
              "      cursor: pointer;\n",
              "      display: none;\n",
              "      fill: #1967D2;\n",
              "      height: 32px;\n",
              "      padding: 0 0 0 0;\n",
              "      width: 32px;\n",
              "    }\n",
              "\n",
              "    .colab-df-convert:hover {\n",
              "      background-color: #E2EBFA;\n",
              "      box-shadow: 0px 1px 2px rgba(60, 64, 67, 0.3), 0px 1px 3px 1px rgba(60, 64, 67, 0.15);\n",
              "      fill: #174EA6;\n",
              "    }\n",
              "\n",
              "    [theme=dark] .colab-df-convert {\n",
              "      background-color: #3B4455;\n",
              "      fill: #D2E3FC;\n",
              "    }\n",
              "\n",
              "    [theme=dark] .colab-df-convert:hover {\n",
              "      background-color: #434B5C;\n",
              "      box-shadow: 0px 1px 3px 1px rgba(0, 0, 0, 0.15);\n",
              "      filter: drop-shadow(0px 1px 2px rgba(0, 0, 0, 0.3));\n",
              "      fill: #FFFFFF;\n",
              "    }\n",
              "  </style>\n",
              "\n",
              "      <script>\n",
              "        const buttonEl =\n",
              "          document.querySelector('#df-069c15dc-ea61-4aa6-99cb-96fb2594e6af button.colab-df-convert');\n",
              "        buttonEl.style.display =\n",
              "          google.colab.kernel.accessAllowed ? 'block' : 'none';\n",
              "\n",
              "        async function convertToInteractive(key) {\n",
              "          const element = document.querySelector('#df-069c15dc-ea61-4aa6-99cb-96fb2594e6af');\n",
              "          const dataTable =\n",
              "            await google.colab.kernel.invokeFunction('convertToInteractive',\n",
              "                                                     [key], {});\n",
              "          if (!dataTable) return;\n",
              "\n",
              "          const docLinkHtml = 'Like what you see? Visit the ' +\n",
              "            '<a target=\"_blank\" href=https://colab.research.google.com/notebooks/data_table.ipynb>data table notebook</a>'\n",
              "            + ' to learn more about interactive tables.';\n",
              "          element.innerHTML = '';\n",
              "          dataTable['output_type'] = 'display_data';\n",
              "          await google.colab.output.renderOutput(dataTable, element);\n",
              "          const docLink = document.createElement('div');\n",
              "          docLink.innerHTML = docLinkHtml;\n",
              "          element.appendChild(docLink);\n",
              "        }\n",
              "      </script>\n",
              "    </div>\n",
              "  </div>\n",
              "  "
            ]
          },
          "metadata": {},
          "execution_count": 155
        }
      ],
      "source": [
        "data['event'] = 'SEP'\n",
        "data.loc[NSEP_start_index:,['event']] = 'NSEP'\n",
        "my_data_all = data\n",
        "my_data_all"
      ]
    },
    {
      "cell_type": "code",
      "execution_count": null,
      "metadata": {
        "id": "ZoOmb2_6-EUf"
      },
      "outputs": [],
      "source": [
        "from sklearn.model_selection import StratifiedKFold\n",
        "\n",
        "\n",
        "\n",
        "y = my_data_all.pop('event')\n",
        "X = my_data_all"
      ]
    },
    {
      "cell_type": "code",
      "execution_count": null,
      "metadata": {
        "id": "Rsy5_bcz-EUf"
      },
      "outputs": [],
      "source": [
        "box_accuracy_E_TSF = []\n",
        "box_accuracyBalanced_E_TSF = []\n",
        "box_f1_E_TSF = []\n",
        "\n",
        "box_accuracy_E_ROCKET = []\n",
        "box_accuracyBalanced_E_ROCKET = []\n",
        "box_f1_E_ROCKET = []\n",
        "\n",
        "box_accuracy_E_SHAPELET = []\n",
        "box_accuracyBalanced_E_SHAPELET = []\n",
        "box_f1_E_SHAPELET = []\n",
        "\n",
        "# random_state_values = [0, 2, 10, 30, 42]\n",
        "random_state_values = [42]\n",
        "for p in random_state_values:\n",
        "\n",
        "  skf = StratifiedKFold(n_splits=10, shuffle=True, random_state=42)\n",
        "\n",
        "  lst_accu_stratified_E_TSF = []\n",
        "  lst_accuBalanced_stratified_E_TSF = []\n",
        "  lst_f1_stratified_E_TSF = []\n",
        "\n",
        "  lst_accu_stratified_E_ROCKET = []\n",
        "  lst_accuBalanced_stratified_E_ROCKET = []\n",
        "  lst_f1_stratified_E_ROCKET = []\n",
        "\n",
        "  lst_accu_stratified_E_SHAPELET = []\n",
        "  lst_accuBalanced_stratified_E_SHAPELET = []\n",
        "  lst_f1_stratified_E_SHAPELET = []\n",
        "\n",
        "  index = 0  \n",
        "  for train_index, test_index in skf.split(X, y):\n",
        "      index = index + 1\n",
        "      X_train, X_test = X.iloc[train_index], X.iloc[test_index]\n",
        "      y_train, y_test = y[train_index], y[test_index]\n",
        "\n",
        "\n",
        "\n",
        "\n",
        "\n",
        "      X_train = np.array(X_train) \n",
        "      X_test = np.array(X_test)\n",
        "      y_train = np.array(y_train) \n",
        "      y_test = np.array(y_test)\n",
        "\n",
        "\n",
        "\n",
        "      clf_E = TimeSeriesForestClassifier(n_estimators=150, random_state = 2)\n",
        "      clf_E.fit(X_train, y_train)\n",
        "      lst_accu_stratified_E_TSF.append(clf_E.score(X_test, y_test))\n",
        "      pred_E = clf_E.predict(X_test)\n",
        "      lst_accuBalanced_stratified_E_TSF.append(balanced_accuracy_score(y_test, pred_E)) # Balanced Accuracy\n",
        "      f1_TSF_E = f1_score(y_test, pred_E, average=\"weighted\")\n",
        "      lst_f1_stratified_E_TSF.append(f1_TSF_E)\n",
        "\n",
        "\n",
        "\n",
        "\n",
        "\n",
        "      clf_E = RocketClassifier(num_kernels=1000, random_state = 42)\n",
        "      clf_E.fit(X_train, y_train)\n",
        "      lst_accu_stratified_E_ROCKET.append(clf_E.score(X_test, y_test))\n",
        "      pred_E = clf_E.predict(X_test)\n",
        "      lst_accuBalanced_stratified_E_ROCKET.append(balanced_accuracy_score(y_test, pred_E)) # Balanced Accuracy\n",
        "      f1_ROCKET_E = f1_score(y_test, pred_E, average=\"weighted\")\n",
        "      lst_f1_stratified_E_ROCKET.append(f1_ROCKET_E)\n",
        "\n",
        "\n",
        "\n",
        "      clf_E = ShapeletTransformClassifier(n_shapelet_samples=500, max_shapelets=15, random_state = 42)\n",
        "      clf_E.fit(X_train, y_train)\n",
        "      lst_accu_stratified_E_SHAPELET.append(clf_E.score(X_test, y_test))\n",
        "      pred_E = clf_E.predict(X_test)\n",
        "      lst_accuBalanced_stratified_E_SHAPELET.append(balanced_accuracy_score(y_test, pred_E)) # Balanced Accuracy\n",
        "      f1_SHAPELET_E = f1_score(y_test, pred_E, average=\"weighted\")\n",
        "      lst_f1_stratified_E_SHAPELET.append(f1_SHAPELET_E)\n",
        "\n",
        "\n",
        "\n",
        "  box_accuracy_E_TSF.append(lst_accu_stratified_E_TSF)\n",
        "  box_accuracyBalanced_E_TSF.append(lst_accuBalanced_stratified_E_TSF)\n",
        "  box_f1_E_TSF.append(lst_f1_stratified_E_TSF)\n",
        "\n",
        "  box_accuracy_E_ROCKET.append(lst_accu_stratified_E_ROCKET)\n",
        "  box_accuracyBalanced_E_ROCKET.append(lst_accuBalanced_stratified_E_ROCKET)\n",
        "  box_f1_E_ROCKET.append(lst_f1_stratified_E_ROCKET)\n",
        "\n",
        "  box_accuracy_E_SHAPELET.append(lst_accu_stratified_E_SHAPELET)\n",
        "  box_accuracyBalanced_E_SHAPELET.append(lst_accuBalanced_stratified_E_SHAPELET)\n",
        "  box_f1_E_SHAPELET.append(lst_f1_stratified_E_SHAPELET)"
      ]
    },
    {
      "cell_type": "code",
      "execution_count": null,
      "metadata": {
        "colab": {
          "base_uri": "https://localhost:8080/"
        },
        "id": "lhSHK-qN-EUf",
        "outputId": "5b9afe7b-b89c-4444-84e4-75c5a72682d8"
      },
      "outputs": [
        {
          "output_type": "execute_result",
          "data": {
            "text/plain": [
              "0.85"
            ]
          },
          "metadata": {},
          "execution_count": 158
        }
      ],
      "source": [
        "import numpy as np\n",
        "\n",
        "ACC_TSF_E = round(np.mean(lst_accu_stratified_E_TSF), 2)\n",
        "ACC_TSF_E"
      ]
    },
    {
      "cell_type": "code",
      "execution_count": null,
      "metadata": {
        "colab": {
          "base_uri": "https://localhost:8080/"
        },
        "id": "97Wxywya-EUf",
        "outputId": "397a98cf-2c47-4649-ec56-9fd5bc9deb96"
      },
      "outputs": [
        {
          "output_type": "execute_result",
          "data": {
            "text/plain": [
              "[0.85]"
            ]
          },
          "metadata": {},
          "execution_count": 159
        }
      ],
      "source": [
        "All_box_ACC_TSF_E = []\n",
        "for k in box_accuracy_E_TSF:\n",
        "  temp = round(np.mean(k), 2)\n",
        "  All_box_ACC_TSF_E.append(temp)\n",
        "All_box_ACC_TSF_E"
      ]
    },
    {
      "cell_type": "code",
      "execution_count": null,
      "metadata": {
        "colab": {
          "base_uri": "https://localhost:8080/"
        },
        "outputId": "74b0b1af-ec2a-490e-c307-ed6e4db338db",
        "id": "x3LX66KMQV53"
      },
      "outputs": [
        {
          "output_type": "execute_result",
          "data": {
            "text/plain": [
              "0.85"
            ]
          },
          "metadata": {},
          "execution_count": 160
        }
      ],
      "source": [
        "import numpy as np\n",
        "\n",
        "ACCBALANCED_TSF_E = round(np.mean(lst_accuBalanced_stratified_E_TSF), 2)\n",
        "ACCBALANCED_TSF_E"
      ]
    },
    {
      "cell_type": "code",
      "execution_count": null,
      "metadata": {
        "colab": {
          "base_uri": "https://localhost:8080/"
        },
        "outputId": "add0d091-c858-4506-cbf9-0bf8f5655fbe",
        "id": "vnZmBn3gQV54"
      },
      "outputs": [
        {
          "output_type": "execute_result",
          "data": {
            "text/plain": [
              "[0.85]"
            ]
          },
          "metadata": {},
          "execution_count": 161
        }
      ],
      "source": [
        "All_box_ACCBALANCED_TSF_E = []\n",
        "for k in box_accuracyBalanced_E_TSF:\n",
        "  temp = round(np.mean(k), 2)\n",
        "  All_box_ACCBALANCED_TSF_E.append(temp)\n",
        "All_box_ACCBALANCED_TSF_E"
      ]
    },
    {
      "cell_type": "code",
      "execution_count": null,
      "metadata": {
        "colab": {
          "base_uri": "https://localhost:8080/"
        },
        "id": "f7paom_E-EUf",
        "outputId": "84288ae2-21bf-444b-ecbc-35a1158e81ff"
      },
      "outputs": [
        {
          "output_type": "execute_result",
          "data": {
            "text/plain": [
              "0.85"
            ]
          },
          "metadata": {},
          "execution_count": 162
        }
      ],
      "source": [
        "import numpy as np\n",
        "\n",
        "F1_TSF_E = round(np.mean(lst_f1_stratified_E_TSF), 2)\n",
        "F1_TSF_E"
      ]
    },
    {
      "cell_type": "code",
      "execution_count": null,
      "metadata": {
        "colab": {
          "base_uri": "https://localhost:8080/"
        },
        "id": "bPjpgZly-EUf",
        "outputId": "8a52ef21-3dde-43a9-f0b3-c677e2641e74"
      },
      "outputs": [
        {
          "output_type": "execute_result",
          "data": {
            "text/plain": [
              "[0.85]"
            ]
          },
          "metadata": {},
          "execution_count": 163
        }
      ],
      "source": [
        "All_box_F1_TSF_E = []\n",
        "for k in box_f1_E_TSF:\n",
        "  temp = round(np.mean(k), 2)\n",
        "  All_box_F1_TSF_E.append(temp)\n",
        "All_box_F1_TSF_E"
      ]
    },
    {
      "cell_type": "code",
      "execution_count": null,
      "metadata": {
        "id": "axtdzMPd-EUf"
      },
      "outputs": [],
      "source": []
    },
    {
      "cell_type": "code",
      "execution_count": null,
      "metadata": {
        "colab": {
          "base_uri": "https://localhost:8080/"
        },
        "id": "n4qVCfs--EUf",
        "outputId": "6f6374a2-87c8-4b56-8a8a-ea1ed4b9a80c"
      },
      "outputs": [
        {
          "output_type": "execute_result",
          "data": {
            "text/plain": [
              "0.74"
            ]
          },
          "metadata": {},
          "execution_count": 164
        }
      ],
      "source": [
        "import numpy as np\n",
        "\n",
        "ACC_ROCKET_E = round(np.mean(lst_accu_stratified_E_ROCKET), 2)\n",
        "ACC_ROCKET_E"
      ]
    },
    {
      "cell_type": "code",
      "execution_count": null,
      "metadata": {
        "colab": {
          "base_uri": "https://localhost:8080/"
        },
        "id": "wh0PloGW-EUf",
        "outputId": "9d578621-d807-4170-df9b-6faea4244c2e"
      },
      "outputs": [
        {
          "output_type": "execute_result",
          "data": {
            "text/plain": [
              "[0.74]"
            ]
          },
          "metadata": {},
          "execution_count": 165
        }
      ],
      "source": [
        "All_box_ACC_ROCKET_E = []\n",
        "for k in box_accuracy_E_ROCKET:\n",
        "  temp = round(np.mean(k), 2)\n",
        "  All_box_ACC_ROCKET_E.append(temp)\n",
        "All_box_ACC_ROCKET_E"
      ]
    },
    {
      "cell_type": "code",
      "execution_count": null,
      "metadata": {
        "colab": {
          "base_uri": "https://localhost:8080/"
        },
        "outputId": "128de2c1-4e7b-480c-b58f-6b4404d55135",
        "id": "UP6nHyVxTNlo"
      },
      "outputs": [
        {
          "output_type": "execute_result",
          "data": {
            "text/plain": [
              "0.74"
            ]
          },
          "metadata": {},
          "execution_count": 166
        }
      ],
      "source": [
        "import numpy as np\n",
        "\n",
        "ACCBALANCED_ROCKET_E = round(np.mean(lst_accuBalanced_stratified_E_ROCKET), 2)\n",
        "ACCBALANCED_ROCKET_E"
      ]
    },
    {
      "cell_type": "code",
      "execution_count": null,
      "metadata": {
        "colab": {
          "base_uri": "https://localhost:8080/"
        },
        "outputId": "21405f4d-b297-41f3-b109-9f45377f73c8",
        "id": "IkAgnnv3TNlp"
      },
      "outputs": [
        {
          "output_type": "execute_result",
          "data": {
            "text/plain": [
              "[0.74]"
            ]
          },
          "metadata": {},
          "execution_count": 167
        }
      ],
      "source": [
        "All_box_ACCBALANCED_ROCKET_E = []\n",
        "for k in box_accuracyBalanced_E_ROCKET:\n",
        "  temp = round(np.mean(k), 2)\n",
        "  All_box_ACCBALANCED_ROCKET_E.append(temp)\n",
        "All_box_ACCBALANCED_ROCKET_E"
      ]
    },
    {
      "cell_type": "code",
      "execution_count": null,
      "metadata": {
        "colab": {
          "base_uri": "https://localhost:8080/"
        },
        "id": "Ujp7AN4n-EUf",
        "outputId": "09419afb-c601-4b5a-dd03-03c243db2c6c"
      },
      "outputs": [
        {
          "output_type": "execute_result",
          "data": {
            "text/plain": [
              "0.74"
            ]
          },
          "metadata": {},
          "execution_count": 168
        }
      ],
      "source": [
        "import numpy as np\n",
        "\n",
        "F1_ROCKET_E = round(np.mean(lst_f1_stratified_E_ROCKET), 2)\n",
        "F1_ROCKET_E"
      ]
    },
    {
      "cell_type": "code",
      "execution_count": null,
      "metadata": {
        "colab": {
          "base_uri": "https://localhost:8080/"
        },
        "id": "sDNxWvLp-EUf",
        "outputId": "ad64ef30-4305-45f9-f007-74fe72db48f6"
      },
      "outputs": [
        {
          "output_type": "execute_result",
          "data": {
            "text/plain": [
              "[0.74]"
            ]
          },
          "metadata": {},
          "execution_count": 169
        }
      ],
      "source": [
        "All_box_F1_ROCKET_E = []\n",
        "for k in box_f1_E_ROCKET:\n",
        "  temp = round(np.mean(k), 2)\n",
        "  All_box_F1_ROCKET_E.append(temp)\n",
        "All_box_F1_ROCKET_E"
      ]
    },
    {
      "cell_type": "code",
      "source": [],
      "metadata": {
        "id": "FkMFezKR-AFc"
      },
      "execution_count": null,
      "outputs": []
    },
    {
      "cell_type": "code",
      "execution_count": null,
      "metadata": {
        "colab": {
          "base_uri": "https://localhost:8080/"
        },
        "outputId": "e6ac36f6-7a56-471e-de04-f7b3364043b4",
        "id": "oNyyAJAyyuR6"
      },
      "outputs": [
        {
          "output_type": "execute_result",
          "data": {
            "text/plain": [
              "0.67"
            ]
          },
          "metadata": {},
          "execution_count": 170
        }
      ],
      "source": [
        "import numpy as np\n",
        "\n",
        "ACC_SHAPELET_E = round(np.mean(lst_accu_stratified_E_SHAPELET), 2)\n",
        "ACC_SHAPELET_E"
      ]
    },
    {
      "cell_type": "code",
      "execution_count": null,
      "metadata": {
        "colab": {
          "base_uri": "https://localhost:8080/"
        },
        "outputId": "046b0ca0-6a53-4cac-a768-7de18eddc56b",
        "id": "dv7x2ucjyuR7"
      },
      "outputs": [
        {
          "output_type": "execute_result",
          "data": {
            "text/plain": [
              "[0.67]"
            ]
          },
          "metadata": {},
          "execution_count": 171
        }
      ],
      "source": [
        "All_box_ACC_SHAPELET_E = []\n",
        "for k in box_accuracy_E_SHAPELET:\n",
        "  temp = round(np.mean(k), 2)\n",
        "  All_box_ACC_SHAPELET_E.append(temp)\n",
        "All_box_ACC_SHAPELET_E"
      ]
    },
    {
      "cell_type": "code",
      "execution_count": null,
      "metadata": {
        "colab": {
          "base_uri": "https://localhost:8080/"
        },
        "outputId": "be30533a-b281-4c21-9067-00ba1caf6166",
        "id": "lyYeX541yuR7"
      },
      "outputs": [
        {
          "output_type": "execute_result",
          "data": {
            "text/plain": [
              "0.66"
            ]
          },
          "metadata": {},
          "execution_count": 172
        }
      ],
      "source": [
        "import numpy as np\n",
        "\n",
        "ACCBALANCED_SHAPELET_E = round(np.mean(lst_accuBalanced_stratified_E_SHAPELET), 2)\n",
        "ACCBALANCED_SHAPELET_E"
      ]
    },
    {
      "cell_type": "code",
      "execution_count": null,
      "metadata": {
        "colab": {
          "base_uri": "https://localhost:8080/"
        },
        "outputId": "07ff6e08-d35e-45d9-dbd1-20f4f02e3a69",
        "id": "_0fmLDUMyuR7"
      },
      "outputs": [
        {
          "output_type": "execute_result",
          "data": {
            "text/plain": [
              "[0.66]"
            ]
          },
          "metadata": {},
          "execution_count": 173
        }
      ],
      "source": [
        "All_box_ACCBALANCED_SHAPELET_E = []\n",
        "for k in box_accuracyBalanced_E_SHAPELET:\n",
        "  temp = round(np.mean(k), 2)\n",
        "  All_box_ACCBALANCED_SHAPELET_E.append(temp)\n",
        "All_box_ACCBALANCED_SHAPELET_E"
      ]
    },
    {
      "cell_type": "code",
      "execution_count": null,
      "metadata": {
        "colab": {
          "base_uri": "https://localhost:8080/"
        },
        "id": "zzeE29R47kdm",
        "outputId": "3080feed-dff1-43eb-9d89-788eda2f0d02"
      },
      "outputs": [
        {
          "output_type": "execute_result",
          "data": {
            "text/plain": [
              "0.66"
            ]
          },
          "metadata": {},
          "execution_count": 174
        }
      ],
      "source": [
        "import numpy as np\n",
        "\n",
        "F1_SHAPELET_E = round(np.mean(lst_f1_stratified_E_SHAPELET), 2)\n",
        "F1_SHAPELET_E"
      ]
    },
    {
      "cell_type": "code",
      "execution_count": null,
      "metadata": {
        "colab": {
          "base_uri": "https://localhost:8080/"
        },
        "id": "tjrEeMOt7kdm",
        "outputId": "88a85f40-4fed-4d44-cc03-dc5c12298bb1"
      },
      "outputs": [
        {
          "output_type": "execute_result",
          "data": {
            "text/plain": [
              "[0.66]"
            ]
          },
          "metadata": {},
          "execution_count": 175
        }
      ],
      "source": [
        "All_box_F1_SHAPELET_E = []\n",
        "for k in box_f1_E_SHAPELET:\n",
        "  temp = round(np.mean(k), 2)\n",
        "  All_box_F1_SHAPELET_E.append(temp)\n",
        "All_box_F1_SHAPELET_E"
      ]
    },
    {
      "cell_type": "code",
      "source": [],
      "metadata": {
        "id": "iQQXmj4i-ABa"
      },
      "execution_count": null,
      "outputs": []
    },
    {
      "cell_type": "code",
      "execution_count": null,
      "metadata": {
        "id": "i_vrKOcVIS46"
      },
      "outputs": [],
      "source": []
    },
    {
      "cell_type": "markdown",
      "metadata": {
        "id": "Cf2tuXMIm9g9"
      },
      "source": [
        "# Visualization"
      ]
    },
    {
      "cell_type": "code",
      "source": [
        "ACC_TSF = [ACC_TSF_A, max(All_box_ACC_TSF_B), max(All_box_ACC_TSF_C), max(All_box_ACC_TSF_D), max(All_box_ACC_TSF_E)]\n",
        "ACC_ROCKET = [ACC_ROCKET_A, max(All_box_ACC_ROCKET_B), max(All_box_ACC_ROCKET_C), max(All_box_ACC_ROCKET_D), max(All_box_ACC_ROCKET_E)]\n",
        "ACC_SHAPELET = [ACC_SHAPELET_A, max(All_box_ACC_SHAPELET_B), max(All_box_ACC_SHAPELET_C), max(All_box_ACC_SHAPELET_D), max(All_box_ACC_SHAPELET_E)]\n",
        "\n",
        "ACCBALANCED_TSF = [ACCBALANCED_TSF_A, max(All_box_ACCBALANCED_TSF_B), max(All_box_ACCBALANCED_TSF_C), max(All_box_ACCBALANCED_TSF_D), max(All_box_ACCBALANCED_TSF_E)]\n",
        "ACCBALANCED_ROCKET = [ACCBALANCED_ROCKET_A, max(All_box_ACCBALANCED_ROCKET_B), max(All_box_ACCBALANCED_ROCKET_C), max(All_box_ACCBALANCED_ROCKET_D), max(All_box_ACCBALANCED_ROCKET_E)]\n",
        "ACCBALANCED_SHAPELET = [ACCBALANCED_SHAPELET_A, max(All_box_ACCBALANCED_SHAPELET_B), max(All_box_ACCBALANCED_SHAPELET_C), max(All_box_ACCBALANCED_SHAPELET_D), max(All_box_ACCBALANCED_SHAPELET_E)]\n",
        "\n",
        "F1_TSF = [F1_TSF_A, max(All_box_F1_TSF_B), max(All_box_F1_TSF_C), max(All_box_F1_TSF_D), max(All_box_F1_TSF_E)]\n",
        "F1_ROCKET = [F1_ROCKET_A, max(All_box_F1_ROCKET_B), max(All_box_F1_ROCKET_C), max(All_box_F1_ROCKET_D), max(All_box_F1_ROCKET_E)]\n",
        "F1_SHAPELET = [F1_SHAPELET_A, max(All_box_F1_SHAPELET_B), max(All_box_F1_SHAPELET_C), max(All_box_F1_SHAPELET_D), max(All_box_F1_SHAPELET_E)]"
      ],
      "metadata": {
        "id": "4cd2pqaY_i0D"
      },
      "execution_count": null,
      "outputs": []
    },
    {
      "cell_type": "code",
      "execution_count": null,
      "metadata": {
        "id": "6CflC2GQm8FE"
      },
      "outputs": [],
      "source": []
    },
    {
      "cell_type": "code",
      "execution_count": null,
      "metadata": {
        "colab": {
          "base_uri": "https://localhost:8080/",
          "height": 35
        },
        "id": "kFqW7u8gm6yJ",
        "outputId": "ed9fa852-2721-48c0-a6dd-b78a1926993a"
      },
      "outputs": [
        {
          "output_type": "display_data",
          "data": {
            "text/plain": [
              "<Figure size 640x480 with 0 Axes>"
            ]
          },
          "metadata": {}
        }
      ],
      "source": [
        "sns.despine(top=False, right=False, left=False, bottom=False)\n",
        "# sns.set_style(\"whitegrid\")"
      ]
    },
    {
      "cell_type": "code",
      "execution_count": null,
      "metadata": {
        "id": "L_AD1W5NnCsY"
      },
      "outputs": [],
      "source": [
        "sns.set_style(\"ticks\",{'axes.grid' : True})"
      ]
    },
    {
      "cell_type": "code",
      "execution_count": null,
      "metadata": {
        "colab": {
          "base_uri": "https://localhost:8080/",
          "height": 572
        },
        "id": "AZfPh9VeIhMv",
        "outputId": "865e26d4-e59a-40ea-f4eb-25b94e622044"
      },
      "outputs": [
        {
          "output_type": "display_data",
          "data": {
            "text/plain": [
              "<Figure size 1000x600 with 1 Axes>"
            ],
            "image/png": "[encoded data removed]"
          },
          "metadata": {}
        }
      ],
      "source": [
        "import matplotlib.pyplot as plt\n",
        "import seaborn as sns\n",
        "\n",
        "plt.figure(figsize = (10,6))\n",
        "plt.grid()\n",
        "plt.rcParams[\"figure.figsize\"] = plt.rcParamsDefault[\"figure.figsize\"]\n",
        "plt.rcParams[\"figure.figsize\"] = (10,6)\n",
        "plt.plot(ACC_ROCKET, color = 'firebrick', label = 'Accuracy ROCKET')\n",
        "plt.plot(ACC_TSF, color = 'royalblue', label = 'Accuracy TSF')\n",
        "\n",
        "plt.plot(F1_ROCKET, color = 'firebrick', label = 'F1-score ROCKET', linestyle='dashed')\n",
        "plt.plot(F1_SHAPELET, color = 'darkcyan', label = 'F1-score SHAPELET', linestyle='dashed')\n",
        "plt.plot(F1_TSF, color = 'royalblue', label = 'F1-score TSF', linestyle='dashed')\n",
        "\n",
        "\n",
        "plt.xticks([0, 1, 2, 3, 4], [\"[1/0]\", \"[1/1]\", \"[1/2]\", \"[1/3]\", \"[1/4]\"])\n",
        "plt.title('Accuracy and F1-score of classifiers using Gaussian DA for 100 MeV', fontsize = '16')\n",
        "plt.xlabel('SEP [Real/Synthetic] Ratio', fontsize = '16')\n",
        "plt.ylabel('Accuracy and F1-score', fontsize = '16')\n",
        "plt.grid()\n",
        "plt.legend()\n",
        "plt.show()\n",
        "\n"
      ]
    },
    {
      "cell_type": "code",
      "execution_count": null,
      "metadata": {
        "id": "yUJHJhiEm855"
      },
      "outputs": [],
      "source": []
    },
    {
      "cell_type": "code",
      "execution_count": null,
      "metadata": {
        "colab": {
          "base_uri": "https://localhost:8080/",
          "height": 564
        },
        "id": "ORXSGTRfDVYN",
        "outputId": "84ab4865-6f86-4e84-fef4-c4d5793d61fa"
      },
      "outputs": [
        {
          "output_type": "display_data",
          "data": {
            "text/plain": [
              "<Figure size 1000x600 with 1 Axes>"
            ],
            "image/png": "[encoded data removed]"
          },
          "metadata": {}
        }
      ],
      "source": [
        "X = [\"[1/0]\", \"[1/1]\", \"[1/2]\", \"[1/3]\", \"[1/4]\"]\n",
        "Wgb = ACC_ROCKET\n",
        "Ygirls = ACC_SHAPELET\n",
        "Zboys = ACC_TSF\n",
        "  \n",
        "X_axis = np.arange(len(X))\n",
        "\n",
        "ind = np.arange(len(X)) \n",
        "width = 0.25\n",
        "\n",
        "plt.bar(ind, Ygirls, width, label = 'SHAPELET', color = 'darkcyan')\n",
        "plt.bar(ind + width, Wgb, width, label = 'ROCKET', color = 'firebrick')\n",
        "plt.bar(ind + width*2, Zboys, width, label = 'TSF', color = 'royalblue')\n",
        "\n",
        "plt.ylim(0, 1)\n",
        "plt.xticks(ind+width, X)\n",
        "plt.xlabel(\"SEP [Real/Synthetic] Ratio\")\n",
        "plt.ylabel(\"Accuracy\")\n",
        "plt.title(\"Accuracy of classifiers using Gaussian DA for 100 MeV\")\n",
        "plt.legend()\n",
        "plt.show()"
      ]
    },
    {
      "cell_type": "code",
      "execution_count": null,
      "metadata": {
        "colab": {
          "base_uri": "https://localhost:8080/",
          "height": 564
        },
        "outputId": "c3cdc3d5-6df6-4d8e-89bb-da854da4876a",
        "id": "6XKHn6llQ1cY"
      },
      "outputs": [
        {
          "output_type": "display_data",
          "data": {
            "text/plain": [
              "<Figure size 1000x600 with 1 Axes>"
            ],
            "image/png": "[encoded data removed]"
          },
          "metadata": {}
        }
      ],
      "source": [
        "X = [\"[1/0]\", \"[1/1]\", \"[1/2]\", \"[1/3]\", \"[1/4]\"]\n",
        "ww = ACCBALANCED_ROCKET\n",
        "Ygirls = ACCBALANCED_SHAPELET\n",
        "Zboys = ACCBALANCED_TSF\n",
        "  \n",
        "X_axis = np.arange(len(X))\n",
        "\n",
        "ind = np.arange(len(X)) \n",
        "width = 0.25\n",
        "\n",
        "plt.bar(ind, Ygirls, width, label = 'SHAPELET', color = 'darkcyan')\n",
        "plt.bar(ind + width, ww, width, label = 'ROCKET', color = 'firebrick')\n",
        "plt.bar(ind + width*2, Zboys, width, label = 'TSF', color = 'royalblue')\n",
        "  \n",
        "plt.ylim(0, 1)\n",
        "plt.xticks(X_axis, X)\n",
        "plt.xlabel(\"SEP [Real/Synthetic] Ratio\")\n",
        "plt.ylabel(\"Balanced Accuracy\")\n",
        "plt.title(\"Balanced Accuracy of classifiers using Gaussian DA for 100 MeV\")\n",
        "plt.legend()\n",
        "plt.show()"
      ]
    },
    {
      "cell_type": "code",
      "execution_count": null,
      "metadata": {
        "colab": {
          "base_uri": "https://localhost:8080/",
          "height": 564
        },
        "id": "hL_fhWOZCXlh",
        "outputId": "c1954779-5396-4043-cc74-4dd52fe73dc8"
      },
      "outputs": [
        {
          "output_type": "display_data",
          "data": {
            "text/plain": [
              "<Figure size 1000x600 with 1 Axes>"
            ],
            "image/png": "[encoded data removed]"
          },
          "metadata": {}
        }
      ],
      "source": [
        "X = [\"[1/0]\", \"[1/1]\", \"[1/2]\", \"[1/3]\", \"[1/4]\"]\n",
        "www = F1_ROCKET\n",
        "Ygirls = F1_SHAPELET\n",
        "Zboys = F1_TSF\n",
        "  \n",
        "X_axis = np.arange(len(X))\n",
        "\n",
        "ind = np.arange(len(X)) \n",
        "width = 0.25\n",
        "\n",
        "plt.bar(ind, Ygirls, width, label = 'SHAPELET', color = 'darkcyan')\n",
        "plt.bar(ind + width, www, width, label = 'ROCKET', color = 'firebrick')\n",
        "plt.bar(ind + width*2, Zboys, width, label = 'TSF', color = 'royalblue')\n",
        "\n",
        "plt.ylim(0, 1)\n",
        "plt.xticks(X_axis, X)\n",
        "plt.xlabel(\"SEP [Real/Synthetic] Ratio\")\n",
        "plt.ylabel(\"F1-score\")\n",
        "plt.title(\"F1-score of classifiers using Gaussian DA for 100 MeV\")\n",
        "plt.legend()\n",
        "plt.show()"
      ]
    },
    {
      "cell_type": "code",
      "execution_count": null,
      "metadata": {
        "id": "o6CBo2yqDaa7"
      },
      "outputs": [],
      "source": []
    },
    {
      "cell_type": "code",
      "execution_count": null,
      "metadata": {
        "id": "V7HXsnixt0sN"
      },
      "outputs": [],
      "source": []
    },
    {
      "cell_type": "markdown",
      "source": [
        "# BOX Plots"
      ],
      "metadata": {
        "id": "Pj92OyEbSB9o"
      }
    },
    {
      "cell_type": "code",
      "execution_count": null,
      "metadata": {
        "id": "47XOqNJOfBVi"
      },
      "outputs": [],
      "source": [
        "\n",
        "data1 = [lst_accu_stratified_A_ROCKET, box_accuracy_B_ROCKET[All_box_ACC_ROCKET_B.index(max(All_box_ACC_ROCKET_B))], box_accuracy_C_ROCKET[All_box_ACC_ROCKET_C.index(max(All_box_ACC_ROCKET_C))], box_accuracy_D_ROCKET[All_box_ACC_ROCKET_D.index(max(All_box_ACC_ROCKET_D))], box_accuracy_E_ROCKET[All_box_ACC_ROCKET_E.index(max(All_box_ACC_ROCKET_E))]]\n",
        "data1_F = [val for sublist in data1 for val in sublist]\n",
        "\n",
        "data1_5 = [lst_accu_stratified_A_SHAPELET, box_accuracy_B_SHAPELET[All_box_ACC_SHAPELET_B.index(max(All_box_ACC_SHAPELET_B))], box_accuracy_C_SHAPELET[All_box_ACC_SHAPELET_C.index(max(All_box_ACC_SHAPELET_C))], box_accuracy_D_SHAPELET[All_box_ACC_SHAPELET_D.index(max(All_box_ACC_SHAPELET_D))], box_accuracy_E_SHAPELET[All_box_ACC_SHAPELET_E.index(max(All_box_ACC_SHAPELET_E))]]\n",
        "data1_5_F = [val for sublist in data1_5 for val in sublist]\n",
        "\n",
        "data2 = [lst_accu_stratified_A_TSF, box_accuracy_B_TSF[All_box_ACC_TSF_B.index(max(All_box_ACC_TSF_B))], box_accuracy_C_TSF[All_box_ACC_TSF_C.index(max(All_box_ACC_TSF_C))], box_accuracy_D_TSF[All_box_ACC_TSF_D.index(max(All_box_ACC_TSF_D))], box_accuracy_E_TSF[All_box_ACC_TSF_E.index(max(All_box_ACC_TSF_E))]]\n",
        "data2_F = [val for sublist in data2 for val in sublist]\n",
        "\n",
        "\n",
        "\n",
        "DA_label = []\n",
        "for i in range(0, len(data1_F)):\n",
        "  if i <= 9:\n",
        "    DA_label.append('[1/0]')\n",
        "  if 9 < i <= 19:\n",
        "    DA_label.append('[1/1]')\n",
        "  if 19 < i <= 29:\n",
        "    DA_label.append('[1/2]')\n",
        "  if 29 < i <= 39:\n",
        "    DA_label.append('[1/3]')\n",
        "  if 39 < i <= 49:\n",
        "    DA_label.append('[1/4]')\n",
        "  \n",
        "DA_label_F = DA_label + DA_label + DA_label\n"
      ]
    },
    {
      "cell_type": "code",
      "execution_count": null,
      "metadata": {
        "id": "BYrQes2Zfral",
        "colab": {
          "base_uri": "https://localhost:8080/"
        },
        "outputId": "70326e6a-93ca-4a34-dda7-66d7888f2a60"
      },
      "outputs": [
        {
          "output_type": "stream",
          "name": "stderr",
          "text": [
            "<ipython-input-184-23a262b1e273>:21: FutureWarning: The frame.append method is deprecated and will be removed from pandas in a future version. Use pandas.concat instead.\n",
            "  my_df_ = dataframe1_5.append(dataframe1, ignore_index= True)\n",
            "<ipython-input-184-23a262b1e273>:22: FutureWarning: The frame.append method is deprecated and will be removed from pandas in a future version. Use pandas.concat instead.\n",
            "  my_df = my_df_.append(dataframe2, ignore_index= True)\n"
          ]
        }
      ],
      "source": [
        "import pandas as pd\n",
        "\n",
        "dataframe1 = pd.DataFrame(\n",
        "    {'Values' : data1_F\n",
        "     }\n",
        "    )\n",
        "\n",
        "\n",
        "dataframe1_5 = pd.DataFrame(\n",
        "    {'Values' : data1_5_F\n",
        "     }\n",
        "    )\n",
        "\n",
        "\n",
        "dataframe2 = pd.DataFrame(\n",
        "    {'Values' : data2_F\n",
        "     }\n",
        "    )\n",
        "    #  'SEP [Real/Synthetic] Ratio': DA_label\n",
        "\n",
        "my_df_ = dataframe1_5.append(dataframe1, ignore_index= True)\n",
        "my_df = my_df_.append(dataframe2, ignore_index= True)\n",
        "# df = pd.concat([pd.Series(x) for x in data2_F], axis=1)"
      ]
    },
    {
      "cell_type": "code",
      "execution_count": null,
      "metadata": {
        "id": "ErffpEmgoyd7"
      },
      "outputs": [],
      "source": [
        "# Classifiers = []\n",
        "# for j in range(80):\n",
        "#   if j <=39:\n",
        "#     Classifiers.append('ROCKET')\n",
        "#   if 39 < j <=79:\n",
        "#     Classifiers.append('TSF')"
      ]
    },
    {
      "cell_type": "code",
      "source": [
        "Classifiers = []\n",
        "for j in range(150):\n",
        "  if j <=49:\n",
        "    Classifiers.append('SHAPELET')\n",
        "  if 49 < j <=99:\n",
        "    Classifiers.append('ROCKET')\n",
        "  if 99 < j <=149:\n",
        "    Classifiers.append('TSF')"
      ],
      "metadata": {
        "id": "rN5npGSnA2UV"
      },
      "execution_count": null,
      "outputs": []
    },
    {
      "cell_type": "code",
      "execution_count": null,
      "metadata": {
        "id": "h0TCkg1rqNiZ"
      },
      "outputs": [],
      "source": [
        "my_df.insert(1, 'SEP [Real/Synthetic] Ratio', DA_label_F, True)\n",
        "my_df.insert(2, 'Classifiers', Classifiers, True)"
      ]
    },
    {
      "cell_type": "code",
      "execution_count": null,
      "metadata": {
        "id": "i7pyQYLIqtlU"
      },
      "outputs": [],
      "source": [
        "# my_df"
      ]
    },
    {
      "cell_type": "code",
      "source": [
        "import seaborn as sns\n",
        "\n",
        "sns.boxplot(x=my_df['SEP [Real/Synthetic] Ratio'], y=my_df['Values'], hue =my_df['Classifiers'], palette =['darkcyan', 'firebrick', 'royalblue'], data=pd.melt(my_df))\n",
        "\n",
        "\n",
        "plt.ylim(0, 1)\n",
        "\n",
        "plt.xlabel(\"SEP [Real/Synthetic] Ratio\")\n",
        "plt.ylabel(\"Accuracy\")\n",
        "plt.title(\"Accuracy of classifiers using Gaussian DA for 100 MeV\")\n",
        "plt.legend()\n",
        "plt.show()\n"
      ],
      "metadata": {
        "colab": {
          "base_uri": "https://localhost:8080/",
          "height": 564
        },
        "id": "EslFuCL2Vqrq",
        "outputId": "2815ccc3-cd88-4b62-82b0-d3c629cf66c5"
      },
      "execution_count": null,
      "outputs": [
        {
          "output_type": "display_data",
          "data": {
            "text/plain": [
              "<Figure size 1000x600 with 1 Axes>"
            ],
            "image/png": "[encoded data removed]"
          },
          "metadata": {}
        }
      ]
    },
    {
      "cell_type": "code",
      "execution_count": null,
      "metadata": {
        "id": "s2UADyypgdR9"
      },
      "outputs": [],
      "source": [
        "# # Extra. ... For 15h and multivariate\n",
        "\n",
        "# import seaborn as sns\n",
        "\n",
        "# sns.boxplot(x=my_df['SEP [Real/Synthetic] Ratio'], y=my_df['Values'], hue =my_df['Classifiers'], palette =['darkcyan', 'firebrick', 'royalblue'], data=pd.melt(my_df))\n",
        "\n",
        "\n",
        "# plt.ylim(0, 1)\n",
        "# # plt.xticks([1, 2, 3, 4], [\"[1/0]\", \"[1/1]\", \"[1/2]\", \"[1/3]\"])\n",
        "# plt.xlabel(\"SEP [Real/Synthetic] Ratio\")\n",
        "# plt.ylabel(\"Accuracy\")\n",
        "# plt.title(\"Accuracy of multivariate time series (15h) classifiers using Gaussian DA for 100 MeV\")\n",
        "# plt.legend()\n",
        "# plt.show()\n"
      ]
    },
    {
      "cell_type": "code",
      "source": [
        "# # Extra. ... For 15h and multivariate\n",
        "\n",
        "# import seaborn as sns\n",
        "\n",
        "# sns.boxplot(x=my_df['SEP [Real/Synthetic] Ratio'], y=my_df['Values'], hue =my_df['Classifiers'], palette =['green', 'red', 'blue'], data=pd.melt(my_df))\n",
        "\n",
        "\n",
        "# plt.ylim(0, 1)\n",
        "# # plt.xticks([1, 2, 3, 4], [\"[1/0]\", \"[1/1]\", \"[1/2]\", \"[1/3]\"])\n",
        "# plt.xlabel(\"SEP [Real/Synthetic] Ratio\")\n",
        "# plt.ylabel(\"Accuracy\")\n",
        "# plt.title(\"Accuracy of multivariate time series (15h) classifiers using Gaussian DA for 100 MeV\")\n",
        "# plt.legend()\n",
        "# plt.show()\n"
      ],
      "metadata": {
        "id": "wtL70jRCWvGf"
      },
      "execution_count": null,
      "outputs": []
    },
    {
      "cell_type": "code",
      "execution_count": null,
      "metadata": {
        "id": "xhj0HD_FZ6t_"
      },
      "outputs": [],
      "source": [
        "\n",
        "# # data = [lst_accu_stratified_A_TSF, box_accuracy_B_TSF[2], box_accuracy_C_TSF[0], box_accuracy_D_TSF[4]]\n",
        "\n",
        "# # Creating axes instance\n",
        "# # ax = fig.add_axes([0, 0, 1, 1])\n",
        " \n",
        "# # Creating plot\n",
        "# bp = plt.boxplot(data1, patch_artist=True)\n",
        "# bp['boxes'][0].set_color('red')\n",
        "# bp['boxes'][1].set_color('red')\n",
        "# bp['boxes'][2].set_color('red')\n",
        "# bp['boxes'][3].set_color('red')\n",
        "# bp['boxes'][4].set_color('red')\n",
        "\n",
        "# plt.ylim(0, 1)\n",
        "# plt.xticks([1, 2, 3, 4, 5], [\"[1/0]\", \"[1/1]\", \"[1/2]\", \"[1/3]\", \"[1/4]\"])\n",
        "# plt.xlabel(\"SEP [Real/Synthetic] Ratio\")\n",
        "# plt.ylabel(\"Accuracy\")\n",
        "# plt.title(\"Accuracy of multivariate time series (15h) ROCKET using Gaussian DA for 100 MeV\")\n",
        "# # plt.legend()\n",
        "# plt.show()"
      ]
    },
    {
      "cell_type": "code",
      "execution_count": null,
      "metadata": {
        "id": "XKWqPxhf79UZ"
      },
      "outputs": [],
      "source": [
        "from pandas import read_csv\n",
        "\n",
        "DF1 = pd.DataFrame()\n",
        "my1 = pd.Series(data1_F)\n",
        "my1.to_csv('/content/Gaussian_100MEV_ROCKET_Accuracy.csv', index=False)"
      ]
    },
    {
      "cell_type": "code",
      "execution_count": null,
      "metadata": {
        "id": "rxCGgDBpAHRA"
      },
      "outputs": [],
      "source": [
        "\n",
        "# # data = [lst_accu_stratified_A_TSF, box_accuracy_B_TSF[2], box_accuracy_C_TSF[0], box_accuracy_D_TSF[4]]\n",
        "\n",
        "# # Creating axes instance\n",
        "# # ax = fig.add_axes([0, 0, 1, 1])\n",
        " \n",
        "# # Creating plot\n",
        "# bp = plt.boxplot(data1_5, patch_artist=True)\n",
        "# bp['boxes'][0].set_color('green')\n",
        "# bp['boxes'][1].set_color('green')\n",
        "# bp['boxes'][2].set_color('green')\n",
        "# bp['boxes'][3].set_color('green')\n",
        "# bp['boxes'][4].set_color('green')\n",
        "\n",
        "# plt.ylim(0, 1)\n",
        "# plt.xticks([1, 2, 3, 4, 5], [\"[1/0]\", \"[1/1]\", \"[1/2]\", \"[1/3]\", \"[1/4]\"])\n",
        "# plt.xlabel(\"SEP [Real/Synthetic] Ratio\")\n",
        "# plt.ylabel(\"Accuracy\")\n",
        "# plt.title(\"Accuracy of multivariate time series (15h) SHAPELET using Gaussian DA for 100 MeV\")\n",
        "# plt.legend()\n",
        "# plt.show()"
      ]
    },
    {
      "cell_type": "code",
      "execution_count": null,
      "metadata": {
        "id": "raayZcaUAHRB"
      },
      "outputs": [],
      "source": [
        "from pandas import read_csv\n",
        "\n",
        "DF1_5 = pd.DataFrame()\n",
        "my1_5 = pd.Series(data1_5_F)\n",
        "my1_5.to_csv('/content/Gaussian_100MEV_SHAPELET_Accuracy.csv', index=False)"
      ]
    },
    {
      "cell_type": "code",
      "execution_count": null,
      "metadata": {
        "id": "TDv7NVhVaxbg"
      },
      "outputs": [],
      "source": [
        "\n",
        "# # data = [lst_accu_stratified_A_TSF, box_accuracy_B_TSF[2], box_accuracy_C_TSF[0], box_accuracy_D_TSF[4]]\n",
        "\n",
        "# # Creating axes instance\n",
        "# # ax = fig.add_axes([0, 0, 1, 1])\n",
        " \n",
        "# # Creating plot\n",
        "# plt.boxplot(data2, patch_artist=True)\n",
        "\n",
        "# plt.ylim(0, 1)\n",
        "# plt.xticks([1, 2, 3, 4, 5], [\"[1/0]\", \"[1/1]\", \"[1/2]\", \"[1/3]\", \"[1/4]\"])\n",
        "# plt.xlabel(\"SEP [Real/Synthetic] Ratio\")\n",
        "# plt.ylabel(\"Accuracy\")\n",
        "# plt.title(\"Accuracy of multivariate time series TSF (15h) using Gaussian DA for 100 MeV\")\n",
        "# # plt.legend()\n",
        "# plt.show()"
      ]
    },
    {
      "cell_type": "code",
      "execution_count": null,
      "metadata": {
        "id": "ose_xAxcsz36"
      },
      "outputs": [],
      "source": [
        "from pandas import read_csv\n",
        "\n",
        "DF2 = pd.DataFrame()\n",
        "my2 = pd.Series(data2_F)\n",
        "my2.to_csv('/content/Gaussian_100MEV_TSF_Accuracy.csv', index=False)"
      ]
    },
    {
      "cell_type": "code",
      "source": [],
      "metadata": {
        "id": "FaGmdcBERqpf"
      },
      "execution_count": null,
      "outputs": []
    },
    {
      "cell_type": "code",
      "source": [],
      "metadata": {
        "id": "sYYDA-ghjQbw"
      },
      "execution_count": null,
      "outputs": []
    },
    {
      "cell_type": "code",
      "source": [],
      "metadata": {
        "id": "AJ8CEjuxSMxn"
      },
      "execution_count": null,
      "outputs": []
    },
    {
      "cell_type": "code",
      "source": [],
      "metadata": {
        "id": "xOHSU7R0SMv1"
      },
      "execution_count": null,
      "outputs": []
    },
    {
      "cell_type": "code",
      "source": [],
      "metadata": {
        "id": "P_41YfqkSMt_"
      },
      "execution_count": null,
      "outputs": []
    },
    {
      "cell_type": "code",
      "execution_count": null,
      "metadata": {
        "id": "f2l8rj4tSNND"
      },
      "outputs": [],
      "source": [
        "\n",
        "\n",
        "data1 = [lst_accuBalanced_stratified_A_ROCKET, box_accuracyBalanced_B_ROCKET[All_box_ACCBALANCED_ROCKET_B.index(max(All_box_ACCBALANCED_ROCKET_B))], box_accuracyBalanced_C_ROCKET[All_box_ACCBALANCED_ROCKET_C.index(max(All_box_ACCBALANCED_ROCKET_C))], box_accuracyBalanced_D_ROCKET[All_box_ACCBALANCED_ROCKET_D.index(max(All_box_ACCBALANCED_ROCKET_D))], box_accuracyBalanced_E_ROCKET[All_box_ACCBALANCED_ROCKET_E.index(max(All_box_ACCBALANCED_ROCKET_E))]]\n",
        "data1_F = [val for sublist in data1 for val in sublist]\n",
        "\n",
        "data1_5 = [lst_accuBalanced_stratified_A_SHAPELET, box_accuracyBalanced_B_SHAPELET[All_box_ACCBALANCED_SHAPELET_B.index(max(All_box_ACCBALANCED_SHAPELET_B))], box_accuracyBalanced_C_SHAPELET[All_box_ACCBALANCED_SHAPELET_C.index(max(All_box_ACCBALANCED_SHAPELET_C))], box_accuracyBalanced_D_SHAPELET[All_box_ACCBALANCED_SHAPELET_D.index(max(All_box_ACCBALANCED_SHAPELET_D))], box_accuracyBalanced_E_SHAPELET[All_box_ACCBALANCED_SHAPELET_E.index(max(All_box_ACCBALANCED_SHAPELET_E))]]\n",
        "data1_5_F = [val for sublist in data1_5 for val in sublist]\n",
        "\n",
        "data2 = [lst_accuBalanced_stratified_A_TSF, box_accuracyBalanced_B_TSF[All_box_ACCBALANCED_TSF_B.index(max(All_box_ACCBALANCED_TSF_B))], box_accuracyBalanced_C_TSF[All_box_ACCBALANCED_TSF_C.index(max(All_box_ACCBALANCED_TSF_C))], box_accuracyBalanced_D_TSF[All_box_ACCBALANCED_TSF_D.index(max(All_box_ACCBALANCED_TSF_D))], box_accuracyBalanced_E_TSF[All_box_ACCBALANCED_TSF_E.index(max(All_box_ACCBALANCED_TSF_E))]]\n",
        "data2_F = [val for sublist in data2 for val in sublist]\n",
        "\n",
        "\n",
        "\n",
        "DA_label = []\n",
        "for i in range(0, len(data1_F)):\n",
        "  if i <= 9:\n",
        "    DA_label.append('[1/0]')\n",
        "  if 9 < i <= 19:\n",
        "    DA_label.append('[1/1]')\n",
        "  if 19 < i <= 29:\n",
        "    DA_label.append('[1/2]')\n",
        "  if 29 < i <= 39:\n",
        "    DA_label.append('[1/3]')\n",
        "  if 39 < i <= 49:\n",
        "    DA_label.append('[1/4]')\n",
        "  \n",
        "DA_label_F = DA_label + DA_label + DA_label\n"
      ]
    },
    {
      "cell_type": "code",
      "execution_count": null,
      "metadata": {
        "id": "pQjzvL_mSNND",
        "colab": {
          "base_uri": "https://localhost:8080/"
        },
        "outputId": "d47c50fc-cf30-4c37-dfe5-3865e28763c8"
      },
      "outputs": [
        {
          "output_type": "stream",
          "name": "stderr",
          "text": [
            "<ipython-input-199-a7a91ddb5085>:19: FutureWarning: The frame.append method is deprecated and will be removed from pandas in a future version. Use pandas.concat instead.\n",
            "  my_df_ = dataframe1_5.append(dataframe1, ignore_index= True)\n",
            "<ipython-input-199-a7a91ddb5085>:20: FutureWarning: The frame.append method is deprecated and will be removed from pandas in a future version. Use pandas.concat instead.\n",
            "  my_df = my_df_.append(dataframe2, ignore_index= True)\n"
          ]
        }
      ],
      "source": [
        "import pandas as pd\n",
        "\n",
        "dataframe1 = pd.DataFrame(\n",
        "    {'Values' : data1_F\n",
        "     }\n",
        "    )\n",
        "\n",
        "dataframe1_5 = pd.DataFrame(\n",
        "    {'Values' : data1_5_F\n",
        "     }\n",
        "    )\n",
        "\n",
        "dataframe2 = pd.DataFrame(\n",
        "    {'Values' : data2_F\n",
        "     }\n",
        "    )\n",
        "    #  'SEP [Real/Synthetic] Ratio': DA_label\n",
        "\n",
        "my_df_ = dataframe1_5.append(dataframe1, ignore_index= True)\n",
        "my_df = my_df_.append(dataframe2, ignore_index= True)\n",
        "# df = pd.concat([pd.Series(x) for x in data2_F], axis=1)"
      ]
    },
    {
      "cell_type": "code",
      "execution_count": null,
      "metadata": {
        "id": "IPfUJdkjSNNE"
      },
      "outputs": [],
      "source": [
        "# Classifiers = []\n",
        "# for j in range(80):\n",
        "#   if j <=39:\n",
        "#     Classifiers.append('ROCKET')\n",
        "#   if 39 < j <=79:\n",
        "#     Classifiers.append('TSF')"
      ]
    },
    {
      "cell_type": "code",
      "source": [
        "Classifiers = []\n",
        "for j in range(150):\n",
        "  if j <=49:\n",
        "    Classifiers.append('SHAPELET')\n",
        "  if 49 < j <=99:\n",
        "    Classifiers.append('ROCKET')\n",
        "  if 99 < j <=149:\n",
        "    Classifiers.append('TSF')"
      ],
      "metadata": {
        "id": "6JEvsSAsSNNE"
      },
      "execution_count": null,
      "outputs": []
    },
    {
      "cell_type": "code",
      "execution_count": null,
      "metadata": {
        "id": "zpNIJ8a7SNNE"
      },
      "outputs": [],
      "source": [
        "my_df.insert(1, 'SEP [Real/Synthetic] Ratio', DA_label_F, True)\n",
        "my_df.insert(2, 'Classifiers', Classifiers, True)"
      ]
    },
    {
      "cell_type": "code",
      "execution_count": null,
      "metadata": {
        "id": "aIipBhGuSNNE"
      },
      "outputs": [],
      "source": [
        "# my_df"
      ]
    },
    {
      "cell_type": "code",
      "execution_count": null,
      "metadata": {
        "colab": {
          "base_uri": "https://localhost:8080/",
          "height": 564
        },
        "outputId": "1f2fc83f-ff4a-456b-e314-f2ea59e57048",
        "id": "xQA8eB2rSNNE"
      },
      "outputs": [
        {
          "output_type": "display_data",
          "data": {
            "text/plain": [
              "<Figure size 1000x600 with 1 Axes>"
            ],
            "image/png": "[encoded data removed]"
          },
          "metadata": {}
        }
      ],
      "source": [
        "import seaborn as sns\n",
        "\n",
        "sns.boxplot(x=my_df['SEP [Real/Synthetic] Ratio'], y=my_df['Values'], hue =my_df['Classifiers'], palette =['darkcyan', 'firebrick', 'royalblue'], data=pd.melt(my_df))\n",
        "\n",
        "\n",
        "plt.ylim(0, 1)\n",
        "# plt.xticks([1, 2, 3, 4], [\"[1/0]\", \"[1/1]\", \"[1/2]\", \"[1/3]\"])\n",
        "plt.xlabel(\"SEP [Real/Synthetic] Ratio\")\n",
        "plt.ylabel(\"Balanced Accuracy\")\n",
        "plt.title(\"Balanced Accuracy of classifiers using Gaussian DA for 100 MeV\")\n",
        "plt.legend()\n",
        "plt.show()\n"
      ]
    },
    {
      "cell_type": "code",
      "execution_count": null,
      "metadata": {
        "colab": {
          "base_uri": "https://localhost:8080/",
          "height": 602
        },
        "outputId": "7771148d-9319-4b5d-d066-0ef0210c794e",
        "id": "6yiUo7hwSNNE"
      },
      "outputs": [
        {
          "output_type": "stream",
          "name": "stderr",
          "text": [
            "WARNING:matplotlib.legend:No artists with labels found to put in legend.  Note that artists whose label start with an underscore are ignored when legend() is called with no argument.\n"
          ]
        },
        {
          "output_type": "display_data",
          "data": {
            "text/plain": [
              "<Figure size 1000x600 with 1 Axes>"
            ],
            "image/png": "[encoded data removed]"
          },
          "metadata": {}
        }
      ],
      "source": [
        "\n",
        " \n",
        "# Creating plot\n",
        "plt.boxplot(data1_5)\n",
        "\n",
        "plt.ylim(0, 1)\n",
        "plt.xticks([1, 2, 3, 4, 5], [\"[1/0]\", \"[1/1]\", \"[1/2]\", \"[1/3]\", \"[1/4]\"])\n",
        "plt.xlabel(\"SEP [Real/Synthetic] Ratio\")\n",
        "plt.ylabel(\"Balanced Accuracy\")\n",
        "plt.title(\"Balanced Accuracy of SHAPELET using Gaussian DA for 100 MeV\")\n",
        "plt.legend()\n",
        "plt.show()"
      ]
    },
    {
      "cell_type": "code",
      "execution_count": null,
      "metadata": {
        "id": "sb25LVPDSNNE"
      },
      "outputs": [],
      "source": [
        "from pandas import read_csv\n",
        "\n",
        "DF1_5 = pd.DataFrame()\n",
        "my1_5 = pd.Series(data1_5_F)\n",
        "my1_5.to_csv('/content/Gaussian_100MEV_SHAPELET_BalancedAccuracy.csv', index=False)"
      ]
    },
    {
      "cell_type": "code",
      "execution_count": null,
      "metadata": {
        "colab": {
          "base_uri": "https://localhost:8080/",
          "height": 602
        },
        "outputId": "4df516ca-ced4-46ff-e384-fcae319a8f51",
        "id": "70r5YRBPSNNF"
      },
      "outputs": [
        {
          "output_type": "stream",
          "name": "stderr",
          "text": [
            "WARNING:matplotlib.legend:No artists with labels found to put in legend.  Note that artists whose label start with an underscore are ignored when legend() is called with no argument.\n"
          ]
        },
        {
          "output_type": "display_data",
          "data": {
            "text/plain": [
              "<Figure size 1000x600 with 1 Axes>"
            ],
            "image/png": "[encoded data removed]"
          },
          "metadata": {}
        }
      ],
      "source": [
        "\n",
        " \n",
        "# Creating plot\n",
        "plt.boxplot(data2)\n",
        "\n",
        "plt.ylim(0, 1)\n",
        "plt.xticks([1, 2, 3, 4, 5], [\"[1/0]\", \"[1/1]\", \"[1/2]\", \"[1/3]\", \"[1/4]\"])\n",
        "plt.xlabel(\"SEP [Real/Synthetic] Ratio\")\n",
        "plt.ylabel(\"Balanced Accuracy\")\n",
        "plt.title(\"Balanced Accuracy of TSF using Gaussian DA for 100 MeV\")\n",
        "plt.legend()\n",
        "plt.show()"
      ]
    },
    {
      "cell_type": "code",
      "execution_count": null,
      "metadata": {
        "id": "7kpHcZabSNNF"
      },
      "outputs": [],
      "source": [
        "from pandas import read_csv\n",
        "\n",
        "DF2 = pd.DataFrame()\n",
        "my2 = pd.Series(data2_F)\n",
        "my2.to_csv('/content/Gaussian_100MEV_TSF_BalancedAccuracy.csv', index=False)"
      ]
    },
    {
      "cell_type": "code",
      "source": [],
      "metadata": {
        "id": "aCJ4lqRpSMsa"
      },
      "execution_count": null,
      "outputs": []
    },
    {
      "cell_type": "code",
      "source": [],
      "metadata": {
        "id": "7NfwqzeXSMqn"
      },
      "execution_count": null,
      "outputs": []
    },
    {
      "cell_type": "code",
      "source": [],
      "metadata": {
        "id": "yWl7m0IDSMoz"
      },
      "execution_count": null,
      "outputs": []
    },
    {
      "cell_type": "code",
      "source": [],
      "metadata": {
        "id": "JpRAdtwSSMmw"
      },
      "execution_count": null,
      "outputs": []
    },
    {
      "cell_type": "code",
      "source": [],
      "metadata": {
        "id": "_vfap9RLSMh_"
      },
      "execution_count": null,
      "outputs": []
    },
    {
      "cell_type": "code",
      "source": [],
      "metadata": {
        "id": "RK4W-AkzjQT8"
      },
      "execution_count": null,
      "outputs": []
    },
    {
      "cell_type": "code",
      "execution_count": null,
      "metadata": {
        "id": "qswcY9cAjWru"
      },
      "outputs": [],
      "source": [
        "\n",
        "data1_f1Score = [lst_f1_stratified_A_ROCKET, box_f1_B_ROCKET[All_box_ACC_ROCKET_B.index(max(All_box_ACC_ROCKET_B))], box_f1_C_ROCKET[All_box_ACC_ROCKET_C.index(max(All_box_ACC_ROCKET_C))], box_f1_D_ROCKET[All_box_ACC_ROCKET_D.index(max(All_box_ACC_ROCKET_D))], box_f1_E_ROCKET[All_box_ACC_ROCKET_E.index(max(All_box_ACC_ROCKET_E))]]  # F1-Score based on hyperparameters of the largest accuracy\n",
        "data1_F_f1Score = [val for sublist in data1_f1Score for val in sublist]\n",
        "\n",
        "data1_5_f1Score = [lst_f1_stratified_A_SHAPELET, box_f1_B_SHAPELET[All_box_ACC_SHAPELET_B.index(max(All_box_ACC_SHAPELET_B))], box_f1_C_SHAPELET[All_box_ACC_SHAPELET_C.index(max(All_box_ACC_SHAPELET_C))], box_f1_D_SHAPELET[All_box_ACC_SHAPELET_D.index(max(All_box_ACC_SHAPELET_D))], box_f1_E_SHAPELET[All_box_ACC_SHAPELET_E.index(max(All_box_ACC_SHAPELET_E))]]  # F1-Score based on hyperparameters of the largest accuracy\n",
        "data1_5_F_f1Score = [val for sublist in data1_5_f1Score for val in sublist]\n",
        "\n",
        "data2_f1Score = [lst_f1_stratified_A_TSF, box_f1_B_TSF[All_box_ACC_TSF_B.index(max(All_box_ACC_TSF_B))], box_f1_C_TSF[All_box_ACC_TSF_C.index(max(All_box_ACC_TSF_C))], box_f1_D_TSF[All_box_ACC_TSF_D.index(max(All_box_ACC_TSF_D))], box_f1_E_TSF[All_box_ACC_TSF_E.index(max(All_box_ACC_TSF_E))]]\n",
        "data2_F_f1Score = [val for sublist in data2_f1Score for val in sublist]\n",
        "\n",
        "\n",
        "\n",
        "DA_label = []\n",
        "for i in range(0, len(data1_F_f1Score)):\n",
        "  if i <= 9:\n",
        "    DA_label.append('[1/0]')\n",
        "  if 9 < i <= 19:\n",
        "    DA_label.append('[1/1]')\n",
        "  if 19 < i <= 29:\n",
        "    DA_label.append('[1/2]')\n",
        "  if 29 < i <= 39:\n",
        "    DA_label.append('[1/3]')\n",
        "  if 39 < i <= 49:\n",
        "    DA_label.append('[1/4]')\n",
        "  \n",
        "DA_label_F = DA_label + DA_label + DA_label\n"
      ]
    },
    {
      "cell_type": "code",
      "execution_count": null,
      "metadata": {
        "id": "G3IGdMvZjWrv",
        "colab": {
          "base_uri": "https://localhost:8080/"
        },
        "outputId": "03ddf75e-4993-4212-96a5-1e0d2fe899ee"
      },
      "outputs": [
        {
          "output_type": "stream",
          "name": "stderr",
          "text": [
            "<ipython-input-210-98b3712638c0>:19: FutureWarning: The frame.append method is deprecated and will be removed from pandas in a future version. Use pandas.concat instead.\n",
            "  my_df_ = dataframe1_5.append(dataframe1, ignore_index= True)\n",
            "<ipython-input-210-98b3712638c0>:20: FutureWarning: The frame.append method is deprecated and will be removed from pandas in a future version. Use pandas.concat instead.\n",
            "  my_df = my_df_.append(dataframe2, ignore_index= True)\n"
          ]
        }
      ],
      "source": [
        "import pandas as pd\n",
        "\n",
        "dataframe1 = pd.DataFrame(\n",
        "    {'Values' : data1_F_f1Score\n",
        "     }\n",
        "    )\n",
        "\n",
        "dataframe1_5 = pd.DataFrame(\n",
        "    {'Values' : data1_5_F_f1Score\n",
        "     }\n",
        "    )\n",
        "\n",
        "dataframe2 = pd.DataFrame(\n",
        "    {'Values' : data2_F_f1Score\n",
        "     }\n",
        "    )\n",
        "    #  'SEP [Real/Synthetic] Ratio': DA_label\n",
        "\n",
        "my_df_ = dataframe1_5.append(dataframe1, ignore_index= True)\n",
        "my_df = my_df_.append(dataframe2, ignore_index= True)\n",
        "# df = pd.concat([pd.Series(x) for x in data2_F], axis=1)"
      ]
    },
    {
      "cell_type": "code",
      "execution_count": null,
      "metadata": {
        "id": "8pAlg1kPjWrv"
      },
      "outputs": [],
      "source": [
        "# Classifiers = []\n",
        "# for j in range(80):\n",
        "#   if j <=39:\n",
        "#     Classifiers.append('ROCKET')\n",
        "#   if 39 < j <=79:\n",
        "#     Classifiers.append('TSF')"
      ]
    },
    {
      "cell_type": "code",
      "source": [
        "Classifiers = []\n",
        "for j in range(150):\n",
        "  if j <=49:\n",
        "    Classifiers.append('SHAPELET')\n",
        "  if 49 < j <=99:\n",
        "    Classifiers.append('ROCKET')\n",
        "  if 99 < j <=149:\n",
        "    Classifiers.append('TSF')"
      ],
      "metadata": {
        "id": "zOVAm-oXjWrv"
      },
      "execution_count": null,
      "outputs": []
    },
    {
      "cell_type": "code",
      "execution_count": null,
      "metadata": {
        "id": "1WX4yRnOjWrv"
      },
      "outputs": [],
      "source": [
        "my_df.insert(1, 'SEP [Real/Synthetic] Ratio', DA_label_F, True)\n",
        "my_df.insert(2, 'Classifiers', Classifiers, True)"
      ]
    },
    {
      "cell_type": "code",
      "execution_count": null,
      "metadata": {
        "id": "MBAKMRxQjWrv"
      },
      "outputs": [],
      "source": [
        "# my_df"
      ]
    },
    {
      "cell_type": "code",
      "execution_count": null,
      "metadata": {
        "colab": {
          "base_uri": "https://localhost:8080/",
          "height": 564
        },
        "id": "3N0iWCRgjWrw",
        "outputId": "c68eddd8-f668-4d6c-94e6-c68f00fe16df"
      },
      "outputs": [
        {
          "output_type": "display_data",
          "data": {
            "text/plain": [
              "<Figure size 1000x600 with 1 Axes>"
            ],
            "image/png": "[encoded data removed]"
          },
          "metadata": {}
        }
      ],
      "source": [
        "import seaborn as sns\n",
        "\n",
        "sns.boxplot(x=my_df['SEP [Real/Synthetic] Ratio'], y=my_df['Values'], hue =my_df['Classifiers'], palette =['darkcyan', 'firebrick', 'royalblue'], data=pd.melt(my_df))\n",
        "\n",
        "\n",
        "plt.ylim(0, 1)\n",
        "\n",
        "plt.xlabel(\"SEP [Real/Synthetic] Ratio\")\n",
        "plt.ylabel(\"F1-Score\")\n",
        "plt.title(\"F1-Score of classifiers using Gaussian DA for 100 MeV\")\n",
        "plt.legend()\n",
        "plt.show()\n"
      ]
    },
    {
      "cell_type": "code",
      "source": [],
      "metadata": {
        "id": "mjm2o7yBjQQB"
      },
      "execution_count": null,
      "outputs": []
    },
    {
      "cell_type": "code",
      "source": [],
      "metadata": {
        "id": "w27_-2_ajQN9"
      },
      "execution_count": null,
      "outputs": []
    },
    {
      "cell_type": "code",
      "execution_count": null,
      "metadata": {
        "id": "9h1qi5hMwFtX"
      },
      "outputs": [],
      "source": []
    },
    {
      "cell_type": "code",
      "source": [],
      "metadata": {
        "id": "2KFuNS0QnRQW"
      },
      "execution_count": null,
      "outputs": []
    }
  ]
}